{
 "cells": [
  {
   "cell_type": "code",
   "execution_count": 1,
   "metadata": {},
   "outputs": [],
   "source": [
    "import pandas as pd\n",
    "import numpy as np\n",
    "from tqdm import tqdm\n",
    "import os\n",
    "import matplotlib.pyplot as plt\n",
    "\n",
    "os.chdir('../..')\n",
    "\n",
    "from src.utils_k import add_type_features\n",
    "from src.utils_r import generate_validation_set\n",
    "\n",
    "pd.options.display.max_columns = 9999\n",
    "pd.options.display.max_rows = 9999"
   ]
  },
  {
   "cell_type": "code",
   "execution_count": 2,
   "metadata": {},
   "outputs": [],
   "source": [
    "%load_ext autoreload\n",
    "%autoreload 2"
   ]
  },
  {
   "cell_type": "code",
   "execution_count": 3,
   "metadata": {},
   "outputs": [],
   "source": [
    "test_session = pd.read_csv('data/raw/random_submission.csv')\n",
    "test_tracking = pd.read_csv('data/raw/test_tracking.csv')\n",
    "all_session = pd.read_csv('data/raw/train_session.csv') \n",
    "all_tracking = pd.read_csv('data/raw/train_tracking.csv')"
   ]
  },
  {
   "cell_type": "code",
   "execution_count": 4,
   "metadata": {},
   "outputs": [],
   "source": [
    "trn_session, trn_tracking, val_session, val_tracking = \\\n",
    "generate_validation_set(all_session, all_tracking, test_size=0.1, seed=42)"
   ]
  },
  {
   "cell_type": "code",
   "execution_count": 5,
   "metadata": {},
   "outputs": [
    {
     "data": {
      "text/plain": [
       "(119810, 2)"
      ]
     },
     "execution_count": 5,
     "metadata": {},
     "output_type": "execute_result"
    }
   ],
   "source": [
    "trn_session.shape"
   ]
  },
  {
   "cell_type": "code",
   "execution_count": 6,
   "metadata": {},
   "outputs": [],
   "source": [
    "proc_train = add_type_features(trn_session[['sid']], trn_tracking)\n",
    "proc_val = add_type_features(val_session[['sid']], val_tracking)\n",
    "proc_all = add_type_features(all_session[['sid']], all_tracking)\n",
    "proc_test = add_type_features(test_session, test_tracking)"
   ]
  },
  {
   "cell_type": "markdown",
   "metadata": {},
   "source": [
    "# Validation"
   ]
  },
  {
   "cell_type": "code",
   "execution_count": 7,
   "metadata": {},
   "outputs": [],
   "source": [
    "import lightgbm as lgbm\n",
    "\n",
    "X_train = proc_train.drop('sid', axis=1).reset_index(drop=True)\n",
    "y_train = trn_session.target.reset_index(drop=True)\n",
    "\n",
    "X_val = proc_val.drop('sid', axis=1).reset_index(drop=True)\n",
    "y_val = val_session.target.reset_index(drop=True)\n",
    "\n",
    "X_test = proc_test.drop('sid', axis=1).reset_index(drop=True)\n",
    "\n",
    "temp_columns = X_train.columns\n",
    "X_val = X_val[temp_columns]\n",
    "X_test = X_test[temp_columns]"
   ]
  },
  {
   "cell_type": "code",
   "execution_count": 8,
   "metadata": {},
   "outputs": [],
   "source": [
    "from sklearn.decomposition import PCA\n",
    "\n",
    "pca = PCA(n_components = 10).fit(X_train)\n",
    "\n",
    "X_train_pca = pd.DataFrame(pca.transform(X_train))\n",
    "X_val_pca = pd.DataFrame(pca.transform(X_val))\n",
    "\n",
    "X_train = pd.concat([X_train, X_train_pca], axis=1)\n",
    "X_val = pd.concat([X_val, X_val_pca], axis=1)"
   ]
  },
  {
   "cell_type": "code",
   "execution_count": 9,
   "metadata": {},
   "outputs": [
    {
     "name": "stdout",
     "output_type": "stream",
     "text": [
      "[1]\tvalid_0's binary_logloss: 0.308859\n",
      "[2]\tvalid_0's binary_logloss: 0.302183\n",
      "[3]\tvalid_0's binary_logloss: 0.29728\n",
      "[4]\tvalid_0's binary_logloss: 0.29347\n",
      "[5]\tvalid_0's binary_logloss: 0.290558\n",
      "[6]\tvalid_0's binary_logloss: 0.288123\n",
      "[7]\tvalid_0's binary_logloss: 0.286237\n",
      "[8]\tvalid_0's binary_logloss: 0.285469\n",
      "[9]\tvalid_0's binary_logloss: 0.284094\n",
      "[10]\tvalid_0's binary_logloss: 0.282928\n",
      "[11]\tvalid_0's binary_logloss: 0.28211\n",
      "[12]\tvalid_0's binary_logloss: 0.281856\n",
      "[13]\tvalid_0's binary_logloss: 0.281183\n",
      "[14]\tvalid_0's binary_logloss: 0.280541\n",
      "[15]\tvalid_0's binary_logloss: 0.279941\n",
      "[16]\tvalid_0's binary_logloss: 0.279568\n",
      "[17]\tvalid_0's binary_logloss: 0.27917\n",
      "[18]\tvalid_0's binary_logloss: 0.278809\n",
      "[19]\tvalid_0's binary_logloss: 0.278536\n",
      "[20]\tvalid_0's binary_logloss: 0.278366\n",
      "[21]\tvalid_0's binary_logloss: 0.278304\n",
      "[22]\tvalid_0's binary_logloss: 0.278174\n",
      "[23]\tvalid_0's binary_logloss: 0.278009\n",
      "[24]\tvalid_0's binary_logloss: 0.277905\n",
      "[25]\tvalid_0's binary_logloss: 0.27778\n",
      "[26]\tvalid_0's binary_logloss: 0.277634\n",
      "[27]\tvalid_0's binary_logloss: 0.277549\n",
      "[28]\tvalid_0's binary_logloss: 0.277556\n",
      "[29]\tvalid_0's binary_logloss: 0.277472\n",
      "[30]\tvalid_0's binary_logloss: 0.277394\n",
      "[31]\tvalid_0's binary_logloss: 0.27738\n",
      "[32]\tvalid_0's binary_logloss: 0.277327\n",
      "[33]\tvalid_0's binary_logloss: 0.277273\n",
      "[34]\tvalid_0's binary_logloss: 0.277213\n",
      "[35]\tvalid_0's binary_logloss: 0.27721\n",
      "[36]\tvalid_0's binary_logloss: 0.277211\n",
      "[37]\tvalid_0's binary_logloss: 0.27718\n",
      "[38]\tvalid_0's binary_logloss: 0.277173\n",
      "[39]\tvalid_0's binary_logloss: 0.277176\n",
      "[40]\tvalid_0's binary_logloss: 0.277178\n",
      "[41]\tvalid_0's binary_logloss: 0.277177\n",
      "[42]\tvalid_0's binary_logloss: 0.277139\n",
      "[43]\tvalid_0's binary_logloss: 0.277137\n",
      "[44]\tvalid_0's binary_logloss: 0.277128\n",
      "[45]\tvalid_0's binary_logloss: 0.277139\n",
      "[46]\tvalid_0's binary_logloss: 0.277124\n",
      "[47]\tvalid_0's binary_logloss: 0.277092\n",
      "[48]\tvalid_0's binary_logloss: 0.277085\n",
      "[49]\tvalid_0's binary_logloss: 0.277084\n",
      "[50]\tvalid_0's binary_logloss: 0.277078\n",
      "[51]\tvalid_0's binary_logloss: 0.277106\n",
      "[52]\tvalid_0's binary_logloss: 0.27702\n",
      "[53]\tvalid_0's binary_logloss: 0.277028\n",
      "[54]\tvalid_0's binary_logloss: 0.277\n",
      "[55]\tvalid_0's binary_logloss: 0.277028\n",
      "[56]\tvalid_0's binary_logloss: 0.277029\n",
      "[57]\tvalid_0's binary_logloss: 0.277035\n",
      "[58]\tvalid_0's binary_logloss: 0.277015\n",
      "[59]\tvalid_0's binary_logloss: 0.277018\n",
      "[60]\tvalid_0's binary_logloss: 0.277034\n",
      "[61]\tvalid_0's binary_logloss: 0.277024\n",
      "[62]\tvalid_0's binary_logloss: 0.277026\n",
      "[63]\tvalid_0's binary_logloss: 0.27699\n",
      "[64]\tvalid_0's binary_logloss: 0.276995\n",
      "[65]\tvalid_0's binary_logloss: 0.276994\n",
      "[66]\tvalid_0's binary_logloss: 0.277036\n",
      "[67]\tvalid_0's binary_logloss: 0.277057\n",
      "[68]\tvalid_0's binary_logloss: 0.277111\n",
      "[69]\tvalid_0's binary_logloss: 0.277113\n",
      "[70]\tvalid_0's binary_logloss: 0.27712\n",
      "[71]\tvalid_0's binary_logloss: 0.277124\n",
      "[72]\tvalid_0's binary_logloss: 0.277192\n",
      "[73]\tvalid_0's binary_logloss: 0.277204\n",
      "[74]\tvalid_0's binary_logloss: 0.277202\n",
      "[75]\tvalid_0's binary_logloss: 0.277193\n",
      "[76]\tvalid_0's binary_logloss: 0.27719\n",
      "[77]\tvalid_0's binary_logloss: 0.277194\n",
      "[78]\tvalid_0's binary_logloss: 0.277194\n",
      "[79]\tvalid_0's binary_logloss: 0.277204\n",
      "[80]\tvalid_0's binary_logloss: 0.277152\n",
      "[81]\tvalid_0's binary_logloss: 0.277152\n",
      "[82]\tvalid_0's binary_logloss: 0.277141\n",
      "[83]\tvalid_0's binary_logloss: 0.277143\n",
      "[84]\tvalid_0's binary_logloss: 0.277129\n",
      "[85]\tvalid_0's binary_logloss: 0.27713\n",
      "[86]\tvalid_0's binary_logloss: 0.277179\n",
      "[87]\tvalid_0's binary_logloss: 0.277144\n",
      "[88]\tvalid_0's binary_logloss: 0.277143\n",
      "[89]\tvalid_0's binary_logloss: 0.277145\n",
      "[90]\tvalid_0's binary_logloss: 0.277147\n",
      "[91]\tvalid_0's binary_logloss: 0.277136\n",
      "[92]\tvalid_0's binary_logloss: 0.277109\n",
      "[93]\tvalid_0's binary_logloss: 0.27713\n",
      "[94]\tvalid_0's binary_logloss: 0.277123\n",
      "[95]\tvalid_0's binary_logloss: 0.277117\n",
      "[96]\tvalid_0's binary_logloss: 0.277116\n",
      "[97]\tvalid_0's binary_logloss: 0.277134\n",
      "[98]\tvalid_0's binary_logloss: 0.277134\n",
      "[99]\tvalid_0's binary_logloss: 0.277147\n",
      "[100]\tvalid_0's binary_logloss: 0.277118\n"
     ]
    }
   ],
   "source": [
    "# parameters for LightGBMClassifier\n",
    "params = {\n",
    "    'objective' :'binary',\n",
    "    'max_depth' : 7,\n",
    "    'boosting_type' : 'dart',\n",
    "    'xgboost_dart_mode': True,\n",
    "    'learning_rate': 0.1,\n",
    "    'metric': 'binary_logloss',\n",
    "    'verbose': 1\n",
    "    #'bagging_fraction': 0.5,\n",
    "}\n",
    "\n",
    "d_train = lgbm.Dataset(X_train, label=trn_session.target)\n",
    "d_valid = lgbm.Dataset(X_val, label=val_session.target)\n",
    "\n",
    "clf = lgbm.train(params, d_train, valid_sets=[d_valid],\n",
    "                num_boost_round=100)"
   ]
  },
  {
   "cell_type": "markdown",
   "metadata": {},
   "source": [
    "# Model"
   ]
  },
  {
   "cell_type": "code",
   "execution_count": 10,
   "metadata": {},
   "outputs": [],
   "source": [
    "X_all = proc_all.drop('sid', axis=1)\n",
    "y_all = all_session.target\n",
    "\n",
    "X_test = proc_test.drop('sid', axis=1)\n",
    "\n",
    "temp_columns = X_all.columns\n",
    "X_test = X_test[temp_columns]\n",
    "\n",
    "from sklearn.decomposition import PCA\n",
    "\n",
    "pca = PCA(n_components = 10).fit(X_all)\n",
    "X_all = pd.concat([X_all, pd.DataFrame(pca.transform(X_all))], axis=1)\n",
    "X_test = pd.concat([X_test, pd.DataFrame(pca.transform(X_test))], axis=1)\n",
    "\n",
    "import lightgbm as lgbm\n",
    "\n",
    "# parameters for LightGBMClassifier\n",
    "params = {\n",
    "    'objective' :'binary',\n",
    "    'max_depth' : 7,\n",
    "    'boosting_type' : 'dart',\n",
    "    'xgboost_dart_mode': True,\n",
    "    'learning_rate': 0.1,\n",
    "    #'metric': 'binary_logloss',\n",
    "    #'bagging_fraction': 0.5,\n",
    "}\n",
    "\n",
    "d_train = lgbm.Dataset(X_all, label=y_all)\n",
    "#d_valid = lgbm.Dataset(X_val, label=y_val)\n",
    "\n",
    "clf = lgbm.train(params, d_train,# valid_sets=[d_valid],\n",
    "                num_boost_round=100)"
   ]
  },
  {
   "cell_type": "code",
   "execution_count": 11,
   "metadata": {},
   "outputs": [
    {
     "data": {
      "text/plain": [
       "<matplotlib.axes._subplots.AxesSubplot at 0x7f968182d048>"
      ]
     },
     "execution_count": 11,
     "metadata": {},
     "output_type": "execute_result"
    },
    {
     "data": {
      "image/png": "[encoded data removed]",
      "text/plain": [
       "<matplotlib.figure.Figure at 0x7f963a8aa588>"
      ]
     },
     "metadata": {},
     "output_type": "display_data"
    }
   ],
   "source": [
    "from matplotlib import rcParams\n",
    "%matplotlib inline \n",
    "\n",
    "rcParams['figure.figsize'] = 10, 10\n",
    "lgbm.plot_importance(clf)"
   ]
  },
  {
   "cell_type": "code",
   "execution_count": 12,
   "metadata": {},
   "outputs": [],
   "source": [
    "count = 1\n",
    "preds=clf.predict(X_test)\n",
    "test_session['target'] = preds\n",
    "test_session.to_csv(f'data/submissions/chu_{count}_submit.csv', index=False)"
   ]
  },
  {
   "cell_type": "code",
   "execution_count": 13,
   "metadata": {},
   "outputs": [],
   "source": [
    "from sklearn.metrics import log_loss"
   ]
  },
  {
   "cell_type": "code",
   "execution_count": 14,
   "metadata": {},
   "outputs": [],
   "source": [
    "count = 2"
   ]
  },
  {
   "cell_type": "code",
   "execution_count": 15,
   "metadata": {},
   "outputs": [
    {
     "data": {
      "text/html": [
       "<div>\n",
       "<style scoped>\n",
       "    .dataframe tbody tr th:only-of-type {\n",
       "        vertical-align: middle;\n",
       "    }\n",
       "\n",
       "    .dataframe tbody tr th {\n",
       "        vertical-align: top;\n",
       "    }\n",
       "\n",
       "    .dataframe thead th {\n",
       "        text-align: right;\n",
       "    }\n",
       "</style>\n",
       "<table border=\"1\" class=\"dataframe\">\n",
       "  <thead>\n",
       "    <tr style=\"text-align: right;\">\n",
       "      <th></th>\n",
       "      <th>ADD_TO_BASKET_CAROUSEL_type</th>\n",
       "      <th>ADD_TO_BASKET_LP_type</th>\n",
       "      <th>ADD_TO_BASKET_LR_type</th>\n",
       "      <th>ADD_TO_BASKET_PA_type</th>\n",
       "      <th>ADD_TO_BASKET_SHOW_CASE_type</th>\n",
       "      <th>CAROUSEL_type</th>\n",
       "      <th>LIST_PRODUCT_type</th>\n",
       "      <th>PA_type</th>\n",
       "      <th>PRODUCT_CAROUSEL_type</th>\n",
       "      <th>PRODUCT_LP_type</th>\n",
       "      <th>PRODUCT_LR_type</th>\n",
       "      <th>PRODUCT_PA_type</th>\n",
       "      <th>PRODUCT_SHOW_CASE_type</th>\n",
       "      <th>PURCHASE_PRODUCT_CAROUSEL_type</th>\n",
       "      <th>PURCHASE_PRODUCT_LP_type</th>\n",
       "      <th>PURCHASE_PRODUCT_LR_type</th>\n",
       "      <th>PURCHASE_PRODUCT_PA_type</th>\n",
       "      <th>PURCHASE_PRODUCT_SHOW_CASE_type</th>\n",
       "      <th>PURCHASE_PRODUCT_UNKNOW_ORIGIN_type</th>\n",
       "      <th>SEARCH_type</th>\n",
       "      <th>SHOW_CASE_type</th>\n",
       "      <th>SUM_TYPE_type</th>\n",
       "      <th>ADD_TO_BASKET_sim_type</th>\n",
       "      <th>CAROUSEL_sim_type</th>\n",
       "      <th>LIST_PRODUCT_sim_type</th>\n",
       "      <th>PA_sim_type</th>\n",
       "      <th>PRODUCT_sim_type</th>\n",
       "      <th>PURCHASE_PRODUCT_sim_type</th>\n",
       "      <th>SEARCH_sim_type</th>\n",
       "      <th>SHOW_CASE_sim_type</th>\n",
       "      <th>SUM_TYPE_SIMPLIFIED_sim_type</th>\n",
       "      <th>0</th>\n",
       "      <th>1</th>\n",
       "      <th>2</th>\n",
       "      <th>3</th>\n",
       "      <th>4</th>\n",
       "      <th>5</th>\n",
       "      <th>6</th>\n",
       "      <th>7</th>\n",
       "      <th>8</th>\n",
       "      <th>9</th>\n",
       "    </tr>\n",
       "  </thead>\n",
       "  <tbody>\n",
       "    <tr>\n",
       "      <th>0</th>\n",
       "      <td>0.0</td>\n",
       "      <td>0.0</td>\n",
       "      <td>0.0</td>\n",
       "      <td>0.0</td>\n",
       "      <td>0.0</td>\n",
       "      <td>0.250000</td>\n",
       "      <td>0.0</td>\n",
       "      <td>0.00</td>\n",
       "      <td>0.000000</td>\n",
       "      <td>0.0</td>\n",
       "      <td>0.250000</td>\n",
       "      <td>0.0</td>\n",
       "      <td>0.0</td>\n",
       "      <td>0.0</td>\n",
       "      <td>0.0</td>\n",
       "      <td>0.0</td>\n",
       "      <td>0.0</td>\n",
       "      <td>0.0</td>\n",
       "      <td>0.0</td>\n",
       "      <td>0.500000</td>\n",
       "      <td>0.0</td>\n",
       "      <td>4.0</td>\n",
       "      <td>0.0</td>\n",
       "      <td>0.250000</td>\n",
       "      <td>0.0</td>\n",
       "      <td>0.00</td>\n",
       "      <td>0.250000</td>\n",
       "      <td>0.0</td>\n",
       "      <td>0.500000</td>\n",
       "      <td>0.0</td>\n",
       "      <td>4.0</td>\n",
       "      <td>-8.738210</td>\n",
       "      <td>-0.236668</td>\n",
       "      <td>-0.215408</td>\n",
       "      <td>-0.119465</td>\n",
       "      <td>0.063152</td>\n",
       "      <td>0.160373</td>\n",
       "      <td>-0.071926</td>\n",
       "      <td>-0.053851</td>\n",
       "      <td>0.000248</td>\n",
       "      <td>0.003187</td>\n",
       "    </tr>\n",
       "    <tr>\n",
       "      <th>1</th>\n",
       "      <td>0.0</td>\n",
       "      <td>0.0</td>\n",
       "      <td>0.0</td>\n",
       "      <td>0.0</td>\n",
       "      <td>0.0</td>\n",
       "      <td>0.307692</td>\n",
       "      <td>0.0</td>\n",
       "      <td>0.00</td>\n",
       "      <td>0.076923</td>\n",
       "      <td>0.0</td>\n",
       "      <td>0.230769</td>\n",
       "      <td>0.0</td>\n",
       "      <td>0.0</td>\n",
       "      <td>0.0</td>\n",
       "      <td>0.0</td>\n",
       "      <td>0.0</td>\n",
       "      <td>0.0</td>\n",
       "      <td>0.0</td>\n",
       "      <td>0.0</td>\n",
       "      <td>0.384615</td>\n",
       "      <td>0.0</td>\n",
       "      <td>13.0</td>\n",
       "      <td>0.0</td>\n",
       "      <td>0.307692</td>\n",
       "      <td>0.0</td>\n",
       "      <td>0.00</td>\n",
       "      <td>0.307692</td>\n",
       "      <td>0.0</td>\n",
       "      <td>0.384615</td>\n",
       "      <td>0.0</td>\n",
       "      <td>13.0</td>\n",
       "      <td>3.989560</td>\n",
       "      <td>-0.040544</td>\n",
       "      <td>-0.204264</td>\n",
       "      <td>-0.093161</td>\n",
       "      <td>0.048300</td>\n",
       "      <td>0.210844</td>\n",
       "      <td>-0.007196</td>\n",
       "      <td>-0.046768</td>\n",
       "      <td>-0.020358</td>\n",
       "      <td>0.005340</td>\n",
       "    </tr>\n",
       "    <tr>\n",
       "      <th>2</th>\n",
       "      <td>0.0</td>\n",
       "      <td>0.0</td>\n",
       "      <td>0.0</td>\n",
       "      <td>0.0</td>\n",
       "      <td>0.0</td>\n",
       "      <td>0.000000</td>\n",
       "      <td>0.0</td>\n",
       "      <td>0.25</td>\n",
       "      <td>0.000000</td>\n",
       "      <td>0.0</td>\n",
       "      <td>0.250000</td>\n",
       "      <td>0.0</td>\n",
       "      <td>0.0</td>\n",
       "      <td>0.0</td>\n",
       "      <td>0.0</td>\n",
       "      <td>0.0</td>\n",
       "      <td>0.0</td>\n",
       "      <td>0.0</td>\n",
       "      <td>0.0</td>\n",
       "      <td>0.500000</td>\n",
       "      <td>0.0</td>\n",
       "      <td>4.0</td>\n",
       "      <td>0.0</td>\n",
       "      <td>0.000000</td>\n",
       "      <td>0.0</td>\n",
       "      <td>0.25</td>\n",
       "      <td>0.250000</td>\n",
       "      <td>0.0</td>\n",
       "      <td>0.500000</td>\n",
       "      <td>0.0</td>\n",
       "      <td>4.0</td>\n",
       "      <td>-8.738763</td>\n",
       "      <td>-0.437704</td>\n",
       "      <td>0.077511</td>\n",
       "      <td>0.128111</td>\n",
       "      <td>-0.181200</td>\n",
       "      <td>0.195404</td>\n",
       "      <td>-0.040749</td>\n",
       "      <td>-0.047041</td>\n",
       "      <td>-0.016519</td>\n",
       "      <td>0.001377</td>\n",
       "    </tr>\n",
       "    <tr>\n",
       "      <th>3</th>\n",
       "      <td>0.0</td>\n",
       "      <td>0.0</td>\n",
       "      <td>0.0</td>\n",
       "      <td>0.0</td>\n",
       "      <td>0.0</td>\n",
       "      <td>0.000000</td>\n",
       "      <td>0.0</td>\n",
       "      <td>0.00</td>\n",
       "      <td>0.000000</td>\n",
       "      <td>0.0</td>\n",
       "      <td>0.000000</td>\n",
       "      <td>0.0</td>\n",
       "      <td>0.0</td>\n",
       "      <td>0.0</td>\n",
       "      <td>0.0</td>\n",
       "      <td>0.0</td>\n",
       "      <td>0.0</td>\n",
       "      <td>0.0</td>\n",
       "      <td>0.0</td>\n",
       "      <td>1.000000</td>\n",
       "      <td>0.0</td>\n",
       "      <td>4.0</td>\n",
       "      <td>0.0</td>\n",
       "      <td>0.000000</td>\n",
       "      <td>0.0</td>\n",
       "      <td>0.00</td>\n",
       "      <td>0.000000</td>\n",
       "      <td>0.0</td>\n",
       "      <td>1.000000</td>\n",
       "      <td>0.0</td>\n",
       "      <td>4.0</td>\n",
       "      <td>-8.737744</td>\n",
       "      <td>-0.998629</td>\n",
       "      <td>-0.238878</td>\n",
       "      <td>-0.130982</td>\n",
       "      <td>0.104128</td>\n",
       "      <td>-0.215489</td>\n",
       "      <td>0.079601</td>\n",
       "      <td>-0.003660</td>\n",
       "      <td>0.016551</td>\n",
       "      <td>0.000551</td>\n",
       "    </tr>\n",
       "    <tr>\n",
       "      <th>4</th>\n",
       "      <td>0.0</td>\n",
       "      <td>0.0</td>\n",
       "      <td>0.0</td>\n",
       "      <td>0.0</td>\n",
       "      <td>0.0</td>\n",
       "      <td>0.000000</td>\n",
       "      <td>0.0</td>\n",
       "      <td>0.00</td>\n",
       "      <td>0.000000</td>\n",
       "      <td>0.0</td>\n",
       "      <td>0.000000</td>\n",
       "      <td>0.0</td>\n",
       "      <td>0.0</td>\n",
       "      <td>0.0</td>\n",
       "      <td>0.0</td>\n",
       "      <td>0.0</td>\n",
       "      <td>0.0</td>\n",
       "      <td>0.0</td>\n",
       "      <td>0.0</td>\n",
       "      <td>1.000000</td>\n",
       "      <td>0.0</td>\n",
       "      <td>3.0</td>\n",
       "      <td>0.0</td>\n",
       "      <td>0.000000</td>\n",
       "      <td>0.0</td>\n",
       "      <td>0.00</td>\n",
       "      <td>0.000000</td>\n",
       "      <td>0.0</td>\n",
       "      <td>1.000000</td>\n",
       "      <td>0.0</td>\n",
       "      <td>3.0</td>\n",
       "      <td>-10.151954</td>\n",
       "      <td>-0.999747</td>\n",
       "      <td>-0.239586</td>\n",
       "      <td>-0.133590</td>\n",
       "      <td>0.104895</td>\n",
       "      <td>-0.214677</td>\n",
       "      <td>0.079654</td>\n",
       "      <td>-0.003147</td>\n",
       "      <td>0.016559</td>\n",
       "      <td>0.000491</td>\n",
       "    </tr>\n",
       "  </tbody>\n",
       "</table>\n",
       "</div>"
      ],
      "text/plain": [
       "   ADD_TO_BASKET_CAROUSEL_type  ADD_TO_BASKET_LP_type  ADD_TO_BASKET_LR_type  \\\n",
       "0                          0.0                    0.0                    0.0   \n",
       "1                          0.0                    0.0                    0.0   \n",
       "2                          0.0                    0.0                    0.0   \n",
       "3                          0.0                    0.0                    0.0   \n",
       "4                          0.0                    0.0                    0.0   \n",
       "\n",
       "   ADD_TO_BASKET_PA_type  ADD_TO_BASKET_SHOW_CASE_type  CAROUSEL_type  \\\n",
       "0                    0.0                           0.0       0.250000   \n",
       "1                    0.0                           0.0       0.307692   \n",
       "2                    0.0                           0.0       0.000000   \n",
       "3                    0.0                           0.0       0.000000   \n",
       "4                    0.0                           0.0       0.000000   \n",
       "\n",
       "   LIST_PRODUCT_type  PA_type  PRODUCT_CAROUSEL_type  PRODUCT_LP_type  \\\n",
       "0                0.0     0.00               0.000000              0.0   \n",
       "1                0.0     0.00               0.076923              0.0   \n",
       "2                0.0     0.25               0.000000              0.0   \n",
       "3                0.0     0.00               0.000000              0.0   \n",
       "4                0.0     0.00               0.000000              0.0   \n",
       "\n",
       "   PRODUCT_LR_type  PRODUCT_PA_type  PRODUCT_SHOW_CASE_type  \\\n",
       "0         0.250000              0.0                     0.0   \n",
       "1         0.230769              0.0                     0.0   \n",
       "2         0.250000              0.0                     0.0   \n",
       "3         0.000000              0.0                     0.0   \n",
       "4         0.000000              0.0                     0.0   \n",
       "\n",
       "   PURCHASE_PRODUCT_CAROUSEL_type  PURCHASE_PRODUCT_LP_type  \\\n",
       "0                             0.0                       0.0   \n",
       "1                             0.0                       0.0   \n",
       "2                             0.0                       0.0   \n",
       "3                             0.0                       0.0   \n",
       "4                             0.0                       0.0   \n",
       "\n",
       "   PURCHASE_PRODUCT_LR_type  PURCHASE_PRODUCT_PA_type  \\\n",
       "0                       0.0                       0.0   \n",
       "1                       0.0                       0.0   \n",
       "2                       0.0                       0.0   \n",
       "3                       0.0                       0.0   \n",
       "4                       0.0                       0.0   \n",
       "\n",
       "   PURCHASE_PRODUCT_SHOW_CASE_type  PURCHASE_PRODUCT_UNKNOW_ORIGIN_type  \\\n",
       "0                              0.0                                  0.0   \n",
       "1                              0.0                                  0.0   \n",
       "2                              0.0                                  0.0   \n",
       "3                              0.0                                  0.0   \n",
       "4                              0.0                                  0.0   \n",
       "\n",
       "   SEARCH_type  SHOW_CASE_type  SUM_TYPE_type  ADD_TO_BASKET_sim_type  \\\n",
       "0     0.500000             0.0            4.0                     0.0   \n",
       "1     0.384615             0.0           13.0                     0.0   \n",
       "2     0.500000             0.0            4.0                     0.0   \n",
       "3     1.000000             0.0            4.0                     0.0   \n",
       "4     1.000000             0.0            3.0                     0.0   \n",
       "\n",
       "   CAROUSEL_sim_type  LIST_PRODUCT_sim_type  PA_sim_type  PRODUCT_sim_type  \\\n",
       "0           0.250000                    0.0         0.00          0.250000   \n",
       "1           0.307692                    0.0         0.00          0.307692   \n",
       "2           0.000000                    0.0         0.25          0.250000   \n",
       "3           0.000000                    0.0         0.00          0.000000   \n",
       "4           0.000000                    0.0         0.00          0.000000   \n",
       "\n",
       "   PURCHASE_PRODUCT_sim_type  SEARCH_sim_type  SHOW_CASE_sim_type  \\\n",
       "0                        0.0         0.500000                 0.0   \n",
       "1                        0.0         0.384615                 0.0   \n",
       "2                        0.0         0.500000                 0.0   \n",
       "3                        0.0         1.000000                 0.0   \n",
       "4                        0.0         1.000000                 0.0   \n",
       "\n",
       "   SUM_TYPE_SIMPLIFIED_sim_type          0         1         2         3  \\\n",
       "0                           4.0  -8.738210 -0.236668 -0.215408 -0.119465   \n",
       "1                          13.0   3.989560 -0.040544 -0.204264 -0.093161   \n",
       "2                           4.0  -8.738763 -0.437704  0.077511  0.128111   \n",
       "3                           4.0  -8.737744 -0.998629 -0.238878 -0.130982   \n",
       "4                           3.0 -10.151954 -0.999747 -0.239586 -0.133590   \n",
       "\n",
       "          4         5         6         7         8         9  \n",
       "0  0.063152  0.160373 -0.071926 -0.053851  0.000248  0.003187  \n",
       "1  0.048300  0.210844 -0.007196 -0.046768 -0.020358  0.005340  \n",
       "2 -0.181200  0.195404 -0.040749 -0.047041 -0.016519  0.001377  \n",
       "3  0.104128 -0.215489  0.079601 -0.003660  0.016551  0.000551  \n",
       "4  0.104895 -0.214677  0.079654 -0.003147  0.016559  0.000491  "
      ]
     },
     "execution_count": 15,
     "metadata": {},
     "output_type": "execute_result"
    }
   ],
   "source": [
    "X_all.head()"
   ]
  },
  {
   "cell_type": "code",
   "execution_count": 16,
   "metadata": {},
   "outputs": [
    {
     "data": {
      "text/plain": [
       "0    False\n",
       "1    False\n",
       "2    False\n",
       "3    False\n",
       "4    False\n",
       "Name: target, dtype: bool"
      ]
     },
     "execution_count": 16,
     "metadata": {},
     "output_type": "execute_result"
    }
   ],
   "source": [
    "y_all.head()"
   ]
  },
  {
   "cell_type": "code",
   "execution_count": 17,
   "metadata": {},
   "outputs": [],
   "source": [
    "from sklearn.linear_model import RidgeCV"
   ]
  },
  {
   "cell_type": "code",
   "execution_count": 18,
   "metadata": {},
   "outputs": [],
   "source": [
    "regr_cv = RidgeCV([5.5, 5.6, 5.7, 5.8, 6.0])"
   ]
  },
  {
   "cell_type": "code",
   "execution_count": 19,
   "metadata": {},
   "outputs": [],
   "source": [
    "model_cv = regr_cv.fit(X_train, y_train)"
   ]
  },
  {
   "cell_type": "code",
   "execution_count": 21,
   "metadata": {},
   "outputs": [],
   "source": [
    "cv_prediction = model_cv.predict(X_val)"
   ]
  },
  {
   "cell_type": "code",
   "execution_count": 22,
   "metadata": {},
   "outputs": [
    {
     "data": {
      "text/plain": [
       "array([0.12049183, 0.04950167, 0.06840467, ..., 0.0612658 , 0.07541898,\n",
       "       0.02733121])"
      ]
     },
     "execution_count": 22,
     "metadata": {},
     "output_type": "execute_result"
    }
   ],
   "source": [
    "cv_prediction"
   ]
  },
  {
   "cell_type": "code",
   "execution_count": 23,
   "metadata": {},
   "outputs": [
    {
     "data": {
      "text/plain": [
       "0.28788346599425013"
      ]
     },
     "execution_count": 23,
     "metadata": {},
     "output_type": "execute_result"
    }
   ],
   "source": [
    "log_loss(y_val, cv_prediction)"
   ]
  },
  {
   "cell_type": "code",
   "execution_count": 23,
   "metadata": {},
   "outputs": [
    {
     "data": {
      "text/plain": [
       "133123"
      ]
     },
     "execution_count": 23,
     "metadata": {},
     "output_type": "execute_result"
    }
   ],
   "source": [
    "len(X_all)"
   ]
  },
  {
   "cell_type": "code",
   "execution_count": 24,
   "metadata": {},
   "outputs": [],
   "source": [
    "from scipy.stats import skew\n",
    "from scipy.special import boxcox1p"
   ]
  },
  {
   "cell_type": "code",
   "execution_count": 25,
   "metadata": {},
   "outputs": [],
   "source": [
    "numeric_feats = X_all.dtypes[X_all.dtypes != \"object\"].index"
   ]
  },
  {
   "cell_type": "code",
   "execution_count": 26,
   "metadata": {},
   "outputs": [],
   "source": [
    "skewed_feats = X_train[numeric_feats].apply(lambda x: skew(x.dropna())) #compute skewness\n",
    "\n",
    "skewed_feats = skewed_feats[skewed_feats > 0.65]\n",
    "\n",
    "skewed_feats = skewed_feats.index"
   ]
  },
  {
   "cell_type": "code",
   "execution_count": 27,
   "metadata": {},
   "outputs": [],
   "source": [
    "X_train[skewed_feats] = boxcox1p(X_train[skewed_feats], 0.15)"
   ]
  },
  {
   "cell_type": "code",
   "execution_count": 28,
   "metadata": {},
   "outputs": [],
   "source": [
    "X_val[skewed_feats] = boxcox1p(X_val[skewed_feats], 0.15)"
   ]
  },
  {
   "cell_type": "code",
   "execution_count": 29,
   "metadata": {},
   "outputs": [],
   "source": [
    "regr_cv = RidgeCV([5.5, 5.6, 5.7, 5.8, 6.0])"
   ]
  },
  {
   "cell_type": "code",
   "execution_count": 32,
   "metadata": {},
   "outputs": [],
   "source": [
    "X_train = X_train.fillna(X_all.mean())\n",
    "X_val = X_val.fillna(X_all.mean())"
   ]
  },
  {
   "cell_type": "code",
   "execution_count": 33,
   "metadata": {},
   "outputs": [
    {
     "data": {
      "text/plain": [
       "RidgeCV(alphas=[5.5, 5.6, 5.7, 5.8, 6.0], cv=None, fit_intercept=True,\n",
       "    gcv_mode=None, normalize=False, scoring=None, store_cv_values=False)"
      ]
     },
     "execution_count": 33,
     "metadata": {},
     "output_type": "execute_result"
    }
   ],
   "source": [
    "regr_cv.fit(X_train, y_train)"
   ]
  },
  {
   "cell_type": "code",
   "execution_count": 34,
   "metadata": {},
   "outputs": [
    {
     "data": {
      "text/plain": [
       "0.2863403361127427"
      ]
     },
     "execution_count": 34,
     "metadata": {},
     "output_type": "execute_result"
    }
   ],
   "source": [
    "cv_prediction = model_cv.predict(X_val)\n",
    "log_loss(y_val, cv_prediction)"
   ]
  },
  {
   "cell_type": "code",
   "execution_count": null,
   "metadata": {},
   "outputs": [],
   "source": []
  }
 ],
 "metadata": {
  "kernelspec": {
   "display_name": "Python [conda env:kaggle]",
   "language": "python",
   "name": "conda-env-kaggle-py"
  },
  "language_info": {
   "codemirror_mode": {
    "name": "ipython",
    "version": 3
   },
   "file_extension": ".py",
   "mimetype": "text/x-python",
   "name": "python",
   "nbconvert_exporter": "python",
   "pygments_lexer": "ipython3",
   "version": "3.6.4"
  }
 },
 "nbformat": 4,
 "nbformat_minor": 2
}
