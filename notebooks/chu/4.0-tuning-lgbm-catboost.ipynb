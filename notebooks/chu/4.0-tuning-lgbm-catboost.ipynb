{
 "cells": [
  {
   "cell_type": "code",
   "execution_count": 1,
   "metadata": {},
   "outputs": [],
   "source": [
    "import pandas as pd\n",
    "import numpy as np\n",
    "from tqdm import tqdm\n",
    "import os\n",
    "import matplotlib.pyplot as plt\n",
    "\n",
    "os.chdir('../..')\n",
    "\n",
    "from src.utils_k import add_type_features\n",
    "from src.utils_r import generate_validation_set\n",
    "\n",
    "pd.options.display.max_columns = 9999\n",
    "pd.options.display.max_rows = 9999"
   ]
  },
  {
   "cell_type": "code",
   "execution_count": 2,
   "metadata": {},
   "outputs": [
    {
     "data": {
      "text/plain": [
       "'/home/dsgpucp/Documents/DSG-2018-Finals'"
      ]
     },
     "execution_count": 2,
     "metadata": {},
     "output_type": "execute_result"
    }
   ],
   "source": [
    "os.getcwd()"
   ]
  },
  {
   "cell_type": "code",
   "execution_count": 3,
   "metadata": {},
   "outputs": [],
   "source": [
    "from src.utils_f import duration_feature\n",
    "import lightgbm as lgbm\n"
   ]
  },
  {
   "cell_type": "code",
   "execution_count": 4,
   "metadata": {},
   "outputs": [],
   "source": [
    "%load_ext autoreload\n",
    "%autoreload 2"
   ]
  },
  {
   "cell_type": "code",
   "execution_count": 5,
   "metadata": {},
   "outputs": [],
   "source": [
    "test_session = pd.read_csv('data/raw/random_submission.csv')\n",
    "test_tracking = pd.read_csv('data/raw/test_tracking.csv')\n",
    "all_session = pd.read_csv('data/raw/train_session.csv') \n",
    "all_tracking = pd.read_csv('data/raw/train_tracking.csv')"
   ]
  },
  {
   "cell_type": "code",
   "execution_count": 6,
   "metadata": {},
   "outputs": [],
   "source": [
    "trn_session, trn_tracking, val_session, val_tracking = generate_validation_set(all_session, all_tracking, test_size=0.4)"
   ]
  },
  {
   "cell_type": "code",
   "execution_count": 7,
   "metadata": {},
   "outputs": [],
   "source": [
    "proc_train = add_type_features(trn_session[['sid']], trn_tracking)\n",
    "proc_val = add_type_features(val_session[['sid']], val_tracking)\n",
    "proc_all = add_type_features(all_session[['sid']], all_tracking)\n",
    "proc_test = add_type_features(test_session, test_tracking)"
   ]
  },
  {
   "cell_type": "code",
   "execution_count": 8,
   "metadata": {},
   "outputs": [
    {
     "name": "stderr",
     "output_type": "stream",
     "text": [
      "/anaconda/envs/kaggle/lib/python3.6/site-packages/pandas/core/generic.py:3643: SettingWithCopyWarning: \n",
      "A value is trying to be set on a copy of a slice from a DataFrame.\n",
      "Try using .loc[row_indexer,col_indexer] = value instead\n",
      "\n",
      "See the caveats in the documentation: http://pandas.pydata.org/pandas-docs/stable/indexing.html#indexing-view-versus-copy\n",
      "  self[name] = value\n"
     ]
    }
   ],
   "source": [
    "proc_train = duration_feature(proc_train, trn_tracking)\n",
    "proc_val = duration_feature(proc_val, val_tracking)\n",
    "proc_all = duration_feature(proc_all, all_tracking)\n",
    "proc_test = duration_feature(proc_test, test_tracking)"
   ]
  },
  {
   "cell_type": "code",
   "execution_count": 9,
   "metadata": {},
   "outputs": [
    {
     "data": {
      "text/html": [
       "<div>\n",
       "<style scoped>\n",
       "    .dataframe tbody tr th:only-of-type {\n",
       "        vertical-align: middle;\n",
       "    }\n",
       "\n",
       "    .dataframe tbody tr th {\n",
       "        vertical-align: top;\n",
       "    }\n",
       "\n",
       "    .dataframe thead th {\n",
       "        text-align: right;\n",
       "    }\n",
       "</style>\n",
       "<table border=\"1\" class=\"dataframe\">\n",
       "  <thead>\n",
       "    <tr style=\"text-align: right;\">\n",
       "      <th></th>\n",
       "      <th>sid</th>\n",
       "      <th>ADD_TO_BASKET_CAROUSEL_type</th>\n",
       "      <th>ADD_TO_BASKET_LP_type</th>\n",
       "      <th>ADD_TO_BASKET_LR_type</th>\n",
       "      <th>ADD_TO_BASKET_PA_type</th>\n",
       "      <th>ADD_TO_BASKET_SHOW_CASE_type</th>\n",
       "      <th>CAROUSEL_type</th>\n",
       "      <th>LIST_PRODUCT_type</th>\n",
       "      <th>PA_type</th>\n",
       "      <th>PRODUCT_CAROUSEL_type</th>\n",
       "      <th>PRODUCT_LP_type</th>\n",
       "      <th>PRODUCT_LR_type</th>\n",
       "      <th>PRODUCT_PA_type</th>\n",
       "      <th>PRODUCT_SHOW_CASE_type</th>\n",
       "      <th>PURCHASE_PRODUCT_CAROUSEL_type</th>\n",
       "      <th>PURCHASE_PRODUCT_LP_type</th>\n",
       "      <th>PURCHASE_PRODUCT_LR_type</th>\n",
       "      <th>PURCHASE_PRODUCT_PA_type</th>\n",
       "      <th>PURCHASE_PRODUCT_SHOW_CASE_type</th>\n",
       "      <th>PURCHASE_PRODUCT_UNKNOW_ORIGIN_type</th>\n",
       "      <th>SEARCH_type</th>\n",
       "      <th>SHOW_CASE_type</th>\n",
       "      <th>SUM_TYPE_type</th>\n",
       "      <th>ADD_TO_BASKET_sim_type</th>\n",
       "      <th>CAROUSEL_sim_type</th>\n",
       "      <th>LIST_PRODUCT_sim_type</th>\n",
       "      <th>PA_sim_type</th>\n",
       "      <th>PRODUCT_sim_type</th>\n",
       "      <th>PURCHASE_PRODUCT_sim_type</th>\n",
       "      <th>SEARCH_sim_type</th>\n",
       "      <th>SHOW_CASE_sim_type</th>\n",
       "      <th>SUM_TYPE_SIMPLIFIED_sim_type</th>\n",
       "      <th>TOTAL_DURATION</th>\n",
       "    </tr>\n",
       "  </thead>\n",
       "  <tbody>\n",
       "    <tr>\n",
       "      <th>0</th>\n",
       "      <td>inxo2lfHOeGgN2ySgzK1hAKyCIt17p+honetBOQH4ICtTR...</td>\n",
       "      <td>0.0</td>\n",
       "      <td>0.0</td>\n",
       "      <td>0.000000</td>\n",
       "      <td>0.0</td>\n",
       "      <td>0.0</td>\n",
       "      <td>0.166667</td>\n",
       "      <td>0.0</td>\n",
       "      <td>0.041667</td>\n",
       "      <td>0.083333</td>\n",
       "      <td>0.0</td>\n",
       "      <td>0.041667</td>\n",
       "      <td>0.0</td>\n",
       "      <td>0.0</td>\n",
       "      <td>0.0</td>\n",
       "      <td>0.0</td>\n",
       "      <td>0.0</td>\n",
       "      <td>0.0</td>\n",
       "      <td>0.0</td>\n",
       "      <td>0.0</td>\n",
       "      <td>0.666667</td>\n",
       "      <td>0.000000</td>\n",
       "      <td>24.0</td>\n",
       "      <td>0.000000</td>\n",
       "      <td>0.166667</td>\n",
       "      <td>0.0</td>\n",
       "      <td>0.041667</td>\n",
       "      <td>0.125</td>\n",
       "      <td>0.0</td>\n",
       "      <td>0.666667</td>\n",
       "      <td>0.000000</td>\n",
       "      <td>24.0</td>\n",
       "      <td>7840.041643</td>\n",
       "    </tr>\n",
       "    <tr>\n",
       "      <th>1</th>\n",
       "      <td>4CGnnv6GOcYQp/kxVjcx8nN0u5HgaDaLQkC4xIteZJZ/wK...</td>\n",
       "      <td>0.0</td>\n",
       "      <td>0.0</td>\n",
       "      <td>0.000000</td>\n",
       "      <td>0.0</td>\n",
       "      <td>0.0</td>\n",
       "      <td>0.000000</td>\n",
       "      <td>0.0</td>\n",
       "      <td>0.000000</td>\n",
       "      <td>0.000000</td>\n",
       "      <td>0.0</td>\n",
       "      <td>0.125000</td>\n",
       "      <td>0.0</td>\n",
       "      <td>0.0</td>\n",
       "      <td>0.0</td>\n",
       "      <td>0.0</td>\n",
       "      <td>0.0</td>\n",
       "      <td>0.0</td>\n",
       "      <td>0.0</td>\n",
       "      <td>0.0</td>\n",
       "      <td>0.875000</td>\n",
       "      <td>0.000000</td>\n",
       "      <td>8.0</td>\n",
       "      <td>0.000000</td>\n",
       "      <td>0.000000</td>\n",
       "      <td>0.0</td>\n",
       "      <td>0.000000</td>\n",
       "      <td>0.125</td>\n",
       "      <td>0.0</td>\n",
       "      <td>0.875000</td>\n",
       "      <td>0.000000</td>\n",
       "      <td>8.0</td>\n",
       "      <td>288.199209</td>\n",
       "    </tr>\n",
       "    <tr>\n",
       "      <th>2</th>\n",
       "      <td>mh22mbOuRnDwAf2OWcrwwymfbZQ/CO3GQuNMO5NREgRV0t...</td>\n",
       "      <td>0.0</td>\n",
       "      <td>0.0</td>\n",
       "      <td>0.000000</td>\n",
       "      <td>0.0</td>\n",
       "      <td>0.0</td>\n",
       "      <td>0.833333</td>\n",
       "      <td>0.0</td>\n",
       "      <td>0.000000</td>\n",
       "      <td>0.000000</td>\n",
       "      <td>0.0</td>\n",
       "      <td>0.000000</td>\n",
       "      <td>0.0</td>\n",
       "      <td>0.0</td>\n",
       "      <td>0.0</td>\n",
       "      <td>0.0</td>\n",
       "      <td>0.0</td>\n",
       "      <td>0.0</td>\n",
       "      <td>0.0</td>\n",
       "      <td>0.0</td>\n",
       "      <td>0.166667</td>\n",
       "      <td>0.000000</td>\n",
       "      <td>6.0</td>\n",
       "      <td>0.000000</td>\n",
       "      <td>0.833333</td>\n",
       "      <td>0.0</td>\n",
       "      <td>0.000000</td>\n",
       "      <td>0.000</td>\n",
       "      <td>0.0</td>\n",
       "      <td>0.166667</td>\n",
       "      <td>0.000000</td>\n",
       "      <td>6.0</td>\n",
       "      <td>613.506545</td>\n",
       "    </tr>\n",
       "    <tr>\n",
       "      <th>3</th>\n",
       "      <td>K/+O1PWZ2vASLTrjvBFT7e62Vee1YyOxCrpMJNoL6edmuC...</td>\n",
       "      <td>0.0</td>\n",
       "      <td>0.0</td>\n",
       "      <td>0.181818</td>\n",
       "      <td>0.0</td>\n",
       "      <td>0.0</td>\n",
       "      <td>0.363636</td>\n",
       "      <td>0.0</td>\n",
       "      <td>0.090909</td>\n",
       "      <td>0.000000</td>\n",
       "      <td>0.0</td>\n",
       "      <td>0.000000</td>\n",
       "      <td>0.0</td>\n",
       "      <td>0.0</td>\n",
       "      <td>0.0</td>\n",
       "      <td>0.0</td>\n",
       "      <td>0.0</td>\n",
       "      <td>0.0</td>\n",
       "      <td>0.0</td>\n",
       "      <td>0.0</td>\n",
       "      <td>0.272727</td>\n",
       "      <td>0.090909</td>\n",
       "      <td>11.0</td>\n",
       "      <td>0.181818</td>\n",
       "      <td>0.363636</td>\n",
       "      <td>0.0</td>\n",
       "      <td>0.090909</td>\n",
       "      <td>0.000</td>\n",
       "      <td>0.0</td>\n",
       "      <td>0.272727</td>\n",
       "      <td>0.090909</td>\n",
       "      <td>11.0</td>\n",
       "      <td>217.223808</td>\n",
       "    </tr>\n",
       "    <tr>\n",
       "      <th>4</th>\n",
       "      <td>+8SAgYuptilut4CKRE59ncZFDaF4Y+PX6yJ8g4HaALCxI7...</td>\n",
       "      <td>0.0</td>\n",
       "      <td>0.0</td>\n",
       "      <td>0.000000</td>\n",
       "      <td>0.0</td>\n",
       "      <td>0.0</td>\n",
       "      <td>0.200000</td>\n",
       "      <td>0.6</td>\n",
       "      <td>0.000000</td>\n",
       "      <td>0.000000</td>\n",
       "      <td>0.2</td>\n",
       "      <td>0.000000</td>\n",
       "      <td>0.0</td>\n",
       "      <td>0.0</td>\n",
       "      <td>0.0</td>\n",
       "      <td>0.0</td>\n",
       "      <td>0.0</td>\n",
       "      <td>0.0</td>\n",
       "      <td>0.0</td>\n",
       "      <td>0.0</td>\n",
       "      <td>0.000000</td>\n",
       "      <td>0.000000</td>\n",
       "      <td>5.0</td>\n",
       "      <td>0.000000</td>\n",
       "      <td>0.200000</td>\n",
       "      <td>0.6</td>\n",
       "      <td>0.000000</td>\n",
       "      <td>0.200</td>\n",
       "      <td>0.0</td>\n",
       "      <td>0.000000</td>\n",
       "      <td>0.000000</td>\n",
       "      <td>5.0</td>\n",
       "      <td>168.220206</td>\n",
       "    </tr>\n",
       "  </tbody>\n",
       "</table>\n",
       "</div>"
      ],
      "text/plain": [
       "                                                 sid  \\\n",
       "0  inxo2lfHOeGgN2ySgzK1hAKyCIt17p+honetBOQH4ICtTR...   \n",
       "1  4CGnnv6GOcYQp/kxVjcx8nN0u5HgaDaLQkC4xIteZJZ/wK...   \n",
       "2  mh22mbOuRnDwAf2OWcrwwymfbZQ/CO3GQuNMO5NREgRV0t...   \n",
       "3  K/+O1PWZ2vASLTrjvBFT7e62Vee1YyOxCrpMJNoL6edmuC...   \n",
       "4  +8SAgYuptilut4CKRE59ncZFDaF4Y+PX6yJ8g4HaALCxI7...   \n",
       "\n",
       "   ADD_TO_BASKET_CAROUSEL_type  ADD_TO_BASKET_LP_type  ADD_TO_BASKET_LR_type  \\\n",
       "0                          0.0                    0.0               0.000000   \n",
       "1                          0.0                    0.0               0.000000   \n",
       "2                          0.0                    0.0               0.000000   \n",
       "3                          0.0                    0.0               0.181818   \n",
       "4                          0.0                    0.0               0.000000   \n",
       "\n",
       "   ADD_TO_BASKET_PA_type  ADD_TO_BASKET_SHOW_CASE_type  CAROUSEL_type  \\\n",
       "0                    0.0                           0.0       0.166667   \n",
       "1                    0.0                           0.0       0.000000   \n",
       "2                    0.0                           0.0       0.833333   \n",
       "3                    0.0                           0.0       0.363636   \n",
       "4                    0.0                           0.0       0.200000   \n",
       "\n",
       "   LIST_PRODUCT_type   PA_type  PRODUCT_CAROUSEL_type  PRODUCT_LP_type  \\\n",
       "0                0.0  0.041667               0.083333              0.0   \n",
       "1                0.0  0.000000               0.000000              0.0   \n",
       "2                0.0  0.000000               0.000000              0.0   \n",
       "3                0.0  0.090909               0.000000              0.0   \n",
       "4                0.6  0.000000               0.000000              0.2   \n",
       "\n",
       "   PRODUCT_LR_type  PRODUCT_PA_type  PRODUCT_SHOW_CASE_type  \\\n",
       "0         0.041667              0.0                     0.0   \n",
       "1         0.125000              0.0                     0.0   \n",
       "2         0.000000              0.0                     0.0   \n",
       "3         0.000000              0.0                     0.0   \n",
       "4         0.000000              0.0                     0.0   \n",
       "\n",
       "   PURCHASE_PRODUCT_CAROUSEL_type  PURCHASE_PRODUCT_LP_type  \\\n",
       "0                             0.0                       0.0   \n",
       "1                             0.0                       0.0   \n",
       "2                             0.0                       0.0   \n",
       "3                             0.0                       0.0   \n",
       "4                             0.0                       0.0   \n",
       "\n",
       "   PURCHASE_PRODUCT_LR_type  PURCHASE_PRODUCT_PA_type  \\\n",
       "0                       0.0                       0.0   \n",
       "1                       0.0                       0.0   \n",
       "2                       0.0                       0.0   \n",
       "3                       0.0                       0.0   \n",
       "4                       0.0                       0.0   \n",
       "\n",
       "   PURCHASE_PRODUCT_SHOW_CASE_type  PURCHASE_PRODUCT_UNKNOW_ORIGIN_type  \\\n",
       "0                              0.0                                  0.0   \n",
       "1                              0.0                                  0.0   \n",
       "2                              0.0                                  0.0   \n",
       "3                              0.0                                  0.0   \n",
       "4                              0.0                                  0.0   \n",
       "\n",
       "   SEARCH_type  SHOW_CASE_type  SUM_TYPE_type  ADD_TO_BASKET_sim_type  \\\n",
       "0     0.666667        0.000000           24.0                0.000000   \n",
       "1     0.875000        0.000000            8.0                0.000000   \n",
       "2     0.166667        0.000000            6.0                0.000000   \n",
       "3     0.272727        0.090909           11.0                0.181818   \n",
       "4     0.000000        0.000000            5.0                0.000000   \n",
       "\n",
       "   CAROUSEL_sim_type  LIST_PRODUCT_sim_type  PA_sim_type  PRODUCT_sim_type  \\\n",
       "0           0.166667                    0.0     0.041667             0.125   \n",
       "1           0.000000                    0.0     0.000000             0.125   \n",
       "2           0.833333                    0.0     0.000000             0.000   \n",
       "3           0.363636                    0.0     0.090909             0.000   \n",
       "4           0.200000                    0.6     0.000000             0.200   \n",
       "\n",
       "   PURCHASE_PRODUCT_sim_type  SEARCH_sim_type  SHOW_CASE_sim_type  \\\n",
       "0                        0.0         0.666667            0.000000   \n",
       "1                        0.0         0.875000            0.000000   \n",
       "2                        0.0         0.166667            0.000000   \n",
       "3                        0.0         0.272727            0.090909   \n",
       "4                        0.0         0.000000            0.000000   \n",
       "\n",
       "   SUM_TYPE_SIMPLIFIED_sim_type  TOTAL_DURATION  \n",
       "0                          24.0     7840.041643  \n",
       "1                           8.0      288.199209  \n",
       "2                           6.0      613.506545  \n",
       "3                          11.0      217.223808  \n",
       "4                           5.0      168.220206  "
      ]
     },
     "execution_count": 9,
     "metadata": {},
     "output_type": "execute_result"
    }
   ],
   "source": [
    "proc_train.head()"
   ]
  },
  {
   "cell_type": "markdown",
   "metadata": {},
   "source": [
    "# Validation"
   ]
  },
  {
   "cell_type": "code",
   "execution_count": 10,
   "metadata": {},
   "outputs": [],
   "source": [
    "X_train = proc_train.drop('sid', axis=1).reset_index(drop=True)\n",
    "y_train = trn_session.target.reset_index(drop=True)\n",
    "\n",
    "X_val = proc_val.drop('sid', axis=1).reset_index(drop=True)\n",
    "y_val = val_session.target.reset_index(drop=True)\n",
    "\n",
    "X_test = proc_test.drop('sid', axis=1).reset_index(drop=True)\n",
    "\n",
    "temp_columns = X_train.columns\n",
    "X_val = X_val[temp_columns]\n",
    "X_test = X_test[temp_columns]"
   ]
  },
  {
   "cell_type": "code",
   "execution_count": 11,
   "metadata": {},
   "outputs": [],
   "source": [
    "from sklearn.preprocessing import StandardScaler\n",
    "\n",
    "scaler = StandardScaler()\n",
    "scaler.fit(X_train)\n",
    "X_train = scaler.transform(X_train)\n",
    "X_val = scaler.transform(X_val)"
   ]
  },
  {
   "cell_type": "code",
   "execution_count": 12,
   "metadata": {},
   "outputs": [],
   "source": [
    "from sklearn.decomposition import PCA\n",
    "\n",
    "pca = PCA(n_components = 10).fit(X_train)\n",
    "\n",
    "X_train_pca = (pca.transform(X_train))\n",
    "X_val_pca = (pca.transform(X_val))\n",
    "\n",
    "X_train = pd.concat([pd.DataFrame(X_train), pd.DataFrame(X_train_pca)], axis=1)\n",
    "X_val = pd.concat([pd.DataFrame(X_val), pd.DataFrame(X_val_pca)], axis=1)"
   ]
  },
  {
   "cell_type": "code",
   "execution_count": 13,
   "metadata": {},
   "outputs": [
    {
     "name": "stdout",
     "output_type": "stream",
     "text": [
      "Training until validation scores don't improve for 30 rounds.\n",
      "[100]\tvalid_0's binary_logloss: 0.284387\n",
      "[200]\tvalid_0's binary_logloss: 0.278182\n",
      "[300]\tvalid_0's binary_logloss: 0.27574\n",
      "[400]\tvalid_0's binary_logloss: 0.274611\n",
      "[500]\tvalid_0's binary_logloss: 0.274123\n",
      "[600]\tvalid_0's binary_logloss: 0.273889\n",
      "[700]\tvalid_0's binary_logloss: 0.273738\n",
      "Early stopping, best iteration is:\n",
      "[742]\tvalid_0's binary_logloss: 0.273701\n"
     ]
    }
   ],
   "source": [
    "# parameters for LightGBMClassifier\n",
    "params = {\n",
    "    'objective' :'binary',\n",
    "    'max_depth' : 7,\n",
    "    'boosting_type' : 'dart',\n",
    "    'xgboost_dart_mode': True,\n",
    "    'learning_rate': 0.01,\n",
    "    'metric': 'binary_logloss',\n",
    "    'verbose': 1,\n",
    "    'bagging_fraction': 0.5,\n",
    "}\n",
    "\n",
    "d_train = lgbm.Dataset(X_train, label=trn_session.target)\n",
    "d_valid = lgbm.Dataset(X_val, label=val_session.target)\n",
    "\n",
    "clf = lgbm.train(params, d_train, valid_sets=[d_valid],\n",
    "                num_boost_round=100000, early_stopping_rounds=30, verbose_eval=100)"
   ]
  },
  {
   "cell_type": "code",
   "execution_count": 14,
   "metadata": {},
   "outputs": [
    {
     "name": "stdout",
     "output_type": "stream",
     "text": [
      "[100]\tvalid_0's binary_logloss: 0.284387\n",
      "[200]\tvalid_0's binary_logloss: 0.278182\n",
      "[300]\tvalid_0's binary_logloss: 0.27574\n",
      "[400]\tvalid_0's binary_logloss: 0.274611\n",
      "[500]\tvalid_0's binary_logloss: 0.274123\n",
      "[600]\tvalid_0's binary_logloss: 0.273889\n",
      "[700]\tvalid_0's binary_logloss: 0.273738\n"
     ]
    }
   ],
   "source": [
    "# parameters for LightGBMClassifier\n",
    "params = {\n",
    "    'objective' :'binary',\n",
    "    'max_depth' : 7,\n",
    "    'boosting_type' : 'dart',\n",
    "    'xgboost_dart_mode': True,\n",
    "    'learning_rate': 0.01,\n",
    "    'metric': 'binary_logloss',\n",
    "    'verbose': 1\n",
    "    'bagging_fraction': 0.5,\n",
    "}\n",
    "\n",
    "d_train = lgbm.Dataset(X_train, label=trn_session.target)\n",
    "d_valid = lgbm.Dataset(X_val, label=val_session.target)\n",
    "\n",
    "clf = lgbm.train(params, d_train, valid_sets=[d_valid],\n",
    "                num_boost_round=774, verbose_eval=100)"
   ]
  },
  {
   "cell_type": "markdown",
   "metadata": {},
   "source": [
    "# parameters for LightGBMClassifier\n",
    "params = {\n",
    "    'objective' :'binary',\n",
    "    'max_depth' : 7,\n",
    "    'boosting_type' : 'dart',\n",
    "    'xgboost_dart_mode': True,\n",
    "    'learning_rate': 0.01,\n",
    "    'metric': 'binary_logloss',\n",
    "    'verbose': 1\n",
    "    #'bagging_fraction': 0.5,\n",
    "}\n",
    "\n",
    "d_train = lgbm.Dataset(X_train, label=trn_session.target)\n",
    "d_valid = lgbm.Dataset(X_val, label=val_session.target)\n",
    "\n",
    "clf = lgbm.train(params, d_train, valid_sets=[d_valid],\n",
    "                num_boost_round=774, verbose_eval=)"
   ]
  },
  {
   "cell_type": "code",
   "execution_count": 31,
   "metadata": {},
   "outputs": [],
   "source": [
    "X_all = proc_all.drop('sid', axis=1).reset_index(drop=True)\n",
    "y_all = all_session.target.reset_index(drop=True)\n",
    "\n",
    "X_test = proc_test.drop('sid', axis=1).reset_index(drop=True)\n",
    "temp_columns = X_all.columns\n",
    "X_test = X_test[temp_columns]"
   ]
  },
  {
   "cell_type": "code",
   "execution_count": 32,
   "metadata": {},
   "outputs": [],
   "source": [
    "scaler = StandardScaler()\n",
    "scaler.fit(X_all)\n",
    "X_all = scaler.transform(X_all)\n",
    "X_test = scaler.transform(X_test)"
   ]
  },
  {
   "cell_type": "code",
   "execution_count": 33,
   "metadata": {},
   "outputs": [],
   "source": [
    "pca = PCA(n_components = 10).fit(X_all)\n",
    "\n",
    "X_all_pca = pd.DataFrame(pca.transform(X_all))\n",
    "X_test_pca = pd.DataFrame(pca.transform(X_test))\n",
    "\n",
    "X_all = pd.concat([pd.DataFrame(X_all), pd.DataFrame(X_all_pca)], axis=1)\n",
    "X_test = pd.concat([pd.DataFrame(X_test), pd.DataFrame(X_test_pca)], axis=1)"
   ]
  },
  {
   "cell_type": "code",
   "execution_count": 43,
   "metadata": {},
   "outputs": [],
   "source": [
    "import lightgbm as lgbm\n",
    "\n",
    "# parameters for LightGBMClassifier\n",
    "params = {\n",
    "    'objective' :'binary',\n",
    "    'max_depth' : 7,\n",
    "    'boosting_type' : 'dart',\n",
    "    'xgboost_dart_mode': True,\n",
    "    'learning_rate': 0.01,\n",
    "    #'metric': 'binary_logloss',\n",
    "    #'bagging_fraction': 0.5,\n",
    "}\n",
    "\n",
    "d_train = lgbm.Dataset(X_all, label=y_all)\n",
    "#d_valid = lgbm.Dataset(X_val, label=y_val)\n",
    "\n",
    "clf = lgbm.train(params, d_train,# valid_sets=[d_valid],\n",
    "                num_boost_round=774)"
   ]
  },
  {
   "cell_type": "code",
   "execution_count": 41,
   "metadata": {},
   "outputs": [
    {
     "data": {
      "text/plain": [
       "<matplotlib.axes._subplots.AxesSubplot at 0x7f3337e9dc88>"
      ]
     },
     "execution_count": 41,
     "metadata": {},
     "output_type": "execute_result"
    },
    {
     "data": {
      "image/png": "[encoded data removed]",
      "text/plain": [
       "<matplotlib.figure.Figure at 0x7f3330649f60>"
      ]
     },
     "metadata": {},
     "output_type": "display_data"
    }
   ],
   "source": [
    "from matplotlib import rcParams\n",
    "%matplotlib inline \n",
    "\n",
    "rcParams['figure.figsize'] = 10, 10\n",
    "lgbm.plot_importance(clf)"
   ]
  },
  {
   "cell_type": "code",
   "execution_count": 44,
   "metadata": {},
   "outputs": [],
   "source": [
    "preds=clf.predict(X_test)\n",
    "test_session['target'] = preds\n",
    "test_session.to_csv(f'data/submissions/chu_3_submit.csv', index=False)"
   ]
  }
 ],
 "metadata": {
  "kernelspec": {
   "display_name": "Python [conda env:kaggle]",
   "language": "python",
   "name": "conda-env-kaggle-py"
  },
  "language_info": {
   "codemirror_mode": {
    "name": "ipython",
    "version": 3
   },
   "file_extension": ".py",
   "mimetype": "text/x-python",
   "name": "python",
   "nbconvert_exporter": "python",
   "pygments_lexer": "ipython3",
   "version": "3.6.4"
  }
 },
 "nbformat": 4,
 "nbformat_minor": 2
}
