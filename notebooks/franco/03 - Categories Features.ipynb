{
 "cells": [
  {
   "cell_type": "code",
   "execution_count": 217,
   "metadata": {},
   "outputs": [
    {
     "name": "stdout",
     "output_type": "stream",
     "text": [
      "The autoreload extension is already loaded. To reload it, use:\n",
      "  %reload_ext autoreload\n"
     ]
    }
   ],
   "source": [
    "%load_ext autoreload\n",
    "%autoreload 2\n",
    "%matplotlib inline\n",
    "%config InlineBackend.figure_format = 'retina'\n",
    "\n",
    "import os\n",
    "import numpy as np, pandas as pd\n",
    "import matplotlib.pyplot as plt, seaborn as sns\n",
    "from tqdm import tqdm, tqdm_notebook\n",
    "from pathlib import Path\n",
    "from collections import Counter\n",
    "from sklearn.decomposition import PCA\n",
    "from ast import literal_eval\n",
    "from functools import partial\n",
    "import re\n",
    "sns.set()\n",
    "\n",
    "DATA = Path('../../data')\n",
    "RAW  = DATA/'raw'\n",
    "PROCESSED = DATA/'processed'\n",
    "SUBMISSIONS = DATA/'submissions'"
   ]
  },
  {
   "cell_type": "code",
   "execution_count": 218,
   "metadata": {},
   "outputs": [
    {
     "name": "stdout",
     "output_type": "stream",
     "text": [
      "CPU times: user 1min 8s, sys: 8.69 s, total: 1min 17s\n",
      "Wall time: 1min 17s\n"
     ]
    }
   ],
   "source": [
    "%%time\n",
    "product           = pd.read_csv(RAW/'productid_category.csv', low_memory=False)\n",
    "train_tracking    = pd.read_csv(RAW/'train_tracking.csv', low_memory=False)\n",
    "test_tracking     = pd.read_csv(RAW/'test_tracking.csv', low_memory=False)\n",
    "train_session     = pd.read_csv(RAW/'train_session.csv', low_memory=False)\n",
    "test_session      = pd.read_csv(RAW/'random_submission.csv', low_memory=False)"
   ]
  },
  {
   "cell_type": "code",
   "execution_count": 219,
   "metadata": {},
   "outputs": [],
   "source": [
    "train_features = train_session.copy()\n",
    "test_features = test_session.copy()"
   ]
  },
  {
   "cell_type": "code",
   "execution_count": 220,
   "metadata": {},
   "outputs": [],
   "source": [
    "def add_page(train_tracking):\n",
    "    def extract_page(x):\n",
    "        pages_types = ['_LR', '_PA', '_LP', '_CAROUSEL', '_SHOW_CASE']\n",
    "        pages = ['CAROUSEL', 'PA', 'SEARCH', 'SHOW_CASE', 'LIST_PRODUCT']\n",
    "        pages_map = [['PURCHASE_PRODUCT_UNKNOW_ORIGIN', 'UNKNOWN']]\n",
    "        for pages_type in pages_types:\n",
    "            if x.endswith(pages_type):\n",
    "                return x[-len(pages_type)+1:]\n",
    "        for page in pages:\n",
    "            if x == page:\n",
    "                return x\n",
    "        for page_map in pages_map:\n",
    "            if x == page_map[0]:\n",
    "                return page_map[1]\n",
    "        return '::' + x\n",
    "    train_tracking['page'] = train_tracking.type.apply(extract_page)\n",
    "    return train_tracking\n",
    "\n",
    "def simplify_categories(product):\n",
    "    counter1 = product.groupby('category_product_id_level1').size()\n",
    "    counter1dict = counter1.to_dict()\n",
    "    mapcat = {}\n",
    "    for idx in counter1dict:\n",
    "        if counter1dict[idx] > 10:\n",
    "            mapcat[idx] = idx\n",
    "        else:\n",
    "            mapcat[idx] = 10e7\n",
    "    product['cat1'] = product.category_product_id_level1.apply(lambda x: mapcat[x])\n",
    "    return product\n",
    "\n",
    "def convert_jsonproducts(train_tracking, column):\n",
    "    def convert_json(x):\n",
    "        if pd.isnull(x):\n",
    "            return x\n",
    "        else:\n",
    "            return literal_eval(x)\n",
    "    train_tracking['product_list'] = train_tracking[column].apply(convert_json)\n",
    "    return train_tracking\n",
    "\n",
    "def nn_convert_jsonproducts(train_tracking, column):\n",
    "    train_tracking['product_list'] = train_tracking[column].apply(literal_eval)\n",
    "    return train_tracking\n",
    "\n",
    "def fast_convert_jsonproducts(train_tracking, column):\n",
    "    prog = re.compile(\"'sku':\\ *'([a-zA-Z0-9\\+\\=\\/]+)'\")\n",
    "    train_tracking['product_list'] = train_tracking[column].apply(lambda val: re.findall(prog, val))\n",
    "    return train_tracking"
   ]
  },
  {
   "cell_type": "code",
   "execution_count": 221,
   "metadata": {},
   "outputs": [
    {
     "name": "stdout",
     "output_type": "stream",
     "text": [
      "Loading pages\n",
      "Loading categories\n",
      "Loading catmap\n"
     ]
    }
   ],
   "source": [
    "print('Loading pages')\n",
    "train_tracking = add_page(train_tracking)\n",
    "print('Loading categories')\n",
    "product = simplify_categories(product)\n",
    "print('Loading catmap')\n",
    "catmap = dict(zip(product.product_id, product.cat1))"
   ]
  },
  {
   "cell_type": "code",
   "execution_count": 222,
   "metadata": {},
   "outputs": [],
   "source": [
    "def cat_counter(prodlist, catmap):\n",
    "    try:\n",
    "        counter = {}\n",
    "        for prod in prodlist:\n",
    "            if not prod in catmap:\n",
    "                # print('CANT FIND ' + prod['sku'])\n",
    "                # print(prodlist)\n",
    "                cat = 10e7\n",
    "            else:\n",
    "                cat = int(catmap[prod])\n",
    "            if cat in counter:\n",
    "                counter[cat] = counter[cat] + 1\n",
    "            else:\n",
    "                counter[cat] = 1\n",
    "        return counter\n",
    "    except:\n",
    "        print(prodlist)\n",
    "        print(\"ERROR\")\n",
    "        return {}\n",
    "    \n",
    "def prod_counter(prodlist):\n",
    "    try:\n",
    "        counter = {}\n",
    "        for prod in prodlist:\n",
    "            if prod in counter:\n",
    "                counter[prod] = counter[prod] + 1\n",
    "            else:\n",
    "                counter[prod] = 1\n",
    "        return counter\n",
    "    except:\n",
    "        print(prodlist)\n",
    "        print(\"ERROR\")\n",
    "        return {}\n",
    "\n",
    "def merge_counters(counters):\n",
    "    merged = {}\n",
    "    for counter in counters:\n",
    "        for key in counter:\n",
    "            if key in merged:\n",
    "                merged[key] = merged[key] + counter[key]\n",
    "            else:\n",
    "                merged[key] = counter[key]\n",
    "        # merged = {**merged, **counter}\n",
    "    return merged"
   ]
  },
  {
   "cell_type": "markdown",
   "metadata": {},
   "source": [
    "# Main category in purchases view"
   ]
  },
  {
   "cell_type": "code",
   "execution_count": 223,
   "metadata": {},
   "outputs": [],
   "source": [
    "def main_cat_purchase(session_features):\n",
    "    carousel = convert_jsonproducts(train_tracking[train_tracking.type=='PURCHASE_PRODUCT_CAROUSEL'].copy(), 'ocarproducts')\n",
    "    carousel['prod_counter'] = carousel.product_list.apply(cat_counter)\n",
    "    session_carousel = carousel.groupby('sid').prod_counter.agg(merge_counters).reset_index()\n",
    "    \n",
    "    lp = convert_jsonproducts(train_tracking[train_tracking.type=='PURCHASE_PRODUCT_LP'].copy(), 'products')\n",
    "    lp['prod_counter'] = lp.product_list.apply(cat_counter)\n",
    "    session_lp = lp.groupby('sid').prod_counter.agg(merge_counters).reset_index()\n",
    "    \n",
    "    lr = convert_jsonproducts(train_tracking[train_tracking.type=='PURCHASE_PRODUCT_LR'].copy(), 'oproducts')\n",
    "    lr['prod_counter'] = lr.product_list.apply(cat_counter)\n",
    "    session_lr = lr.groupby('sid').prod_counter.agg(merge_counters).reset_index()\n",
    "    \n",
    "    session_categories = pd.merge(pd.merge(session_carousel, session_lp, on='sid', how='left'), session_lr, on='sid', how='left')\n",
    "    session_categories['prod_counters'] = list(zip(session_categories.prod_counter_car, session_categories.prod_counter_lp, session_categories.prod_counter_lr))\n",
    "    \n",
    "    def merge_xyz(row):\n",
    "        counters = []\n",
    "        for i in range(3):\n",
    "            if pd.notnull(row[i]):\n",
    "                counters.append(row[i])\n",
    "        merged = merge_counters(counters)\n",
    "        evaluate = Counter(merged)\n",
    "        return evaluate.most_common(1)[0][0]\n",
    "    session_categories['top_cat'] = session_categories.prod_counters.apply(merge_xyz)\n",
    "    top_cat_sessions = session_categories[['sid', 'top_cat']]\n",
    "    top_cat_sessions.columns = ['sid', 'MAIN_CATEGORY_PURCHASED_VIEW']\n",
    "    session_features = pd.merge(session_features, top_cat_sessions, on='sid', how='left')\n",
    "    return session_features"
   ]
  },
  {
   "cell_type": "code",
   "execution_count": 224,
   "metadata": {},
   "outputs": [
    {
     "ename": "TypeError",
     "evalue": "cat_counter() missing 1 required positional argument: 'catmap'",
     "output_type": "error",
     "traceback": [
      "\u001b[0;31m---------------------------------------------------------------------------\u001b[0m",
      "\u001b[0;31mTypeError\u001b[0m                                 Traceback (most recent call last)",
      "\u001b[0;32m<ipython-input-224-05cc9c3d1d2e>\u001b[0m in \u001b[0;36m<module>\u001b[0;34m()\u001b[0m\n\u001b[1;32m      2\u001b[0m \u001b[0;34m\u001b[0m\u001b[0m\n\u001b[1;32m      3\u001b[0m \u001b[0mcarousel\u001b[0m \u001b[0;34m=\u001b[0m \u001b[0mconvert_jsonproducts\u001b[0m\u001b[0;34m(\u001b[0m\u001b[0mtrain_tracking\u001b[0m\u001b[0;34m[\u001b[0m\u001b[0mtrain_tracking\u001b[0m\u001b[0;34m.\u001b[0m\u001b[0mtype\u001b[0m\u001b[0;34m==\u001b[0m\u001b[0;34m'PURCHASE_PRODUCT_CAROUSEL'\u001b[0m\u001b[0;34m]\u001b[0m\u001b[0;34m.\u001b[0m\u001b[0mcopy\u001b[0m\u001b[0;34m(\u001b[0m\u001b[0;34m)\u001b[0m\u001b[0;34m,\u001b[0m \u001b[0;34m'ocarproducts'\u001b[0m\u001b[0;34m)\u001b[0m\u001b[0;34m\u001b[0m\u001b[0m\n\u001b[0;32m----> 4\u001b[0;31m \u001b[0mcarousel\u001b[0m\u001b[0;34m[\u001b[0m\u001b[0;34m'prod_counter0'\u001b[0m\u001b[0;34m]\u001b[0m \u001b[0;34m=\u001b[0m \u001b[0mcarousel\u001b[0m\u001b[0;34m.\u001b[0m\u001b[0mproduct_list\u001b[0m\u001b[0;34m.\u001b[0m\u001b[0mapply\u001b[0m\u001b[0;34m(\u001b[0m\u001b[0mcat_counter\u001b[0m\u001b[0;34m)\u001b[0m\u001b[0;34m\u001b[0m\u001b[0m\n\u001b[0m\u001b[1;32m      5\u001b[0m \u001b[0msession_carousel\u001b[0m \u001b[0;34m=\u001b[0m \u001b[0mcarousel\u001b[0m\u001b[0;34m.\u001b[0m\u001b[0mgroupby\u001b[0m\u001b[0;34m(\u001b[0m\u001b[0;34m'sid'\u001b[0m\u001b[0;34m)\u001b[0m\u001b[0;34m.\u001b[0m\u001b[0mprod_counter0\u001b[0m\u001b[0;34m.\u001b[0m\u001b[0magg\u001b[0m\u001b[0;34m(\u001b[0m\u001b[0mmerge_counters\u001b[0m\u001b[0;34m)\u001b[0m\u001b[0;34m.\u001b[0m\u001b[0mreset_index\u001b[0m\u001b[0;34m(\u001b[0m\u001b[0;34m)\u001b[0m\u001b[0;34m\u001b[0m\u001b[0m\n\u001b[1;32m      6\u001b[0m \u001b[0msession_data\u001b[0m\u001b[0;34m.\u001b[0m\u001b[0mappend\u001b[0m\u001b[0;34m(\u001b[0m\u001b[0msession_carousel\u001b[0m\u001b[0;34m)\u001b[0m\u001b[0;34m\u001b[0m\u001b[0m\n",
      "\u001b[0;32m/anaconda/envs/kaggle/lib/python3.6/site-packages/pandas/core/series.py\u001b[0m in \u001b[0;36mapply\u001b[0;34m(self, func, convert_dtype, args, **kwds)\u001b[0m\n\u001b[1;32m   2549\u001b[0m             \u001b[0;32melse\u001b[0m\u001b[0;34m:\u001b[0m\u001b[0;34m\u001b[0m\u001b[0m\n\u001b[1;32m   2550\u001b[0m                 \u001b[0mvalues\u001b[0m \u001b[0;34m=\u001b[0m \u001b[0mself\u001b[0m\u001b[0;34m.\u001b[0m\u001b[0masobject\u001b[0m\u001b[0;34m\u001b[0m\u001b[0m\n\u001b[0;32m-> 2551\u001b[0;31m                 \u001b[0mmapped\u001b[0m \u001b[0;34m=\u001b[0m \u001b[0mlib\u001b[0m\u001b[0;34m.\u001b[0m\u001b[0mmap_infer\u001b[0m\u001b[0;34m(\u001b[0m\u001b[0mvalues\u001b[0m\u001b[0;34m,\u001b[0m \u001b[0mf\u001b[0m\u001b[0;34m,\u001b[0m \u001b[0mconvert\u001b[0m\u001b[0;34m=\u001b[0m\u001b[0mconvert_dtype\u001b[0m\u001b[0;34m)\u001b[0m\u001b[0;34m\u001b[0m\u001b[0m\n\u001b[0m\u001b[1;32m   2552\u001b[0m \u001b[0;34m\u001b[0m\u001b[0m\n\u001b[1;32m   2553\u001b[0m         \u001b[0;32mif\u001b[0m \u001b[0mlen\u001b[0m\u001b[0;34m(\u001b[0m\u001b[0mmapped\u001b[0m\u001b[0;34m)\u001b[0m \u001b[0;32mand\u001b[0m \u001b[0misinstance\u001b[0m\u001b[0;34m(\u001b[0m\u001b[0mmapped\u001b[0m\u001b[0;34m[\u001b[0m\u001b[0;36m0\u001b[0m\u001b[0;34m]\u001b[0m\u001b[0;34m,\u001b[0m \u001b[0mSeries\u001b[0m\u001b[0;34m)\u001b[0m\u001b[0;34m:\u001b[0m\u001b[0;34m\u001b[0m\u001b[0m\n",
      "\u001b[0;32mpandas/_libs/src/inference.pyx\u001b[0m in \u001b[0;36mpandas._libs.lib.map_infer\u001b[0;34m()\u001b[0m\n",
      "\u001b[0;31mTypeError\u001b[0m: cat_counter() missing 1 required positional argument: 'catmap'"
     ]
    }
   ],
   "source": [
    "session_data = []\n",
    "\n",
    "carousel = convert_jsonproducts(train_tracking[train_tracking.type=='PURCHASE_PRODUCT_CAROUSEL'].copy(), 'ocarproducts')\n",
    "carousel['prod_counter0'] = carousel.product_list.apply(cat_counter)\n",
    "session_carousel = carousel.groupby('sid').prod_counter0.agg(merge_counters).reset_index()\n",
    "session_data.append(session_carousel)\n",
    "\n",
    "lp = convert_jsonproducts(train_tracking[train_tracking.type=='PURCHASE_PRODUCT_LP'].copy(), 'products')\n",
    "lp['prod_counter1'] = lp.product_list.apply(cat_counter)\n",
    "session_lp = lp.groupby('sid').prod_counter1.agg(merge_counters).reset_index()\n",
    "session_data.append(session_lp)\n",
    "\n",
    "lr = convert_jsonproducts(train_tracking[train_tracking.type=='PURCHASE_PRODUCT_LR'].copy(), 'oproducts')\n",
    "lr['prod_counter2'] = lr.product_list.apply(cat_counter)\n",
    "session_lr = lr.groupby('sid').prod_counter2.agg(merge_counters).reset_index()\n",
    "session_data.append(session_lr)\n",
    "\n",
    "bkt = convert_jsonproducts(train_tracking[train_tracking.type=='ADD_TO_BASKET_CAROUSEL'].copy(), 'ocarproducts')\n",
    "bkt['prod_counter3'] = bkt.product_list.apply(cat_counter)\n",
    "session_bkt = bkt.groupby('sid').prod_counter3.agg(merge_counters).reset_index()\n",
    "session_data.append(session_bkt)\n",
    "\n",
    "len(carousel), len(lr), len(lp), len(bkt)"
   ]
  },
  {
   "cell_type": "code",
   "execution_count": 94,
   "metadata": {},
   "outputs": [],
   "source": [
    "bkt = convert_jsonproducts(train_tracking[train_tracking.type=='ADD_TO_BASKET_LR'].copy(), 'oproducts')"
   ]
  },
  {
   "cell_type": "code",
   "execution_count": 96,
   "metadata": {},
   "outputs": [
    {
     "data": {
      "text/plain": [
       "31366"
      ]
     },
     "execution_count": 96,
     "metadata": {},
     "output_type": "execute_result"
    }
   ],
   "source": [
    "bkt = bkt.drop(bkt[pd.isnull(bkt.oproducts)].index, axis=0)\n",
    "bkt['prod_counter5'] = bkt.product_list.apply(cat_counter)\n",
    "session_bkt = bkt.groupby('sid').prod_counter5.agg(merge_counters).reset_index()\n",
    "session_data.append(session_bkt)\n",
    "\n",
    "len(bkt)"
   ]
  },
  {
   "cell_type": "code",
   "execution_count": 62,
   "metadata": {},
   "outputs": [],
   "source": [
    "session_categories = pd.merge(pd.merge(session_carousel, session_lp, on='sid', how='left'), session_lr, on='sid', how='left')"
   ]
  },
  {
   "cell_type": "code",
   "execution_count": 63,
   "metadata": {},
   "outputs": [],
   "source": [
    "session_categories['prod_counters'] = list(zip(session_categories.prod_counter_car, session_categories.prod_counter_lp, session_categories.prod_counter_lr))\n",
    "# session_categories.applymap(merge_xyz)\n",
    "# session_categories"
   ]
  },
  {
   "cell_type": "code",
   "execution_count": 64,
   "metadata": {},
   "outputs": [],
   "source": [
    "def merge_xyz(row):\n",
    "    counters = []\n",
    "    for i in range(3):\n",
    "        if pd.notnull(row[i]):\n",
    "            counters.append(row[i])\n",
    "    merged = merge_counters(counters)\n",
    "    evaluate = Counter(merged)\n",
    "    return evaluate.most_common(1)[0][0]"
   ]
  },
  {
   "cell_type": "code",
   "execution_count": 65,
   "metadata": {},
   "outputs": [
    {
     "data": {
      "text/plain": [
       "275"
      ]
     },
     "execution_count": 65,
     "metadata": {},
     "output_type": "execute_result"
    }
   ],
   "source": [
    "session_categories['top_cat'] = session_categories.prod_counters.apply(merge_xyz)\n",
    "top_cat_sessions = session_categories[['sid', 'top_cat']]\n",
    "top_cat_sessions.columns = ['sid', 'MAIN_CATEGORY_PURCHASED_VIEW']\n",
    "var = pd.merge(session_features, top_cat_sessions, on='sid', how='left')\n",
    "len(var[pd.notnull(var.MAIN_CATEGORY_PURCHASED_VIEW)])\n",
    "# top_cat_sessions"
   ]
  },
  {
   "cell_type": "code",
   "execution_count": 68,
   "metadata": {},
   "outputs": [
    {
     "data": {
      "text/plain": [
       "0.0020657587344035215"
      ]
     },
     "execution_count": 68,
     "metadata": {},
     "output_type": "execute_result"
    }
   ],
   "source": [
    "275/len(session_features)"
   ]
  },
  {
   "cell_type": "markdown",
   "metadata": {},
   "source": [
    "# OCAR Products main category"
   ]
  },
  {
   "cell_type": "code",
   "execution_count": 118,
   "metadata": {},
   "outputs": [],
   "source": [
    "session_data = []\n",
    "\n",
    "ocarprods = convert_jsonproducts(train_tracking[pd.notnull(train_tracking.ocarproducts)].copy(), 'ocarproducts')"
   ]
  },
  {
   "cell_type": "code",
   "execution_count": 124,
   "metadata": {},
   "outputs": [
    {
     "data": {
      "text/plain": [
       "25484"
      ]
     },
     "execution_count": 124,
     "metadata": {},
     "output_type": "execute_result"
    }
   ],
   "source": [
    "ocarprods['prod_counter'] = ocarprods.product_list.apply(cat_counter)\n",
    "session_ocar = ocarprods.groupby('sid').prod_counter.agg(merge_counters).reset_index()\n",
    "len(session_ocar)"
   ]
  },
  {
   "cell_type": "code",
   "execution_count": 126,
   "metadata": {},
   "outputs": [
    {
     "data": {
      "text/plain": [
       "0.19143198395468852"
      ]
     },
     "execution_count": 126,
     "metadata": {},
     "output_type": "execute_result"
    }
   ],
   "source": [
    "25484/len(session_features)"
   ]
  },
  {
   "cell_type": "markdown",
   "metadata": {},
   "source": [
    "# Main watched product"
   ]
  },
  {
   "cell_type": "code",
   "execution_count": 209,
   "metadata": {},
   "outputs": [],
   "source": [
    "def watched_category(session):\n",
    "    prods = fast_convert_jsonproducts(train_tracking[pd.notnull(train_tracking.products)].copy(), 'products')\n",
    "    prods['prod_counter'] = prods.product_list.apply(partial(cat_counter, catmap=catmap))\n",
    "    session_prods = prods.groupby('sid').prod_counter.agg(merge_counters).reset_index()\n",
    "    \n",
    "    def top_cat(x):\n",
    "        evaluation = Counter(x)\n",
    "        return evaluation.most_common(1)[0][0]\n",
    "    session_prods['top_cat'] = session_prods.prod_counter.apply(top_cat)\n",
    "    \n",
    "    session_cat = session_prods[['sid', 'top_cat']].copy()\n",
    "    session_cat.columns = ['sid', 'WATCHED_CATEGORY']\n",
    "    session_features = pd.merge(session_features, session_cat, on='sid', how='left')\n",
    "    \n",
    "    return session_features\n",
    "\n",
    "def watched_product(session_features, train_tracking, product):\n",
    "    prods = fast_convert_jsonproducts(train_tracking[pd.notnull(train_tracking.products)].copy(), 'products')\n",
    "    prods['prod_counter'] = prods.product_list.apply(prod_counter)\n",
    "    session_prods = prods.groupby('sid').prod_counter.agg(merge_counters).reset_index()\n",
    "    \n",
    "    def top_cat(x):\n",
    "        evaluation = Counter(x)\n",
    "        return evaluation.most_common(1)[0][0]\n",
    "    session_prods['top_cat'] = session_prods.prod_counter.apply(top_cat)\n",
    "    \n",
    "    session_cat = session_prods[['sid', 'top_cat']].copy()\n",
    "    session_cat.columns = ['sid', 'WATCHED_PRODUCT']\n",
    "    session_features = pd.merge(session_features, session_cat, on='sid', how='left')\n",
    "    \n",
    "    return session_features"
   ]
  },
  {
   "cell_type": "code",
   "execution_count": 188,
   "metadata": {},
   "outputs": [
    {
     "data": {
      "text/plain": [
       "1.0"
      ]
     },
     "execution_count": 188,
     "metadata": {},
     "output_type": "execute_result"
    }
   ],
   "source": [
    "len(train_tracking[pd.notnull(train_tracking.products)])\n",
    "\n",
    "test_data = train_tracking[pd.notnull(train_tracking.products)].sample(10000).copy()\n",
    "\n",
    "def test(f1, f2):\n",
    "    return sum(test_data.products.apply(lambda val: f1(val) == f2(val)))\n",
    "prog = re.compile(\"'sku':\\ *'([a-zA-Z0-9\\+\\=\\/]+)'\")\n",
    "test(lambda val: len(re.findall(prog, val)), lambda x: len(literal_eval(x)))/10000"
   ]
  },
  {
   "cell_type": "code",
   "execution_count": null,
   "metadata": {},
   "outputs": [],
   "source": []
  },
  {
   "cell_type": "code",
   "execution_count": 189,
   "metadata": {},
   "outputs": [],
   "source": [
    "prods = fast_convert_jsonproducts(train_tracking[pd.notnull(train_tracking.products)].copy(), 'products')"
   ]
  },
  {
   "cell_type": "code",
   "execution_count": 191,
   "metadata": {},
   "outputs": [
    {
     "data": {
      "text/plain": [
       "103124"
      ]
     },
     "execution_count": 191,
     "metadata": {},
     "output_type": "execute_result"
    }
   ],
   "source": [
    "prods['prod_counter'] = prods.product_list.apply(partial(prod_counter))\n",
    "session_prods = prods.groupby('sid').prod_counter.agg(merge_counters).reset_index()\n",
    "len(session_prods)"
   ]
  },
  {
   "cell_type": "code",
   "execution_count": 192,
   "metadata": {},
   "outputs": [
    {
     "data": {
      "text/plain": [
       "0.7746520135513772"
      ]
     },
     "execution_count": 192,
     "metadata": {},
     "output_type": "execute_result"
    }
   ],
   "source": [
    "len(session_prods)/len(session_features)"
   ]
  },
  {
   "cell_type": "code",
   "execution_count": 193,
   "metadata": {},
   "outputs": [],
   "source": [
    "def top_cat(x):\n",
    "    evaluation = Counter(x)\n",
    "    return evaluation.most_common(1)[0][0]\n",
    "session_prods['top_cat'] = session_prods.prod_counter.apply(top_cat)"
   ]
  },
  {
   "cell_type": "code",
   "execution_count": 199,
   "metadata": {},
   "outputs": [],
   "source": [
    "session_cat = session_prods[['sid', 'top_cat']].copy()\n",
    "session_cat.columns = ['sid', 'WATCHED_PRODUCT']\n",
    "session_features = pd.merge(session_features, session_cat, on='sid', how='left')"
   ]
  },
  {
   "cell_type": "code",
   "execution_count": 212,
   "metadata": {},
   "outputs": [],
   "source": [
    "train_features = watched_product(train_features, train_tracking, product)\n",
    "test_features = watched_product(test_features, test_tracking, product)"
   ]
  },
  {
   "cell_type": "code",
   "execution_count": 213,
   "metadata": {},
   "outputs": [],
   "source": [
    "train_features[['sid', 'WATCHED_PRODUCT']].to_feather(PROCESSED/'train_WP.feather')\n",
    "test_features[['sid', 'WATCHED_PRODUCT']].to_feather(PROCESSED/'test_WP.feather')"
   ]
  },
  {
   "cell_type": "code",
   "execution_count": 216,
   "metadata": {},
   "outputs": [
    {
     "data": {
      "text/plain": [
       "0.43825634939116453"
      ]
     },
     "execution_count": 216,
     "metadata": {},
     "output_type": "execute_result"
    }
   ],
   "source": [
    "len(train_features.WATCHED_PRODUCT.unique())/len(train_features)"
   ]
  },
  {
   "cell_type": "code",
   "execution_count": null,
   "metadata": {},
   "outputs": [],
   "source": []
  }
 ],
 "metadata": {
  "kernelspec": {
   "display_name": "Python [conda env:kaggle]",
   "language": "python",
   "name": "conda-env-kaggle-py"
  },
  "language_info": {
   "codemirror_mode": {
    "name": "ipython",
    "version": 3
   },
   "file_extension": ".py",
   "mimetype": "text/x-python",
   "name": "python",
   "nbconvert_exporter": "python",
   "pygments_lexer": "ipython3",
   "version": "3.6.4"
  }
 },
 "nbformat": 4,
 "nbformat_minor": 2
}
