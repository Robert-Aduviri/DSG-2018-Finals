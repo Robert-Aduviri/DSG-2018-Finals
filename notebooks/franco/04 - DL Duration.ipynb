{
 "cells": [
  {
   "cell_type": "code",
   "execution_count": 341,
   "metadata": {},
   "outputs": [
    {
     "name": "stdout",
     "output_type": "stream",
     "text": [
      "The autoreload extension is already loaded. To reload it, use:\n",
      "  %reload_ext autoreload\n"
     ]
    }
   ],
   "source": [
    "%load_ext autoreload\n",
    "%autoreload 2\n",
    "%matplotlib inline\n",
    "%config InlineBackend.figure_format = 'retina'\n",
    "\n",
    "import os\n",
    "import json\n",
    "import numpy as np, pandas as pd\n",
    "import matplotlib.pyplot as plt, seaborn as sns\n",
    "from tqdm import tqdm, tqdm_notebook\n",
    "from pathlib import Path\n",
    "from collections import Counter\n",
    "from sklearn.decomposition import PCA\n",
    "from sklearn.preprocessing import StandardScaler\n",
    "from ast import literal_eval\n",
    "from functools import partial\n",
    "import pickle\n",
    "sns.set()\n",
    "\n",
    "DATA = Path('../../data')\n",
    "RAW  = DATA/'raw'\n",
    "PROCESSED = DATA/'processed'\n",
    "SUBMISSIONS = DATA/'submissions'"
   ]
  },
  {
   "cell_type": "code",
   "execution_count": 19,
   "metadata": {},
   "outputs": [
    {
     "name": "stdout",
     "output_type": "stream",
     "text": [
      "CPU times: user 1min 8s, sys: 9.29 s, total: 1min 17s\n",
      "Wall time: 1min 17s\n"
     ]
    }
   ],
   "source": [
    "%%time\n",
    "product           = pd.read_csv(RAW/'productid_category.csv', low_memory=False)\n",
    "train_tracking    = pd.read_csv(RAW/'train_tracking.csv', low_memory=False)\n",
    "test_tracking     = pd.read_csv(RAW/'test_tracking.csv', low_memory=False)\n",
    "train_session     = pd.read_csv(RAW/'train_session.csv', low_memory=False)\n",
    "test_session      = pd.read_csv(RAW/'random_submission.csv', low_memory=False)"
   ]
  },
  {
   "cell_type": "code",
   "execution_count": 20,
   "metadata": {},
   "outputs": [],
   "source": [
    "train_features = train_session.copy()\n",
    "test_features = test_session.copy()"
   ]
  },
  {
   "cell_type": "markdown",
   "metadata": {},
   "source": [
    "# Mapped actions"
   ]
  },
  {
   "cell_type": "code",
   "execution_count": 386,
   "metadata": {},
   "outputs": [],
   "source": [
    "def set_event_types(tracking):\n",
    "    def extract_page(x):\n",
    "        pages_types = ['_LR', '_PA', '_LP', '_CAROUSEL', '_SHOW_CASE']\n",
    "        pages = ['CAROUSEL', 'PA', 'SHOW_CASE']\n",
    "        pages_map = [['PURCHASE_PRODUCT_UNKNOW_ORIGIN', 'UNKNOWN'], ['LIST_PRODUCT', 'LP'], ['SEARCH', 'LR']]\n",
    "        \n",
    "        for pages_type in pages_types:\n",
    "            if x.endswith(pages_type):\n",
    "                return x[-len(pages_type)+1:]\n",
    "        for page in pages:\n",
    "            if x == page:\n",
    "                return x\n",
    "        for page_map in pages_map:\n",
    "            if x == page_map[0]:\n",
    "                return page_map[1]\n",
    "        return '::' + x\n",
    "    \n",
    "    def extract_event(x):\n",
    "        page, _type, type_s = x\n",
    "        concatenated = _type\n",
    "        \n",
    "        if page == 'UNKNOWN':\n",
    "            return page\n",
    "        \n",
    "        actions = ['PRODUCT', 'ADD_TO_BASKET', 'PURCHASE_PRODUCT']\n",
    "        for action in actions:\n",
    "            if action in concatenated:\n",
    "                return page + '_' + action\n",
    "        return page\n",
    "\n",
    "    def extract_action(x):\n",
    "        actions = ['PRODUCT', 'ADD_TO_BASKET', 'PURCHASE_PRODUCT']\n",
    "        event_type = x\n",
    "        \n",
    "        for action in actions:\n",
    "            if action in event_type:\n",
    "                return action\n",
    "        return 'None'\n",
    "        \n",
    "    tracking['page_n_type'] = list(zip(tracking.type.apply(extract_page), tracking.type, tracking.type_simplified))\n",
    "    tracking['event_type'] = tracking.page_n_type.apply(extract_event)\n",
    "    tracking['action_type'] = tracking.event_type.apply(extract_action)\n",
    "    return tracking"
   ]
  },
  {
   "cell_type": "code",
   "execution_count": 387,
   "metadata": {},
   "outputs": [],
   "source": [
    "def map_actions(tracking):\n",
    "    tracking = tracking.copy()\n",
    "    \n",
    "    columns = list(tracking.columns.values)\n",
    "    tracking = set_event_types(tracking)\n",
    "    \n",
    "    event_list = ['CAROUSEL', 'PA', 'LR', 'LR_ADD_TO_BASKET', 'LR_PRODUCT',\n",
    "           'SHOW_CASE', 'UNKNOWN', 'PA_PRODUCT', 'CAROUSEL_PRODUCT',\n",
    "           'CAROUSEL_ADD_TO_BASKET', 'LP_PRODUCT', 'SHOW_CASE_PRODUCT',\n",
    "           'LP_ADD_TO_BASKET', 'PA_ADD_TO_BASKET', 'SHOW_CASE_ADD_TO_BASKET']\n",
    "    event_dict = dict(zip(sorted(event_list), range(len(event_list)+1)))\n",
    "    actions = ['None', 'PRODUCT', 'ADD_TO_BASKET', 'PURCHASE_PRODUCT']\n",
    "    action_dict = dict(zip(sorted(actions), range(len(actions))))\n",
    "    tracking['event_id'] = tracking.event_type.apply(lambda x: event_dict[x])\n",
    "    tracking['action_id'] = tracking.action_type.apply(lambda x: action_dict[x])\n",
    "    \n",
    "    return tracking[columns + ['event_id', 'action_id']]"
   ]
  },
  {
   "cell_type": "code",
   "execution_count": 424,
   "metadata": {},
   "outputs": [],
   "source": [
    "tracking = train_tracking.copy()"
   ]
  },
  {
   "cell_type": "markdown",
   "metadata": {},
   "source": [
    "**Algorithm:**"
   ]
  },
  {
   "cell_type": "code",
   "execution_count": 66,
   "metadata": {},
   "outputs": [],
   "source": [
    "columns = list(tracking.columns.values)\n",
    "tracking = set_event_types(tracking)"
   ]
  },
  {
   "cell_type": "code",
   "execution_count": 67,
   "metadata": {},
   "outputs": [],
   "source": [
    "event_list = ['CAROUSEL', 'PA', 'LR', 'LR_ADD_TO_BASKET', 'LR_PRODUCT',\n",
    "       'SHOW_CASE', 'UNKNOWN', 'PA_PRODUCT', 'CAROUSEL_PRODUCT',\n",
    "       'CAROUSEL_ADD_TO_BASKET', 'LP_PRODUCT', 'SHOW_CASE_PRODUCT',\n",
    "       'LP_ADD_TO_BASKET', 'PA_ADD_TO_BASKET', 'SHOW_CASE_ADD_TO_BASKET']\n",
    "event_dict = dict(zip(sorted(event_list), range(len(event_list))))\n",
    "tracking['event_id'] = tracking.event_type.apply(lambda x: event_dict[x])"
   ]
  },
  {
   "cell_type": "code",
   "execution_count": 68,
   "metadata": {},
   "outputs": [],
   "source": [
    "tracking = tracking[columns + ['event_id']]"
   ]
  },
  {
   "cell_type": "markdown",
   "metadata": {},
   "source": [
    "**Test:**"
   ]
  },
  {
   "cell_type": "code",
   "execution_count": 75,
   "metadata": {},
   "outputs": [
    {
     "data": {
      "text/plain": [
       "'0.00036897782074319513%'"
      ]
     },
     "execution_count": 75,
     "metadata": {},
     "output_type": "execute_result"
    }
   ],
   "source": [
    "str(len(tracking.head().event_id.values == map_actions(train_tracking).head().event_id.values)/len(train_tracking)*100) + '%'"
   ]
  },
  {
   "cell_type": "markdown",
   "metadata": {},
   "source": [
    "# Timestamp series in session"
   ]
  },
  {
   "cell_type": "code",
   "execution_count": 345,
   "metadata": {},
   "outputs": [],
   "source": [
    "def duration_to_seconds2(tracking):\n",
    "    if not 'timestamp' in tracking.columns:\n",
    "        tracking['timestamp'] = pd.to_timedelta(tracking.duration).dt.total_seconds()\n",
    "    return tracking"
   ]
  },
  {
   "cell_type": "code",
   "execution_count": 346,
   "metadata": {},
   "outputs": [],
   "source": [
    "def duration_timestamp(features, tracking):\n",
    "    return features"
   ]
  },
  {
   "cell_type": "code",
   "execution_count": 347,
   "metadata": {},
   "outputs": [],
   "source": [
    "def events_timeseries(features, tracking):\n",
    "    tracking = map_actions(duration_to_seconds2(tracking))\n",
    "    \n",
    "    group = tracking.sort_values(['timestamp']).groupby('sid')\n",
    "    eventseries = group.event_id.agg(list)"
   ]
  },
  {
   "cell_type": "code",
   "execution_count": 698,
   "metadata": {},
   "outputs": [],
   "source": [
    "features = test_features\n",
    "tracking = test_tracking"
   ]
  },
  {
   "cell_type": "markdown",
   "metadata": {},
   "source": [
    "**Dimensiones:** Sesiones, ventana (0, 30), features <br>\n",
    "**Output:** mapa de sesiones, cubo de features"
   ]
  },
  {
   "cell_type": "code",
   "execution_count": 699,
   "metadata": {},
   "outputs": [],
   "source": [
    "tracking = map_actions(duration_to_seconds2(tracking))"
   ]
  },
  {
   "cell_type": "code",
   "execution_count": 700,
   "metadata": {},
   "outputs": [
    {
     "data": {
      "text/plain": [
       "array([11,  4,  5,  6,  0,  2,  1,  8, 13,  7, 10,  9,  3, 12, 14])"
      ]
     },
     "execution_count": 700,
     "metadata": {},
     "output_type": "execute_result"
    }
   ],
   "source": [
    "tracking.event_id.unique()"
   ]
  },
  {
   "cell_type": "code",
   "execution_count": 701,
   "metadata": {},
   "outputs": [],
   "source": [
    "def to_timeseries_features(tstamps):\n",
    "    series = pd.Series(list(tstamps))\n",
    "    \n",
    "    ts = list(tstamps)\n",
    "    \n",
    "    dts = series.diff().values\n",
    "    dts[0] = 0\n",
    "    max_dts = max(max(dts),1)\n",
    "    dts_perc = dts/max_dts\n",
    "    \n",
    "    return [ts, dts_perc]\n",
    "\n",
    "def to_eventseries(evs):\n",
    "    return list(evs)\n",
    "\n",
    "group = tracking.sort_values(['timestamp']).groupby('sid')\n",
    "timeseries = group.timestamp.agg(partial(to_timeseries_features))\n",
    "eventseries = group.event_id.agg(to_eventseries)"
   ]
  },
  {
   "cell_type": "code",
   "execution_count": 415,
   "metadata": {},
   "outputs": [
    {
     "data": {
      "text/plain": [
       "(88750, 88750)"
      ]
     },
     "execution_count": 415,
     "metadata": {},
     "output_type": "execute_result"
    }
   ],
   "source": [
    "sessions = tracking.sid.unique()\n",
    "sessions_map = dict(zip(sorted(sessions), range(len(sessions))))\n",
    "len(sessions_map), len(sessions)"
   ]
  },
  {
   "cell_type": "code",
   "execution_count": 416,
   "metadata": {},
   "outputs": [],
   "source": [
    "WINDOW_SIZE = 15\n",
    "\n",
    "# Building 3D variable\n",
    "frames = np.zeros((len(sessions), WINDOW_SIZE, 2))"
   ]
  },
  {
   "cell_type": "code",
   "execution_count": 417,
   "metadata": {},
   "outputs": [],
   "source": [
    "for session in timeseries.index:\n",
    "    session_id = sessions_map[session]\n",
    "    n_actions = len(timeseries[session])\n",
    "    featblock = np.array(timeseries[session]).T\n",
    "    if featblock.shape[0] == WINDOW_SIZE:\n",
    "        pass\n",
    "    elif featblock.shape[0] < WINDOW_SIZE:\n",
    "        zeros = np.zeros((WINDOW_SIZE - featblock.shape[0], 2))\n",
    "        featblock = np.concatenate((zeros, featblock))\n",
    "    else:\n",
    "        featblock = featblock[-WINDOW_SIZE:]\n",
    "    frames[session_id] = featblock"
   ]
  },
  {
   "cell_type": "code",
   "execution_count": 418,
   "metadata": {},
   "outputs": [
    {
     "data": {
      "text/plain": [
       "661.3300318884853"
      ]
     },
     "execution_count": 418,
     "metadata": {},
     "output_type": "execute_result"
    }
   ],
   "source": [
    "shape = frames[:,:,0].shape\n",
    "frames[:,:,0].mean()"
   ]
  },
  {
   "cell_type": "code",
   "execution_count": 419,
   "metadata": {},
   "outputs": [
    {
     "data": {
      "text/plain": [
       "-0.1960016255800045"
      ]
     },
     "execution_count": 419,
     "metadata": {},
     "output_type": "execute_result"
    }
   ],
   "source": [
    "scaler.fit(frames[:,:,0].reshape((-1, 1)))\n",
    "\n",
    "ts_norm = scaler.transform(frames[:,:,0].reshape((-1, 1))).reshape(shape)\n",
    "\n",
    "zero_pos = scaler.transform(np.zeros(shape).reshape((-1, 1)))[0][0]\n",
    "zero_pos"
   ]
  },
  {
   "cell_type": "code",
   "execution_count": 420,
   "metadata": {},
   "outputs": [],
   "source": [
    "frames[:,:,0] = ts_norm-zero_pos"
   ]
  },
  {
   "cell_type": "code",
   "execution_count": 421,
   "metadata": {},
   "outputs": [],
   "source": [
    "np.save(PROCESSED/'f_duration_test.npy', frames)\n",
    "with open(PROCESSED/'f_sessionsmap_test.pkl', 'wb') as handle:\n",
    "    # json.dump(sessions_map, handle)\n",
    "    pickle.dump(sessions_map, handle, protocol=pickle.HIGHEST_PROTOCOL)"
   ]
  },
  {
   "cell_type": "code",
   "execution_count": 323,
   "metadata": {},
   "outputs": [
    {
     "name": "stdout",
     "output_type": "stream",
     "text": [
      "(133123, 30, 1)\n"
     ]
    }
   ],
   "source": [
    "WINDOW_SIZE = 15\n",
    "\n",
    "# Building 3D variable\n",
    "frames_events = np.zeros((len(sessions), WINDOW_SIZE, 1))\n",
    "print(frames_events.shape)\n",
    "\n",
    "for session in eventseries.index:\n",
    "    session_id = sessions_map[session]\n",
    "    n_actions = len(eventseries[session])\n",
    "    featblock = np.array([eventseries[session]]).T\n",
    "    if featblock.shape[0] == WINDOW_SIZE:\n",
    "        pass\n",
    "    elif featblock.shape[0] < WINDOW_SIZE:\n",
    "        zeros = np.zeros((WINDOW_SIZE - featblock.shape[0], 1))\n",
    "        featblock = np.concatenate((zeros, featblock))\n",
    "    else:\n",
    "        featblock = featblock[-WINDOW_SIZE:]\n",
    "    frames_events[session_id] = featblock"
   ]
  },
  {
   "cell_type": "markdown",
   "metadata": {},
   "source": [
    "# Number of actions series"
   ]
  },
  {
   "cell_type": "markdown",
   "metadata": {},
   "source": [
    "### ADD_TO_BASKET"
   ]
  },
  {
   "cell_type": "code",
   "execution_count": 720,
   "metadata": {},
   "outputs": [],
   "source": [
    "features = test_features\n",
    "tracking = test_tracking\n",
    "WINDOW_SIZE = 30"
   ]
  },
  {
   "cell_type": "code",
   "execution_count": 721,
   "metadata": {},
   "outputs": [],
   "source": [
    "with open(PROCESSED/'f_sessionsmap_test.pkl', 'rb') as f:\n",
    "    sessions_map = pickle.load(f)"
   ]
  },
  {
   "cell_type": "code",
   "execution_count": 722,
   "metadata": {},
   "outputs": [],
   "source": [
    "# sessions = tracking.sid.unique()\n",
    "# sessions_map = dict(zip(sorted(sessions), range(len(sessions))))\n",
    "# len(sessions_map), len(sessions)"
   ]
  },
  {
   "cell_type": "code",
   "execution_count": 723,
   "metadata": {},
   "outputs": [],
   "source": [
    "dict(zip(sorted(tracking.type.unique()), range(tracking.type.nunique())))\n",
    "\n",
    "actions = ['None', 'PRODUCT', 'ADD_TO_BASKET', 'PURCHASE_PRODUCT']\n",
    "action_dict = dict(zip(sorted(actions), range(len(actions))))\n",
    "\n",
    "tracking = map_actions(duration_to_seconds2(tracking))"
   ]
  },
  {
   "cell_type": "code",
   "execution_count": 724,
   "metadata": {},
   "outputs": [],
   "source": [
    "ADD_TO_BASKET = action_dict['ADD_TO_BASKET']\n",
    "PRODUCT = action_dict['PRODUCT']\n",
    "PURCHASE_PRODUCT = action_dict['PURCHASE_PRODUCT']\n",
    "def to_action_series(x):\n",
    "    actions = np.array(list(x))\n",
    "\n",
    "    if len(actions) > WINDOW_SIZE:\n",
    "        actions = actions[-WINDOW_SIZE:]\n",
    "    \n",
    "    default_len = np.array([\n",
    "        np.cumsum(actions == ADD_TO_BASKET),\n",
    "        np.cumsum(actions == PRODUCT),\n",
    "        np.cumsum(actions == PURCHASE_PRODUCT)\n",
    "    ])\n",
    "    \n",
    "    if default_len.shape[1] <= WINDOW_SIZE:\n",
    "        result = np.zeros((3, WINDOW_SIZE))\n",
    "        result[:,-default_len.shape[1]:] = default_len\n",
    "    else:\n",
    "        result = default_len[:,-WINDOW_SIZE:]\n",
    "    return result\n",
    "\n",
    "group = tracking.sort_values(['timestamp']).groupby('sid')\n",
    "action_series = group.action_id.apply(to_action_series)"
   ]
  },
  {
   "cell_type": "code",
   "execution_count": 729,
   "metadata": {},
   "outputs": [
    {
     "data": {
      "text/html": [
       "<div>\n",
       "<style scoped>\n",
       "    .dataframe tbody tr th:only-of-type {\n",
       "        vertical-align: middle;\n",
       "    }\n",
       "\n",
       "    .dataframe tbody tr th {\n",
       "        vertical-align: top;\n",
       "    }\n",
       "\n",
       "    .dataframe thead th {\n",
       "        text-align: right;\n",
       "    }\n",
       "</style>\n",
       "<table border=\"1\" class=\"dataframe\">\n",
       "  <thead>\n",
       "    <tr style=\"text-align: right;\">\n",
       "      <th></th>\n",
       "      <th>action_id</th>\n",
       "      <th>sid</th>\n",
       "    </tr>\n",
       "    <tr>\n",
       "      <th>sid</th>\n",
       "      <th></th>\n",
       "      <th></th>\n",
       "    </tr>\n",
       "  </thead>\n",
       "  <tbody>\n",
       "    <tr>\n",
       "      <th>++7b5Z/kXmn3IO6ra3bcqTmCeJoRDUU+iByI4jJnY/+rYC+6lkbiXpD2DMkQ1DOW</th>\n",
       "      <td>[[0.0, 0.0, 0.0, 0.0, 0.0, 0.0, 0.0, 0.0, 0.0,...</td>\n",
       "      <td>0</td>\n",
       "    </tr>\n",
       "    <tr>\n",
       "      <th>++AKRj07v12R8fa3CXGus9gu6eOJd2tzfgxQWH5A5QgLYOZGNniq3Hwe7igNggQe</th>\n",
       "      <td>[[0.0, 0.0, 0.0, 0.0, 0.0, 0.0, 0.0, 0.0, 0.0,...</td>\n",
       "      <td>1</td>\n",
       "    </tr>\n",
       "    <tr>\n",
       "      <th>++BuBFP5uXPeSKQCCACBynrUYEevAEox8C1QeW4/VCHolFsLZhf1SxTNKUX+9UlN</th>\n",
       "      <td>[[0.0, 0.0, 0.0, 0.0, 0.0, 0.0, 0.0, 0.0, 0.0,...</td>\n",
       "      <td>2</td>\n",
       "    </tr>\n",
       "    <tr>\n",
       "      <th>++EtPIejEaNzvYR1OOYbWWe7LpS9Ghhc6Hij836pqY/R6MJHgTqUrtOJaTrgN0Cl</th>\n",
       "      <td>[[0.0, 0.0, 0.0, 0.0, 0.0, 0.0, 0.0, 0.0, 0.0,...</td>\n",
       "      <td>3</td>\n",
       "    </tr>\n",
       "    <tr>\n",
       "      <th>++HMEdn/ppTGsb7z8iCzT32uAcq/BOgCSxEnCWxpdHarVlT4Loy97YgxPYDB/rx9</th>\n",
       "      <td>[[0.0, 0.0, 0.0, 0.0, 0.0, 0.0, 0.0, 0.0, 0.0,...</td>\n",
       "      <td>4</td>\n",
       "    </tr>\n",
       "    <tr>\n",
       "      <th>++KNV8+T4rL+oKzYGZWCb9u2qKgsivsFuR/TbntG3oSr1DKCz54laYrYAyG7xYIZ</th>\n",
       "      <td>[[0.0, 0.0, 0.0, 0.0, 0.0, 0.0, 0.0, 0.0, 0.0,...</td>\n",
       "      <td>5</td>\n",
       "    </tr>\n",
       "    <tr>\n",
       "      <th>++Kt9aHd0h6iUOPPo+f/EPK9Ptyq2X6cRuxjmoCDlFIrMv4gwY8HBLVYYpljVFu3</th>\n",
       "      <td>[[0.0, 0.0, 0.0, 0.0, 0.0, 0.0, 0.0, 0.0, 0.0,...</td>\n",
       "      <td>6</td>\n",
       "    </tr>\n",
       "    <tr>\n",
       "      <th>++MxektF9AEMu0jZelSfqc6scV2o9LrgQXQea1s5VKYMfI0bged21aiHP3N4vb0i</th>\n",
       "      <td>[[0.0, 0.0, 0.0, 0.0, 0.0, 0.0, 0.0, 0.0, 0.0,...</td>\n",
       "      <td>7</td>\n",
       "    </tr>\n",
       "    <tr>\n",
       "      <th>++OdGfMAGEhZn+X5YkeGN7Gayd+fneUqJVFPRy//8Fn9+GpKvQRUvzblvg0+l95u</th>\n",
       "      <td>[[0.0, 0.0, 0.0, 0.0, 0.0, 0.0, 0.0, 0.0, 0.0,...</td>\n",
       "      <td>8</td>\n",
       "    </tr>\n",
       "    <tr>\n",
       "      <th>++OvMl6DHKyeaHWyFW0DA5FYFo7RgxFXvbqzBZ7qN8tI39MW4U+00SA8+ZFU+FyN</th>\n",
       "      <td>[[0.0, 0.0, 0.0, 0.0, 0.0, 0.0, 0.0, 0.0, 0.0,...</td>\n",
       "      <td>9</td>\n",
       "    </tr>\n",
       "    <tr>\n",
       "      <th>++PUWl9RXY053Jet1GZ5DFYA9hnvGSZJI8KUQSt7w9CsbIqbkTSV85SSdsW9xggV</th>\n",
       "      <td>[[0.0, 0.0, 0.0, 0.0, 0.0, 0.0, 0.0, 0.0, 0.0,...</td>\n",
       "      <td>10</td>\n",
       "    </tr>\n",
       "    <tr>\n",
       "      <th>++QWYk4oXgIFjX64M1zboKh83XwNmVo1UhPVq0GYBNW0PGq5ofjdZIOv2kwNAEyK</th>\n",
       "      <td>[[0.0, 0.0, 0.0, 0.0, 0.0, 0.0, 0.0, 0.0, 0.0,...</td>\n",
       "      <td>11</td>\n",
       "    </tr>\n",
       "    <tr>\n",
       "      <th>++WVkuwghb0WVUBzeS0E2GLiyEbStSeYxQwK3bEEg0IoCEBEBXagVayacj8EcY9j</th>\n",
       "      <td>[[0.0, 0.0, 0.0, 0.0, 0.0, 0.0, 0.0, 1.0, 1.0,...</td>\n",
       "      <td>12</td>\n",
       "    </tr>\n",
       "    <tr>\n",
       "      <th>++egcayClrkcMKNSlDbmhfuBltx4BkA6YCW/CvRSSZiSgbZRCTZrxAaAcVQIGLmt</th>\n",
       "      <td>[[0.0, 0.0, 0.0, 0.0, 0.0, 0.0, 0.0, 0.0, 0.0,...</td>\n",
       "      <td>13</td>\n",
       "    </tr>\n",
       "    <tr>\n",
       "      <th>++gLTQVcTsv/+/OEtxA+CkVukJ9rQZOYoOiLqh+Re//kxPQ8KQcy61lynp0D3DLJ</th>\n",
       "      <td>[[0.0, 0.0, 0.0, 0.0, 0.0, 0.0, 0.0, 0.0, 0.0,...</td>\n",
       "      <td>14</td>\n",
       "    </tr>\n",
       "    <tr>\n",
       "      <th>++imF9smlVQCFamjuMcy1APF/z/KomP3+9uyZZZAzke2AI61hCpKRtM19MUPGI+O</th>\n",
       "      <td>[[0.0, 0.0, 0.0, 0.0, 0.0, 0.0, 0.0, 0.0, 0.0,...</td>\n",
       "      <td>15</td>\n",
       "    </tr>\n",
       "    <tr>\n",
       "      <th>++iuuUc43qRaQFISJa8OEotH1y37cF44KA/GpV0uTApo68Rw3ovaU56dRy/DfvNZ</th>\n",
       "      <td>[[0.0, 0.0, 0.0, 0.0, 0.0, 0.0, 0.0, 0.0, 0.0,...</td>\n",
       "      <td>16</td>\n",
       "    </tr>\n",
       "    <tr>\n",
       "      <th>++lMFyPSV/2/rL+6iejK4DWYzkNnuw9ZBrodl0g8Rv2hgDVG+zjBXQlqPkLN12cx</th>\n",
       "      <td>[[0.0, 0.0, 0.0, 0.0, 0.0, 0.0, 0.0, 0.0, 0.0,...</td>\n",
       "      <td>17</td>\n",
       "    </tr>\n",
       "    <tr>\n",
       "      <th>++o2pgCMFhktEn4NkjNi9WZCG58JFuC64ybH1Fi2j6/JeHc0CuRjCCsgOSMHuEcw</th>\n",
       "      <td>[[0.0, 0.0, 0.0, 0.0, 0.0, 0.0, 0.0, 0.0, 0.0,...</td>\n",
       "      <td>18</td>\n",
       "    </tr>\n",
       "    <tr>\n",
       "      <th>++oRq801uElg6S8kOb2nDO4Qflt3GaQJBOFKyIbEbfM0+gal4o7Zg629IvtbC4YT</th>\n",
       "      <td>[[0.0, 0.0, 0.0, 0.0, 0.0, 0.0, 0.0, 0.0, 0.0,...</td>\n",
       "      <td>19</td>\n",
       "    </tr>\n",
       "    <tr>\n",
       "      <th>++sufY8/cfhEh9r71kCpvuuG5jsx5iOme95i/s97ImdgkcCWMvFbwkdZIRKrjeJo</th>\n",
       "      <td>[[0.0, 0.0, 0.0, 0.0, 0.0, 0.0, 0.0, 0.0, 0.0,...</td>\n",
       "      <td>20</td>\n",
       "    </tr>\n",
       "    <tr>\n",
       "      <th>++vZSP+PJBCb00H20YuWKYvKHXov0IHmX75YHNRrsrzwuO6hUaOY4gFga7y729AE</th>\n",
       "      <td>[[0.0, 0.0, 0.0, 0.0, 0.0, 0.0, 0.0, 0.0, 0.0,...</td>\n",
       "      <td>21</td>\n",
       "    </tr>\n",
       "    <tr>\n",
       "      <th>++vdtlwdLjnjg1uh+VfxTblWN1PepKdx9t6A5KuljyHvXVurSlZz8Qted+KZ4iSP</th>\n",
       "      <td>[[0.0, 0.0, 0.0, 0.0, 0.0, 0.0, 0.0, 0.0, 0.0,...</td>\n",
       "      <td>22</td>\n",
       "    </tr>\n",
       "    <tr>\n",
       "      <th>+/2rBhZX/AM3C0VqXXxyb4Nb8ud9rsuxDNHhv9PUWR3869BiUmXw0tDK3oqZmB5s</th>\n",
       "      <td>[[0.0, 0.0, 0.0, 0.0, 0.0, 0.0, 0.0, 0.0, 0.0,...</td>\n",
       "      <td>23</td>\n",
       "    </tr>\n",
       "    <tr>\n",
       "      <th>+/3FVpFWMI7A4RPA/PTrcjPzK+D9oDds+K33jrgMJyD0gXpqScuNvLYvXE7Cvii5</th>\n",
       "      <td>[[0.0, 0.0, 0.0, 0.0, 0.0, 0.0, 0.0, 0.0, 0.0,...</td>\n",
       "      <td>24</td>\n",
       "    </tr>\n",
       "    <tr>\n",
       "      <th>+/4TbVK3gXgxNLr+7c8ok/qj9PH/eIIr0ZRNulXLkDym8NKQF0Mas+1tlZI5APLW</th>\n",
       "      <td>[[0.0, 0.0, 0.0, 0.0, 0.0, 0.0, 0.0, 0.0, 0.0,...</td>\n",
       "      <td>25</td>\n",
       "    </tr>\n",
       "    <tr>\n",
       "      <th>+/4u7Az6pw/xwqjSr2lSqmDUapcMC+qZOmXYRFPAGLBWk6dCQCErpJvqRsSzewVv</th>\n",
       "      <td>[[0.0, 0.0, 0.0, 0.0, 0.0, 0.0, 0.0, 0.0, 0.0,...</td>\n",
       "      <td>26</td>\n",
       "    </tr>\n",
       "    <tr>\n",
       "      <th>+/7LPgnM80JahYLgx8HD0wnBf6+m/aXw4UAf2bC+FDY5uLiPCqsWSsTqOsBja6pg</th>\n",
       "      <td>[[0.0, 0.0, 0.0, 0.0, 0.0, 0.0, 0.0, 0.0, 0.0,...</td>\n",
       "      <td>27</td>\n",
       "    </tr>\n",
       "    <tr>\n",
       "      <th>+/C0/6MGJZuecM3TkcDwEvM05rcDf80S0tlqifEs6OwBx/chN47Q1BXyFtpyGiU6</th>\n",
       "      <td>[[0.0, 0.0, 0.0, 0.0, 0.0, 0.0, 0.0, 0.0, 0.0,...</td>\n",
       "      <td>28</td>\n",
       "    </tr>\n",
       "    <tr>\n",
       "      <th>+/CuTvZ2LeRc+m/s0/R64+E5siyeoTXCBZeXx3CnuH4p2MXCMj5HWjl905RD4tIx</th>\n",
       "      <td>[[0.0, 0.0, 0.0, 0.0, 0.0, 0.0, 0.0, 0.0, 0.0,...</td>\n",
       "      <td>29</td>\n",
       "    </tr>\n",
       "    <tr>\n",
       "      <th>...</th>\n",
       "      <td>...</td>\n",
       "      <td>...</td>\n",
       "    </tr>\n",
       "    <tr>\n",
       "      <th>zz29/NieH0v0Y/LEbj5KF6OpT8SZSXpLtBV6bBDf/oA12bC7f2uJnb8MASnd2Ynr</th>\n",
       "      <td>[[0.0, 0.0, 0.0, 0.0, 0.0, 0.0, 0.0, 0.0, 0.0,...</td>\n",
       "      <td>88720</td>\n",
       "    </tr>\n",
       "    <tr>\n",
       "      <th>zz4K4IcNdJix+XnzVKAVmeCil/ap/rpH1v6zjCzEolF+PL2BJeBCSaEXFp0+okH6</th>\n",
       "      <td>[[0.0, 0.0, 0.0, 0.0, 0.0, 0.0, 0.0, 0.0, 0.0,...</td>\n",
       "      <td>88721</td>\n",
       "    </tr>\n",
       "    <tr>\n",
       "      <th>zz97+Qnhhf2WLthI0+bM6KxDQ6xetOJYAbMdR7CqWhfSLcpI4KXsibFrV7cOQ+Bq</th>\n",
       "      <td>[[0.0, 0.0, 0.0, 0.0, 0.0, 0.0, 0.0, 0.0, 0.0,...</td>\n",
       "      <td>88722</td>\n",
       "    </tr>\n",
       "    <tr>\n",
       "      <th>zzD6WFNUfrNuTwekWLrEU55OM3YSGpugbKLdfZNxy9Po/B+1rt4efdzu1K23L8Xr</th>\n",
       "      <td>[[0.0, 0.0, 0.0, 0.0, 0.0, 0.0, 0.0, 0.0, 0.0,...</td>\n",
       "      <td>88723</td>\n",
       "    </tr>\n",
       "    <tr>\n",
       "      <th>zzI4+sNbfH41+awcUl8iQGc1f4BuS3MWDSh0UlBtTLKbxyBt/ZzYykHooZJBJyk2</th>\n",
       "      <td>[[0.0, 0.0, 0.0, 0.0, 0.0, 0.0, 0.0, 0.0, 0.0,...</td>\n",
       "      <td>88724</td>\n",
       "    </tr>\n",
       "    <tr>\n",
       "      <th>zzL8AIXVSepUSmatWXgxejNcD7KM1ZJoT8Krdz6wO3VcjUXBGp9NHURP0zxRJL6n</th>\n",
       "      <td>[[0.0, 0.0, 0.0, 0.0, 0.0, 0.0, 0.0, 0.0, 0.0,...</td>\n",
       "      <td>88725</td>\n",
       "    </tr>\n",
       "    <tr>\n",
       "      <th>zzM3p4KK+kRBzOleymo2IO86t05bvT1ujkft3+eypche1fkDtPaF7s2Q3rT7Z6/I</th>\n",
       "      <td>[[0.0, 0.0, 0.0, 0.0, 0.0, 0.0, 0.0, 0.0, 0.0,...</td>\n",
       "      <td>88726</td>\n",
       "    </tr>\n",
       "    <tr>\n",
       "      <th>zzMMD5HuOfY8NrDHi8nl6TTwIUXglxTNACgcZWJX7FJsMEeTUcaEn4qBRzHcHUnX</th>\n",
       "      <td>[[0.0, 0.0, 0.0, 0.0, 0.0, 0.0, 0.0, 0.0, 0.0,...</td>\n",
       "      <td>88727</td>\n",
       "    </tr>\n",
       "    <tr>\n",
       "      <th>zzNWm65C9T+NKN3/ATHjgJhmP9UK32yv4t4QiNAHFcFgy50Q4RbokibbwOPz624Y</th>\n",
       "      <td>[[0.0, 0.0, 0.0, 0.0, 0.0, 0.0, 0.0, 0.0, 0.0,...</td>\n",
       "      <td>88728</td>\n",
       "    </tr>\n",
       "    <tr>\n",
       "      <th>zzRyr9DCik/oaNonXPmJjRsHLXic5vgbq/nOXcpVrwxSV1jh7dvn45fvA+LRLmAy</th>\n",
       "      <td>[[0.0, 0.0, 0.0, 0.0, 0.0, 0.0, 0.0, 0.0, 0.0,...</td>\n",
       "      <td>88729</td>\n",
       "    </tr>\n",
       "    <tr>\n",
       "      <th>zzS+XLfZ9Aakil94dv5pQ5DF2tkaPdsQEfjkJtBiJu+866iPOx0o4E2/GbSdMZjv</th>\n",
       "      <td>[[0.0, 0.0, 0.0, 0.0, 0.0, 0.0, 0.0, 0.0, 0.0,...</td>\n",
       "      <td>88730</td>\n",
       "    </tr>\n",
       "    <tr>\n",
       "      <th>zzUZpky3Tg3Vg0ksHq4mj0NU2ee1qW12D192k3E6fMC4EKQQNSIBWDp3Ufse8Jqj</th>\n",
       "      <td>[[0.0, 0.0, 0.0, 0.0, 0.0, 0.0, 0.0, 0.0, 0.0,...</td>\n",
       "      <td>88731</td>\n",
       "    </tr>\n",
       "    <tr>\n",
       "      <th>zzV6HokZAtXyRd+qKo9UWMCZ5fpPV9WM4B7b0z4k1NHE/S3+PXyEga7cMTs1JHm+</th>\n",
       "      <td>[[0.0, 0.0, 0.0, 0.0, 0.0, 0.0, 0.0, 0.0, 0.0,...</td>\n",
       "      <td>88732</td>\n",
       "    </tr>\n",
       "    <tr>\n",
       "      <th>zzW/Xi//8n4Z8pbKOs2lxfg/iFoj5H/B3yJuS4nTB9hKBpA8thB7BX4mXVV/OOIz</th>\n",
       "      <td>[[0.0, 0.0, 0.0, 0.0, 0.0, 0.0, 0.0, 0.0, 0.0,...</td>\n",
       "      <td>88733</td>\n",
       "    </tr>\n",
       "    <tr>\n",
       "      <th>zzZL0BpYJurCGysY6NbzzGyShVSZABl9gAF2wKxXYkKYwsEHH+6PNps6EZBy5xCj</th>\n",
       "      <td>[[0.0, 0.0, 0.0, 0.0, 0.0, 0.0, 0.0, 0.0, 0.0,...</td>\n",
       "      <td>88734</td>\n",
       "    </tr>\n",
       "    <tr>\n",
       "      <th>zzeaYpbJ9cfID8G846+3iPcPDzrrKUWvUAZQONK/g/5pY9VV3Y9JWRYqevMxVYva</th>\n",
       "      <td>[[0.0, 0.0, 0.0, 0.0, 0.0, 0.0, 0.0, 0.0, 0.0,...</td>\n",
       "      <td>88735</td>\n",
       "    </tr>\n",
       "    <tr>\n",
       "      <th>zzfRMhjyNB6Obu3tve4DBdXbTZbU6qbzQWI5RPgQMUnaMyM+BccsHlgSmFjB5y0a</th>\n",
       "      <td>[[0.0, 0.0, 0.0, 0.0, 0.0, 0.0, 0.0, 0.0, 0.0,...</td>\n",
       "      <td>88736</td>\n",
       "    </tr>\n",
       "    <tr>\n",
       "      <th>zzgtChlaIvygx41hfdwogSzmUZZjqNIlDrcbJdKIp6pzaE7GZI/eoqMXLeXmajoC</th>\n",
       "      <td>[[0.0, 0.0, 0.0, 0.0, 0.0, 0.0, 0.0, 0.0, 0.0,...</td>\n",
       "      <td>88737</td>\n",
       "    </tr>\n",
       "    <tr>\n",
       "      <th>zzhEQ/boDCFeAyD91IRrImLiRw7tWtoenR+HbkMzUy7wCGXAHjpnM4skNYxpfZj1</th>\n",
       "      <td>[[0.0, 0.0, 0.0, 0.0, 0.0, 0.0, 1.0, 1.0, 1.0,...</td>\n",
       "      <td>88738</td>\n",
       "    </tr>\n",
       "    <tr>\n",
       "      <th>zziieMFBAqMkFUFjZ0JvmsIsMOHV9jR6G5u9v+j6OzV+pXPKupBfA08075cIuXxQ</th>\n",
       "      <td>[[0.0, 0.0, 0.0, 0.0, 0.0, 0.0, 0.0, 0.0, 0.0,...</td>\n",
       "      <td>88739</td>\n",
       "    </tr>\n",
       "    <tr>\n",
       "      <th>zzjGgzfgifPdnSU7bHwUdJ++wY92jE2/XT4tiY4kLqgXCiZoWI46o2SINT7+FeG8</th>\n",
       "      <td>[[0.0, 0.0, 0.0, 0.0, 0.0, 0.0, 0.0, 0.0, 0.0,...</td>\n",
       "      <td>88740</td>\n",
       "    </tr>\n",
       "    <tr>\n",
       "      <th>zzo0bPVFe/Nt6VD8+cD6fzs0+op0Eg/IkoVKugOpM0wDgfCR7SlZJVrWogkttFvv</th>\n",
       "      <td>[[0.0, 0.0, 0.0, 0.0, 0.0, 0.0, 0.0, 0.0, 0.0,...</td>\n",
       "      <td>88741</td>\n",
       "    </tr>\n",
       "    <tr>\n",
       "      <th>zztXbtOpmfOznodae0SSCszfKYT/bb1Sy7CNHB2hKT59Z/bh32+YoBl1WGTZY3Y3</th>\n",
       "      <td>[[0.0, 0.0, 0.0, 0.0, 0.0, 0.0, 0.0, 0.0, 0.0,...</td>\n",
       "      <td>88742</td>\n",
       "    </tr>\n",
       "    <tr>\n",
       "      <th>zzuHIs0vVn3YqVinJz/38VI4pib1AiPCH3ApnRxe2QoSWPZc2qK1pI5FjncxF5N0</th>\n",
       "      <td>[[0.0, 0.0, 0.0, 0.0, 0.0, 0.0, 0.0, 0.0, 0.0,...</td>\n",
       "      <td>88743</td>\n",
       "    </tr>\n",
       "    <tr>\n",
       "      <th>zzvXcOdHD5Kd0R/yE4EZycop9szhRTCEZKIX1w+1LRPU7aanS4p92g+pBle7L89g</th>\n",
       "      <td>[[0.0, 0.0, 0.0, 0.0, 0.0, 0.0, 0.0, 0.0, 0.0,...</td>\n",
       "      <td>88744</td>\n",
       "    </tr>\n",
       "    <tr>\n",
       "      <th>zzvhME72DACN2rkIxG9Lu1dPy8YTmiwALZs3TTdXfu/NSywA30qhAYSOw4zm9/4a</th>\n",
       "      <td>[[0.0, 0.0, 0.0, 0.0, 0.0, 0.0, 0.0, 0.0, 0.0,...</td>\n",
       "      <td>88745</td>\n",
       "    </tr>\n",
       "    <tr>\n",
       "      <th>zzvk+q/rCdBZOBINaj01qEM8w1+CHEV4KpgYtfLgPYGXL9fqfKJ1yZ8Rg+vqPGR9</th>\n",
       "      <td>[[0.0, 0.0, 0.0, 0.0, 0.0, 0.0, 0.0, 0.0, 0.0,...</td>\n",
       "      <td>88746</td>\n",
       "    </tr>\n",
       "    <tr>\n",
       "      <th>zzwCLTGkeM7nXu3nAn0iP0tZK6BT6yTZYnE/Q5bI71u2UY9LDjLYK/YxYJd4T7kR</th>\n",
       "      <td>[[0.0, 0.0, 0.0, 0.0, 0.0, 0.0, 0.0, 0.0, 0.0,...</td>\n",
       "      <td>88747</td>\n",
       "    </tr>\n",
       "    <tr>\n",
       "      <th>zzwFtZsXUCE4qcQ8Joqhy0DO9zVfCCK3Co57p4Pc+Vk8Hqsgn7LLyTJtOLSt0aIZ</th>\n",
       "      <td>[[0.0, 0.0, 0.0, 0.0, 0.0, 0.0, 0.0, 0.0, 0.0,...</td>\n",
       "      <td>88748</td>\n",
       "    </tr>\n",
       "    <tr>\n",
       "      <th>zzxZjDAmIkvKOz3WTxbG/kWQE+n1VmDyLSheYo2Zuz4lzi/MDKcnJP9yxCJqucuH</th>\n",
       "      <td>[[0.0, 0.0, 0.0, 0.0, 0.0, 0.0, 0.0, 0.0, 0.0,...</td>\n",
       "      <td>88749</td>\n",
       "    </tr>\n",
       "  </tbody>\n",
       "</table>\n",
       "<p>88750 rows × 2 columns</p>\n",
       "</div>"
      ],
      "text/plain": [
       "                                                                                            action_id  \\\n",
       "sid                                                                                                     \n",
       "++7b5Z/kXmn3IO6ra3bcqTmCeJoRDUU+iByI4jJnY/+rYC+...  [[0.0, 0.0, 0.0, 0.0, 0.0, 0.0, 0.0, 0.0, 0.0,...   \n",
       "++AKRj07v12R8fa3CXGus9gu6eOJd2tzfgxQWH5A5QgLYOZ...  [[0.0, 0.0, 0.0, 0.0, 0.0, 0.0, 0.0, 0.0, 0.0,...   \n",
       "++BuBFP5uXPeSKQCCACBynrUYEevAEox8C1QeW4/VCHolFs...  [[0.0, 0.0, 0.0, 0.0, 0.0, 0.0, 0.0, 0.0, 0.0,...   \n",
       "++EtPIejEaNzvYR1OOYbWWe7LpS9Ghhc6Hij836pqY/R6MJ...  [[0.0, 0.0, 0.0, 0.0, 0.0, 0.0, 0.0, 0.0, 0.0,...   \n",
       "++HMEdn/ppTGsb7z8iCzT32uAcq/BOgCSxEnCWxpdHarVlT...  [[0.0, 0.0, 0.0, 0.0, 0.0, 0.0, 0.0, 0.0, 0.0,...   \n",
       "++KNV8+T4rL+oKzYGZWCb9u2qKgsivsFuR/TbntG3oSr1DK...  [[0.0, 0.0, 0.0, 0.0, 0.0, 0.0, 0.0, 0.0, 0.0,...   \n",
       "++Kt9aHd0h6iUOPPo+f/EPK9Ptyq2X6cRuxjmoCDlFIrMv4...  [[0.0, 0.0, 0.0, 0.0, 0.0, 0.0, 0.0, 0.0, 0.0,...   \n",
       "++MxektF9AEMu0jZelSfqc6scV2o9LrgQXQea1s5VKYMfI0...  [[0.0, 0.0, 0.0, 0.0, 0.0, 0.0, 0.0, 0.0, 0.0,...   \n",
       "++OdGfMAGEhZn+X5YkeGN7Gayd+fneUqJVFPRy//8Fn9+Gp...  [[0.0, 0.0, 0.0, 0.0, 0.0, 0.0, 0.0, 0.0, 0.0,...   \n",
       "++OvMl6DHKyeaHWyFW0DA5FYFo7RgxFXvbqzBZ7qN8tI39M...  [[0.0, 0.0, 0.0, 0.0, 0.0, 0.0, 0.0, 0.0, 0.0,...   \n",
       "++PUWl9RXY053Jet1GZ5DFYA9hnvGSZJI8KUQSt7w9CsbIq...  [[0.0, 0.0, 0.0, 0.0, 0.0, 0.0, 0.0, 0.0, 0.0,...   \n",
       "++QWYk4oXgIFjX64M1zboKh83XwNmVo1UhPVq0GYBNW0PGq...  [[0.0, 0.0, 0.0, 0.0, 0.0, 0.0, 0.0, 0.0, 0.0,...   \n",
       "++WVkuwghb0WVUBzeS0E2GLiyEbStSeYxQwK3bEEg0IoCEB...  [[0.0, 0.0, 0.0, 0.0, 0.0, 0.0, 0.0, 1.0, 1.0,...   \n",
       "++egcayClrkcMKNSlDbmhfuBltx4BkA6YCW/CvRSSZiSgbZ...  [[0.0, 0.0, 0.0, 0.0, 0.0, 0.0, 0.0, 0.0, 0.0,...   \n",
       "++gLTQVcTsv/+/OEtxA+CkVukJ9rQZOYoOiLqh+Re//kxPQ...  [[0.0, 0.0, 0.0, 0.0, 0.0, 0.0, 0.0, 0.0, 0.0,...   \n",
       "++imF9smlVQCFamjuMcy1APF/z/KomP3+9uyZZZAzke2AI6...  [[0.0, 0.0, 0.0, 0.0, 0.0, 0.0, 0.0, 0.0, 0.0,...   \n",
       "++iuuUc43qRaQFISJa8OEotH1y37cF44KA/GpV0uTApo68R...  [[0.0, 0.0, 0.0, 0.0, 0.0, 0.0, 0.0, 0.0, 0.0,...   \n",
       "++lMFyPSV/2/rL+6iejK4DWYzkNnuw9ZBrodl0g8Rv2hgDV...  [[0.0, 0.0, 0.0, 0.0, 0.0, 0.0, 0.0, 0.0, 0.0,...   \n",
       "++o2pgCMFhktEn4NkjNi9WZCG58JFuC64ybH1Fi2j6/JeHc...  [[0.0, 0.0, 0.0, 0.0, 0.0, 0.0, 0.0, 0.0, 0.0,...   \n",
       "++oRq801uElg6S8kOb2nDO4Qflt3GaQJBOFKyIbEbfM0+ga...  [[0.0, 0.0, 0.0, 0.0, 0.0, 0.0, 0.0, 0.0, 0.0,...   \n",
       "++sufY8/cfhEh9r71kCpvuuG5jsx5iOme95i/s97ImdgkcC...  [[0.0, 0.0, 0.0, 0.0, 0.0, 0.0, 0.0, 0.0, 0.0,...   \n",
       "++vZSP+PJBCb00H20YuWKYvKHXov0IHmX75YHNRrsrzwuO6...  [[0.0, 0.0, 0.0, 0.0, 0.0, 0.0, 0.0, 0.0, 0.0,...   \n",
       "++vdtlwdLjnjg1uh+VfxTblWN1PepKdx9t6A5KuljyHvXVu...  [[0.0, 0.0, 0.0, 0.0, 0.0, 0.0, 0.0, 0.0, 0.0,...   \n",
       "+/2rBhZX/AM3C0VqXXxyb4Nb8ud9rsuxDNHhv9PUWR3869B...  [[0.0, 0.0, 0.0, 0.0, 0.0, 0.0, 0.0, 0.0, 0.0,...   \n",
       "+/3FVpFWMI7A4RPA/PTrcjPzK+D9oDds+K33jrgMJyD0gXp...  [[0.0, 0.0, 0.0, 0.0, 0.0, 0.0, 0.0, 0.0, 0.0,...   \n",
       "+/4TbVK3gXgxNLr+7c8ok/qj9PH/eIIr0ZRNulXLkDym8NK...  [[0.0, 0.0, 0.0, 0.0, 0.0, 0.0, 0.0, 0.0, 0.0,...   \n",
       "+/4u7Az6pw/xwqjSr2lSqmDUapcMC+qZOmXYRFPAGLBWk6d...  [[0.0, 0.0, 0.0, 0.0, 0.0, 0.0, 0.0, 0.0, 0.0,...   \n",
       "+/7LPgnM80JahYLgx8HD0wnBf6+m/aXw4UAf2bC+FDY5uLi...  [[0.0, 0.0, 0.0, 0.0, 0.0, 0.0, 0.0, 0.0, 0.0,...   \n",
       "+/C0/6MGJZuecM3TkcDwEvM05rcDf80S0tlqifEs6OwBx/c...  [[0.0, 0.0, 0.0, 0.0, 0.0, 0.0, 0.0, 0.0, 0.0,...   \n",
       "+/CuTvZ2LeRc+m/s0/R64+E5siyeoTXCBZeXx3CnuH4p2MX...  [[0.0, 0.0, 0.0, 0.0, 0.0, 0.0, 0.0, 0.0, 0.0,...   \n",
       "...                                                                                               ...   \n",
       "zz29/NieH0v0Y/LEbj5KF6OpT8SZSXpLtBV6bBDf/oA12bC...  [[0.0, 0.0, 0.0, 0.0, 0.0, 0.0, 0.0, 0.0, 0.0,...   \n",
       "zz4K4IcNdJix+XnzVKAVmeCil/ap/rpH1v6zjCzEolF+PL2...  [[0.0, 0.0, 0.0, 0.0, 0.0, 0.0, 0.0, 0.0, 0.0,...   \n",
       "zz97+Qnhhf2WLthI0+bM6KxDQ6xetOJYAbMdR7CqWhfSLcp...  [[0.0, 0.0, 0.0, 0.0, 0.0, 0.0, 0.0, 0.0, 0.0,...   \n",
       "zzD6WFNUfrNuTwekWLrEU55OM3YSGpugbKLdfZNxy9Po/B+...  [[0.0, 0.0, 0.0, 0.0, 0.0, 0.0, 0.0, 0.0, 0.0,...   \n",
       "zzI4+sNbfH41+awcUl8iQGc1f4BuS3MWDSh0UlBtTLKbxyB...  [[0.0, 0.0, 0.0, 0.0, 0.0, 0.0, 0.0, 0.0, 0.0,...   \n",
       "zzL8AIXVSepUSmatWXgxejNcD7KM1ZJoT8Krdz6wO3VcjUX...  [[0.0, 0.0, 0.0, 0.0, 0.0, 0.0, 0.0, 0.0, 0.0,...   \n",
       "zzM3p4KK+kRBzOleymo2IO86t05bvT1ujkft3+eypche1fk...  [[0.0, 0.0, 0.0, 0.0, 0.0, 0.0, 0.0, 0.0, 0.0,...   \n",
       "zzMMD5HuOfY8NrDHi8nl6TTwIUXglxTNACgcZWJX7FJsMEe...  [[0.0, 0.0, 0.0, 0.0, 0.0, 0.0, 0.0, 0.0, 0.0,...   \n",
       "zzNWm65C9T+NKN3/ATHjgJhmP9UK32yv4t4QiNAHFcFgy50...  [[0.0, 0.0, 0.0, 0.0, 0.0, 0.0, 0.0, 0.0, 0.0,...   \n",
       "zzRyr9DCik/oaNonXPmJjRsHLXic5vgbq/nOXcpVrwxSV1j...  [[0.0, 0.0, 0.0, 0.0, 0.0, 0.0, 0.0, 0.0, 0.0,...   \n",
       "zzS+XLfZ9Aakil94dv5pQ5DF2tkaPdsQEfjkJtBiJu+866i...  [[0.0, 0.0, 0.0, 0.0, 0.0, 0.0, 0.0, 0.0, 0.0,...   \n",
       "zzUZpky3Tg3Vg0ksHq4mj0NU2ee1qW12D192k3E6fMC4EKQ...  [[0.0, 0.0, 0.0, 0.0, 0.0, 0.0, 0.0, 0.0, 0.0,...   \n",
       "zzV6HokZAtXyRd+qKo9UWMCZ5fpPV9WM4B7b0z4k1NHE/S3...  [[0.0, 0.0, 0.0, 0.0, 0.0, 0.0, 0.0, 0.0, 0.0,...   \n",
       "zzW/Xi//8n4Z8pbKOs2lxfg/iFoj5H/B3yJuS4nTB9hKBpA...  [[0.0, 0.0, 0.0, 0.0, 0.0, 0.0, 0.0, 0.0, 0.0,...   \n",
       "zzZL0BpYJurCGysY6NbzzGyShVSZABl9gAF2wKxXYkKYwsE...  [[0.0, 0.0, 0.0, 0.0, 0.0, 0.0, 0.0, 0.0, 0.0,...   \n",
       "zzeaYpbJ9cfID8G846+3iPcPDzrrKUWvUAZQONK/g/5pY9V...  [[0.0, 0.0, 0.0, 0.0, 0.0, 0.0, 0.0, 0.0, 0.0,...   \n",
       "zzfRMhjyNB6Obu3tve4DBdXbTZbU6qbzQWI5RPgQMUnaMyM...  [[0.0, 0.0, 0.0, 0.0, 0.0, 0.0, 0.0, 0.0, 0.0,...   \n",
       "zzgtChlaIvygx41hfdwogSzmUZZjqNIlDrcbJdKIp6pzaE7...  [[0.0, 0.0, 0.0, 0.0, 0.0, 0.0, 0.0, 0.0, 0.0,...   \n",
       "zzhEQ/boDCFeAyD91IRrImLiRw7tWtoenR+HbkMzUy7wCGX...  [[0.0, 0.0, 0.0, 0.0, 0.0, 0.0, 1.0, 1.0, 1.0,...   \n",
       "zziieMFBAqMkFUFjZ0JvmsIsMOHV9jR6G5u9v+j6OzV+pXP...  [[0.0, 0.0, 0.0, 0.0, 0.0, 0.0, 0.0, 0.0, 0.0,...   \n",
       "zzjGgzfgifPdnSU7bHwUdJ++wY92jE2/XT4tiY4kLqgXCiZ...  [[0.0, 0.0, 0.0, 0.0, 0.0, 0.0, 0.0, 0.0, 0.0,...   \n",
       "zzo0bPVFe/Nt6VD8+cD6fzs0+op0Eg/IkoVKugOpM0wDgfC...  [[0.0, 0.0, 0.0, 0.0, 0.0, 0.0, 0.0, 0.0, 0.0,...   \n",
       "zztXbtOpmfOznodae0SSCszfKYT/bb1Sy7CNHB2hKT59Z/b...  [[0.0, 0.0, 0.0, 0.0, 0.0, 0.0, 0.0, 0.0, 0.0,...   \n",
       "zzuHIs0vVn3YqVinJz/38VI4pib1AiPCH3ApnRxe2QoSWPZ...  [[0.0, 0.0, 0.0, 0.0, 0.0, 0.0, 0.0, 0.0, 0.0,...   \n",
       "zzvXcOdHD5Kd0R/yE4EZycop9szhRTCEZKIX1w+1LRPU7aa...  [[0.0, 0.0, 0.0, 0.0, 0.0, 0.0, 0.0, 0.0, 0.0,...   \n",
       "zzvhME72DACN2rkIxG9Lu1dPy8YTmiwALZs3TTdXfu/NSyw...  [[0.0, 0.0, 0.0, 0.0, 0.0, 0.0, 0.0, 0.0, 0.0,...   \n",
       "zzvk+q/rCdBZOBINaj01qEM8w1+CHEV4KpgYtfLgPYGXL9f...  [[0.0, 0.0, 0.0, 0.0, 0.0, 0.0, 0.0, 0.0, 0.0,...   \n",
       "zzwCLTGkeM7nXu3nAn0iP0tZK6BT6yTZYnE/Q5bI71u2UY9...  [[0.0, 0.0, 0.0, 0.0, 0.0, 0.0, 0.0, 0.0, 0.0,...   \n",
       "zzwFtZsXUCE4qcQ8Joqhy0DO9zVfCCK3Co57p4Pc+Vk8Hqs...  [[0.0, 0.0, 0.0, 0.0, 0.0, 0.0, 0.0, 0.0, 0.0,...   \n",
       "zzxZjDAmIkvKOz3WTxbG/kWQE+n1VmDyLSheYo2Zuz4lzi/...  [[0.0, 0.0, 0.0, 0.0, 0.0, 0.0, 0.0, 0.0, 0.0,...   \n",
       "\n",
       "                                                      sid  \n",
       "sid                                                        \n",
       "++7b5Z/kXmn3IO6ra3bcqTmCeJoRDUU+iByI4jJnY/+rYC+...      0  \n",
       "++AKRj07v12R8fa3CXGus9gu6eOJd2tzfgxQWH5A5QgLYOZ...      1  \n",
       "++BuBFP5uXPeSKQCCACBynrUYEevAEox8C1QeW4/VCHolFs...      2  \n",
       "++EtPIejEaNzvYR1OOYbWWe7LpS9Ghhc6Hij836pqY/R6MJ...      3  \n",
       "++HMEdn/ppTGsb7z8iCzT32uAcq/BOgCSxEnCWxpdHarVlT...      4  \n",
       "++KNV8+T4rL+oKzYGZWCb9u2qKgsivsFuR/TbntG3oSr1DK...      5  \n",
       "++Kt9aHd0h6iUOPPo+f/EPK9Ptyq2X6cRuxjmoCDlFIrMv4...      6  \n",
       "++MxektF9AEMu0jZelSfqc6scV2o9LrgQXQea1s5VKYMfI0...      7  \n",
       "++OdGfMAGEhZn+X5YkeGN7Gayd+fneUqJVFPRy//8Fn9+Gp...      8  \n",
       "++OvMl6DHKyeaHWyFW0DA5FYFo7RgxFXvbqzBZ7qN8tI39M...      9  \n",
       "++PUWl9RXY053Jet1GZ5DFYA9hnvGSZJI8KUQSt7w9CsbIq...     10  \n",
       "++QWYk4oXgIFjX64M1zboKh83XwNmVo1UhPVq0GYBNW0PGq...     11  \n",
       "++WVkuwghb0WVUBzeS0E2GLiyEbStSeYxQwK3bEEg0IoCEB...     12  \n",
       "++egcayClrkcMKNSlDbmhfuBltx4BkA6YCW/CvRSSZiSgbZ...     13  \n",
       "++gLTQVcTsv/+/OEtxA+CkVukJ9rQZOYoOiLqh+Re//kxPQ...     14  \n",
       "++imF9smlVQCFamjuMcy1APF/z/KomP3+9uyZZZAzke2AI6...     15  \n",
       "++iuuUc43qRaQFISJa8OEotH1y37cF44KA/GpV0uTApo68R...     16  \n",
       "++lMFyPSV/2/rL+6iejK4DWYzkNnuw9ZBrodl0g8Rv2hgDV...     17  \n",
       "++o2pgCMFhktEn4NkjNi9WZCG58JFuC64ybH1Fi2j6/JeHc...     18  \n",
       "++oRq801uElg6S8kOb2nDO4Qflt3GaQJBOFKyIbEbfM0+ga...     19  \n",
       "++sufY8/cfhEh9r71kCpvuuG5jsx5iOme95i/s97ImdgkcC...     20  \n",
       "++vZSP+PJBCb00H20YuWKYvKHXov0IHmX75YHNRrsrzwuO6...     21  \n",
       "++vdtlwdLjnjg1uh+VfxTblWN1PepKdx9t6A5KuljyHvXVu...     22  \n",
       "+/2rBhZX/AM3C0VqXXxyb4Nb8ud9rsuxDNHhv9PUWR3869B...     23  \n",
       "+/3FVpFWMI7A4RPA/PTrcjPzK+D9oDds+K33jrgMJyD0gXp...     24  \n",
       "+/4TbVK3gXgxNLr+7c8ok/qj9PH/eIIr0ZRNulXLkDym8NK...     25  \n",
       "+/4u7Az6pw/xwqjSr2lSqmDUapcMC+qZOmXYRFPAGLBWk6d...     26  \n",
       "+/7LPgnM80JahYLgx8HD0wnBf6+m/aXw4UAf2bC+FDY5uLi...     27  \n",
       "+/C0/6MGJZuecM3TkcDwEvM05rcDf80S0tlqifEs6OwBx/c...     28  \n",
       "+/CuTvZ2LeRc+m/s0/R64+E5siyeoTXCBZeXx3CnuH4p2MX...     29  \n",
       "...                                                   ...  \n",
       "zz29/NieH0v0Y/LEbj5KF6OpT8SZSXpLtBV6bBDf/oA12bC...  88720  \n",
       "zz4K4IcNdJix+XnzVKAVmeCil/ap/rpH1v6zjCzEolF+PL2...  88721  \n",
       "zz97+Qnhhf2WLthI0+bM6KxDQ6xetOJYAbMdR7CqWhfSLcp...  88722  \n",
       "zzD6WFNUfrNuTwekWLrEU55OM3YSGpugbKLdfZNxy9Po/B+...  88723  \n",
       "zzI4+sNbfH41+awcUl8iQGc1f4BuS3MWDSh0UlBtTLKbxyB...  88724  \n",
       "zzL8AIXVSepUSmatWXgxejNcD7KM1ZJoT8Krdz6wO3VcjUX...  88725  \n",
       "zzM3p4KK+kRBzOleymo2IO86t05bvT1ujkft3+eypche1fk...  88726  \n",
       "zzMMD5HuOfY8NrDHi8nl6TTwIUXglxTNACgcZWJX7FJsMEe...  88727  \n",
       "zzNWm65C9T+NKN3/ATHjgJhmP9UK32yv4t4QiNAHFcFgy50...  88728  \n",
       "zzRyr9DCik/oaNonXPmJjRsHLXic5vgbq/nOXcpVrwxSV1j...  88729  \n",
       "zzS+XLfZ9Aakil94dv5pQ5DF2tkaPdsQEfjkJtBiJu+866i...  88730  \n",
       "zzUZpky3Tg3Vg0ksHq4mj0NU2ee1qW12D192k3E6fMC4EKQ...  88731  \n",
       "zzV6HokZAtXyRd+qKo9UWMCZ5fpPV9WM4B7b0z4k1NHE/S3...  88732  \n",
       "zzW/Xi//8n4Z8pbKOs2lxfg/iFoj5H/B3yJuS4nTB9hKBpA...  88733  \n",
       "zzZL0BpYJurCGysY6NbzzGyShVSZABl9gAF2wKxXYkKYwsE...  88734  \n",
       "zzeaYpbJ9cfID8G846+3iPcPDzrrKUWvUAZQONK/g/5pY9V...  88735  \n",
       "zzfRMhjyNB6Obu3tve4DBdXbTZbU6qbzQWI5RPgQMUnaMyM...  88736  \n",
       "zzgtChlaIvygx41hfdwogSzmUZZjqNIlDrcbJdKIp6pzaE7...  88737  \n",
       "zzhEQ/boDCFeAyD91IRrImLiRw7tWtoenR+HbkMzUy7wCGX...  88738  \n",
       "zziieMFBAqMkFUFjZ0JvmsIsMOHV9jR6G5u9v+j6OzV+pXP...  88739  \n",
       "zzjGgzfgifPdnSU7bHwUdJ++wY92jE2/XT4tiY4kLqgXCiZ...  88740  \n",
       "zzo0bPVFe/Nt6VD8+cD6fzs0+op0Eg/IkoVKugOpM0wDgfC...  88741  \n",
       "zztXbtOpmfOznodae0SSCszfKYT/bb1Sy7CNHB2hKT59Z/b...  88742  \n",
       "zzuHIs0vVn3YqVinJz/38VI4pib1AiPCH3ApnRxe2QoSWPZ...  88743  \n",
       "zzvXcOdHD5Kd0R/yE4EZycop9szhRTCEZKIX1w+1LRPU7aa...  88744  \n",
       "zzvhME72DACN2rkIxG9Lu1dPy8YTmiwALZs3TTdXfu/NSyw...  88745  \n",
       "zzvk+q/rCdBZOBINaj01qEM8w1+CHEV4KpgYtfLgPYGXL9f...  88746  \n",
       "zzwCLTGkeM7nXu3nAn0iP0tZK6BT6yTZYnE/Q5bI71u2UY9...  88747  \n",
       "zzwFtZsXUCE4qcQ8Joqhy0DO9zVfCCK3Co57p4Pc+Vk8Hqs...  88748  \n",
       "zzxZjDAmIkvKOz3WTxbG/kWQE+n1VmDyLSheYo2Zuz4lzi/...  88749  \n",
       "\n",
       "[88750 rows x 2 columns]"
      ]
     },
     "execution_count": 729,
     "metadata": {},
     "output_type": "execute_result"
    }
   ],
   "source": [
    "df = action_series.to_frame().copy()\n",
    "df['sid'] = pd.Series(df.index.values).apply(lambda x: sessions_map[x]).values\n",
    "df"
   ]
  },
  {
   "cell_type": "code",
   "execution_count": 694,
   "metadata": {},
   "outputs": [],
   "source": [
    "action_series2 = df.set_index('sid').sort_index()['action_id'].values\n",
    "\n",
    "action_seq = np.stack(action_series2).reshape((-1, WINDOW_SIZE, 3))\n",
    "shape = action_seq.shape"
   ]
  },
  {
   "cell_type": "code",
   "execution_count": 695,
   "metadata": {},
   "outputs": [
    {
     "data": {
      "text/plain": [
       "count    2.662500e+06\n",
       "mean     1.909592e-01\n",
       "std      1.064270e+00\n",
       "min      0.000000e+00\n",
       "25%      0.000000e+00\n",
       "50%      0.000000e+00\n",
       "75%      0.000000e+00\n",
       "max      2.800000e+01\n",
       "dtype: float64"
      ]
     },
     "execution_count": 695,
     "metadata": {},
     "output_type": "execute_result"
    }
   ],
   "source": [
    "pd.Series(action_seq[:,:,0].reshape(-1, 1).T[0]).describe()\n",
    "# action_seq[:,:,0].T.shape"
   ]
  },
  {
   "cell_type": "code",
   "execution_count": 696,
   "metadata": {},
   "outputs": [],
   "source": [
    "action_seq = action_seq/WINDOW_SIZE"
   ]
  },
  {
   "cell_type": "code",
   "execution_count": 697,
   "metadata": {},
   "outputs": [],
   "source": [
    "np.save(PROCESSED/'f_actions_test.npy', action_seq)\n",
    "# with open(PROCESSED/'f_sessionsmap_test.pkl', 'wb') as handle:\n",
    "#     pickle.dump(sessions_map, handle, protocol=pickle.HIGHEST_PROTOCOL)"
   ]
  },
  {
   "cell_type": "markdown",
   "metadata": {},
   "source": [
    "# Number of products added to basket"
   ]
  },
  {
   "cell_type": "code",
   "execution_count": 740,
   "metadata": {},
   "outputs": [],
   "source": [
    "features = train_features\n",
    "tracking = train_tracking\n",
    "WINDOW_SIZE = 30"
   ]
  },
  {
   "cell_type": "code",
   "execution_count": 741,
   "metadata": {},
   "outputs": [],
   "source": [
    "with open(PROCESSED/'f_sessionsmap_train.pkl', 'rb') as f:\n",
    "    sessions_map = pickle.load(f)"
   ]
  },
  {
   "cell_type": "code",
   "execution_count": 745,
   "metadata": {},
   "outputs": [],
   "source": [
    "tracking = map_actions(duration_to_seconds2(tracking))"
   ]
  },
  {
   "cell_type": "code",
   "execution_count": 746,
   "metadata": {},
   "outputs": [],
   "source": [
    "def to_q_series(x):\n",
    "    qs = np.array(list(x))\n",
    "\n",
    "    if len(qs) > WINDOW_SIZE:\n",
    "        qs = qs[-WINDOW_SIZE:]\n",
    "    \n",
    "    default_len = np.array([\n",
    "        np.cumsum(qs)\n",
    "    ])\n",
    "    \n",
    "    if default_len.shape[1] <= WINDOW_SIZE:\n",
    "        result = np.zeros((1, WINDOW_SIZE))\n",
    "        result[:,-default_len.shape[1]:] = default_len\n",
    "    else:\n",
    "        result = default_len[:,-WINDOW_SIZE:]\n",
    "    return result\n",
    "\n",
    "# tracking['new_id'] = tracking.sid.apply(lambda x: sessions_map[x])\n",
    "# tracking = tracking.reset_index('new_id', drop=True)\n",
    "tracking['filled_q'] = tracking.quantity.fillna(0)\n",
    "group = tracking.sort_values(['timestamp']).groupby('sid')\n",
    "q_series = group.filled_q.apply(to_q_series)"
   ]
  },
  {
   "cell_type": "code",
   "execution_count": 747,
   "metadata": {},
   "outputs": [
    {
     "data": {
      "text/plain": [
       "(133123, 1)"
      ]
     },
     "execution_count": 747,
     "metadata": {},
     "output_type": "execute_result"
    }
   ],
   "source": [
    "df = q_series.to_frame().copy()\n",
    "df['sid'] = df.index\n",
    "df['sid'] = df.sid.apply(lambda x: sessions_map[x])\n",
    "q_seq = df.set_index('sid').values\n",
    "q_seq.shape"
   ]
  },
  {
   "cell_type": "code",
   "execution_count": 748,
   "metadata": {},
   "outputs": [],
   "source": [
    "q_series2 = df.set_index('sid').sort_index()['filled_q'].values"
   ]
  },
  {
   "cell_type": "code",
   "execution_count": 749,
   "metadata": {},
   "outputs": [
    {
     "data": {
      "text/plain": [
       "(133123, 30, 1)"
      ]
     },
     "execution_count": 749,
     "metadata": {},
     "output_type": "execute_result"
    }
   ],
   "source": [
    "q_seq = np.stack(q_series2).reshape((-1, WINDOW_SIZE, 1))\n",
    "shape = q_seq.shape\n",
    "shape"
   ]
  },
  {
   "cell_type": "code",
   "execution_count": 750,
   "metadata": {},
   "outputs": [],
   "source": [
    "scaler = StandardScaler()\n",
    "scaler.fit(q_seq.reshape(-1, 1))\n",
    "# action_seq[:,:,0].T.shape\n",
    "new_q = scaler.transform(q_seq.reshape(-1, 1)).reshape(shape)"
   ]
  },
  {
   "cell_type": "code",
   "execution_count": 751,
   "metadata": {},
   "outputs": [
    {
     "data": {
      "text/plain": [
       "array([-0.16290829, -0.16290829, -0.16290829, ..., -0.16290829,\n",
       "        7.22445655, -0.16290829])"
      ]
     },
     "execution_count": 751,
     "metadata": {},
     "output_type": "execute_result"
    }
   ],
   "source": [
    "new_q[:,-1,0]"
   ]
  },
  {
   "cell_type": "code",
   "execution_count": 752,
   "metadata": {},
   "outputs": [],
   "source": [
    "np.save(PROCESSED/'f_quantity_train.npy', new_q)\n",
    "# with open(PROCESSED/'f_sessionsmap_test.pkl', 'wb') as handle:\n",
    "#     pickle.dump(sessions_map, handle, protocol=pickle.HIGHEST_PROTOCOL)"
   ]
  },
  {
   "cell_type": "code",
   "execution_count": null,
   "metadata": {},
   "outputs": [],
   "source": []
  }
 ],
 "metadata": {
  "kernelspec": {
   "display_name": "Python [conda env:kaggle]",
   "language": "python",
   "name": "conda-env-kaggle-py"
  },
  "language_info": {
   "codemirror_mode": {
    "name": "ipython",
    "version": 3
   },
   "file_extension": ".py",
   "mimetype": "text/x-python",
   "name": "python",
   "nbconvert_exporter": "python",
   "pygments_lexer": "ipython3",
   "version": "3.6.4"
  }
 },
 "nbformat": 4,
 "nbformat_minor": 2
}
