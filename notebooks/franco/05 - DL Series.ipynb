{
 "cells": [
  {
   "cell_type": "code",
   "execution_count": 1,
   "metadata": {},
   "outputs": [],
   "source": [
    "%load_ext autoreload\n",
    "%autoreload 2\n",
    "%matplotlib inline\n",
    "%config InlineBackend.figure_format = 'retina'\n",
    "\n",
    "import os\n",
    "import json\n",
    "import numpy as np, pandas as pd\n",
    "import matplotlib.pyplot as plt, seaborn as sns\n",
    "from tqdm import tqdm, tqdm_notebook\n",
    "from pathlib import Path\n",
    "from collections import Counter\n",
    "from sklearn.decomposition import PCA\n",
    "from sklearn.preprocessing import StandardScaler\n",
    "from ast import literal_eval\n",
    "from functools import partial\n",
    "import pickle\n",
    "sns.set()\n",
    "\n",
    "DATA = Path('../../data')\n",
    "RAW  = DATA/'raw'\n",
    "PROCESSED = DATA/'processed'\n",
    "SUBMISSIONS = DATA/'submissions'"
   ]
  },
  {
   "cell_type": "code",
   "execution_count": 178,
   "metadata": {},
   "outputs": [
    {
     "name": "stdout",
     "output_type": "stream",
     "text": [
      "CPU times: user 1min 12s, sys: 9.98 s, total: 1min 22s\n",
      "Wall time: 1min 22s\n"
     ]
    }
   ],
   "source": [
    "%%time\n",
    "product           = pd.read_csv(RAW/'productid_category.csv', low_memory=False)\n",
    "train_tracking    = pd.read_csv(RAW/'train_tracking.csv', low_memory=False)\n",
    "test_tracking     = pd.read_csv(RAW/'test_tracking.csv', low_memory=False)\n",
    "train_session     = pd.read_csv(RAW/'train_session.csv', low_memory=False)\n",
    "test_session      = pd.read_csv(RAW/'random_submission.csv', low_memory=False)"
   ]
  },
  {
   "cell_type": "code",
   "execution_count": 179,
   "metadata": {},
   "outputs": [],
   "source": [
    "train_features = train_session.copy()\n",
    "test_features = test_session.copy()"
   ]
  },
  {
   "cell_type": "code",
   "execution_count": null,
   "metadata": {},
   "outputs": [],
   "source": []
  },
  {
   "cell_type": "code",
   "execution_count": 194,
   "metadata": {},
   "outputs": [],
   "source": [
    "tracking = train_tracking.copy()\n",
    "tracking = pd.merge(tracking, train_features, how='left', on='sid')"
   ]
  },
  {
   "cell_type": "code",
   "execution_count": 202,
   "metadata": {},
   "outputs": [
    {
     "data": {
      "text/plain": [
       "array([0.        , 0.        , 0.        , ..., 0.25714286, 0.        ,\n",
       "       0.        ])"
      ]
     },
     "execution_count": 202,
     "metadata": {},
     "output_type": "execute_result"
    }
   ],
   "source": [
    "tracking = train_tracking.copy()\n",
    "tracking = pd.merge(tracking, train_features, how='left', on='sid')\n",
    "f = tracking[pd.notnull(tracking.sname)]\n",
    "sellers = list(f.sname.unique())\n",
    "def foo(x):\n",
    "    return sum(x)/len(x)\n",
    "\n",
    "f.groupby('sname').target.agg(foo).values"
   ]
  },
  {
   "cell_type": "code",
   "execution_count": 196,
   "metadata": {},
   "outputs": [],
   "source": [
    "sellers = list(f.sname.unique())"
   ]
  },
  {
   "cell_type": "code",
   "execution_count": 212,
   "metadata": {},
   "outputs": [],
   "source": [
    "def foo(x):\n",
    "    return sum(x)/len(x)\n",
    "\n",
    "seller_prob = f.groupby('sname').target.agg(foo).to_frame()"
   ]
  },
  {
   "cell_type": "code",
   "execution_count": null,
   "metadata": {},
   "outputs": [],
   "source": [
    "test_"
   ]
  },
  {
   "cell_type": "code",
   "execution_count": 203,
   "metadata": {},
   "outputs": [
    {
     "data": {
      "text/plain": [
       "array([0.        , 0.        , 0.        , ..., 0.25714286, 0.        ,\n",
       "       0.        ])"
      ]
     },
     "execution_count": 203,
     "metadata": {},
     "output_type": "execute_result"
    }
   ],
   "source": [
    "tracking = train_tracking.copy()\n",
    "tracking = pd.merge(tracking, train_features, how='left', on='sid')\n",
    "f = tracking[pd.notnull(tracking.sname)]\n",
    "sellers = list(f.sname.unique())\n",
    "f.groupby('sname').target.agg(lambda x: sum(x)/len(x)).values"
   ]
  },
  {
   "cell_type": "code",
   "execution_count": 225,
   "metadata": {},
   "outputs": [],
   "source": [
    "good_sellers = list(seller_prob[(seller_prob > 0.99)].index)"
   ]
  },
  {
   "cell_type": "code",
   "execution_count": 232,
   "metadata": {},
   "outputs": [],
   "source": [
    "seller_dict = dict(zip(seller_prob.index, seller_prob.target))"
   ]
  },
  {
   "cell_type": "code",
   "execution_count": 260,
   "metadata": {},
   "outputs": [],
   "source": [
    "df = pd.read_csv(DATA/'submissions/robert_5_submit_blend.csv', index_col='sid')"
   ]
  },
  {
   "cell_type": "code",
   "execution_count": 209,
   "metadata": {},
   "outputs": [],
   "source": [
    "merged = pd.merge(df, test_tracking, on='sid', how='left')"
   ]
  },
  {
   "cell_type": "code",
   "execution_count": 224,
   "metadata": {},
   "outputs": [
    {
     "data": {
      "text/plain": [
       "7662"
      ]
     },
     "execution_count": 224,
     "metadata": {},
     "output_type": "execute_result"
    }
   ],
   "source": [
    "len(good_sellers)"
   ]
  },
  {
   "cell_type": "code",
   "execution_count": 269,
   "metadata": {},
   "outputs": [],
   "source": [
    "def check(snames):\n",
    "    probs = []\n",
    "    for seller in snames:\n",
    "        if seller in seller_dict:\n",
    "            if seller_dict[seller] > 0.9999:\n",
    "                return 0\n",
    "            else:\n",
    "                probs.append(seller_dict[seller])\n",
    "    if len(probs)==0:\n",
    "        return 1\n",
    "    return 1 - sum(probs)/len(probs)\n",
    "\n",
    "result = test_tracking.groupby('sid').sname.apply(check)"
   ]
  },
  {
   "cell_type": "code",
   "execution_count": 270,
   "metadata": {},
   "outputs": [
    {
     "data": {
      "text/plain": [
       "221"
      ]
     },
     "execution_count": 270,
     "metadata": {},
     "output_type": "execute_result"
    }
   ],
   "source": [
    "sum(result < 0.0001)"
   ]
  },
  {
   "cell_type": "code",
   "execution_count": 271,
   "metadata": {},
   "outputs": [
    {
     "data": {
      "text/plain": [
       "0.0024901408450704226"
      ]
     },
     "execution_count": 271,
     "metadata": {},
     "output_type": "execute_result"
    }
   ],
   "source": [
    "sum(result < 0.0001)/len(result)"
   ]
  },
  {
   "cell_type": "code",
   "execution_count": 246,
   "metadata": {},
   "outputs": [],
   "source": [
    "the_sells = list(result[result < 0.01].index)"
   ]
  },
  {
   "cell_type": "code",
   "execution_count": 261,
   "metadata": {},
   "outputs": [],
   "source": [
    "for sell in the_sells:\n",
    "    df.at[sell, 'target'] = 1"
   ]
  },
  {
   "cell_type": "code",
   "execution_count": 262,
   "metadata": {},
   "outputs": [],
   "source": [
    "df.to_csv(DATA/'submissions/franco_0_submit.csv')"
   ]
  },
  {
   "cell_type": "code",
   "execution_count": 266,
   "metadata": {},
   "outputs": [
    {
     "data": {
      "text/plain": [
       "target    0.839868\n",
       "dtype: float64"
      ]
     },
     "execution_count": 266,
     "metadata": {},
     "output_type": "execute_result"
    }
   ],
   "source": [
    "df[df.target<1].max()"
   ]
  },
  {
   "cell_type": "markdown",
   "metadata": {},
   "source": [
    "# Mapped actions"
   ]
  },
  {
   "cell_type": "code",
   "execution_count": 180,
   "metadata": {},
   "outputs": [],
   "source": [
    "def set_event_types(tracking):\n",
    "    def extract_page(x):\n",
    "        pages_types = ['_LR', '_PA', '_LP', '_CAROUSEL', '_SHOW_CASE']\n",
    "        pages = ['CAROUSEL', 'PA', 'SHOW_CASE']\n",
    "        pages_map = [['PURCHASE_PRODUCT_UNKNOW_ORIGIN', 'UNKNOWN'], ['LIST_PRODUCT', 'LP'], ['SEARCH', 'LR']]\n",
    "        \n",
    "        for pages_type in pages_types:\n",
    "            if x.endswith(pages_type):\n",
    "                return x[-len(pages_type)+1:]\n",
    "        for page in pages:\n",
    "            if x == page:\n",
    "                return x\n",
    "        for page_map in pages_map:\n",
    "            if x == page_map[0]:\n",
    "                return page_map[1]\n",
    "        return '::' + x\n",
    "    \n",
    "    def extract_event(x):\n",
    "        page, _type, type_s = x\n",
    "        concatenated = _type\n",
    "        \n",
    "        if page == 'UNKNOWN':\n",
    "            return page\n",
    "        \n",
    "        actions = ['PRODUCT', 'ADD_TO_BASKET', 'PURCHASE_PRODUCT']\n",
    "        for action in actions:\n",
    "            if action in concatenated:\n",
    "                return page + '_' + action\n",
    "        return page\n",
    "\n",
    "    def extract_action(x):\n",
    "        actions = ['PRODUCT', 'ADD_TO_BASKET', 'PURCHASE_PRODUCT']\n",
    "        event_type = x\n",
    "        \n",
    "        for action in actions:\n",
    "            if action in event_type:\n",
    "                return action\n",
    "        return 'None'\n",
    "        \n",
    "    tracking['page_n_type'] = list(zip(tracking.type.apply(extract_page), tracking.type, tracking.type_simplified))\n",
    "    tracking['event_type'] = tracking.page_n_type.apply(extract_event)\n",
    "    tracking['action_type'] = tracking.event_type.apply(extract_action)\n",
    "    return tracking"
   ]
  },
  {
   "cell_type": "code",
   "execution_count": 181,
   "metadata": {},
   "outputs": [],
   "source": [
    "def map_actions(tracking):\n",
    "    tracking = tracking.copy()\n",
    "    \n",
    "    columns = list(tracking.columns.values)\n",
    "    tracking = set_event_types(tracking)\n",
    "    \n",
    "    event_list = ['CAROUSEL', 'PA', 'LR', 'LR_ADD_TO_BASKET', 'LR_PRODUCT',\n",
    "           'SHOW_CASE', 'UNKNOWN', 'PA_PRODUCT', 'CAROUSEL_PRODUCT',\n",
    "           'CAROUSEL_ADD_TO_BASKET', 'LP_PRODUCT', 'SHOW_CASE_PRODUCT',\n",
    "           'LP_ADD_TO_BASKET', 'PA_ADD_TO_BASKET', 'SHOW_CASE_ADD_TO_BASKET']\n",
    "    event_dict = dict(zip(sorted(event_list), range(len(event_list)+1)))\n",
    "    \n",
    "    actions = ['None', 'PRODUCT', 'ADD_TO_BASKET', 'PURCHASE_PRODUCT']\n",
    "    action_dict = dict(zip(sorted(actions), range(len(actions))))\n",
    "    \n",
    "    tracking['event_id'] = tracking.event_type.apply(lambda x: event_dict[x])\n",
    "    tracking['action_id'] = tracking.action_type.apply(lambda x: action_dict[x])\n",
    "    \n",
    "    return tracking[columns + ['event_id', 'action_id']]"
   ]
  },
  {
   "cell_type": "code",
   "execution_count": 182,
   "metadata": {},
   "outputs": [],
   "source": [
    "tracking = train_tracking.copy()"
   ]
  },
  {
   "cell_type": "markdown",
   "metadata": {},
   "source": [
    "**Algorithm:**"
   ]
  },
  {
   "cell_type": "code",
   "execution_count": 183,
   "metadata": {},
   "outputs": [],
   "source": [
    "columns = list(tracking.columns.values)\n",
    "tracking = set_event_types(tracking)"
   ]
  },
  {
   "cell_type": "code",
   "execution_count": 184,
   "metadata": {},
   "outputs": [],
   "source": [
    "event_list = ['CAROUSEL', 'PA', 'LR', 'LR_ADD_TO_BASKET', 'LR_PRODUCT',\n",
    "       'SHOW_CASE', 'UNKNOWN', 'PA_PRODUCT', 'CAROUSEL_PRODUCT',\n",
    "       'CAROUSEL_ADD_TO_BASKET', 'LP_PRODUCT', 'SHOW_CASE_PRODUCT',\n",
    "       'LP_ADD_TO_BASKET', 'PA_ADD_TO_BASKET', 'SHOW_CASE_ADD_TO_BASKET']\n",
    "event_dict = dict(zip(sorted(event_list), range(len(event_list))))\n",
    "\n",
    "actions = ['None', 'PRODUCT', 'ADD_TO_BASKET', 'PURCHASE_PRODUCT']\n",
    "action_dict = dict(zip(sorted(actions), range(len(actions))))\n",
    "\n",
    "tracking['event_id'] = tracking.event_type.apply(lambda x: event_dict[x])\n",
    "tracking['action_id'] = tracking.action_type.apply(lambda x: action_dict[x])"
   ]
  },
  {
   "cell_type": "code",
   "execution_count": 185,
   "metadata": {},
   "outputs": [],
   "source": [
    "tracking = tracking[columns + ['event_id', 'action_id']]"
   ]
  },
  {
   "cell_type": "code",
   "execution_count": 186,
   "metadata": {},
   "outputs": [
    {
     "data": {
      "text/plain": [
       "array([0, 0, 0, 0, 8])"
      ]
     },
     "execution_count": 186,
     "metadata": {},
     "output_type": "execute_result"
    }
   ],
   "source": [
    "tracking.head().event_id.values"
   ]
  },
  {
   "cell_type": "markdown",
   "metadata": {},
   "source": [
    "**Test:**"
   ]
  },
  {
   "cell_type": "code",
   "execution_count": 95,
   "metadata": {},
   "outputs": [
    {
     "data": {
      "text/plain": [
       "'100.0%'"
      ]
     },
     "execution_count": 95,
     "metadata": {},
     "output_type": "execute_result"
    }
   ],
   "source": [
    "str(len(tracking.event_id.values == map_actions(train_tracking).event_id.values)/len(train_tracking)*100) + '%'"
   ]
  },
  {
   "cell_type": "code",
   "execution_count": 94,
   "metadata": {},
   "outputs": [
    {
     "data": {
      "text/plain": [
       "array([0, 0, 0, 0, 8])"
      ]
     },
     "execution_count": 94,
     "metadata": {},
     "output_type": "execute_result"
    }
   ],
   "source": [
    "map_actions(train_tracking).head().event_id.values"
   ]
  },
  {
   "cell_type": "markdown",
   "metadata": {},
   "source": [
    "# Timestamp series in session"
   ]
  },
  {
   "cell_type": "code",
   "execution_count": 109,
   "metadata": {},
   "outputs": [],
   "source": [
    "def duration_to_seconds2(tracking):\n",
    "    if not 'timestamp' in tracking.columns:\n",
    "        tracking['timestamp'] = pd.to_timedelta(tracking.duration).dt.total_seconds()\n",
    "    return tracking"
   ]
  },
  {
   "cell_type": "code",
   "execution_count": 110,
   "metadata": {},
   "outputs": [],
   "source": [
    "def duration_timestamp(features, tracking):\n",
    "    return features"
   ]
  },
  {
   "cell_type": "code",
   "execution_count": 111,
   "metadata": {},
   "outputs": [],
   "source": [
    "def events_timeseries(features, tracking):\n",
    "    tracking = map_actions(duration_to_seconds2(tracking))\n",
    "    \n",
    "    group = tracking.sort_values(['timestamp']).groupby('sid')\n",
    "    eventseries = group.event_id.agg(list)"
   ]
  },
  {
   "cell_type": "code",
   "execution_count": 112,
   "metadata": {},
   "outputs": [],
   "source": [
    "features = test_features.copy()\n",
    "tracking = test_tracking.copy()"
   ]
  },
  {
   "cell_type": "markdown",
   "metadata": {},
   "source": [
    "**Dimensiones:** Sesiones, ventana (0, 30), features <br>\n",
    "**Output:** mapa de sesiones, cubo de features"
   ]
  },
  {
   "cell_type": "code",
   "execution_count": 113,
   "metadata": {},
   "outputs": [],
   "source": [
    "tracking = map_actions(duration_to_seconds2(tracking))"
   ]
  },
  {
   "cell_type": "code",
   "execution_count": 114,
   "metadata": {},
   "outputs": [],
   "source": [
    "def to_timeseries_features(tstamps):\n",
    "    series = pd.Series(list(tstamps))\n",
    "    \n",
    "    ts = list(tstamps)\n",
    "    \n",
    "    dts = series.diff().values\n",
    "    dts[0] = 0\n",
    "    max_dts = max(max(dts),1)\n",
    "    dts_perc = dts/max_dts\n",
    "    \n",
    "    return [ts, dts_perc]\n",
    "\n",
    "def to_eventseries(evs):\n",
    "    return list(evs)\n",
    "\n",
    "group = tracking.sort_values(['timestamp']).groupby('sid')\n",
    "timeseries = group.timestamp.agg(partial(to_timeseries_features))\n",
    "#eventseries = group.event_id.agg(to_eventseries)"
   ]
  },
  {
   "cell_type": "code",
   "execution_count": 115,
   "metadata": {},
   "outputs": [
    {
     "data": {
      "text/plain": [
       "(221873, 221873)"
      ]
     },
     "execution_count": 115,
     "metadata": {},
     "output_type": "execute_result"
    }
   ],
   "source": [
    "sessions = set(np.append(train_tracking.sid.unique(), test_tracking.sid.unique()))\n",
    "sessions_map = dict(zip(sorted(sessions), range(len(sessions))))\n",
    "len(sessions_map), len(sessions)"
   ]
  },
  {
   "cell_type": "code",
   "execution_count": 116,
   "metadata": {},
   "outputs": [],
   "source": [
    "WINDOW_SIZE = 30\n",
    "\n",
    "# Building 3D variable\n",
    "frames = np.zeros((len(sessions), WINDOW_SIZE, 2))"
   ]
  },
  {
   "cell_type": "code",
   "execution_count": 117,
   "metadata": {},
   "outputs": [],
   "source": [
    "for session in timeseries.index:\n",
    "    session_id = sessions_map[session]\n",
    "    n_actions = len(timeseries[session])\n",
    "    featblock = np.array(timeseries[session]).T\n",
    "    if featblock.shape[0] == WINDOW_SIZE:\n",
    "        pass\n",
    "    elif featblock.shape[0] < WINDOW_SIZE:\n",
    "        zeros = np.zeros((WINDOW_SIZE - featblock.shape[0], 2))\n",
    "        featblock = np.concatenate((zeros, featblock))\n",
    "    else:\n",
    "        featblock = featblock[-WINDOW_SIZE:]\n",
    "    frames[session_id] = featblock"
   ]
  },
  {
   "cell_type": "code",
   "execution_count": 118,
   "metadata": {},
   "outputs": [
    {
     "data": {
      "text/plain": [
       "264.5343972908066"
      ]
     },
     "execution_count": 118,
     "metadata": {},
     "output_type": "execute_result"
    }
   ],
   "source": [
    "shape = frames[:,:,0].shape\n",
    "frames[:,:,0].mean()"
   ]
  },
  {
   "cell_type": "code",
   "execution_count": 119,
   "metadata": {},
   "outputs": [
    {
     "data": {
      "text/plain": [
       "-0.12255844149037984"
      ]
     },
     "execution_count": 119,
     "metadata": {},
     "output_type": "execute_result"
    }
   ],
   "source": [
    "scaler = StandardScaler()\n",
    "scaler.fit(frames[:,:,0].reshape((-1, 1)))\n",
    "\n",
    "ts_norm = scaler.transform(frames[:,:,0].reshape((-1, 1))).reshape(shape)\n",
    "\n",
    "zero_pos = scaler.transform(np.zeros(shape).reshape((-1, 1)))[0][0]\n",
    "zero_pos"
   ]
  },
  {
   "cell_type": "code",
   "execution_count": 120,
   "metadata": {},
   "outputs": [],
   "source": [
    "frames[:,:,0] = ts_norm-zero_pos"
   ]
  },
  {
   "cell_type": "code",
   "execution_count": 121,
   "metadata": {},
   "outputs": [],
   "source": [
    "np.save(PROCESSED/'f_duration_test.npy', frames)\n",
    "with open(PROCESSED/'f_sessionsmap_test.pkl', 'wb') as handle:\n",
    "    # json.dump(sessions_map, handle)\n",
    "    pickle.dump(sessions_map, handle, protocol=pickle.HIGHEST_PROTOCOL)"
   ]
  },
  {
   "cell_type": "code",
   "execution_count": 323,
   "metadata": {},
   "outputs": [
    {
     "name": "stdout",
     "output_type": "stream",
     "text": [
      "(133123, 30, 1)\n"
     ]
    }
   ],
   "source": [
    "WINDOW_SIZE = 15\n",
    "\n",
    "# Building 3D variable\n",
    "frames_events = np.zeros((len(sessions), WINDOW_SIZE, 1))\n",
    "print(frames_events.shape)\n",
    "\n",
    "for session in eventseries.index:\n",
    "    session_id = sessions_map[session]\n",
    "    n_actions = len(eventseries[session])\n",
    "    featblock = np.array([eventseries[session]]).T\n",
    "    if featblock.shape[0] == WINDOW_SIZE:\n",
    "        pass\n",
    "    elif featblock.shape[0] < WINDOW_SIZE:\n",
    "        zeros = np.zeros((WINDOW_SIZE - featblock.shape[0], 1))\n",
    "        featblock = np.concatenate((zeros, featblock))\n",
    "    else:\n",
    "        featblock = featblock[-WINDOW_SIZE:]\n",
    "    frames_events[session_id] = featblock"
   ]
  },
  {
   "cell_type": "markdown",
   "metadata": {},
   "source": [
    "# Number of actions series"
   ]
  },
  {
   "cell_type": "markdown",
   "metadata": {},
   "source": [
    "### ADD_TO_BASKET"
   ]
  },
  {
   "cell_type": "code",
   "execution_count": 177,
   "metadata": {},
   "outputs": [],
   "source": [
    "features = train_features.copy()\n",
    "tracking = train_tracking.copy()\n",
    "WINDOW_SIZE = 30"
   ]
  },
  {
   "cell_type": "code",
   "execution_count": 165,
   "metadata": {},
   "outputs": [
    {
     "data": {
      "text/plain": [
       "(221873, 221873)"
      ]
     },
     "execution_count": 165,
     "metadata": {},
     "output_type": "execute_result"
    }
   ],
   "source": [
    "with open(PROCESSED/'f_sessionsmap_train.pkl', 'rb') as f:\n",
    "    sessions_map = pickle.load(f)\n",
    "    \n",
    "sessions = set(np.append(train_tracking.sid.unique(), test_tracking.sid.unique()))\n",
    "sessions_map = dict(zip(sorted(sessions), range(len(sessions))))\n",
    "len(sessions_map), len(sessions)"
   ]
  },
  {
   "cell_type": "code",
   "execution_count": 166,
   "metadata": {},
   "outputs": [],
   "source": [
    "# sessions = tracking.sid.unique()\n",
    "# sessions_map = dict(zip(sorted(sessions), range(len(sessions))))\n",
    "# len(sessions_map), len(sessions)"
   ]
  },
  {
   "cell_type": "code",
   "execution_count": 167,
   "metadata": {},
   "outputs": [],
   "source": [
    "dict(zip(sorted(tracking.type.unique()), range(tracking.type.nunique())))\n",
    "\n",
    "actions = ['None', 'PRODUCT', 'ADD_TO_BASKET', 'PURCHASE_PRODUCT']\n",
    "action_dict = dict(zip(sorted(actions), range(len(actions))))\n",
    "\n",
    "tracking = map_actions(duration_to_seconds2(tracking))"
   ]
  },
  {
   "cell_type": "code",
   "execution_count": 168,
   "metadata": {},
   "outputs": [
    {
     "name": "stderr",
     "output_type": "stream",
     "text": [
      "/anaconda/envs/kaggle/lib/python3.6/site-packages/ipykernel/__main__.py:11: FutureWarning: elementwise comparison failed; returning scalar instead, but in the future will perform elementwise comparison\n",
      "/anaconda/envs/kaggle/lib/python3.6/site-packages/ipykernel/__main__.py:12: FutureWarning: elementwise comparison failed; returning scalar instead, but in the future will perform elementwise comparison\n",
      "/anaconda/envs/kaggle/lib/python3.6/site-packages/ipykernel/__main__.py:13: FutureWarning: elementwise comparison failed; returning scalar instead, but in the future will perform elementwise comparison\n"
     ]
    }
   ],
   "source": [
    "ADD_TO_BASKET = action_dict['ADD_TO_BASKET']\n",
    "PRODUCT = action_dict['PRODUCT']\n",
    "PURCHASE_PRODUCT = action_dict['PURCHASE_PRODUCT']\n",
    "def to_action_series(x):\n",
    "    actions = np.array(list(x))\n",
    "\n",
    "    if len(actions) > WINDOW_SIZE:\n",
    "        actions = actions[-WINDOW_SIZE:]\n",
    "    \n",
    "    default_len = np.array([\n",
    "        np.cumsum(actions == ADD_TO_BASKET),\n",
    "        np.cumsum(actions == PRODUCT),\n",
    "        np.cumsum(actions == PURCHASE_PRODUCT)\n",
    "    ])\n",
    "    \n",
    "    if default_len.shape[1] <= WINDOW_SIZE:\n",
    "        result = np.zeros((3, WINDOW_SIZE))\n",
    "        result[:,-default_len.shape[1]:] = default_len\n",
    "    else:\n",
    "        result = default_len[:,-WINDOW_SIZE:]\n",
    "    return result\n",
    "\n",
    "group = tracking.sort_values(['timestamp']).groupby('sid')\n",
    "action_series = group.action_id.apply(to_action_series)"
   ]
  },
  {
   "cell_type": "code",
   "execution_count": 172,
   "metadata": {},
   "outputs": [],
   "source": [
    "df = action_series.to_frame().copy()\n",
    "df['sid'] = pd.Series(df.index.values).apply(lambda x: sessions_map[x]).values\n",
    "np.save(PROCESSED/'f_actions_sid_train.npy', df.sid.values)"
   ]
  },
  {
   "cell_type": "code",
   "execution_count": 173,
   "metadata": {},
   "outputs": [],
   "source": [
    "action_series2 = df.set_index('sid').sort_index()['action_id'].values\n",
    "\n",
    "action_seq = np.stack(action_series2).reshape((-1, WINDOW_SIZE, 3))\n",
    "shape = action_seq.shape"
   ]
  },
  {
   "cell_type": "code",
   "execution_count": 174,
   "metadata": {},
   "outputs": [
    {
     "data": {
      "text/plain": [
       "count    2662500.0\n",
       "mean           0.0\n",
       "std            0.0\n",
       "min            0.0\n",
       "25%            0.0\n",
       "50%            0.0\n",
       "75%            0.0\n",
       "max            0.0\n",
       "dtype: float64"
      ]
     },
     "execution_count": 174,
     "metadata": {},
     "output_type": "execute_result"
    }
   ],
   "source": [
    "pd.Series(action_seq[:,:,0].reshape(-1, 1).T[0]).describe()\n",
    "# action_seq[:,:,0].T.shape"
   ]
  },
  {
   "cell_type": "code",
   "execution_count": 175,
   "metadata": {},
   "outputs": [],
   "source": [
    "action_seq = action_seq/WINDOW_SIZE"
   ]
  },
  {
   "cell_type": "code",
   "execution_count": 176,
   "metadata": {},
   "outputs": [],
   "source": [
    "np.save(PROCESSED/'f_actions_train.npy', action_seq)\n",
    "# with open(PROCESSED/'f_sessionsmap_test.pkl', 'wb') as handle:\n",
    "#     pickle.dump(sessions_map, handle, protocol=pickle.HIGHEST_PROTOCOL)"
   ]
  },
  {
   "cell_type": "markdown",
   "metadata": {},
   "source": [
    "# Number of products added to basket"
   ]
  },
  {
   "cell_type": "code",
   "execution_count": 151,
   "metadata": {},
   "outputs": [],
   "source": [
    "features = test_features\n",
    "tracking = test_tracking\n",
    "WINDOW_SIZE = 30"
   ]
  },
  {
   "cell_type": "code",
   "execution_count": 164,
   "metadata": {},
   "outputs": [
    {
     "data": {
      "text/plain": [
       "(221873, 221873)"
      ]
     },
     "execution_count": 164,
     "metadata": {},
     "output_type": "execute_result"
    }
   ],
   "source": [
    "with open(PROCESSED/'f_sessionsmap_train.pkl', 'rb') as f:\n",
    "    sessions_map = pickle.load(f)\n",
    "        \n",
    "sessions = set(np.append(train_tracking.sid.unique(), test_tracking.sid.unique()))\n",
    "sessions_map = dict(zip(sorted(sessions), range(len(sessions))))\n",
    "len(sessions_map), len(sessions)"
   ]
  },
  {
   "cell_type": "code",
   "execution_count": 153,
   "metadata": {},
   "outputs": [],
   "source": [
    "tracking = map_actions(duration_to_seconds2(tracking))"
   ]
  },
  {
   "cell_type": "code",
   "execution_count": 154,
   "metadata": {},
   "outputs": [],
   "source": [
    "def to_q_series(x):\n",
    "    qs = np.array(list(x))\n",
    "\n",
    "    if len(qs) > WINDOW_SIZE:\n",
    "        qs = qs[-WINDOW_SIZE:]\n",
    "    \n",
    "    default_len = np.array([\n",
    "        np.cumsum(qs)\n",
    "    ])\n",
    "    \n",
    "    if default_len.shape[1] <= WINDOW_SIZE:\n",
    "        result = np.zeros((1, WINDOW_SIZE))\n",
    "        result[:,-default_len.shape[1]:] = default_len\n",
    "    else:\n",
    "        result = default_len[:,-WINDOW_SIZE:]\n",
    "    return result\n",
    "\n",
    "# tracking['new_id'] = tracking.sid.apply(lambda x: sessions_map[x])\n",
    "# tracking = tracking.reset_index('new_id', drop=True)\n",
    "tracking['filled_q'] = tracking.quantity.fillna(0)\n",
    "group = tracking.sort_values(['timestamp']).groupby('sid')\n",
    "q_series = group.filled_q.apply(to_q_series)"
   ]
  },
  {
   "cell_type": "code",
   "execution_count": 155,
   "metadata": {},
   "outputs": [
    {
     "data": {
      "text/plain": [
       "(88750, 1)"
      ]
     },
     "execution_count": 155,
     "metadata": {},
     "output_type": "execute_result"
    }
   ],
   "source": [
    "df = q_series.to_frame().copy()\n",
    "df['sid'] = df.index\n",
    "df['sid'] = df.sid.apply(lambda x: sessions_map[x])\n",
    "q_seq = df.set_index('sid').values\n",
    "q_seq.shape"
   ]
  },
  {
   "cell_type": "code",
   "execution_count": 156,
   "metadata": {},
   "outputs": [],
   "source": [
    "q_series2 = df.set_index('sid').sort_index()['filled_q'].values"
   ]
  },
  {
   "cell_type": "code",
   "execution_count": 157,
   "metadata": {},
   "outputs": [
    {
     "data": {
      "text/plain": [
       "(88750, 30, 1)"
      ]
     },
     "execution_count": 157,
     "metadata": {},
     "output_type": "execute_result"
    }
   ],
   "source": [
    "q_seq = np.stack(q_series2).reshape((-1, WINDOW_SIZE, 1))\n",
    "shape = q_seq.shape\n",
    "shape"
   ]
  },
  {
   "cell_type": "code",
   "execution_count": 158,
   "metadata": {},
   "outputs": [],
   "source": [
    "scaler = StandardScaler()\n",
    "scaler.fit(q_seq.reshape(-1, 1))\n",
    "# action_seq[:,:,0].T.shape\n",
    "new_q = scaler.transform(q_seq.reshape(-1, 1)).reshape(shape)"
   ]
  },
  {
   "cell_type": "code",
   "execution_count": 159,
   "metadata": {},
   "outputs": [
    {
     "data": {
      "text/plain": [
       "array([ 3.41755967, -0.15970804, -0.15970804, ..., -0.15970804,\n",
       "       -0.15970804, -0.15970804])"
      ]
     },
     "execution_count": 159,
     "metadata": {},
     "output_type": "execute_result"
    }
   ],
   "source": [
    "new_q[:,-1,0]"
   ]
  },
  {
   "cell_type": "code",
   "execution_count": 160,
   "metadata": {},
   "outputs": [],
   "source": [
    "np.save(PROCESSED/'f_quantity_test.npy', new_q)\n",
    "# with open(PROCESSED/'f_sessionsmap_test.pkl', 'wb') as handle:\n",
    "#     pickle.dump(sessions_map, handle, protocol=pickle.HIGHEST_PROTOCOL)"
   ]
  },
  {
   "cell_type": "code",
   "execution_count": null,
   "metadata": {},
   "outputs": [],
   "source": []
  },
  {
   "cell_type": "code",
   "execution_count": null,
   "metadata": {},
   "outputs": [],
   "source": []
  },
  {
   "cell_type": "code",
   "execution_count": 162,
   "metadata": {},
   "outputs": [
    {
     "data": {
      "text/plain": [
       "array([ 3.41755967, -0.15970804, -0.15970804, ..., -0.15970804,\n",
       "       -0.15970804, -0.15970804])"
      ]
     },
     "execution_count": 162,
     "metadata": {},
     "output_type": "execute_result"
    }
   ],
   "source": [
    "new_q[:,-1,0]"
   ]
  },
  {
   "cell_type": "code",
   "execution_count": null,
   "metadata": {},
   "outputs": [],
   "source": []
  },
  {
   "cell_type": "code",
   "execution_count": null,
   "metadata": {},
   "outputs": [],
   "source": []
  },
  {
   "cell_type": "code",
   "execution_count": null,
   "metadata": {},
   "outputs": [],
   "source": []
  },
  {
   "cell_type": "code",
   "execution_count": null,
   "metadata": {},
   "outputs": [],
   "source": []
  }
 ],
 "metadata": {
  "kernelspec": {
   "display_name": "Python [conda env:kaggle]",
   "language": "python",
   "name": "conda-env-kaggle-py"
  },
  "language_info": {
   "codemirror_mode": {
    "name": "ipython",
    "version": 3
   },
   "file_extension": ".py",
   "mimetype": "text/x-python",
   "name": "python",
   "nbconvert_exporter": "python",
   "pygments_lexer": "ipython3",
   "version": "3.6.4"
  }
 },
 "nbformat": 4,
 "nbformat_minor": 2
}
