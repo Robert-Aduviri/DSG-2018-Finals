{
 "cells": [
  {
   "cell_type": "code",
   "execution_count": 1,
   "metadata": {},
   "outputs": [],
   "source": [
    "%load_ext autoreload\n",
    "%autoreload 2\n",
    "%matplotlib inline\n",
    "%config InlineBackend.figure_format = 'retina'\n",
    "\n",
    "import os\n",
    "import numpy as np, pandas as pd\n",
    "import matplotlib.pyplot as plt, seaborn as sns\n",
    "from tqdm import tqdm, tqdm_notebook\n",
    "from pathlib import Path\n",
    "sns.set()\n",
    "\n",
    "os.chdir('../..')\n",
    "\n",
    "DATA = Path('data')\n",
    "RAW  = DATA/'raw'\n",
    "PROCESSED = DATA/'processed'\n",
    "SUBMISSIONS = DATA/'submissions'"
   ]
  },
  {
   "cell_type": "code",
   "execution_count": 39,
   "metadata": {},
   "outputs": [],
   "source": [
    "pd.set_option('display.max_columns', 1000)\n",
    "pd.set_option('display.max_rows', 400)"
   ]
  },
  {
   "cell_type": "code",
   "execution_count": 42,
   "metadata": {},
   "outputs": [
    {
     "name": "stderr",
     "output_type": "stream",
     "text": [
      "/anaconda/envs/kaggle/lib/python3.6/site-packages/pandas/io/feather_format.py:112: FutureWarning: `nthreads` argument is deprecated, pass `use_threads` instead\n",
      "  return feather.read_dataframe(path, nthreads=nthreads)\n"
     ]
    }
   ],
   "source": [
    "proc_train = pd.read_feather(PROCESSED/'proc_train.feather')\n",
    "proc_val = pd.read_feather(PROCESSED/'proc_val.feather')\n",
    "proc_all = pd.read_feather(PROCESSED/'proc_all.feather')\n",
    "proc_test = pd.read_feather(PROCESSED/'proc_test.feather')"
   ]
  },
  {
   "cell_type": "code",
   "execution_count": 30,
   "metadata": {},
   "outputs": [
    {
     "data": {
      "text/plain": [
       "(79873, 53250)"
      ]
     },
     "execution_count": 30,
     "metadata": {},
     "output_type": "execute_result"
    }
   ],
   "source": [
    "len(proc_train), len(proc_val)"
   ]
  },
  {
   "cell_type": "code",
   "execution_count": 47,
   "metadata": {},
   "outputs": [],
   "source": [
    "from sklearn.model_selection import train_test_split\n",
    "proc_train, proc_val = train_test_split(proc_all, test_size=0.15, random_state=504, shuffle=True)"
   ]
  },
  {
   "cell_type": "code",
   "execution_count": 48,
   "metadata": {},
   "outputs": [],
   "source": [
    "proc_train, proc_val = proc_train.copy(), proc_val.copy()"
   ]
  },
  {
   "cell_type": "code",
   "execution_count": 49,
   "metadata": {},
   "outputs": [
    {
     "data": {
      "text/plain": [
       "(113154, 19969)"
      ]
     },
     "execution_count": 49,
     "metadata": {},
     "output_type": "execute_result"
    }
   ],
   "source": [
    "len(proc_train), len(proc_val)"
   ]
  },
  {
   "cell_type": "markdown",
   "metadata": {},
   "source": [
    "## Get sequences"
   ]
  },
  {
   "cell_type": "code",
   "execution_count": 9,
   "metadata": {},
   "outputs": [
    {
     "name": "stdout",
     "output_type": "stream",
     "text": [
      "CPU times: user 56.7 s, sys: 4.98 s, total: 1min 1s\n",
      "Wall time: 1min 1s\n"
     ]
    }
   ],
   "source": [
    "%%time\n",
    "test_session = pd.read_csv('data/raw/random_submission.csv')\n",
    "test_tracking = pd.read_csv('data/raw/test_tracking.csv')\n",
    "train_session = pd.read_csv('data/raw/train_session.csv') \n",
    "train_tracking = pd.read_csv('data/raw/train_tracking.csv')\n",
    "productid_category = pd.read_csv('data/raw/productid_category.csv')"
   ]
  },
  {
   "cell_type": "code",
   "execution_count": 11,
   "metadata": {},
   "outputs": [],
   "source": [
    "all_tracking = pd.concat([train_tracking, test_tracking])\n",
    "event_labels = {event: idx + 1 for idx, event in enumerate(all_tracking.type.unique())}\n",
    "all_tracking['type_id'] = all_tracking.type.map(event_labels)\n",
    "events_seq = all_tracking.groupby('sid')['type_id'].apply(list)"
   ]
  },
  {
   "cell_type": "code",
   "execution_count": 12,
   "metadata": {},
   "outputs": [],
   "source": [
    "MAX_LEN = 30\n",
    "def pad_seq(x):\n",
    "    res = np.zeros(MAX_LEN).astype(int)\n",
    "    res[max(0, MAX_LEN - len(x)):] = x[-MAX_LEN:]\n",
    "    return res\n",
    "events_fixed_seq = events_seq.apply(pad_seq)"
   ]
  },
  {
   "cell_type": "code",
   "execution_count": 10,
   "metadata": {},
   "outputs": [],
   "source": [
    "def get_cat_seqs(events_fixed_seq, proc_train, proc_val):\n",
    "    train_cat_seqs = events_fixed_seq[list(proc_train.sid)]\n",
    "    val_cat_seqs = events_fixed_seq[list(proc_val.sid)]\n",
    "    train_cat_seqs = np.stack(train_cat_seqs).reshape((-1, MAX_LEN, 1))\n",
    "    val_cat_seqs = np.stack(val_cat_seqs).reshape((-1, MAX_LEN, 1))\n",
    "    return train_cat_seqs, val_cat_seqs"
   ]
  },
  {
   "cell_type": "code",
   "execution_count": 56,
   "metadata": {},
   "outputs": [],
   "source": [
    "train_cat_seqs, val_cat_seqs = get_cat_seqs(events_fixed_seq, proc_train, \n",
    "                                            proc_val)"
   ]
  },
  {
   "cell_type": "code",
   "execution_count": 22,
   "metadata": {},
   "outputs": [],
   "source": [
    "import pickle\n",
    "with open(PROCESSED/'f_sessionsmap_train.pkl', 'rb') as f:\n",
    "    seqs_train_dict = pickle.load(f) \n",
    "with open(PROCESSED/'f_sessionsmap_test.pkl', 'rb') as f:\n",
    "    seqs_test_dict = pickle.load(f) \n",
    "\n",
    "duration_seqs_train = np.load(PROCESSED/'f_duration_train.npy')\n",
    "duration_seqs_test = np.load(PROCESSED/'f_duration_test.npy')\n",
    "    \n",
    "action_seqs_train = np.load(PROCESSED/'f_actions_train.npy')\n",
    "action_seqs_test = np.load(PROCESSED/'f_actions_test.npy')\n",
    "\n",
    "quantity_seqs_train = np.load(PROCESSED/'f_quantity_train.npy')\n",
    "quantity_seqs_test = np.load(PROCESSED/'f_quantity_test.npy')"
   ]
  },
  {
   "cell_type": "code",
   "execution_count": 24,
   "metadata": {},
   "outputs": [],
   "source": [
    "def get_cont_seqs(cont_seqs_train, cont_seqs_val, seqs_train_dict, seqs_val_dict, proc_train, proc_val):\n",
    "    train_cont_seqs = np.concatenate([\n",
    "        x[[seqs_train_dict[sid] for sid in proc_train.sid]] for x in cont_seqs_train\n",
    "    ], axis=2)\n",
    "    val_cont_seqs = np.concatenate([\n",
    "        x[[seqs_val_dict[sid] for sid in proc_val.sid]] for x in cont_seqs_val\n",
    "    ], axis=2)\n",
    "    return train_cont_seqs, val_cont_seqs"
   ]
  },
  {
   "cell_type": "code",
   "execution_count": 50,
   "metadata": {},
   "outputs": [],
   "source": [
    "train_cont_seqs, val_cont_seqs = get_cont_seqs([duration_seqs_train, \n",
    "                                 action_seqs_train,\n",
    "                                 quantity_seqs_train], [duration_seqs_train,\n",
    "                                 action_seqs_train, quantity_seqs_train],\n",
    "                                 seqs_train_dict, seqs_train_dict, \n",
    "                                 proc_train, proc_val)"
   ]
  },
  {
   "cell_type": "code",
   "execution_count": 51,
   "metadata": {},
   "outputs": [],
   "source": [
    "cat_cols = ['device', 'siteid']\n",
    "target_col = 'target' \n",
    "id_col = 'sid'\n",
    "cont_cols = [x for x in proc_train.columns if x not in cat_cols + [target_col, id_col]]"
   ]
  },
  {
   "cell_type": "code",
   "execution_count": 52,
   "metadata": {},
   "outputs": [],
   "source": [
    "from src.utils_r import to_cat_codes, apply_cats\n",
    "\n",
    "def process_cats(proc_train, proc_val, cat_cols):\n",
    "    to_cat_codes(proc_train, cat_cols)\n",
    "    apply_cats(proc_val, proc_train)\n",
    "    for df in [proc_train, proc_val]:\n",
    "        for col in cat_cols:\n",
    "            df[col] = df[col].cat.codes\n",
    "    proc_train['device'] = proc_train.device + 1\n",
    "    proc_val['device'] = proc_val.device + 1"
   ]
  },
  {
   "cell_type": "code",
   "execution_count": 53,
   "metadata": {},
   "outputs": [],
   "source": [
    "process_cats(proc_train, proc_val, cat_cols)"
   ]
  },
  {
   "cell_type": "code",
   "execution_count": 54,
   "metadata": {},
   "outputs": [],
   "source": [
    "from sklearn.preprocessing import StandardScaler\n",
    "def scale_conts(proc_train, proc_val, cont_cols):\n",
    "    scaler = StandardScaler()\n",
    "    scaler.fit(pd.concat([proc_train[cont_cols], proc_val[cont_cols]]))\n",
    "    proc_train_cont_norm = scaler.transform(proc_train[cont_cols])\n",
    "    proc_val_cont_norm = scaler.transform(proc_val[cont_cols])\n",
    "    for i, col in enumerate(cont_cols):\n",
    "        proc_train[col] = proc_train_cont_norm[:, i]\n",
    "        proc_val[col] = proc_val_cont_norm[:, i]"
   ]
  },
  {
   "cell_type": "code",
   "execution_count": 55,
   "metadata": {},
   "outputs": [],
   "source": [
    "scale_conts(proc_train, proc_val, cont_cols)"
   ]
  },
  {
   "cell_type": "markdown",
   "metadata": {},
   "source": [
    "## Multimodal Net"
   ]
  },
  {
   "cell_type": "code",
   "execution_count": 57,
   "metadata": {},
   "outputs": [],
   "source": [
    "from src.utils_r import MultimodalDataset\n",
    "from torch.utils.data import DataLoader\n",
    "ds_trn = MultimodalDataset(proc_train[cat_cols], proc_train[cont_cols],\n",
    "                           train_cat_seqs, train_cont_seqs, proc_train[target_col])\n",
    "ds_val = MultimodalDataset(proc_val[cat_cols], proc_val[cont_cols],\n",
    "                           val_cat_seqs, val_cont_seqs, proc_val[target_col])"
   ]
  },
  {
   "cell_type": "code",
   "execution_count": 58,
   "metadata": {},
   "outputs": [],
   "source": [
    "dl_trn = DataLoader(ds_trn, batch_size=128, shuffle=True)\n",
    "dl_val = DataLoader(ds_val, batch_size=128)"
   ]
  },
  {
   "cell_type": "code",
   "execution_count": 59,
   "metadata": {},
   "outputs": [],
   "source": [
    "from src.utils_r import MultimodalNet\n",
    "\n",
    "cat_szs = [int(proc_train[col].max() + 1) for col in cat_cols]\n",
    "emb_szs = [(c, min(20, (c+1)//2)) for c in cat_szs]\n",
    "\n",
    "n_cont = len(cont_cols)\n",
    "emb_drop = 0.3\n",
    "szs = [400, 200]\n",
    "drops = [0.1, 0.1]\n",
    "\n",
    "rnn_hidden_sz = 64\n",
    "rnn_cont_sz = int(train_cont_seqs.shape[2])\n",
    "\n",
    "rnn_cat_szs = [int(train_cat_seqs[:,:,0].max()+1)]\n",
    "rnn_emb_szs = [(c, min(20, (c+1)//2)) for c in rnn_cat_szs]\n",
    "\n",
    "rnn_n_layers = 2\n",
    "rnn_drop = 0.2\n",
    "lin_sz = 10\n",
    "drop = 0.3\n",
    "out_sz = 1"
   ]
  },
  {
   "cell_type": "code",
   "execution_count": 60,
   "metadata": {},
   "outputs": [],
   "source": [
    "from src.utils_r import train_model\n",
    "from torch import optim\n",
    "import torch.nn as nn"
   ]
  },
  {
   "cell_type": "code",
   "execution_count": 61,
   "metadata": {},
   "outputs": [],
   "source": [
    "USE_CUDA = True"
   ]
  },
  {
   "cell_type": "code",
   "execution_count": 62,
   "metadata": {},
   "outputs": [],
   "source": [
    "model = MultimodalNet(emb_szs, n_cont, emb_drop, szs, drops, \n",
    "                      rnn_hidden_sz, rnn_cont_sz, rnn_emb_szs, \n",
    "                      rnn_n_layers, rnn_drop, lin_sz, drop, out_sz)\n",
    "if USE_CUDA: model = model.cuda()\n",
    "optimizer = optim.Adam(model.parameters(), lr=3e-4)\n",
    "criterion = nn.BCEWithLogitsLoss()"
   ]
  },
  {
   "cell_type": "code",
   "execution_count": 63,
   "metadata": {},
   "outputs": [
    {
     "name": "stdout",
     "output_type": "stream",
     "text": [
      "Train Epoch: 1 [12800/113154 (11%)]\tLoss: 0.611967\n",
      "Train Epoch: 1 [25600/113154 (23%)]\tLoss: 0.561949\n",
      "Train Epoch: 1 [38400/113154 (34%)]\tLoss: 0.526987\n",
      "Train Epoch: 1 [51200/113154 (45%)]\tLoss: 0.486262\n",
      "Train Epoch: 1 [64000/113154 (56%)]\tLoss: 0.452925\n",
      "Train Epoch: 1 [76800/113154 (68%)]\tLoss: 0.419992\n",
      "Train Epoch: 1 [89600/113154 (79%)]\tLoss: 0.394554\n",
      "Train Epoch: 1 [102400/113154 (90%)]\tLoss: 0.373659\n",
      "Epoch: 1 | Train Logloss: 0.347921 | Val Logloss: 0.345479\n",
      "Train Epoch: 2 [12800/113154 (11%)]\tLoss: 0.348414\n",
      "Train Epoch: 2 [25600/113154 (23%)]\tLoss: 0.326421\n",
      "Train Epoch: 2 [38400/113154 (34%)]\tLoss: 0.317502\n",
      "Train Epoch: 2 [51200/113154 (45%)]\tLoss: 0.308997\n",
      "Train Epoch: 2 [64000/113154 (56%)]\tLoss: 0.303188\n",
      "Train Epoch: 2 [76800/113154 (68%)]\tLoss: 0.294177\n",
      "Train Epoch: 2 [89600/113154 (79%)]\tLoss: 0.296117\n",
      "Train Epoch: 2 [102400/113154 (90%)]\tLoss: 0.300090\n",
      "Epoch: 2 | Train Logloss: 0.282041 | Val Logloss: 0.280219\n",
      "Train Epoch: 3 [12800/113154 (11%)]\tLoss: 0.299810\n",
      "Train Epoch: 3 [25600/113154 (23%)]\tLoss: 0.280924\n",
      "Train Epoch: 3 [38400/113154 (34%)]\tLoss: 0.287527\n",
      "Train Epoch: 3 [51200/113154 (45%)]\tLoss: 0.284996\n",
      "Train Epoch: 3 [64000/113154 (56%)]\tLoss: 0.282726\n",
      "Train Epoch: 3 [76800/113154 (68%)]\tLoss: 0.281657\n",
      "Train Epoch: 3 [89600/113154 (79%)]\tLoss: 0.285746\n",
      "Train Epoch: 3 [102400/113154 (90%)]\tLoss: 0.290638\n",
      "Epoch: 3 | Train Logloss: 0.273228 | Val Logloss: 0.275766\n",
      "Train Epoch: 4 [12800/113154 (11%)]\tLoss: 0.288146\n",
      "Train Epoch: 4 [25600/113154 (23%)]\tLoss: 0.274002\n",
      "Train Epoch: 4 [38400/113154 (34%)]\tLoss: 0.280488\n",
      "Train Epoch: 4 [51200/113154 (45%)]\tLoss: 0.279162\n",
      "Train Epoch: 4 [64000/113154 (56%)]\tLoss: 0.288308\n",
      "Train Epoch: 4 [76800/113154 (68%)]\tLoss: 0.280211\n",
      "Train Epoch: 4 [89600/113154 (79%)]\tLoss: 0.281258\n",
      "Train Epoch: 4 [102400/113154 (90%)]\tLoss: 0.278739\n",
      "Epoch: 4 | Train Logloss: 0.270927 | Val Logloss: 0.274936\n",
      "Train Epoch: 5 [12800/113154 (11%)]\tLoss: 0.285652\n",
      "Train Epoch: 5 [25600/113154 (23%)]\tLoss: 0.265502\n",
      "Train Epoch: 5 [38400/113154 (34%)]\tLoss: 0.280487\n",
      "Train Epoch: 5 [51200/113154 (45%)]\tLoss: 0.279265\n",
      "Train Epoch: 5 [64000/113154 (56%)]\tLoss: 0.278351\n",
      "Train Epoch: 5 [76800/113154 (68%)]\tLoss: 0.276773\n",
      "Train Epoch: 5 [89600/113154 (79%)]\tLoss: 0.278223\n",
      "Train Epoch: 5 [102400/113154 (90%)]\tLoss: 0.283454\n",
      "Epoch: 5 | Train Logloss: 0.273040 | Val Logloss: 0.272249\n",
      "Train Epoch: 6 [12800/113154 (11%)]\tLoss: 0.280779\n",
      "Train Epoch: 6 [25600/113154 (23%)]\tLoss: 0.266037\n",
      "Train Epoch: 6 [38400/113154 (34%)]\tLoss: 0.273550\n",
      "Train Epoch: 6 [51200/113154 (45%)]\tLoss: 0.281126\n",
      "Train Epoch: 6 [64000/113154 (56%)]\tLoss: 0.287493\n",
      "Train Epoch: 6 [76800/113154 (68%)]\tLoss: 0.275999\n",
      "Train Epoch: 6 [89600/113154 (79%)]\tLoss: 0.270639\n",
      "Train Epoch: 6 [102400/113154 (90%)]\tLoss: 0.276463\n",
      "Epoch: 6 | Train Logloss: 0.269615 | Val Logloss: 0.273748\n",
      "Train Epoch: 7 [12800/113154 (11%)]\tLoss: 0.272300\n",
      "Train Epoch: 7 [25600/113154 (23%)]\tLoss: 0.276213\n",
      "Train Epoch: 7 [38400/113154 (34%)]\tLoss: 0.270219\n",
      "Train Epoch: 7 [51200/113154 (45%)]\tLoss: 0.271220\n",
      "Train Epoch: 7 [64000/113154 (56%)]\tLoss: 0.277436\n",
      "Train Epoch: 7 [76800/113154 (68%)]\tLoss: 0.269547\n",
      "Train Epoch: 7 [89600/113154 (79%)]\tLoss: 0.279200\n",
      "Train Epoch: 7 [102400/113154 (90%)]\tLoss: 0.278180\n",
      "Epoch: 7 | Train Logloss: 0.271451 | Val Logloss: 0.271453\n",
      "Train Epoch: 8 [12800/113154 (11%)]\tLoss: 0.274004\n",
      "Train Epoch: 8 [25600/113154 (23%)]\tLoss: 0.273529\n",
      "Train Epoch: 8 [38400/113154 (34%)]\tLoss: 0.275803\n",
      "Train Epoch: 8 [51200/113154 (45%)]\tLoss: 0.278458\n",
      "Train Epoch: 8 [64000/113154 (56%)]\tLoss: 0.262353\n",
      "Train Epoch: 8 [76800/113154 (68%)]\tLoss: 0.276884\n",
      "Train Epoch: 8 [89600/113154 (79%)]\tLoss: 0.268822\n",
      "Train Epoch: 8 [102400/113154 (90%)]\tLoss: 0.272508\n",
      "Epoch: 8 | Train Logloss: 0.267333 | Val Logloss: 0.270918\n",
      "Train Epoch: 9 [12800/113154 (11%)]\tLoss: 0.278255\n",
      "Train Epoch: 9 [25600/113154 (23%)]\tLoss: 0.271996\n",
      "Train Epoch: 9 [38400/113154 (34%)]\tLoss: 0.271446\n",
      "Train Epoch: 9 [51200/113154 (45%)]\tLoss: 0.276831\n",
      "Train Epoch: 9 [64000/113154 (56%)]\tLoss: 0.274453\n",
      "Train Epoch: 9 [76800/113154 (68%)]\tLoss: 0.275287\n",
      "Train Epoch: 9 [89600/113154 (79%)]\tLoss: 0.267634\n",
      "Train Epoch: 9 [102400/113154 (90%)]\tLoss: 0.266531\n",
      "Epoch: 9 | Train Logloss: 0.267346 | Val Logloss: 0.271069\n",
      "Train Epoch: 10 [12800/113154 (11%)]\tLoss: 0.268561\n",
      "Train Epoch: 10 [25600/113154 (23%)]\tLoss: 0.271524\n",
      "Train Epoch: 10 [38400/113154 (34%)]\tLoss: 0.279556\n",
      "Train Epoch: 10 [51200/113154 (45%)]\tLoss: 0.272582\n",
      "Train Epoch: 10 [64000/113154 (56%)]\tLoss: 0.273147\n",
      "Train Epoch: 10 [76800/113154 (68%)]\tLoss: 0.277683\n",
      "Train Epoch: 10 [89600/113154 (79%)]\tLoss: 0.269833\n",
      "Train Epoch: 10 [102400/113154 (90%)]\tLoss: 0.266790\n",
      "Epoch: 10 | Train Logloss: 0.271182 | Val Logloss: 0.274634\n",
      "CPU times: user 3min 18s, sys: 19 s, total: 3min 37s\n",
      "Wall time: 3min 37s\n"
     ]
    }
   ],
   "source": [
    "%%time\n",
    "best_epoch = train_model(model, dl_trn, dl_val, optimizer, criterion, \n",
    "                         n_epochs=10, print_every=100, USE_CUDA=USE_CUDA)"
   ]
  },
  {
   "cell_type": "markdown",
   "metadata": {},
   "source": [
    "## Test"
   ]
  },
  {
   "cell_type": "code",
   "execution_count": 64,
   "metadata": {},
   "outputs": [],
   "source": [
    "train_cat_seqs, test_cat_seqs = get_cat_seqs(events_fixed_seq, proc_all, \n",
    "                                            proc_test)"
   ]
  },
  {
   "cell_type": "code",
   "execution_count": 65,
   "metadata": {},
   "outputs": [],
   "source": [
    "train_cont_seqs, test_cont_seqs = get_cont_seqs([duration_seqs_train, \n",
    "                                 action_seqs_train,\n",
    "                                 quantity_seqs_train], [duration_seqs_test,\n",
    "                                 action_seqs_test, quantity_seqs_test],\n",
    "                                 seqs_train_dict, seqs_test_dict, \n",
    "                                 proc_all, proc_test)"
   ]
  },
  {
   "cell_type": "code",
   "execution_count": 66,
   "metadata": {},
   "outputs": [],
   "source": [
    "process_cats(proc_all, proc_test, cat_cols)"
   ]
  },
  {
   "cell_type": "code",
   "execution_count": 67,
   "metadata": {},
   "outputs": [],
   "source": [
    "scale_conts(proc_all, proc_test, cont_cols)"
   ]
  },
  {
   "cell_type": "markdown",
   "metadata": {},
   "source": [
    "## Net"
   ]
  },
  {
   "cell_type": "code",
   "execution_count": 68,
   "metadata": {},
   "outputs": [],
   "source": [
    "from src.utils_r import MultimodalDataset\n",
    "from torch.utils.data import DataLoader\n",
    "ds_trn = MultimodalDataset(proc_all[cat_cols], proc_all[cont_cols],\n",
    "                           train_cat_seqs, train_cont_seqs, proc_all[target_col])\n",
    "ds_val = MultimodalDataset(proc_test[cat_cols], proc_test[cont_cols],\n",
    "                           test_cat_seqs, test_cont_seqs, proc_test[target_col])"
   ]
  },
  {
   "cell_type": "code",
   "execution_count": 69,
   "metadata": {},
   "outputs": [],
   "source": [
    "dl_trn = DataLoader(ds_trn, batch_size=128, shuffle=True)\n",
    "dl_val = DataLoader(ds_val, batch_size=128)"
   ]
  },
  {
   "cell_type": "code",
   "execution_count": 70,
   "metadata": {},
   "outputs": [],
   "source": [
    "from src.utils_r import MultimodalNet\n",
    "\n",
    "cat_szs = [int(proc_train[col].max() + 1) for col in cat_cols]\n",
    "emb_szs = [(c, min(20, (c+1)//2)) for c in cat_szs]\n",
    "\n",
    "n_cont = len(cont_cols)\n",
    "emb_drop = 0.3\n",
    "szs = [400, 200]\n",
    "drops = [0.1, 0.1]\n",
    "\n",
    "rnn_hidden_sz = 64\n",
    "rnn_cont_sz = int(train_cont_seqs.shape[2])\n",
    "\n",
    "rnn_cat_szs = [int(train_cat_seqs[:,:,0].max()+1)]\n",
    "rnn_emb_szs = [(c, min(20, (c+1)//2)) for c in rnn_cat_szs]\n",
    "\n",
    "rnn_n_layers = 2\n",
    "rnn_drop = 0.2\n",
    "lin_sz = 10\n",
    "drop = 0.3\n",
    "out_sz = 1"
   ]
  },
  {
   "cell_type": "code",
   "execution_count": 71,
   "metadata": {},
   "outputs": [],
   "source": [
    "from src.utils_r import train_model\n",
    "from torch import optim\n",
    "import torch.nn as nn"
   ]
  },
  {
   "cell_type": "code",
   "execution_count": 72,
   "metadata": {},
   "outputs": [],
   "source": [
    "USE_CUDA = True"
   ]
  },
  {
   "cell_type": "code",
   "execution_count": 75,
   "metadata": {},
   "outputs": [],
   "source": [
    "model = MultimodalNet(emb_szs, n_cont, emb_drop, szs, drops, \n",
    "                      rnn_hidden_sz, rnn_cont_sz, rnn_emb_szs, \n",
    "                      rnn_n_layers, rnn_drop, lin_sz, drop, out_sz)\n",
    "if USE_CUDA: model = model.cuda()\n",
    "optimizer = optim.Adam(model.parameters(), lr=3e-4)\n",
    "criterion = nn.BCEWithLogitsLoss()"
   ]
  },
  {
   "cell_type": "code",
   "execution_count": 76,
   "metadata": {},
   "outputs": [
    {
     "name": "stdout",
     "output_type": "stream",
     "text": [
      "Train Epoch: 1 [12800/133123 (10%)]\tLoss: 0.722378\n",
      "Train Epoch: 1 [25600/133123 (19%)]\tLoss: 0.651483\n",
      "Train Epoch: 1 [38400/133123 (29%)]\tLoss: 0.594915\n",
      "Train Epoch: 1 [51200/133123 (38%)]\tLoss: 0.540415\n",
      "Train Epoch: 1 [64000/133123 (48%)]\tLoss: 0.491261\n",
      "Train Epoch: 1 [76800/133123 (58%)]\tLoss: 0.447567\n",
      "Train Epoch: 1 [89600/133123 (67%)]\tLoss: 0.408602\n",
      "Train Epoch: 1 [102400/133123 (77%)]\tLoss: 0.375952\n",
      "Train Epoch: 1 [115200/133123 (86%)]\tLoss: 0.351008\n",
      "Train Epoch: 1 [128000/133123 (96%)]\tLoss: 0.329738\n",
      "Epoch: 1 | Train Logloss: 0.308932\n",
      "Train Epoch: 2 [12800/133123 (10%)]\tLoss: 0.317913\n",
      "Train Epoch: 2 [25600/133123 (19%)]\tLoss: 0.311169\n",
      "Train Epoch: 2 [38400/133123 (29%)]\tLoss: 0.297267\n",
      "Train Epoch: 2 [51200/133123 (38%)]\tLoss: 0.299569\n",
      "Train Epoch: 2 [64000/133123 (48%)]\tLoss: 0.300926\n",
      "Train Epoch: 2 [76800/133123 (58%)]\tLoss: 0.280282\n",
      "Train Epoch: 2 [89600/133123 (67%)]\tLoss: 0.293594\n",
      "Train Epoch: 2 [102400/133123 (77%)]\tLoss: 0.281790\n",
      "Train Epoch: 2 [115200/133123 (86%)]\tLoss: 0.285459\n",
      "Train Epoch: 2 [128000/133123 (96%)]\tLoss: 0.280198\n",
      "Epoch: 2 | Train Logloss: 0.274002\n",
      "Train Epoch: 3 [12800/133123 (10%)]\tLoss: 0.287836\n",
      "Train Epoch: 3 [25600/133123 (19%)]\tLoss: 0.277446\n",
      "Train Epoch: 3 [38400/133123 (29%)]\tLoss: 0.286904\n",
      "Train Epoch: 3 [51200/133123 (38%)]\tLoss: 0.287674\n",
      "Train Epoch: 3 [64000/133123 (48%)]\tLoss: 0.283957\n",
      "Train Epoch: 3 [76800/133123 (58%)]\tLoss: 0.284875\n",
      "Train Epoch: 3 [89600/133123 (67%)]\tLoss: 0.283816\n",
      "Train Epoch: 3 [102400/133123 (77%)]\tLoss: 0.279994\n",
      "Train Epoch: 3 [115200/133123 (86%)]\tLoss: 0.285979\n",
      "Train Epoch: 3 [128000/133123 (96%)]\tLoss: 0.285182\n",
      "Epoch: 3 | Train Logloss: 0.271782\n",
      "Train Epoch: 4 [12800/133123 (10%)]\tLoss: 0.275551\n",
      "Train Epoch: 4 [25600/133123 (19%)]\tLoss: 0.277914\n",
      "Train Epoch: 4 [38400/133123 (29%)]\tLoss: 0.278510\n",
      "Train Epoch: 4 [51200/133123 (38%)]\tLoss: 0.274670\n",
      "Train Epoch: 4 [64000/133123 (48%)]\tLoss: 0.282239\n",
      "Train Epoch: 4 [76800/133123 (58%)]\tLoss: 0.291168\n",
      "Train Epoch: 4 [89600/133123 (67%)]\tLoss: 0.277253\n",
      "Train Epoch: 4 [102400/133123 (77%)]\tLoss: 0.274200\n",
      "Train Epoch: 4 [115200/133123 (86%)]\tLoss: 0.281424\n",
      "Train Epoch: 4 [128000/133123 (96%)]\tLoss: 0.286180\n",
      "Epoch: 4 | Train Logloss: 0.271805\n",
      "Train Epoch: 5 [12800/133123 (10%)]\tLoss: 0.282401\n",
      "Train Epoch: 5 [25600/133123 (19%)]\tLoss: 0.272512\n",
      "Train Epoch: 5 [38400/133123 (29%)]\tLoss: 0.284087\n",
      "Train Epoch: 5 [51200/133123 (38%)]\tLoss: 0.286788\n",
      "Train Epoch: 5 [64000/133123 (48%)]\tLoss: 0.271665\n",
      "Train Epoch: 5 [76800/133123 (58%)]\tLoss: 0.266545\n",
      "Train Epoch: 5 [89600/133123 (67%)]\tLoss: 0.278635\n",
      "Train Epoch: 5 [102400/133123 (77%)]\tLoss: 0.278375\n",
      "Train Epoch: 5 [115200/133123 (86%)]\tLoss: 0.282057\n",
      "Train Epoch: 5 [128000/133123 (96%)]\tLoss: 0.282941\n",
      "Epoch: 5 | Train Logloss: 0.270919\n",
      "Train Epoch: 6 [12800/133123 (10%)]\tLoss: 0.274810\n",
      "Train Epoch: 6 [25600/133123 (19%)]\tLoss: 0.269955\n",
      "Train Epoch: 6 [38400/133123 (29%)]\tLoss: 0.283711\n",
      "Train Epoch: 6 [51200/133123 (38%)]\tLoss: 0.272756\n",
      "Train Epoch: 6 [64000/133123 (48%)]\tLoss: 0.276092\n",
      "Train Epoch: 6 [76800/133123 (58%)]\tLoss: 0.283401\n",
      "Train Epoch: 6 [89600/133123 (67%)]\tLoss: 0.283758\n",
      "Train Epoch: 6 [102400/133123 (77%)]\tLoss: 0.268815\n",
      "Train Epoch: 6 [115200/133123 (86%)]\tLoss: 0.283691\n",
      "Train Epoch: 6 [128000/133123 (96%)]\tLoss: 0.272528\n",
      "Epoch: 6 | Train Logloss: 0.268604\n",
      "Train Epoch: 7 [12800/133123 (10%)]\tLoss: 0.278351\n",
      "Train Epoch: 7 [25600/133123 (19%)]\tLoss: 0.282840\n",
      "Train Epoch: 7 [38400/133123 (29%)]\tLoss: 0.280013\n",
      "Train Epoch: 7 [51200/133123 (38%)]\tLoss: 0.268388\n",
      "Train Epoch: 7 [64000/133123 (48%)]\tLoss: 0.270305\n",
      "Train Epoch: 7 [76800/133123 (58%)]\tLoss: 0.273796\n",
      "Train Epoch: 7 [89600/133123 (67%)]\tLoss: 0.288129\n",
      "Train Epoch: 7 [102400/133123 (77%)]\tLoss: 0.275300\n",
      "Train Epoch: 7 [115200/133123 (86%)]\tLoss: 0.274569\n",
      "Train Epoch: 7 [128000/133123 (96%)]\tLoss: 0.272410\n",
      "Epoch: 7 | Train Logloss: 0.269342\n",
      "Train Epoch: 8 [12800/133123 (10%)]\tLoss: 0.277696\n",
      "Train Epoch: 8 [25600/133123 (19%)]\tLoss: 0.269911\n",
      "Train Epoch: 8 [38400/133123 (29%)]\tLoss: 0.275833\n",
      "Train Epoch: 8 [51200/133123 (38%)]\tLoss: 0.278050\n",
      "Train Epoch: 8 [64000/133123 (48%)]\tLoss: 0.286134\n",
      "Train Epoch: 8 [76800/133123 (58%)]\tLoss: 0.269119\n",
      "Train Epoch: 8 [89600/133123 (67%)]\tLoss: 0.277673\n",
      "Train Epoch: 8 [102400/133123 (77%)]\tLoss: 0.272605\n",
      "Train Epoch: 8 [115200/133123 (86%)]\tLoss: 0.274663\n",
      "Train Epoch: 8 [128000/133123 (96%)]\tLoss: 0.268021\n",
      "Epoch: 8 | Train Logloss: 0.268567\n",
      "Train Epoch: 9 [12800/133123 (10%)]\tLoss: 0.288702\n",
      "Train Epoch: 9 [25600/133123 (19%)]\tLoss: 0.272911\n",
      "Train Epoch: 9 [38400/133123 (29%)]\tLoss: 0.276625\n",
      "Train Epoch: 9 [51200/133123 (38%)]\tLoss: 0.271930\n",
      "Train Epoch: 9 [64000/133123 (48%)]\tLoss: 0.282158\n",
      "Train Epoch: 9 [76800/133123 (58%)]\tLoss: 0.275177\n",
      "Train Epoch: 9 [89600/133123 (67%)]\tLoss: 0.273041\n",
      "Train Epoch: 9 [102400/133123 (77%)]\tLoss: 0.273414\n",
      "Train Epoch: 9 [115200/133123 (86%)]\tLoss: 0.270407\n",
      "Train Epoch: 9 [128000/133123 (96%)]\tLoss: 0.266948\n",
      "Epoch: 9 | Train Logloss: 0.266509\n",
      "Train Epoch: 10 [12800/133123 (10%)]\tLoss: 0.276858\n",
      "Train Epoch: 10 [25600/133123 (19%)]\tLoss: 0.280080\n",
      "Train Epoch: 10 [38400/133123 (29%)]\tLoss: 0.270413\n",
      "Train Epoch: 10 [51200/133123 (38%)]\tLoss: 0.264827\n",
      "Train Epoch: 10 [64000/133123 (48%)]\tLoss: 0.273300\n",
      "Train Epoch: 10 [76800/133123 (58%)]\tLoss: 0.273931\n",
      "Train Epoch: 10 [89600/133123 (67%)]\tLoss: 0.275977\n",
      "Train Epoch: 10 [102400/133123 (77%)]\tLoss: 0.273552\n",
      "Train Epoch: 10 [115200/133123 (86%)]\tLoss: 0.281060\n",
      "Train Epoch: 10 [128000/133123 (96%)]\tLoss: 0.268844\n",
      "Epoch: 10 | Train Logloss: 0.267641\n",
      "CPU times: user 3min 44s, sys: 22.1 s, total: 4min 6s\n",
      "Wall time: 4min 5s\n"
     ]
    }
   ],
   "source": [
    "%%time\n",
    "best_epoch = train_model(model, dl_trn, None, optimizer, criterion, \n",
    "                         n_epochs=10, print_every=100, USE_CUDA=USE_CUDA)"
   ]
  },
  {
   "cell_type": "code",
   "execution_count": 78,
   "metadata": {},
   "outputs": [
    {
     "name": "stdout",
     "output_type": "stream",
     "text": [
      "CPU times: user 4.61 s, sys: 243 ms, total: 4.85 s\n",
      "Wall time: 4.85 s\n"
     ]
    }
   ],
   "source": [
    "%%time\n",
    "from src.utils_r import eval_model\n",
    "test_targets, test_preds = eval_model(model, dl_val, USE_CUDA=True)"
   ]
  },
  {
   "cell_type": "code",
   "execution_count": 79,
   "metadata": {},
   "outputs": [],
   "source": [
    "proc_test[target_col] = test_preds"
   ]
  },
  {
   "cell_type": "code",
   "execution_count": 80,
   "metadata": {},
   "outputs": [
    {
     "data": {
      "text/plain": [
       "count    8.875000e+04\n",
       "mean     9.243427e-02\n",
       "std      9.766895e-02\n",
       "min      7.892471e-32\n",
       "25%      3.298490e-02\n",
       "50%      5.245754e-02\n",
       "75%      1.011425e-01\n",
       "max      9.496264e-01\n",
       "Name: target, dtype: float64"
      ]
     },
     "execution_count": 80,
     "metadata": {},
     "output_type": "execute_result"
    }
   ],
   "source": [
    "proc_test[target_col].describe()"
   ]
  },
  {
   "cell_type": "code",
   "execution_count": 81,
   "metadata": {},
   "outputs": [
    {
     "data": {
      "text/plain": [
       "<matplotlib.axes._subplots.AxesSubplot at 0x7f6fad0cadd8>"
      ]
     },
     "execution_count": 81,
     "metadata": {},
     "output_type": "execute_result"
    },
    {
     "data": {
      "image/png": "[encoded data removed]",
      "text/plain": [
       "<matplotlib.figure.Figure at 0x7f6ee77b5860>"
      ]
     },
     "metadata": {
      "image/png": {
       "height": 262,
       "width": 372
      }
     },
     "output_type": "display_data"
    }
   ],
   "source": [
    "sns.distplot(proc_test[target_col])"
   ]
  },
  {
   "cell_type": "code",
   "execution_count": 82,
   "metadata": {},
   "outputs": [],
   "source": [
    "proc_test[[id_col, target_col]].to_csv(SUBMISSIONS/'robert_4_submit.csv', index=False)"
   ]
  },
  {
   "cell_type": "code",
   "execution_count": 83,
   "metadata": {},
   "outputs": [],
   "source": [
    "sub1 = pd.read_csv(SUBMISSIONS/'robert_0_submit.csv')"
   ]
  },
  {
   "cell_type": "code",
   "execution_count": 84,
   "metadata": {},
   "outputs": [
    {
     "data": {
      "text/plain": [
       "<matplotlib.collections.PathCollection at 0x7f6fac5b9ba8>"
      ]
     },
     "execution_count": 84,
     "metadata": {},
     "output_type": "execute_result"
    },
    {
     "data": {
      "image/png": "[encoded data removed]",
      "text/plain": [
       "<matplotlib.figure.Figure at 0x7f6f31f72a90>"
      ]
     },
     "metadata": {
      "image/png": {
       "height": 249,
       "width": 372
      }
     },
     "output_type": "display_data"
    }
   ],
   "source": [
    "plt.scatter(sub1[target_col], proc_test[target_col])"
   ]
  },
  {
   "cell_type": "code",
   "execution_count": 85,
   "metadata": {},
   "outputs": [],
   "source": [
    "sub2 = pd.read_csv(SUBMISSIONS/'robert_4_submit.csv')"
   ]
  },
  {
   "cell_type": "code",
   "execution_count": 86,
   "metadata": {},
   "outputs": [],
   "source": [
    "proc_test[target_col] = sub1[target_col] * 0.6 + sub2[target_col] * 0.4"
   ]
  },
  {
   "cell_type": "code",
   "execution_count": 87,
   "metadata": {},
   "outputs": [
    {
     "data": {
      "text/plain": [
       "count    88750.000000\n",
       "mean         0.093638\n",
       "std          0.093792\n",
       "min          0.008575\n",
       "25%          0.036489\n",
       "50%          0.056196\n",
       "75%          0.098802\n",
       "max          0.840245\n",
       "Name: target, dtype: float64"
      ]
     },
     "execution_count": 87,
     "metadata": {},
     "output_type": "execute_result"
    }
   ],
   "source": [
    "proc_test[target_col].describe()"
   ]
  },
  {
   "cell_type": "code",
   "execution_count": 88,
   "metadata": {},
   "outputs": [
    {
     "data": {
      "text/plain": [
       "<matplotlib.axes._subplots.AxesSubplot at 0x7f6fac5c9b00>"
      ]
     },
     "execution_count": 88,
     "metadata": {},
     "output_type": "execute_result"
    },
    {
     "data": {
      "image/png": "[encoded data removed]",
      "text/plain": [
       "<matplotlib.figure.Figure at 0x7f6facd62128>"
      ]
     },
     "metadata": {
      "image/png": {
       "height": 262,
       "width": 369
      }
     },
     "output_type": "display_data"
    }
   ],
   "source": [
    "sns.distplot(proc_test[target_col])"
   ]
  },
  {
   "cell_type": "code",
   "execution_count": 89,
   "metadata": {},
   "outputs": [],
   "source": [
    "proc_test[[id_col, target_col]].to_csv(SUBMISSIONS/'robert_5_submit_blend.csv', index=False)"
   ]
  },
  {
   "cell_type": "markdown",
   "metadata": {},
   "source": [
    "## Catboost"
   ]
  },
  {
   "cell_type": "code",
   "execution_count": 91,
   "metadata": {},
   "outputs": [
    {
     "data": {
      "text/html": [
       "<div>\n",
       "<style scoped>\n",
       "    .dataframe tbody tr th:only-of-type {\n",
       "        vertical-align: middle;\n",
       "    }\n",
       "\n",
       "    .dataframe tbody tr th {\n",
       "        vertical-align: top;\n",
       "    }\n",
       "\n",
       "    .dataframe thead th {\n",
       "        text-align: right;\n",
       "    }\n",
       "</style>\n",
       "<table border=\"1\" class=\"dataframe\">\n",
       "  <thead>\n",
       "    <tr style=\"text-align: right;\">\n",
       "      <th></th>\n",
       "      <th>device</th>\n",
       "      <th>siteid</th>\n",
       "      <th>ADD_TO_BASKET_CAROUSEL_type</th>\n",
       "      <th>ADD_TO_BASKET_LP_type</th>\n",
       "      <th>ADD_TO_BASKET_LR_type</th>\n",
       "      <th>ADD_TO_BASKET_PA_type</th>\n",
       "      <th>ADD_TO_BASKET_SHOW_CASE_type</th>\n",
       "      <th>CAROUSEL_type</th>\n",
       "      <th>LIST_PRODUCT_type</th>\n",
       "      <th>PA_type</th>\n",
       "      <th>PRODUCT_CAROUSEL_type</th>\n",
       "      <th>PRODUCT_LP_type</th>\n",
       "      <th>PRODUCT_LR_type</th>\n",
       "      <th>PRODUCT_PA_type</th>\n",
       "      <th>PRODUCT_SHOW_CASE_type</th>\n",
       "      <th>PURCHASE_PRODUCT_CAROUSEL_type</th>\n",
       "      <th>PURCHASE_PRODUCT_LP_type</th>\n",
       "      <th>PURCHASE_PRODUCT_LR_type</th>\n",
       "      <th>PURCHASE_PRODUCT_PA_type</th>\n",
       "      <th>PURCHASE_PRODUCT_SHOW_CASE_type</th>\n",
       "      <th>PURCHASE_PRODUCT_UNKNOW_ORIGIN_type</th>\n",
       "      <th>SEARCH_type</th>\n",
       "      <th>SHOW_CASE_type</th>\n",
       "      <th>SUM_TYPE_type</th>\n",
       "      <th>ADD_TO_BASKET_sim_type</th>\n",
       "      <th>CAROUSEL_sim_type</th>\n",
       "      <th>LIST_PRODUCT_sim_type</th>\n",
       "      <th>PA_sim_type</th>\n",
       "      <th>PRODUCT_sim_type</th>\n",
       "      <th>PURCHASE_PRODUCT_sim_type</th>\n",
       "      <th>SEARCH_sim_type</th>\n",
       "      <th>SHOW_CASE_sim_type</th>\n",
       "      <th>SUM_TYPE_SIMPLIFIED_sim_type</th>\n",
       "      <th>TOTAL_DURATION</th>\n",
       "      <th>rh</th>\n",
       "      <th>rw</th>\n",
       "    </tr>\n",
       "  </thead>\n",
       "  <tbody>\n",
       "    <tr>\n",
       "      <th>0</th>\n",
       "      <td>1</td>\n",
       "      <td>2</td>\n",
       "      <td>-0.13629</td>\n",
       "      <td>-0.096032</td>\n",
       "      <td>-0.324686</td>\n",
       "      <td>-0.04274</td>\n",
       "      <td>-0.0539</td>\n",
       "      <td>-0.018022</td>\n",
       "      <td>-0.357963</td>\n",
       "      <td>-0.709923</td>\n",
       "      <td>-0.393418</td>\n",
       "      <td>-0.228171</td>\n",
       "      <td>1.311323</td>\n",
       "      <td>-0.169234</td>\n",
       "      <td>-0.17929</td>\n",
       "      <td>-0.030783</td>\n",
       "      <td>-0.017347</td>\n",
       "      <td>-0.065389</td>\n",
       "      <td>-0.011457</td>\n",
       "      <td>-0.012413</td>\n",
       "      <td>-0.077065</td>\n",
       "      <td>0.567681</td>\n",
       "      <td>-0.429121</td>\n",
       "      <td>-0.392211</td>\n",
       "      <td>-0.37517</td>\n",
       "      <td>-0.018022</td>\n",
       "      <td>-0.357963</td>\n",
       "      <td>-0.709923</td>\n",
       "      <td>0.715447</td>\n",
       "      <td>-0.098374</td>\n",
       "      <td>0.567681</td>\n",
       "      <td>-0.429121</td>\n",
       "      <td>-0.392211</td>\n",
       "      <td>0.303747</td>\n",
       "      <td>-0.387101</td>\n",
       "      <td>-0.023410</td>\n",
       "    </tr>\n",
       "    <tr>\n",
       "      <th>1</th>\n",
       "      <td>1</td>\n",
       "      <td>2</td>\n",
       "      <td>-0.13629</td>\n",
       "      <td>-0.096032</td>\n",
       "      <td>-0.324686</td>\n",
       "      <td>-0.04274</td>\n",
       "      <td>-0.0539</td>\n",
       "      <td>0.198550</td>\n",
       "      <td>-0.357963</td>\n",
       "      <td>-0.709923</td>\n",
       "      <td>0.495697</td>\n",
       "      <td>-0.228171</td>\n",
       "      <td>1.156799</td>\n",
       "      <td>-0.169234</td>\n",
       "      <td>-0.17929</td>\n",
       "      <td>-0.030783</td>\n",
       "      <td>-0.017347</td>\n",
       "      <td>-0.065389</td>\n",
       "      <td>-0.011457</td>\n",
       "      <td>-0.012413</td>\n",
       "      <td>-0.077065</td>\n",
       "      <td>0.192166</td>\n",
       "      <td>-0.429121</td>\n",
       "      <td>0.177035</td>\n",
       "      <td>-0.37517</td>\n",
       "      <td>0.198550</td>\n",
       "      <td>-0.357963</td>\n",
       "      <td>-0.709923</td>\n",
       "      <td>1.117191</td>\n",
       "      <td>-0.098374</td>\n",
       "      <td>0.192166</td>\n",
       "      <td>-0.429121</td>\n",
       "      <td>0.177035</td>\n",
       "      <td>-0.288667</td>\n",
       "      <td>-0.613114</td>\n",
       "      <td>-0.171287</td>\n",
       "    </tr>\n",
       "    <tr>\n",
       "      <th>2</th>\n",
       "      <td>1</td>\n",
       "      <td>2</td>\n",
       "      <td>-0.13629</td>\n",
       "      <td>-0.096032</td>\n",
       "      <td>-0.324686</td>\n",
       "      <td>-0.04274</td>\n",
       "      <td>-0.0539</td>\n",
       "      <td>-0.956499</td>\n",
       "      <td>-0.357963</td>\n",
       "      <td>0.898412</td>\n",
       "      <td>-0.393418</td>\n",
       "      <td>-0.228171</td>\n",
       "      <td>1.311323</td>\n",
       "      <td>-0.169234</td>\n",
       "      <td>-0.17929</td>\n",
       "      <td>-0.030783</td>\n",
       "      <td>-0.017347</td>\n",
       "      <td>-0.065389</td>\n",
       "      <td>-0.011457</td>\n",
       "      <td>-0.012413</td>\n",
       "      <td>-0.077065</td>\n",
       "      <td>0.567681</td>\n",
       "      <td>-0.429121</td>\n",
       "      <td>-0.392211</td>\n",
       "      <td>-0.37517</td>\n",
       "      <td>-0.956499</td>\n",
       "      <td>-0.357963</td>\n",
       "      <td>0.898412</td>\n",
       "      <td>0.715447</td>\n",
       "      <td>-0.098374</td>\n",
       "      <td>0.567681</td>\n",
       "      <td>-0.429121</td>\n",
       "      <td>-0.392211</td>\n",
       "      <td>-0.346481</td>\n",
       "      <td>-0.680307</td>\n",
       "      <td>-0.246735</td>\n",
       "    </tr>\n",
       "    <tr>\n",
       "      <th>3</th>\n",
       "      <td>1</td>\n",
       "      <td>2</td>\n",
       "      <td>-0.13629</td>\n",
       "      <td>-0.096032</td>\n",
       "      <td>-0.324686</td>\n",
       "      <td>-0.04274</td>\n",
       "      <td>-0.0539</td>\n",
       "      <td>-0.956499</td>\n",
       "      <td>-0.357963</td>\n",
       "      <td>-0.709923</td>\n",
       "      <td>-0.393418</td>\n",
       "      <td>-0.228171</td>\n",
       "      <td>-0.697493</td>\n",
       "      <td>-0.169234</td>\n",
       "      <td>-0.17929</td>\n",
       "      <td>-0.030783</td>\n",
       "      <td>-0.017347</td>\n",
       "      <td>-0.065389</td>\n",
       "      <td>-0.011457</td>\n",
       "      <td>-0.012413</td>\n",
       "      <td>-0.077065</td>\n",
       "      <td>2.194912</td>\n",
       "      <td>-0.429121</td>\n",
       "      <td>-0.392211</td>\n",
       "      <td>-0.37517</td>\n",
       "      <td>-0.956499</td>\n",
       "      <td>-0.357963</td>\n",
       "      <td>-0.709923</td>\n",
       "      <td>-1.025445</td>\n",
       "      <td>-0.098374</td>\n",
       "      <td>2.194912</td>\n",
       "      <td>-0.429121</td>\n",
       "      <td>-0.392211</td>\n",
       "      <td>-0.369580</td>\n",
       "      <td>0.266504</td>\n",
       "      <td>0.459455</td>\n",
       "    </tr>\n",
       "    <tr>\n",
       "      <th>4</th>\n",
       "      <td>1</td>\n",
       "      <td>2</td>\n",
       "      <td>-0.13629</td>\n",
       "      <td>-0.096032</td>\n",
       "      <td>-0.324686</td>\n",
       "      <td>-0.04274</td>\n",
       "      <td>-0.0539</td>\n",
       "      <td>-0.956499</td>\n",
       "      <td>-0.357963</td>\n",
       "      <td>-0.709923</td>\n",
       "      <td>-0.393418</td>\n",
       "      <td>-0.228171</td>\n",
       "      <td>-0.697493</td>\n",
       "      <td>-0.169234</td>\n",
       "      <td>-0.17929</td>\n",
       "      <td>-0.030783</td>\n",
       "      <td>-0.017347</td>\n",
       "      <td>-0.065389</td>\n",
       "      <td>-0.011457</td>\n",
       "      <td>-0.012413</td>\n",
       "      <td>-0.077065</td>\n",
       "      <td>2.194912</td>\n",
       "      <td>-0.429121</td>\n",
       "      <td>-0.455461</td>\n",
       "      <td>-0.37517</td>\n",
       "      <td>-0.956499</td>\n",
       "      <td>-0.357963</td>\n",
       "      <td>-0.709923</td>\n",
       "      <td>-1.025445</td>\n",
       "      <td>-0.098374</td>\n",
       "      <td>2.194912</td>\n",
       "      <td>-0.429121</td>\n",
       "      <td>-0.455461</td>\n",
       "      <td>-0.375680</td>\n",
       "      <td>-0.918537</td>\n",
       "      <td>-0.246735</td>\n",
       "    </tr>\n",
       "  </tbody>\n",
       "</table>\n",
       "</div>"
      ],
      "text/plain": [
       "   device  siteid  ADD_TO_BASKET_CAROUSEL_type  ADD_TO_BASKET_LP_type  \\\n",
       "0       1       2                     -0.13629              -0.096032   \n",
       "1       1       2                     -0.13629              -0.096032   \n",
       "2       1       2                     -0.13629              -0.096032   \n",
       "3       1       2                     -0.13629              -0.096032   \n",
       "4       1       2                     -0.13629              -0.096032   \n",
       "\n",
       "   ADD_TO_BASKET_LR_type  ADD_TO_BASKET_PA_type  ADD_TO_BASKET_SHOW_CASE_type  \\\n",
       "0              -0.324686               -0.04274                       -0.0539   \n",
       "1              -0.324686               -0.04274                       -0.0539   \n",
       "2              -0.324686               -0.04274                       -0.0539   \n",
       "3              -0.324686               -0.04274                       -0.0539   \n",
       "4              -0.324686               -0.04274                       -0.0539   \n",
       "\n",
       "   CAROUSEL_type  LIST_PRODUCT_type   PA_type  PRODUCT_CAROUSEL_type  \\\n",
       "0      -0.018022          -0.357963 -0.709923              -0.393418   \n",
       "1       0.198550          -0.357963 -0.709923               0.495697   \n",
       "2      -0.956499          -0.357963  0.898412              -0.393418   \n",
       "3      -0.956499          -0.357963 -0.709923              -0.393418   \n",
       "4      -0.956499          -0.357963 -0.709923              -0.393418   \n",
       "\n",
       "   PRODUCT_LP_type  PRODUCT_LR_type  PRODUCT_PA_type  PRODUCT_SHOW_CASE_type  \\\n",
       "0        -0.228171         1.311323        -0.169234                -0.17929   \n",
       "1        -0.228171         1.156799        -0.169234                -0.17929   \n",
       "2        -0.228171         1.311323        -0.169234                -0.17929   \n",
       "3        -0.228171        -0.697493        -0.169234                -0.17929   \n",
       "4        -0.228171        -0.697493        -0.169234                -0.17929   \n",
       "\n",
       "   PURCHASE_PRODUCT_CAROUSEL_type  PURCHASE_PRODUCT_LP_type  \\\n",
       "0                       -0.030783                 -0.017347   \n",
       "1                       -0.030783                 -0.017347   \n",
       "2                       -0.030783                 -0.017347   \n",
       "3                       -0.030783                 -0.017347   \n",
       "4                       -0.030783                 -0.017347   \n",
       "\n",
       "   PURCHASE_PRODUCT_LR_type  PURCHASE_PRODUCT_PA_type  \\\n",
       "0                 -0.065389                 -0.011457   \n",
       "1                 -0.065389                 -0.011457   \n",
       "2                 -0.065389                 -0.011457   \n",
       "3                 -0.065389                 -0.011457   \n",
       "4                 -0.065389                 -0.011457   \n",
       "\n",
       "   PURCHASE_PRODUCT_SHOW_CASE_type  PURCHASE_PRODUCT_UNKNOW_ORIGIN_type  \\\n",
       "0                        -0.012413                            -0.077065   \n",
       "1                        -0.012413                            -0.077065   \n",
       "2                        -0.012413                            -0.077065   \n",
       "3                        -0.012413                            -0.077065   \n",
       "4                        -0.012413                            -0.077065   \n",
       "\n",
       "   SEARCH_type  SHOW_CASE_type  SUM_TYPE_type  ADD_TO_BASKET_sim_type  \\\n",
       "0     0.567681       -0.429121      -0.392211                -0.37517   \n",
       "1     0.192166       -0.429121       0.177035                -0.37517   \n",
       "2     0.567681       -0.429121      -0.392211                -0.37517   \n",
       "3     2.194912       -0.429121      -0.392211                -0.37517   \n",
       "4     2.194912       -0.429121      -0.455461                -0.37517   \n",
       "\n",
       "   CAROUSEL_sim_type  LIST_PRODUCT_sim_type  PA_sim_type  PRODUCT_sim_type  \\\n",
       "0          -0.018022              -0.357963    -0.709923          0.715447   \n",
       "1           0.198550              -0.357963    -0.709923          1.117191   \n",
       "2          -0.956499              -0.357963     0.898412          0.715447   \n",
       "3          -0.956499              -0.357963    -0.709923         -1.025445   \n",
       "4          -0.956499              -0.357963    -0.709923         -1.025445   \n",
       "\n",
       "   PURCHASE_PRODUCT_sim_type  SEARCH_sim_type  SHOW_CASE_sim_type  \\\n",
       "0                  -0.098374         0.567681           -0.429121   \n",
       "1                  -0.098374         0.192166           -0.429121   \n",
       "2                  -0.098374         0.567681           -0.429121   \n",
       "3                  -0.098374         2.194912           -0.429121   \n",
       "4                  -0.098374         2.194912           -0.429121   \n",
       "\n",
       "   SUM_TYPE_SIMPLIFIED_sim_type  TOTAL_DURATION        rh        rw  \n",
       "0                     -0.392211        0.303747 -0.387101 -0.023410  \n",
       "1                      0.177035       -0.288667 -0.613114 -0.171287  \n",
       "2                     -0.392211       -0.346481 -0.680307 -0.246735  \n",
       "3                     -0.392211       -0.369580  0.266504  0.459455  \n",
       "4                     -0.455461       -0.375680 -0.918537 -0.246735  "
      ]
     },
     "execution_count": 91,
     "metadata": {},
     "output_type": "execute_result"
    }
   ],
   "source": [
    "proc_all[cat_cols+cont_cols].head()"
   ]
  },
  {
   "cell_type": "code",
   "execution_count": 93,
   "metadata": {},
   "outputs": [
    {
     "data": {
      "text/html": [
       "<div>\n",
       "<style scoped>\n",
       "    .dataframe tbody tr th:only-of-type {\n",
       "        vertical-align: middle;\n",
       "    }\n",
       "\n",
       "    .dataframe tbody tr th {\n",
       "        vertical-align: top;\n",
       "    }\n",
       "\n",
       "    .dataframe thead th {\n",
       "        text-align: right;\n",
       "    }\n",
       "</style>\n",
       "<table border=\"1\" class=\"dataframe\">\n",
       "  <thead>\n",
       "    <tr style=\"text-align: right;\">\n",
       "      <th></th>\n",
       "      <th>device</th>\n",
       "      <th>siteid</th>\n",
       "      <th>ADD_TO_BASKET_CAROUSEL_type</th>\n",
       "      <th>ADD_TO_BASKET_LP_type</th>\n",
       "      <th>ADD_TO_BASKET_LR_type</th>\n",
       "      <th>ADD_TO_BASKET_PA_type</th>\n",
       "      <th>ADD_TO_BASKET_SHOW_CASE_type</th>\n",
       "      <th>CAROUSEL_type</th>\n",
       "      <th>LIST_PRODUCT_type</th>\n",
       "      <th>PA_type</th>\n",
       "      <th>PRODUCT_CAROUSEL_type</th>\n",
       "      <th>PRODUCT_LP_type</th>\n",
       "      <th>PRODUCT_LR_type</th>\n",
       "      <th>PRODUCT_PA_type</th>\n",
       "      <th>PRODUCT_SHOW_CASE_type</th>\n",
       "      <th>PURCHASE_PRODUCT_CAROUSEL_type</th>\n",
       "      <th>PURCHASE_PRODUCT_LP_type</th>\n",
       "      <th>PURCHASE_PRODUCT_LR_type</th>\n",
       "      <th>PURCHASE_PRODUCT_PA_type</th>\n",
       "      <th>PURCHASE_PRODUCT_SHOW_CASE_type</th>\n",
       "      <th>PURCHASE_PRODUCT_UNKNOW_ORIGIN_type</th>\n",
       "      <th>SEARCH_type</th>\n",
       "      <th>SHOW_CASE_type</th>\n",
       "      <th>SUM_TYPE_type</th>\n",
       "      <th>ADD_TO_BASKET_sim_type</th>\n",
       "      <th>CAROUSEL_sim_type</th>\n",
       "      <th>LIST_PRODUCT_sim_type</th>\n",
       "      <th>PA_sim_type</th>\n",
       "      <th>PRODUCT_sim_type</th>\n",
       "      <th>PURCHASE_PRODUCT_sim_type</th>\n",
       "      <th>SEARCH_sim_type</th>\n",
       "      <th>SHOW_CASE_sim_type</th>\n",
       "      <th>SUM_TYPE_SIMPLIFIED_sim_type</th>\n",
       "      <th>TOTAL_DURATION</th>\n",
       "      <th>rh</th>\n",
       "      <th>rw</th>\n",
       "    </tr>\n",
       "  </thead>\n",
       "  <tbody>\n",
       "    <tr>\n",
       "      <th>0</th>\n",
       "      <td>1</td>\n",
       "      <td>2</td>\n",
       "      <td>-0.13629</td>\n",
       "      <td>-0.096032</td>\n",
       "      <td>-0.324686</td>\n",
       "      <td>-0.04274</td>\n",
       "      <td>-0.0539</td>\n",
       "      <td>-0.956499</td>\n",
       "      <td>4.761396</td>\n",
       "      <td>-0.709923</td>\n",
       "      <td>-0.393418</td>\n",
       "      <td>-0.228171</td>\n",
       "      <td>-0.697493</td>\n",
       "      <td>-0.169234</td>\n",
       "      <td>-0.17929</td>\n",
       "      <td>-0.030783</td>\n",
       "      <td>-0.017347</td>\n",
       "      <td>-0.065389</td>\n",
       "      <td>-0.011457</td>\n",
       "      <td>-0.012413</td>\n",
       "      <td>-0.077065</td>\n",
       "      <td>-1.059550</td>\n",
       "      <td>-0.042400</td>\n",
       "      <td>0.366784</td>\n",
       "      <td>-0.37517</td>\n",
       "      <td>-0.956499</td>\n",
       "      <td>4.761396</td>\n",
       "      <td>-0.709923</td>\n",
       "      <td>-1.025445</td>\n",
       "      <td>-0.098374</td>\n",
       "      <td>-1.059550</td>\n",
       "      <td>-0.042400</td>\n",
       "      <td>0.366784</td>\n",
       "      <td>-0.331832</td>\n",
       "      <td>0.052708</td>\n",
       "      <td>0.338739</td>\n",
       "    </tr>\n",
       "    <tr>\n",
       "      <th>1</th>\n",
       "      <td>3</td>\n",
       "      <td>0</td>\n",
       "      <td>-0.13629</td>\n",
       "      <td>-0.096032</td>\n",
       "      <td>-0.324686</td>\n",
       "      <td>-0.04274</td>\n",
       "      <td>-0.0539</td>\n",
       "      <td>-0.956499</td>\n",
       "      <td>-0.357963</td>\n",
       "      <td>-0.709923</td>\n",
       "      <td>-0.393418</td>\n",
       "      <td>-0.228171</td>\n",
       "      <td>-0.697493</td>\n",
       "      <td>-0.169234</td>\n",
       "      <td>-0.17929</td>\n",
       "      <td>-0.030783</td>\n",
       "      <td>-0.017347</td>\n",
       "      <td>-0.065389</td>\n",
       "      <td>-0.011457</td>\n",
       "      <td>-0.012413</td>\n",
       "      <td>-0.077065</td>\n",
       "      <td>1.381297</td>\n",
       "      <td>1.117760</td>\n",
       "      <td>-0.392211</td>\n",
       "      <td>-0.37517</td>\n",
       "      <td>-0.956499</td>\n",
       "      <td>-0.357963</td>\n",
       "      <td>-0.709923</td>\n",
       "      <td>-1.025445</td>\n",
       "      <td>-0.098374</td>\n",
       "      <td>1.381297</td>\n",
       "      <td>1.117760</td>\n",
       "      <td>-0.392211</td>\n",
       "      <td>-0.358720</td>\n",
       "      <td>-0.778042</td>\n",
       "      <td>-1.278860</td>\n",
       "    </tr>\n",
       "    <tr>\n",
       "      <th>2</th>\n",
       "      <td>1</td>\n",
       "      <td>2</td>\n",
       "      <td>-0.13629</td>\n",
       "      <td>-0.096032</td>\n",
       "      <td>-0.324686</td>\n",
       "      <td>-0.04274</td>\n",
       "      <td>-0.0539</td>\n",
       "      <td>-0.956499</td>\n",
       "      <td>-0.357963</td>\n",
       "      <td>-0.709923</td>\n",
       "      <td>-0.393418</td>\n",
       "      <td>-0.228171</td>\n",
       "      <td>1.311323</td>\n",
       "      <td>-0.169234</td>\n",
       "      <td>-0.17929</td>\n",
       "      <td>-0.030783</td>\n",
       "      <td>-0.017347</td>\n",
       "      <td>-0.065389</td>\n",
       "      <td>-0.011457</td>\n",
       "      <td>-0.012413</td>\n",
       "      <td>-0.077065</td>\n",
       "      <td>1.381297</td>\n",
       "      <td>-0.429121</td>\n",
       "      <td>-0.392211</td>\n",
       "      <td>-0.37517</td>\n",
       "      <td>-0.956499</td>\n",
       "      <td>-0.357963</td>\n",
       "      <td>-0.709923</td>\n",
       "      <td>0.715447</td>\n",
       "      <td>-0.098374</td>\n",
       "      <td>1.381297</td>\n",
       "      <td>-0.429121</td>\n",
       "      <td>-0.392211</td>\n",
       "      <td>-0.323856</td>\n",
       "      <td>0.077142</td>\n",
       "      <td>-0.023410</td>\n",
       "    </tr>\n",
       "    <tr>\n",
       "      <th>3</th>\n",
       "      <td>1</td>\n",
       "      <td>2</td>\n",
       "      <td>-0.13629</td>\n",
       "      <td>-0.096032</td>\n",
       "      <td>-0.324686</td>\n",
       "      <td>-0.04274</td>\n",
       "      <td>-0.0539</td>\n",
       "      <td>-0.956499</td>\n",
       "      <td>-0.357963</td>\n",
       "      <td>0.898412</td>\n",
       "      <td>-0.393418</td>\n",
       "      <td>-0.228171</td>\n",
       "      <td>1.311323</td>\n",
       "      <td>-0.169234</td>\n",
       "      <td>-0.17929</td>\n",
       "      <td>-0.030783</td>\n",
       "      <td>-0.017347</td>\n",
       "      <td>-0.065389</td>\n",
       "      <td>-0.011457</td>\n",
       "      <td>-0.012413</td>\n",
       "      <td>-0.077065</td>\n",
       "      <td>0.567681</td>\n",
       "      <td>-0.429121</td>\n",
       "      <td>-0.392211</td>\n",
       "      <td>-0.37517</td>\n",
       "      <td>-0.956499</td>\n",
       "      <td>-0.357963</td>\n",
       "      <td>0.898412</td>\n",
       "      <td>0.715447</td>\n",
       "      <td>-0.098374</td>\n",
       "      <td>0.567681</td>\n",
       "      <td>-0.429121</td>\n",
       "      <td>-0.392211</td>\n",
       "      <td>-0.275748</td>\n",
       "      <td>-0.619222</td>\n",
       "      <td>-0.633028</td>\n",
       "    </tr>\n",
       "    <tr>\n",
       "      <th>4</th>\n",
       "      <td>1</td>\n",
       "      <td>2</td>\n",
       "      <td>-0.13629</td>\n",
       "      <td>-0.096032</td>\n",
       "      <td>-0.324686</td>\n",
       "      <td>-0.04274</td>\n",
       "      <td>-0.0539</td>\n",
       "      <td>0.294804</td>\n",
       "      <td>-0.357963</td>\n",
       "      <td>1.434523</td>\n",
       "      <td>-0.393418</td>\n",
       "      <td>-0.228171</td>\n",
       "      <td>-0.697493</td>\n",
       "      <td>-0.169234</td>\n",
       "      <td>-0.17929</td>\n",
       "      <td>-0.030783</td>\n",
       "      <td>-0.017347</td>\n",
       "      <td>-0.065389</td>\n",
       "      <td>-0.011457</td>\n",
       "      <td>-0.012413</td>\n",
       "      <td>-0.077065</td>\n",
       "      <td>-1.059550</td>\n",
       "      <td>1.633388</td>\n",
       "      <td>-0.455461</td>\n",
       "      <td>-0.37517</td>\n",
       "      <td>0.294804</td>\n",
       "      <td>-0.357963</td>\n",
       "      <td>1.434523</td>\n",
       "      <td>-1.025445</td>\n",
       "      <td>-0.098374</td>\n",
       "      <td>-1.059550</td>\n",
       "      <td>1.633388</td>\n",
       "      <td>-0.455461</td>\n",
       "      <td>-0.347836</td>\n",
       "      <td>1.708100</td>\n",
       "      <td>2.068001</td>\n",
       "    </tr>\n",
       "  </tbody>\n",
       "</table>\n",
       "</div>"
      ],
      "text/plain": [
       "   device  siteid  ADD_TO_BASKET_CAROUSEL_type  ADD_TO_BASKET_LP_type  \\\n",
       "0       1       2                     -0.13629              -0.096032   \n",
       "1       3       0                     -0.13629              -0.096032   \n",
       "2       1       2                     -0.13629              -0.096032   \n",
       "3       1       2                     -0.13629              -0.096032   \n",
       "4       1       2                     -0.13629              -0.096032   \n",
       "\n",
       "   ADD_TO_BASKET_LR_type  ADD_TO_BASKET_PA_type  ADD_TO_BASKET_SHOW_CASE_type  \\\n",
       "0              -0.324686               -0.04274                       -0.0539   \n",
       "1              -0.324686               -0.04274                       -0.0539   \n",
       "2              -0.324686               -0.04274                       -0.0539   \n",
       "3              -0.324686               -0.04274                       -0.0539   \n",
       "4              -0.324686               -0.04274                       -0.0539   \n",
       "\n",
       "   CAROUSEL_type  LIST_PRODUCT_type   PA_type  PRODUCT_CAROUSEL_type  \\\n",
       "0      -0.956499           4.761396 -0.709923              -0.393418   \n",
       "1      -0.956499          -0.357963 -0.709923              -0.393418   \n",
       "2      -0.956499          -0.357963 -0.709923              -0.393418   \n",
       "3      -0.956499          -0.357963  0.898412              -0.393418   \n",
       "4       0.294804          -0.357963  1.434523              -0.393418   \n",
       "\n",
       "   PRODUCT_LP_type  PRODUCT_LR_type  PRODUCT_PA_type  PRODUCT_SHOW_CASE_type  \\\n",
       "0        -0.228171        -0.697493        -0.169234                -0.17929   \n",
       "1        -0.228171        -0.697493        -0.169234                -0.17929   \n",
       "2        -0.228171         1.311323        -0.169234                -0.17929   \n",
       "3        -0.228171         1.311323        -0.169234                -0.17929   \n",
       "4        -0.228171        -0.697493        -0.169234                -0.17929   \n",
       "\n",
       "   PURCHASE_PRODUCT_CAROUSEL_type  PURCHASE_PRODUCT_LP_type  \\\n",
       "0                       -0.030783                 -0.017347   \n",
       "1                       -0.030783                 -0.017347   \n",
       "2                       -0.030783                 -0.017347   \n",
       "3                       -0.030783                 -0.017347   \n",
       "4                       -0.030783                 -0.017347   \n",
       "\n",
       "   PURCHASE_PRODUCT_LR_type  PURCHASE_PRODUCT_PA_type  \\\n",
       "0                 -0.065389                 -0.011457   \n",
       "1                 -0.065389                 -0.011457   \n",
       "2                 -0.065389                 -0.011457   \n",
       "3                 -0.065389                 -0.011457   \n",
       "4                 -0.065389                 -0.011457   \n",
       "\n",
       "   PURCHASE_PRODUCT_SHOW_CASE_type  PURCHASE_PRODUCT_UNKNOW_ORIGIN_type  \\\n",
       "0                        -0.012413                            -0.077065   \n",
       "1                        -0.012413                            -0.077065   \n",
       "2                        -0.012413                            -0.077065   \n",
       "3                        -0.012413                            -0.077065   \n",
       "4                        -0.012413                            -0.077065   \n",
       "\n",
       "   SEARCH_type  SHOW_CASE_type  SUM_TYPE_type  ADD_TO_BASKET_sim_type  \\\n",
       "0    -1.059550       -0.042400       0.366784                -0.37517   \n",
       "1     1.381297        1.117760      -0.392211                -0.37517   \n",
       "2     1.381297       -0.429121      -0.392211                -0.37517   \n",
       "3     0.567681       -0.429121      -0.392211                -0.37517   \n",
       "4    -1.059550        1.633388      -0.455461                -0.37517   \n",
       "\n",
       "   CAROUSEL_sim_type  LIST_PRODUCT_sim_type  PA_sim_type  PRODUCT_sim_type  \\\n",
       "0          -0.956499               4.761396    -0.709923         -1.025445   \n",
       "1          -0.956499              -0.357963    -0.709923         -1.025445   \n",
       "2          -0.956499              -0.357963    -0.709923          0.715447   \n",
       "3          -0.956499              -0.357963     0.898412          0.715447   \n",
       "4           0.294804              -0.357963     1.434523         -1.025445   \n",
       "\n",
       "   PURCHASE_PRODUCT_sim_type  SEARCH_sim_type  SHOW_CASE_sim_type  \\\n",
       "0                  -0.098374        -1.059550           -0.042400   \n",
       "1                  -0.098374         1.381297            1.117760   \n",
       "2                  -0.098374         1.381297           -0.429121   \n",
       "3                  -0.098374         0.567681           -0.429121   \n",
       "4                  -0.098374        -1.059550            1.633388   \n",
       "\n",
       "   SUM_TYPE_SIMPLIFIED_sim_type  TOTAL_DURATION        rh        rw  \n",
       "0                      0.366784       -0.331832  0.052708  0.338739  \n",
       "1                     -0.392211       -0.358720 -0.778042 -1.278860  \n",
       "2                     -0.392211       -0.323856  0.077142 -0.023410  \n",
       "3                     -0.392211       -0.275748 -0.619222 -0.633028  \n",
       "4                     -0.455461       -0.347836  1.708100  2.068001  "
      ]
     },
     "execution_count": 93,
     "metadata": {},
     "output_type": "execute_result"
    }
   ],
   "source": [
    "proc_test[cat_cols+cont_cols].head()"
   ]
  },
  {
   "cell_type": "code",
   "execution_count": 111,
   "metadata": {},
   "outputs": [
    {
     "name": "stdout",
     "output_type": "stream",
     "text": [
      "No. estimators: 44 | Train log loss: 0.26114524593167293 | Val log loss: 0.2674443694812228\n",
      "No. estimators: 39 | Train log loss: 0.2617120851006594 | Val log loss: 0.26991800536016025\n",
      "No. estimators: 77 | Train log loss: 0.25474035778258086 | Val log loss: 0.2741001564696571\n",
      "No. estimators: 54 | Train log loss: 0.25964288422485543 | Val log loss: 0.2673432582341888\n",
      "No. estimators: 41 | Train log loss: 0.26066999414092107 | Val log loss: 0.27272728481098757\n",
      "\n",
      "Train logloss: 25.96 +/- 0.50 | Val logloss: 27.03 +/- 0.55\n",
      "\n"
     ]
    }
   ],
   "source": [
    "import lightgbm as lgbm\n",
    "from src.utils_j import generate_validation_set, test_lgbm\n",
    "\n",
    "params = {\n",
    "    'objective' :'binary',\n",
    "    'max_depth' : 9,\n",
    "    'num_leaves': 50,\n",
    "    'min_child_samples': 10,\n",
    "    'scale_pos_weight': 1.0,\n",
    "    'subsample': 0.866999534037008,\n",
    "    'colsample_bytree': 0.2,\n",
    "    'boosting_type' : 'dart',\n",
    "    'xgboost_dart_mode': True,\n",
    "    'learning_rate': 0.0459,\n",
    "    'lambda_l2': 5.0,\n",
    "    #'metric': 'binary_logloss',\n",
    "    #'bagging_fraction': 0.5,\n",
    "}\n",
    "\n",
    "lgbm_test_preds = test_lgbm(lgbm, {'objective': 'binary'}, proc_all[cat_cols + cont_cols],\n",
    "                                   proc_all[target_col], \n",
    "                                   proc_test[cat_cols + cont_cols], \n",
    "                                   test_size=0.15, \n",
    "                                   random_seeds=[3, 15, 42, 120, 300], \n",
    "                                   cat_features=[0, 1])[0]"
   ]
  },
  {
   "cell_type": "code",
   "execution_count": 115,
   "metadata": {},
   "outputs": [],
   "source": [
    "from catboost import CatBoostClassifier\n",
    "from src.utils_j import test_catboost"
   ]
  },
  {
   "cell_type": "code",
   "execution_count": 118,
   "metadata": {},
   "outputs": [
    {
     "name": "stdout",
     "output_type": "stream",
     "text": [
      "No. estimators: 135 | Train log loss: 0.26149121865998737 | Val log loss: 0.2683198607922001\n",
      "No. estimators: 118 | Train log loss: 0.2634392523282075 | Val log loss: 0.2619176321374138\n",
      "No. estimators: 138 | Train log loss: 0.26197509730244506 | Val log loss: 0.2652024811440374\n",
      "No. estimators: 110 | Train log loss: 0.2613553545089968 | Val log loss: 0.2761651088223681\n",
      "No. estimators: 193 | Train log loss: 0.25830175189378357 | Val log loss: 0.2715194585201963\n",
      "\n",
      "Train logloss: 26.13 +/- 0.34 | Val logloss: 26.86 +/- 0.99\n",
      "\n"
     ]
    }
   ],
   "source": [
    "catboost_test_preds = test_catboost(CatBoostClassifier(iterations=1000, \n",
    "                                    random_seed=42, eval_metric='Logloss'), \n",
    "                                    proc_all[cat_cols + cont_cols],\n",
    "                                   proc_all[target_col], \n",
    "                                   proc_test[cat_cols + cont_cols], \n",
    "                                   test_size=0.15, \n",
    "                                   random_seeds=[5, 17, 45, 125, 305], \n",
    "                                   cat_features=[0, 1])[0]"
   ]
  },
  {
   "cell_type": "code",
   "execution_count": 119,
   "metadata": {},
   "outputs": [],
   "source": [
    "proc_test[target_col] = catboost_test_preds"
   ]
  },
  {
   "cell_type": "code",
   "execution_count": 120,
   "metadata": {},
   "outputs": [],
   "source": [
    "proc_test[[id_col, target_col]].to_csv(SUBMISSIONS/'robert_6_submit_catboost.csv', index=False)"
   ]
  },
  {
   "cell_type": "code",
   "execution_count": null,
   "metadata": {},
   "outputs": [],
   "source": [
    "model.load_state_dict(torch.load(f'data/neuralnet/model_e{best_epoch}.pt'))"
   ]
  },
  {
   "cell_type": "code",
   "execution_count": null,
   "metadata": {},
   "outputs": [],
   "source": [
    "from src.utils_r import MultimodalDataset\n",
    "from torch.utils.data import DataLoader\n",
    "\n",
    "def get_data(proc_all, proc_test, duration_seqs_train, action_seqs_train):\n",
    "    train_cat_seqs, test_cat_seqs = get_cat_seqs(events_fixed_seq, proc_all, \n",
    "                                            proc_test)\n",
    "    train_cont_seqs, test_cont_seqs = get_cont_seqs([duration_seqs_train, \n",
    "                                 action_seqs_train,\n",
    "                                 quantity_seqs_train], [duration_seqs_test,\n",
    "                                 action_seqs_test, quantity_seqs_test],\n",
    "                                 seqs_train_dict, seqs_test_dict, \n",
    "                                 proc_all, proc_test)\n",
    "    process_cats(proc_all, proc_test, cat_cols)\n",
    "    scale_conts(proc_all, proc_test, cont_cols)\n",
    "    \n",
    "\n",
    "    ds_trn = MultimodalDataset(proc_all[cat_cols], proc_all[cont_cols],\n",
    "                               train_cat_seqs, train_cont_seqs, proc_all[target_col])\n",
    "    ds_val = MultimodalDataset(proc_test[cat_cols], proc_test[cont_cols],\n",
    "                               test_cat_seqs, test_cont_seqs, proc_test[target_col])\n",
    "    \n",
    "    dl_trn = DataLoader(ds_trn, batch_size=128, shuffle=True)\n",
    "    dl_val = DataLoader(ds_val, batch_size=128)\n",
    "    \n",
    "    "
   ]
  },
  {
   "cell_type": "code",
   "execution_count": 122,
   "metadata": {},
   "outputs": [],
   "source": [
    "sub5 = pd.read_csv(SUBMISSIONS/'robert_5_submit_blend.csv')"
   ]
  },
  {
   "cell_type": "code",
   "execution_count": null,
   "metadata": {},
   "outputs": [],
   "source": []
  }
 ],
 "metadata": {
  "kernelspec": {
   "display_name": "Python [conda env:kaggle]",
   "language": "python",
   "name": "conda-env-kaggle-py"
  },
  "language_info": {
   "codemirror_mode": {
    "name": "ipython",
    "version": 3
   },
   "file_extension": ".py",
   "mimetype": "text/x-python",
   "name": "python",
   "nbconvert_exporter": "python",
   "pygments_lexer": "ipython3",
   "version": "3.6.4"
  }
 },
 "nbformat": 4,
 "nbformat_minor": 2
}
