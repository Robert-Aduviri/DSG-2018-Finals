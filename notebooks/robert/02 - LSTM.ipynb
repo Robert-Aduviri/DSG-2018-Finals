{
 "cells": [
  {
   "cell_type": "code",
   "execution_count": 1,
   "metadata": {},
   "outputs": [],
   "source": [
    "%load_ext autoreload\n",
    "%autoreload 2\n",
    "%matplotlib inline\n",
    "%config InlineBackend.figure_format = 'retina'\n",
    "\n",
    "import os\n",
    "import numpy as np, pandas as pd\n",
    "import matplotlib.pyplot as plt, seaborn as sns\n",
    "from tqdm import tqdm, tqdm_notebook\n",
    "from pathlib import Path\n",
    "sns.set()\n",
    "\n",
    "os.chdir('../..')\n",
    "\n",
    "DATA = Path('data')\n",
    "RAW  = DATA/'raw'\n",
    "PROCESSED = DATA/'processed'\n",
    "SUBMISSIONS = DATA/'submissions'"
   ]
  },
  {
   "cell_type": "code",
   "execution_count": 2,
   "metadata": {},
   "outputs": [],
   "source": [
    "pd.set_option('display.max_columns', 1000)\n",
    "pd.set_option('display.max_rows', 400)"
   ]
  },
  {
   "cell_type": "code",
   "execution_count": 3,
   "metadata": {},
   "outputs": [
    {
     "name": "stdout",
     "output_type": "stream",
     "text": [
      "CPU times: user 1min 6s, sys: 6.63 s, total: 1min 13s\n",
      "Wall time: 1min 13s\n"
     ]
    }
   ],
   "source": [
    "%%time\n",
    "categories = pd.read_csv(RAW/'productid_category.csv', low_memory=False)\n",
    "train_tracking = pd.read_csv(RAW/'train_tracking.csv', low_memory=False)\n",
    "test_tracking  = pd.read_csv(RAW/'test_tracking.csv', low_memory=False)\n",
    "train_session = pd.read_csv(RAW/'train_session.csv', low_memory=False)\n",
    "test_session  = pd.read_csv(RAW/'random_submission.csv', low_memory=False)"
   ]
  },
  {
   "cell_type": "code",
   "execution_count": 2,
   "metadata": {},
   "outputs": [],
   "source": [
    "nrows = 30\n",
    "ncatcols = 4\n",
    "ncontcols = 5\n",
    "seqlen = 10\n",
    "ncatseqcols = 2\n",
    "ncontseqcols = 3\n",
    "batch_size = 5\n",
    "\n",
    "def get_set(nrows):\n",
    "    cats = np.random.randint(0, 40, (nrows, ncatcols))\n",
    "    conts = np.random.rand(nrows, ncontcols)\n",
    "    catseqs = np.random.randint(0, 40, (nrows, seqlen, ncatseqcols))\n",
    "    contseqs = np.random.rand(nrows, seqlen, ncontseqcols)\n",
    "    targets = np.random.randint(0, 2, (nrows))\n",
    "    return MultimodalDataset(cats, conts, catseqs, contseqs, targets)"
   ]
  },
  {
   "cell_type": "code",
   "execution_count": 4,
   "metadata": {},
   "outputs": [],
   "source": [
    "from src.utils_r import MultimodalDataset\n",
    "from torch.utils.data import DataLoader\n",
    "ds_trn = get_set(200)\n",
    "ds_val = get_set(40)"
   ]
  },
  {
   "cell_type": "code",
   "execution_count": 5,
   "metadata": {},
   "outputs": [],
   "source": [
    "dl_trn = DataLoader(ds_trn, batch_size=5)\n",
    "dl_val = DataLoader(ds_val, batch_size=5)"
   ]
  },
  {
   "cell_type": "code",
   "execution_count": 6,
   "metadata": {},
   "outputs": [],
   "source": [
    "from src.utils_r import MultimodalNet"
   ]
  },
  {
   "cell_type": "code",
   "execution_count": 7,
   "metadata": {},
   "outputs": [],
   "source": [
    "emb_szs = [(45, 2), (50, 3), (43, 2), (42, 5)]\n",
    "n_cont = ncontcols\n",
    "emb_drop = 0.3\n",
    "szs = [200, 100]\n",
    "drops = [0.1, 0.1]\n",
    "\n",
    "rnn_hidden_sz = 15\n",
    "rnn_cont_sz = ncontseqcols\n",
    "rnn_emb_sz = [(41, 10), (50, 4)]\n",
    "rnn_n_layers = 2\n",
    "rnn_drop = 0.2\n",
    "rnn_out_sz = 1"
   ]
  },
  {
   "cell_type": "code",
   "execution_count": 8,
   "metadata": {},
   "outputs": [],
   "source": [
    "model = MultimodalNet(emb_szs, n_cont, emb_drop, szs, drops, \n",
    "                      rnn_hidden_sz, rnn_cont_sz, rnn_emb_sz, \n",
    "                      rnn_n_layers, rnn_drop, rnn_out_sz)"
   ]
  },
  {
   "cell_type": "code",
   "execution_count": 13,
   "metadata": {},
   "outputs": [],
   "source": [
    "from src.utils_r import train_model\n",
    "from torch import optim\n",
    "import torch.nn as nn\n"
   ]
  },
  {
   "cell_type": "code",
   "execution_count": 14,
   "metadata": {},
   "outputs": [],
   "source": [
    "optimizer = optim.Adam(model.parameters(), lr=3e-4)\n",
    "criterion = nn.BCEWithLogitsLoss()"
   ]
  },
  {
   "cell_type": "code",
   "execution_count": 21,
   "metadata": {},
   "outputs": [],
   "source": [
    "USE_CUDA = True"
   ]
  },
  {
   "cell_type": "code",
   "execution_count": 22,
   "metadata": {},
   "outputs": [],
   "source": [
    "model = MultimodalNet(emb_szs, n_cont, emb_drop, szs, drops, \n",
    "                      rnn_hidden_sz, rnn_cont_sz, rnn_emb_sz, \n",
    "                      rnn_n_layers, rnn_drop, rnn_out_sz)\n",
    "if USE_CUDA: model = model.cuda()\n",
    "optimizer = optim.Adam(model.parameters(), lr=3e-4)\n",
    "criterion = nn.BCEWithLogitsLoss()"
   ]
  },
  {
   "cell_type": "code",
   "execution_count": 23,
   "metadata": {},
   "outputs": [
    {
     "name": "stdout",
     "output_type": "stream",
     "text": [
      "Epoch: 1 | Train Logloss: 0.69 | Val Logloss: 0.72\n",
      "Epoch: 2 | Train Logloss: 0.69 | Val Logloss: 0.72\n",
      "Epoch: 3 | Train Logloss: 0.69 | Val Logloss: 0.72\n",
      "Epoch: 4 | Train Logloss: 0.69 | Val Logloss: 0.72\n",
      "Epoch: 5 | Train Logloss: 0.68 | Val Logloss: 0.72\n",
      "Epoch: 6 | Train Logloss: 0.68 | Val Logloss: 0.72\n",
      "Epoch: 7 | Train Logloss: 0.68 | Val Logloss: 0.73\n",
      "Epoch: 8 | Train Logloss: 0.67 | Val Logloss: 0.73\n",
      "Epoch: 9 | Train Logloss: 0.67 | Val Logloss: 0.72\n",
      "Epoch: 10 | Train Logloss: 0.67 | Val Logloss: 0.73\n"
     ]
    }
   ],
   "source": [
    "best_epoch = train_model(model, dl_trn, dl_val, optimizer, criterion, 10, USE_CUDA=USE_CUDA)"
   ]
  },
  {
   "cell_type": "code",
   "execution_count": 24,
   "metadata": {},
   "outputs": [],
   "source": [
    "from src.utils_r import eval_model\n",
    "y_val, y_val_pred = eval_model(model, dl_val, USE_CUDA=USE_CUDA)"
   ]
  },
  {
   "cell_type": "code",
   "execution_count": 25,
   "metadata": {},
   "outputs": [
    {
     "data": {
      "text/plain": [
       "0.7321644017554069"
      ]
     },
     "execution_count": 25,
     "metadata": {},
     "output_type": "execute_result"
    }
   ],
   "source": [
    "from sklearn.metrics import log_loss\n",
    "log_loss(y_val, y_val_pred)"
   ]
  },
  {
   "cell_type": "code",
   "execution_count": null,
   "metadata": {},
   "outputs": [],
   "source": []
  }
 ],
 "metadata": {
  "kernelspec": {
   "display_name": "Python [conda env:kaggle]",
   "language": "python",
   "name": "conda-env-kaggle-py"
  },
  "language_info": {
   "codemirror_mode": {
    "name": "ipython",
    "version": 3
   },
   "file_extension": ".py",
   "mimetype": "text/x-python",
   "name": "python",
   "nbconvert_exporter": "python",
   "pygments_lexer": "ipython3",
   "version": "3.6.4"
  }
 },
 "nbformat": 4,
 "nbformat_minor": 2
}
