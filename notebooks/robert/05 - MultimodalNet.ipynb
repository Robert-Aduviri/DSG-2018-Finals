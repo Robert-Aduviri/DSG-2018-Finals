{
 "cells": [
  {
   "cell_type": "code",
   "execution_count": 1,
   "metadata": {},
   "outputs": [],
   "source": [
    "%load_ext autoreload\n",
    "%autoreload 2\n",
    "%matplotlib inline\n",
    "%config InlineBackend.figure_format = 'retina'\n",
    "\n",
    "import os\n",
    "import numpy as np, pandas as pd\n",
    "import matplotlib.pyplot as plt, seaborn as sns\n",
    "from tqdm import tqdm, tqdm_notebook\n",
    "from pathlib import Path\n",
    "sns.set()\n",
    "\n",
    "os.chdir('../..')\n",
    "\n",
    "DATA = Path('data')\n",
    "RAW  = DATA/'raw'\n",
    "PROCESSED = DATA/'processed'\n",
    "SUBMISSIONS = DATA/'submissions'"
   ]
  },
  {
   "cell_type": "code",
   "execution_count": 2,
   "metadata": {},
   "outputs": [],
   "source": [
    "pd.set_option('display.max_columns', 1000)\n",
    "pd.set_option('display.max_rows', 400)"
   ]
  },
  {
   "cell_type": "code",
   "execution_count": 3,
   "metadata": {},
   "outputs": [
    {
     "name": "stderr",
     "output_type": "stream",
     "text": [
      "/anaconda/envs/kaggle/lib/python3.6/site-packages/pandas/io/feather_format.py:112: FutureWarning: `nthreads` argument is deprecated, pass `use_threads` instead\n",
      "  return feather.read_dataframe(path, nthreads=nthreads)\n"
     ]
    }
   ],
   "source": [
    "proc_train = pd.read_feather(PROCESSED/'proc_train.feather')\n",
    "proc_val = pd.read_feather(PROCESSED/'proc_val.feather')\n",
    "proc_all = pd.read_feather(PROCESSED/'proc_all.feather')\n",
    "proc_test = pd.read_feather(PROCESSED/'proc_test.feather')"
   ]
  },
  {
   "cell_type": "code",
   "execution_count": 69,
   "metadata": {},
   "outputs": [
    {
     "name": "stdout",
     "output_type": "stream",
     "text": [
      "CPU times: user 57.4 s, sys: 4.14 s, total: 1min 1s\n",
      "Wall time: 1min 1s\n"
     ]
    }
   ],
   "source": [
    "%%time\n",
    "test_session = pd.read_csv('data/raw/random_submission.csv')\n",
    "test_tracking = pd.read_csv('data/raw/test_tracking.csv')\n",
    "train_session = pd.read_csv('data/raw/train_session.csv') \n",
    "train_tracking = pd.read_csv('data/raw/train_tracking.csv')\n",
    "productid_category = pd.read_csv('data/raw/productid_category.csv')"
   ]
  },
  {
   "cell_type": "markdown",
   "metadata": {},
   "source": [
    "## Get sequences"
   ]
  },
  {
   "cell_type": "code",
   "execution_count": 71,
   "metadata": {},
   "outputs": [],
   "source": [
    "all_tracking = pd.concat([train_tracking, test_tracking])"
   ]
  },
  {
   "cell_type": "code",
   "execution_count": 72,
   "metadata": {},
   "outputs": [
    {
     "data": {
      "text/plain": [
       "(2263328, 31)"
      ]
     },
     "execution_count": 72,
     "metadata": {},
     "output_type": "execute_result"
    }
   ],
   "source": [
    "all_tracking.shape"
   ]
  },
  {
   "cell_type": "code",
   "execution_count": 89,
   "metadata": {},
   "outputs": [],
   "source": [
    "event_labels = {event: idx + 1 for idx, event in enumerate(all_tracking.type.unique())}"
   ]
  },
  {
   "cell_type": "code",
   "execution_count": 90,
   "metadata": {},
   "outputs": [],
   "source": [
    "all_tracking['type_id'] = all_tracking.type.map(event_labels)"
   ]
  },
  {
   "cell_type": "code",
   "execution_count": 91,
   "metadata": {},
   "outputs": [
    {
     "name": "stdout",
     "output_type": "stream",
     "text": [
      "CPU times: user 11 s, sys: 75.4 ms, total: 11 s\n",
      "Wall time: 11 s\n"
     ]
    }
   ],
   "source": [
    "%%time\n",
    "events_seq = all_tracking.groupby('sid')['type_id'].apply(list)"
   ]
  },
  {
   "cell_type": "code",
   "execution_count": 92,
   "metadata": {},
   "outputs": [
    {
     "data": {
      "text/plain": [
       "sid\n",
       "+++elmtsXqN289wWNi6auO1Fm7gyPkXmsKngig88cIqXDDlbW1XjYQ2lChpudqGX              [2, 3, 3, 3, 3, 5, 1, 3, 3, 3, 3, 3, 3]\n",
       "++0tYP9PmT6jX9O1WjUhWd7w3hWV6xSRMBOdA7HMoBukKsXCbSII2Ryt9Jb259+X                                      [1, 1, 1, 1, 1]\n",
       "++2CIH+Rnf2MBamibl+EPSMDTKmweZzRgeX/VDBussbBR8c9Yhop7+C2diacJXNE                                         [3, 5, 5, 3]\n",
       "++3a8LhdXKrKZJeNiBtuHj8znGF/eQADRi0GSnPSlqRajqvP5hVRmmRaJXqbdjsM    [3, 3, 5, 4, 1, 4, 1, 5, 3, 3, 3, 3, 3, 3, 3, ...\n",
       "++3dzXAmTuAQr+0il3jYZzqk8eoPk6TiffxCqNdQAKyBGp5bu/Hglr99EIB6uq9W                               [3, 3, 5, 1, 1, 10, 1]\n",
       "Name: type_id, dtype: object"
      ]
     },
     "execution_count": 92,
     "metadata": {},
     "output_type": "execute_result"
    }
   ],
   "source": [
    "events_seq.head()"
   ]
  },
  {
   "cell_type": "code",
   "execution_count": 155,
   "metadata": {},
   "outputs": [],
   "source": [
    "MAX_LEN = 30\n",
    "def pad_seq(x):\n",
    "    res = np.zeros(MAX_LEN).astype(int)\n",
    "    res[max(0, MAX_LEN - len(x)):] = x[-MAX_LEN:]\n",
    "    return res"
   ]
  },
  {
   "cell_type": "code",
   "execution_count": 156,
   "metadata": {},
   "outputs": [],
   "source": [
    "events_fixed_seq = events_seq.apply(pad_seq)"
   ]
  },
  {
   "cell_type": "code",
   "execution_count": 157,
   "metadata": {},
   "outputs": [
    {
     "data": {
      "text/plain": [
       "sid\n",
       "+++elmtsXqN289wWNi6auO1Fm7gyPkXmsKngig88cIqXDDlbW1XjYQ2lChpudqGX    [0, 0, 0, 0, 0, 0, 0, 0, 0, 0, 0, 0, 0, 0, 0, ...\n",
       "++0tYP9PmT6jX9O1WjUhWd7w3hWV6xSRMBOdA7HMoBukKsXCbSII2Ryt9Jb259+X    [0, 0, 0, 0, 0, 0, 0, 0, 0, 0, 0, 0, 0, 0, 0, ...\n",
       "++2CIH+Rnf2MBamibl+EPSMDTKmweZzRgeX/VDBussbBR8c9Yhop7+C2diacJXNE    [0, 0, 0, 0, 0, 0, 0, 0, 0, 0, 0, 0, 0, 0, 0, ...\n",
       "++3a8LhdXKrKZJeNiBtuHj8znGF/eQADRi0GSnPSlqRajqvP5hVRmmRaJXqbdjsM    [0, 0, 0, 0, 0, 0, 0, 0, 0, 0, 0, 0, 3, 3, 5, ...\n",
       "++3dzXAmTuAQr+0il3jYZzqk8eoPk6TiffxCqNdQAKyBGp5bu/Hglr99EIB6uq9W    [0, 0, 0, 0, 0, 0, 0, 0, 0, 0, 0, 0, 0, 0, 0, ...\n",
       "Name: type_id, dtype: object"
      ]
     },
     "execution_count": 157,
     "metadata": {},
     "output_type": "execute_result"
    }
   ],
   "source": [
    "events_fixed_seq.head()"
   ]
  },
  {
   "cell_type": "code",
   "execution_count": 423,
   "metadata": {},
   "outputs": [],
   "source": [
    "duration_seqs_train = np.load(PROCESSED/'f_duration_train.npy')\n",
    "duration_seqs_test = np.load(PROCESSED/'f_duration_test.npy')\n",
    "with open(PROCESSED/'f_sessionsmap_train.pkl', 'rb') as f:\n",
    "    duration_seqs_train_dict = pickle.load(f) \n",
    "with open(PROCESSED/'f_sessionsmap_test.pkl', 'rb') as f:\n",
    "    duration_seqs_test_dict = pickle.load(f) \n",
    "    \n",
    "action_seqs_train = np.load(PROCESSED/'f_actions_train.npy')\n",
    "action_seqs_test = np.load(PROCESSED/'f_actions_test.npy')\n",
    "\n",
    "quantity_seqs_train = np.load(PROCESSED/'f_quantity_train.npy')\n",
    "quantity_seqs_test = np.load(PROCESSED/'f_quantity_test.npy')"
   ]
  },
  {
   "cell_type": "markdown",
   "metadata": {},
   "source": [
    "## Read metadata"
   ]
  },
  {
   "cell_type": "code",
   "execution_count": 424,
   "metadata": {},
   "outputs": [
    {
     "name": "stderr",
     "output_type": "stream",
     "text": [
      "/anaconda/envs/kaggle/lib/python3.6/site-packages/pandas/io/feather_format.py:112: FutureWarning: `nthreads` argument is deprecated, pass `use_threads` instead\n",
      "  return feather.read_dataframe(path, nthreads=nthreads)\n"
     ]
    }
   ],
   "source": [
    "proc_train = pd.read_feather(PROCESSED/'proc_train.feather')\n",
    "proc_val = pd.read_feather(PROCESSED/'proc_val.feather')\n",
    "proc_all = pd.read_feather(PROCESSED/'proc_all.feather')\n",
    "proc_test = pd.read_feather(PROCESSED/'proc_test.feather')"
   ]
  },
  {
   "cell_type": "code",
   "execution_count": 425,
   "metadata": {},
   "outputs": [],
   "source": [
    "train_ids = set(proc_train.sid)\n",
    "val_ids = set(proc_val.sid)"
   ]
  },
  {
   "cell_type": "code",
   "execution_count": 426,
   "metadata": {},
   "outputs": [],
   "source": [
    "train_cat_seqs = events_fixed_seq[list(proc_train.sid)]\n",
    "val_cat_seqs = events_fixed_seq[list(proc_val.sid)]"
   ]
  },
  {
   "cell_type": "code",
   "execution_count": 427,
   "metadata": {},
   "outputs": [],
   "source": [
    "train_cat_seqs = np.stack(train_cat_seqs).reshape((-1, MAX_LEN, 1))\n",
    "val_cat_seqs = np.stack(val_cat_seqs).reshape((-1, MAX_LEN, 1))"
   ]
  },
  {
   "cell_type": "code",
   "execution_count": 428,
   "metadata": {},
   "outputs": [
    {
     "data": {
      "text/plain": [
       "(133123, 30, 2)"
      ]
     },
     "execution_count": 428,
     "metadata": {},
     "output_type": "execute_result"
    }
   ],
   "source": [
    "duration_seqs_train.shape"
   ]
  },
  {
   "cell_type": "code",
   "execution_count": 429,
   "metadata": {},
   "outputs": [
    {
     "data": {
      "text/plain": [
       "(133123, 30, 3)"
      ]
     },
     "execution_count": 429,
     "metadata": {},
     "output_type": "execute_result"
    }
   ],
   "source": [
    "action_seqs_train.shape"
   ]
  },
  {
   "cell_type": "code",
   "execution_count": 430,
   "metadata": {},
   "outputs": [
    {
     "data": {
      "text/plain": [
       "(133123, 30, 1)"
      ]
     },
     "execution_count": 430,
     "metadata": {},
     "output_type": "execute_result"
    }
   ],
   "source": [
    "quantity_seqs_train.shape"
   ]
  },
  {
   "cell_type": "code",
   "execution_count": 431,
   "metadata": {},
   "outputs": [],
   "source": [
    "train_cont_seqs = np.concatenate([\n",
    "    duration_seqs_train[[duration_seqs_train_dict[sid] for sid in proc_train.sid]],\n",
    "    action_seqs_train[[duration_seqs_train_dict[sid] for sid in proc_train.sid]],\n",
    "    quantity_seqs_train[[duration_seqs_train_dict[sid] for sid in proc_train.sid]]\n",
    "], axis=2)\n",
    "val_cont_seqs = np.concatenate([\n",
    "    duration_seqs_train[[duration_seqs_train_dict[sid] for sid in proc_val.sid]],\n",
    "    action_seqs_train[[duration_seqs_train_dict[sid] for sid in proc_val.sid]],\n",
    "    quantity_seqs_train[[duration_seqs_train_dict[sid] for sid in proc_val.sid]]\n",
    "], axis=2)"
   ]
  },
  {
   "cell_type": "code",
   "execution_count": 432,
   "metadata": {},
   "outputs": [
    {
     "data": {
      "text/plain": [
       "((79873, 30, 6), (53250, 30, 6))"
      ]
     },
     "execution_count": 432,
     "metadata": {},
     "output_type": "execute_result"
    }
   ],
   "source": [
    "train_cont_seqs.shape, val_cont_seqs.shape"
   ]
  },
  {
   "cell_type": "code",
   "execution_count": 433,
   "metadata": {},
   "outputs": [],
   "source": [
    "cat_cols = ['device', 'siteid']\n",
    "target_col = 'target'\n",
    "id_col = 'sid'\n",
    "cont_cols = [x for x in proc_train.columns if x not in cat_cols + [target_col, id_col]]"
   ]
  },
  {
   "cell_type": "code",
   "execution_count": 434,
   "metadata": {},
   "outputs": [],
   "source": [
    "from src.utils_r import to_cat_codes, apply_cats\n",
    "to_cat_codes(proc_train, cat_cols)\n",
    "apply_cats(proc_val, proc_train)\n",
    "for df in [proc_train, proc_val]:\n",
    "    for col in cat_cols:\n",
    "        df[col] = df[col].cat.codes"
   ]
  },
  {
   "cell_type": "code",
   "execution_count": 435,
   "metadata": {},
   "outputs": [],
   "source": [
    "proc_train['device'] = proc_train.device + 1\n",
    "proc_val['device'] = proc_val.device + 1"
   ]
  },
  {
   "cell_type": "markdown",
   "metadata": {},
   "source": [
    "## Standard Scaling"
   ]
  },
  {
   "cell_type": "code",
   "execution_count": 436,
   "metadata": {},
   "outputs": [
    {
     "data": {
      "text/plain": [
       "StandardScaler(copy=True, with_mean=True, with_std=True)"
      ]
     },
     "execution_count": 436,
     "metadata": {},
     "output_type": "execute_result"
    }
   ],
   "source": [
    "from sklearn.preprocessing import StandardScaler\n",
    "scaler = StandardScaler()\n",
    "scaler.fit(pd.concat([proc_train[cont_cols], proc_val[cont_cols]]))"
   ]
  },
  {
   "cell_type": "code",
   "execution_count": 437,
   "metadata": {},
   "outputs": [],
   "source": [
    "proc_train_cont_norm = scaler.transform(proc_train[cont_cols])\n",
    "proc_val_cont_norm = scaler.transform(proc_val[cont_cols])"
   ]
  },
  {
   "cell_type": "code",
   "execution_count": 438,
   "metadata": {},
   "outputs": [],
   "source": [
    "for i, col in enumerate(cont_cols):\n",
    "    proc_train[col] = proc_train_cont_norm[:, i]\n",
    "    proc_val[col] = proc_val_cont_norm[:, i]"
   ]
  },
  {
   "cell_type": "code",
   "execution_count": 439,
   "metadata": {},
   "outputs": [],
   "source": [
    "# DONE: normalize duration, rh and rw"
   ]
  },
  {
   "cell_type": "code",
   "execution_count": 440,
   "metadata": {},
   "outputs": [],
   "source": [
    "from src.utils_r import MultimodalDataset\n",
    "from torch.utils.data import DataLoader\n",
    "ds_trn = MultimodalDataset(proc_train[cat_cols], proc_train[cont_cols],\n",
    "                           train_cat_seqs, train_cont_seqs, proc_train[target_col])\n",
    "ds_val = MultimodalDataset(proc_val[cat_cols], proc_val[cont_cols],\n",
    "                           val_cat_seqs, val_cont_seqs, proc_val[target_col])"
   ]
  },
  {
   "cell_type": "code",
   "execution_count": 441,
   "metadata": {},
   "outputs": [],
   "source": [
    "dl_trn = DataLoader(ds_trn, batch_size=128, shuffle=True)\n",
    "dl_val = DataLoader(ds_val, batch_size=128)"
   ]
  },
  {
   "cell_type": "code",
   "execution_count": 450,
   "metadata": {},
   "outputs": [],
   "source": [
    "from src.utils_r import MultimodalNet"
   ]
  },
  {
   "cell_type": "code",
   "execution_count": 451,
   "metadata": {},
   "outputs": [],
   "source": [
    "cat_szs = [int(proc_train[col].max() + 1) for col in cat_cols]\n",
    "emb_szs = [(c, min(20, (c+1)//2)) for c in cat_szs]\n",
    "\n",
    "n_cont = len(cont_cols)\n",
    "emb_drop = 0.3\n",
    "szs = [400, 200]\n",
    "drops = [0.1, 0.1]\n",
    "\n",
    "rnn_hidden_sz = 64\n",
    "rnn_cont_sz = int(train_cont_seqs.shape[2])\n",
    "\n",
    "rnn_cat_szs = [int(train_cat_seqs[:,:,0].max()+1)]\n",
    "rnn_emb_szs = [(c, min(20, (c+1)//2)) for c in rnn_cat_szs]\n",
    "\n",
    "rnn_n_layers = 2\n",
    "rnn_drop = 0.2\n",
    "lin_sz = 10\n",
    "drop = 0.3\n",
    "out_sz = 1"
   ]
  },
  {
   "cell_type": "code",
   "execution_count": 452,
   "metadata": {},
   "outputs": [
    {
     "data": {
      "text/plain": [
       "([(4, 2), (3, 2)], [(22, 11)], 6)"
      ]
     },
     "execution_count": 452,
     "metadata": {},
     "output_type": "execute_result"
    }
   ],
   "source": [
    "emb_szs, rnn_emb_szs, rnn_cont_sz"
   ]
  },
  {
   "cell_type": "code",
   "execution_count": 453,
   "metadata": {},
   "outputs": [],
   "source": [
    "from src.utils_r import train_model\n",
    "from torch import optim\n",
    "import torch.nn as nn"
   ]
  },
  {
   "cell_type": "code",
   "execution_count": 454,
   "metadata": {},
   "outputs": [],
   "source": [
    "USE_CUDA = True"
   ]
  },
  {
   "cell_type": "code",
   "execution_count": 456,
   "metadata": {},
   "outputs": [],
   "source": [
    "model = MultimodalNet(emb_szs, n_cont, emb_drop, szs, drops, \n",
    "                      rnn_hidden_sz, rnn_cont_sz, rnn_emb_szs, \n",
    "                      rnn_n_layers, rnn_drop, lin_sz, drop, out_sz)\n",
    "if USE_CUDA: model = model.cuda()\n",
    "optimizer = optim.Adam(model.parameters(), lr=3e-4)\n",
    "criterion = nn.BCEWithLogitsLoss()"
   ]
  },
  {
   "cell_type": "code",
   "execution_count": 457,
   "metadata": {},
   "outputs": [
    {
     "name": "stdout",
     "output_type": "stream",
     "text": [
      "Train Epoch: 1 [12800/79873 (16%)]\tLoss: 0.777043\n",
      "Train Epoch: 1 [25600/79873 (32%)]\tLoss: 0.688602\n",
      "Train Epoch: 1 [38400/79873 (48%)]\tLoss: 0.627037\n",
      "Train Epoch: 1 [51200/79873 (64%)]\tLoss: 0.575600\n",
      "Train Epoch: 1 [64000/79873 (80%)]\tLoss: 0.519032\n",
      "Train Epoch: 1 [76800/79873 (96%)]\tLoss: 0.469618\n",
      "Epoch: 1 | Train Logloss: 0.413192 | Val Logloss: 0.416137\n",
      "Train Epoch: 2 [12800/79873 (16%)]\tLoss: 0.423960\n",
      "Train Epoch: 2 [25600/79873 (32%)]\tLoss: 0.390985\n",
      "Train Epoch: 2 [38400/79873 (48%)]\tLoss: 0.358696\n",
      "Train Epoch: 2 [51200/79873 (64%)]\tLoss: 0.338955\n",
      "Train Epoch: 2 [64000/79873 (80%)]\tLoss: 0.330853\n",
      "Train Epoch: 2 [76800/79873 (96%)]\tLoss: 0.317385\n",
      "Epoch: 2 | Train Logloss: 0.295625 | Val Logloss: 0.300249\n",
      "Train Epoch: 3 [12800/79873 (16%)]\tLoss: 0.304431\n",
      "Train Epoch: 3 [25600/79873 (32%)]\tLoss: 0.298639\n",
      "Train Epoch: 3 [38400/79873 (48%)]\tLoss: 0.292550\n",
      "Train Epoch: 3 [51200/79873 (64%)]\tLoss: 0.295712\n",
      "Train Epoch: 3 [64000/79873 (80%)]\tLoss: 0.296532\n",
      "Train Epoch: 3 [76800/79873 (96%)]\tLoss: 0.279131\n",
      "Epoch: 3 | Train Logloss: 0.271246 | Val Logloss: 0.278980\n",
      "Train Epoch: 4 [12800/79873 (16%)]\tLoss: 0.288213\n",
      "Train Epoch: 4 [25600/79873 (32%)]\tLoss: 0.282801\n",
      "Train Epoch: 4 [38400/79873 (48%)]\tLoss: 0.279484\n",
      "Train Epoch: 4 [51200/79873 (64%)]\tLoss: 0.281759\n",
      "Train Epoch: 4 [64000/79873 (80%)]\tLoss: 0.279345\n",
      "Train Epoch: 4 [76800/79873 (96%)]\tLoss: 0.283266\n",
      "Epoch: 4 | Train Logloss: 0.268981 | Val Logloss: 0.277158\n",
      "Train Epoch: 5 [12800/79873 (16%)]\tLoss: 0.286752\n",
      "Train Epoch: 5 [25600/79873 (32%)]\tLoss: 0.283773\n",
      "Train Epoch: 5 [38400/79873 (48%)]\tLoss: 0.276208\n",
      "Train Epoch: 5 [51200/79873 (64%)]\tLoss: 0.274333\n",
      "Train Epoch: 5 [64000/79873 (80%)]\tLoss: 0.280836\n",
      "Train Epoch: 5 [76800/79873 (96%)]\tLoss: 0.278829\n",
      "Epoch: 5 | Train Logloss: 0.266843 | Val Logloss: 0.276515\n",
      "Train Epoch: 6 [12800/79873 (16%)]\tLoss: 0.278602\n",
      "Train Epoch: 6 [25600/79873 (32%)]\tLoss: 0.282516\n",
      "Train Epoch: 6 [38400/79873 (48%)]\tLoss: 0.268239\n",
      "Train Epoch: 6 [51200/79873 (64%)]\tLoss: 0.291442\n",
      "Train Epoch: 6 [64000/79873 (80%)]\tLoss: 0.273169\n",
      "Train Epoch: 6 [76800/79873 (96%)]\tLoss: 0.278043\n",
      "Epoch: 6 | Train Logloss: 0.266716 | Val Logloss: 0.275486\n",
      "Train Epoch: 7 [12800/79873 (16%)]\tLoss: 0.281661\n",
      "Train Epoch: 7 [25600/79873 (32%)]\tLoss: 0.273039\n",
      "Train Epoch: 7 [38400/79873 (48%)]\tLoss: 0.282782\n",
      "Train Epoch: 7 [51200/79873 (64%)]\tLoss: 0.272976\n",
      "Train Epoch: 7 [64000/79873 (80%)]\tLoss: 0.286330\n",
      "Train Epoch: 7 [76800/79873 (96%)]\tLoss: 0.274215\n",
      "Epoch: 7 | Train Logloss: 0.268830 | Val Logloss: 0.277280\n",
      "Train Epoch: 8 [12800/79873 (16%)]\tLoss: 0.278079\n",
      "Train Epoch: 8 [25600/79873 (32%)]\tLoss: 0.290002\n",
      "Train Epoch: 8 [38400/79873 (48%)]\tLoss: 0.278013\n",
      "Train Epoch: 8 [51200/79873 (64%)]\tLoss: 0.271144\n",
      "Train Epoch: 8 [64000/79873 (80%)]\tLoss: 0.271813\n",
      "Train Epoch: 8 [76800/79873 (96%)]\tLoss: 0.273239\n",
      "Epoch: 8 | Train Logloss: 0.266404 | Val Logloss: 0.276095\n",
      "Train Epoch: 9 [12800/79873 (16%)]\tLoss: 0.273287\n",
      "Train Epoch: 9 [25600/79873 (32%)]\tLoss: 0.274640\n",
      "Train Epoch: 9 [38400/79873 (48%)]\tLoss: 0.282125\n",
      "Train Epoch: 9 [51200/79873 (64%)]\tLoss: 0.276769\n",
      "Train Epoch: 9 [64000/79873 (80%)]\tLoss: 0.273568\n",
      "Train Epoch: 9 [76800/79873 (96%)]\tLoss: 0.273517\n",
      "Epoch: 9 | Train Logloss: 0.266314 | Val Logloss: 0.275991\n",
      "Train Epoch: 10 [12800/79873 (16%)]\tLoss: 0.286610\n",
      "Train Epoch: 10 [25600/79873 (32%)]\tLoss: 0.268764\n",
      "Train Epoch: 10 [38400/79873 (48%)]\tLoss: 0.276515\n",
      "Train Epoch: 10 [51200/79873 (64%)]\tLoss: 0.279350\n",
      "Train Epoch: 10 [64000/79873 (80%)]\tLoss: 0.267817\n",
      "Train Epoch: 10 [76800/79873 (96%)]\tLoss: 0.273338\n",
      "Epoch: 10 | Train Logloss: 0.265681 | Val Logloss: 0.274772\n",
      "CPU times: user 2min 44s, sys: 14.8 s, total: 2min 58s\n",
      "Wall time: 2min 58s\n"
     ]
    }
   ],
   "source": [
    "%%time\n",
    "best_epoch = train_model(model, dl_trn, dl_val, optimizer, criterion, \n",
    "                         n_epochs=10, print_every=100, USE_CUDA=USE_CUDA)"
   ]
  },
  {
   "cell_type": "code",
   "execution_count": 458,
   "metadata": {},
   "outputs": [
    {
     "name": "stdout",
     "output_type": "stream",
     "text": [
      "Train Epoch: 1 [12800/79873 (16%)]\tLoss: 0.274260\n",
      "Train Epoch: 1 [25600/79873 (32%)]\tLoss: 0.276352\n",
      "Train Epoch: 1 [38400/79873 (48%)]\tLoss: 0.264768\n",
      "Train Epoch: 1 [51200/79873 (64%)]\tLoss: 0.273714\n",
      "Train Epoch: 1 [64000/79873 (80%)]\tLoss: 0.272858\n",
      "Train Epoch: 1 [76800/79873 (96%)]\tLoss: 0.278655\n",
      "Epoch: 1 | Train Logloss: 0.264688 | Val Logloss: 0.274732\n",
      "Train Epoch: 2 [12800/79873 (16%)]\tLoss: 0.276613\n",
      "Train Epoch: 2 [25600/79873 (32%)]\tLoss: 0.286533\n",
      "Train Epoch: 2 [38400/79873 (48%)]\tLoss: 0.265096\n",
      "Train Epoch: 2 [51200/79873 (64%)]\tLoss: 0.266825\n",
      "Train Epoch: 2 [64000/79873 (80%)]\tLoss: 0.272577\n",
      "Train Epoch: 2 [76800/79873 (96%)]\tLoss: 0.273973\n",
      "Epoch: 2 | Train Logloss: 0.266129 | Val Logloss: 0.276498\n",
      "Train Epoch: 3 [12800/79873 (16%)]\tLoss: 0.276578\n",
      "Train Epoch: 3 [25600/79873 (32%)]\tLoss: 0.273412\n",
      "Train Epoch: 3 [38400/79873 (48%)]\tLoss: 0.268947\n",
      "Train Epoch: 3 [51200/79873 (64%)]\tLoss: 0.272426\n",
      "Train Epoch: 3 [64000/79873 (80%)]\tLoss: 0.273183\n",
      "Train Epoch: 3 [76800/79873 (96%)]\tLoss: 0.274252\n",
      "Epoch: 3 | Train Logloss: 0.264348 | Val Logloss: 0.274727\n",
      "Train Epoch: 4 [12800/79873 (16%)]\tLoss: 0.275794\n",
      "Train Epoch: 4 [25600/79873 (32%)]\tLoss: 0.270092\n",
      "Train Epoch: 4 [38400/79873 (48%)]\tLoss: 0.280001\n",
      "Train Epoch: 4 [51200/79873 (64%)]\tLoss: 0.276613\n",
      "Train Epoch: 4 [64000/79873 (80%)]\tLoss: 0.264854\n",
      "Train Epoch: 4 [76800/79873 (96%)]\tLoss: 0.267756\n",
      "Epoch: 4 | Train Logloss: 0.265615 | Val Logloss: 0.276037\n",
      "Train Epoch: 5 [12800/79873 (16%)]\tLoss: 0.283588\n",
      "Train Epoch: 5 [25600/79873 (32%)]\tLoss: 0.267018\n",
      "Train Epoch: 5 [38400/79873 (48%)]\tLoss: 0.271791\n",
      "Train Epoch: 5 [51200/79873 (64%)]\tLoss: 0.265819\n",
      "Train Epoch: 5 [64000/79873 (80%)]\tLoss: 0.269537\n",
      "Train Epoch: 5 [76800/79873 (96%)]\tLoss: 0.275962\n",
      "Epoch: 5 | Train Logloss: 0.264649 | Val Logloss: 0.275034\n",
      "Train Epoch: 6 [12800/79873 (16%)]\tLoss: 0.272175\n",
      "Train Epoch: 6 [25600/79873 (32%)]\tLoss: 0.264794\n",
      "Train Epoch: 6 [38400/79873 (48%)]\tLoss: 0.275040\n",
      "Train Epoch: 6 [51200/79873 (64%)]\tLoss: 0.273105\n",
      "Train Epoch: 6 [64000/79873 (80%)]\tLoss: 0.268837\n",
      "Train Epoch: 6 [76800/79873 (96%)]\tLoss: 0.271108\n",
      "Epoch: 6 | Train Logloss: 0.263656 | Val Logloss: 0.274558\n",
      "Train Epoch: 7 [12800/79873 (16%)]\tLoss: 0.271169\n",
      "Train Epoch: 7 [25600/79873 (32%)]\tLoss: 0.267114\n",
      "Train Epoch: 7 [38400/79873 (48%)]\tLoss: 0.275774\n",
      "Train Epoch: 7 [51200/79873 (64%)]\tLoss: 0.266312\n",
      "Train Epoch: 7 [64000/79873 (80%)]\tLoss: 0.279303\n",
      "Train Epoch: 7 [76800/79873 (96%)]\tLoss: 0.271161\n",
      "Epoch: 7 | Train Logloss: 0.263431 | Val Logloss: 0.274303\n",
      "Train Epoch: 8 [12800/79873 (16%)]\tLoss: 0.270654\n",
      "Train Epoch: 8 [25600/79873 (32%)]\tLoss: 0.281559\n",
      "Train Epoch: 8 [38400/79873 (48%)]\tLoss: 0.268173\n",
      "Train Epoch: 8 [51200/79873 (64%)]\tLoss: 0.259340\n",
      "Train Epoch: 8 [64000/79873 (80%)]\tLoss: 0.275356\n",
      "Train Epoch: 8 [76800/79873 (96%)]\tLoss: 0.270050\n",
      "Epoch: 8 | Train Logloss: 0.264103 | Val Logloss: 0.274672\n",
      "Train Epoch: 9 [12800/79873 (16%)]\tLoss: 0.278209\n",
      "Train Epoch: 9 [25600/79873 (32%)]\tLoss: 0.275333\n",
      "Train Epoch: 9 [38400/79873 (48%)]\tLoss: 0.268624\n",
      "Train Epoch: 9 [51200/79873 (64%)]\tLoss: 0.255852\n",
      "Train Epoch: 9 [64000/79873 (80%)]\tLoss: 0.273242\n",
      "Train Epoch: 9 [76800/79873 (96%)]\tLoss: 0.268947\n",
      "Epoch: 9 | Train Logloss: 0.263260 | Val Logloss: 0.274751\n",
      "Train Epoch: 10 [12800/79873 (16%)]\tLoss: 0.274377\n",
      "Train Epoch: 10 [25600/79873 (32%)]\tLoss: 0.272411\n",
      "Train Epoch: 10 [38400/79873 (48%)]\tLoss: 0.267918\n",
      "Train Epoch: 10 [51200/79873 (64%)]\tLoss: 0.266894\n",
      "Train Epoch: 10 [64000/79873 (80%)]\tLoss: 0.268727\n",
      "Train Epoch: 10 [76800/79873 (96%)]\tLoss: 0.273240\n",
      "Epoch: 10 | Train Logloss: 0.265792 | Val Logloss: 0.275614\n",
      "CPU times: user 2min 42s, sys: 14.1 s, total: 2min 56s\n",
      "Wall time: 2min 55s\n"
     ]
    }
   ],
   "source": [
    "%%time\n",
    "best_epoch = train_model(model, dl_trn, dl_val, optimizer, criterion, \n",
    "                         n_epochs=10, print_every=100, USE_CUDA=USE_CUDA)"
   ]
  },
  {
   "cell_type": "code",
   "execution_count": 448,
   "metadata": {},
   "outputs": [
    {
     "name": "stdout",
     "output_type": "stream",
     "text": [
      "Train Epoch: 1 [12800/79873 (16%)]\tLoss: 0.471803\n",
      "Train Epoch: 1 [25600/79873 (32%)]\tLoss: 0.278739\n",
      "Train Epoch: 1 [38400/79873 (48%)]\tLoss: 0.275405\n",
      "Train Epoch: 1 [51200/79873 (64%)]\tLoss: 0.274110\n",
      "Train Epoch: 1 [64000/79873 (80%)]\tLoss: 0.274184\n",
      "Train Epoch: 1 [76800/79873 (96%)]\tLoss: 0.274947\n",
      "Epoch: 1 | Train Logloss: 0.277655 | Val Logloss: 0.284134\n",
      "Train Epoch: 2 [12800/79873 (16%)]\tLoss: 0.275872\n",
      "Train Epoch: 2 [25600/79873 (32%)]\tLoss: 0.271274\n",
      "Train Epoch: 2 [38400/79873 (48%)]\tLoss: 0.275550\n",
      "Train Epoch: 2 [51200/79873 (64%)]\tLoss: 0.270100\n",
      "Train Epoch: 2 [64000/79873 (80%)]\tLoss: 0.265433\n",
      "Train Epoch: 2 [76800/79873 (96%)]\tLoss: 0.272954\n",
      "Epoch: 2 | Train Logloss: 0.269742 | Val Logloss: 0.277761\n",
      "Train Epoch: 3 [12800/79873 (16%)]\tLoss: 0.280461\n",
      "Train Epoch: 3 [25600/79873 (32%)]\tLoss: 0.264900\n",
      "Train Epoch: 3 [38400/79873 (48%)]\tLoss: 0.267394\n",
      "Train Epoch: 3 [51200/79873 (64%)]\tLoss: 0.261557\n",
      "Train Epoch: 3 [64000/79873 (80%)]\tLoss: 0.280019\n",
      "Train Epoch: 3 [76800/79873 (96%)]\tLoss: 0.271685\n",
      "Epoch: 3 | Train Logloss: 0.272038 | Val Logloss: 0.280506\n",
      "Train Epoch: 4 [12800/79873 (16%)]\tLoss: 0.269741\n",
      "Train Epoch: 4 [25600/79873 (32%)]\tLoss: 0.273534\n",
      "Train Epoch: 4 [38400/79873 (48%)]\tLoss: 0.272292\n",
      "Train Epoch: 4 [51200/79873 (64%)]\tLoss: 0.272663\n",
      "Train Epoch: 4 [64000/79873 (80%)]\tLoss: 0.269138\n",
      "Train Epoch: 4 [76800/79873 (96%)]\tLoss: 0.264808\n",
      "Epoch: 4 | Train Logloss: 0.270691 | Val Logloss: 0.278616\n",
      "Train Epoch: 5 [12800/79873 (16%)]\tLoss: 0.278859\n",
      "Train Epoch: 5 [25600/79873 (32%)]\tLoss: 0.278512\n",
      "Train Epoch: 5 [38400/79873 (48%)]\tLoss: 0.268194\n",
      "Train Epoch: 5 [51200/79873 (64%)]\tLoss: 0.271623\n",
      "Train Epoch: 5 [64000/79873 (80%)]\tLoss: 0.258075\n",
      "Train Epoch: 5 [76800/79873 (96%)]\tLoss: 0.258377\n",
      "Epoch: 5 | Train Logloss: 0.267022 | Val Logloss: 0.275760\n",
      "Train Epoch: 6 [12800/79873 (16%)]\tLoss: 0.270857\n",
      "Train Epoch: 6 [25600/79873 (32%)]\tLoss: 0.263223\n",
      "Train Epoch: 6 [38400/79873 (48%)]\tLoss: 0.268256\n",
      "Train Epoch: 6 [51200/79873 (64%)]\tLoss: 0.272172\n",
      "Train Epoch: 6 [64000/79873 (80%)]\tLoss: 0.269110\n",
      "Train Epoch: 6 [76800/79873 (96%)]\tLoss: 0.263687\n",
      "Epoch: 6 | Train Logloss: 0.269507 | Val Logloss: 0.276776\n",
      "Train Epoch: 7 [12800/79873 (16%)]\tLoss: 0.267367\n",
      "Train Epoch: 7 [25600/79873 (32%)]\tLoss: 0.258998\n",
      "Train Epoch: 7 [38400/79873 (48%)]\tLoss: 0.269558\n",
      "Train Epoch: 7 [51200/79873 (64%)]\tLoss: 0.273750\n",
      "Train Epoch: 7 [64000/79873 (80%)]\tLoss: 0.268236\n",
      "Train Epoch: 7 [76800/79873 (96%)]\tLoss: 0.271129\n",
      "Epoch: 7 | Train Logloss: 0.264949 | Val Logloss: 0.274490\n",
      "Train Epoch: 8 [12800/79873 (16%)]\tLoss: 0.271477\n",
      "Train Epoch: 8 [25600/79873 (32%)]\tLoss: 0.267797\n",
      "Train Epoch: 8 [38400/79873 (48%)]\tLoss: 0.275602\n",
      "Train Epoch: 8 [51200/79873 (64%)]\tLoss: 0.269168\n",
      "Train Epoch: 8 [64000/79873 (80%)]\tLoss: 0.261737\n",
      "Train Epoch: 8 [76800/79873 (96%)]\tLoss: 0.259944\n",
      "Epoch: 8 | Train Logloss: 0.267620 | Val Logloss: 0.275656\n",
      "Train Epoch: 9 [12800/79873 (16%)]\tLoss: 0.267430\n",
      "Train Epoch: 9 [25600/79873 (32%)]\tLoss: 0.266306\n",
      "Train Epoch: 9 [38400/79873 (48%)]\tLoss: 0.254174\n",
      "Train Epoch: 9 [51200/79873 (64%)]\tLoss: 0.270632\n",
      "Train Epoch: 9 [64000/79873 (80%)]\tLoss: 0.277381\n",
      "Train Epoch: 9 [76800/79873 (96%)]\tLoss: 0.265058\n",
      "Epoch: 9 | Train Logloss: 0.265080 | Val Logloss: 0.274404\n",
      "Train Epoch: 10 [12800/79873 (16%)]\tLoss: 0.266332\n",
      "Train Epoch: 10 [25600/79873 (32%)]\tLoss: 0.271932\n",
      "Train Epoch: 10 [38400/79873 (48%)]\tLoss: 0.262260\n",
      "Train Epoch: 10 [51200/79873 (64%)]\tLoss: 0.263543\n",
      "Train Epoch: 10 [64000/79873 (80%)]\tLoss: 0.272217\n",
      "Train Epoch: 10 [76800/79873 (96%)]\tLoss: 0.261642\n",
      "Epoch: 10 | Train Logloss: 0.266055 | Val Logloss: 0.275820\n",
      "CPU times: user 2min 40s, sys: 16.1 s, total: 2min 56s\n",
      "Wall time: 2min 56s\n"
     ]
    }
   ],
   "source": [
    "%%time\n",
    "best_epoch = train_model(model, dl_trn, dl_val, optimizer, criterion, \n",
    "                         n_epochs=10, print_every=100, USE_CUDA=USE_CUDA)"
   ]
  },
  {
   "cell_type": "code",
   "execution_count": 301,
   "metadata": {},
   "outputs": [
    {
     "name": "stdout",
     "output_type": "stream",
     "text": [
      "Train Epoch: 1 [12800/79873 (16%)]\tLoss: 0.546910\n",
      "Train Epoch: 1 [25600/79873 (32%)]\tLoss: 0.290007\n",
      "Train Epoch: 1 [38400/79873 (48%)]\tLoss: 0.277609\n",
      "Train Epoch: 1 [51200/79873 (64%)]\tLoss: 0.267862\n",
      "Train Epoch: 1 [64000/79873 (80%)]\tLoss: 0.273598\n",
      "Train Epoch: 1 [76800/79873 (96%)]\tLoss: 0.276280\n",
      "Epoch: 1 | Train Logloss: 0.272865 | Val Logloss: 0.280519\n",
      "Train Epoch: 2 [12800/79873 (16%)]\tLoss: 0.282214\n",
      "Train Epoch: 2 [25600/79873 (32%)]\tLoss: 0.267516\n",
      "Train Epoch: 2 [38400/79873 (48%)]\tLoss: 0.265958\n",
      "Train Epoch: 2 [51200/79873 (64%)]\tLoss: 0.267439\n",
      "Train Epoch: 2 [64000/79873 (80%)]\tLoss: 0.274113\n",
      "Train Epoch: 2 [76800/79873 (96%)]\tLoss: 0.268026\n",
      "Epoch: 2 | Train Logloss: 0.268752 | Val Logloss: 0.277009\n",
      "Train Epoch: 3 [12800/79873 (16%)]\tLoss: 0.271666\n",
      "Train Epoch: 3 [25600/79873 (32%)]\tLoss: 0.265220\n",
      "Train Epoch: 3 [38400/79873 (48%)]\tLoss: 0.266653\n",
      "Train Epoch: 3 [51200/79873 (64%)]\tLoss: 0.266028\n",
      "Train Epoch: 3 [64000/79873 (80%)]\tLoss: 0.274680\n",
      "Train Epoch: 3 [76800/79873 (96%)]\tLoss: 0.272826\n",
      "Epoch: 3 | Train Logloss: 0.269917 | Val Logloss: 0.277543\n",
      "Train Epoch: 4 [12800/79873 (16%)]\tLoss: 0.271996\n",
      "Train Epoch: 4 [25600/79873 (32%)]\tLoss: 0.281713\n",
      "Train Epoch: 4 [38400/79873 (48%)]\tLoss: 0.265740\n",
      "Train Epoch: 4 [51200/79873 (64%)]\tLoss: 0.266404\n",
      "Train Epoch: 4 [64000/79873 (80%)]\tLoss: 0.264241\n",
      "Train Epoch: 4 [76800/79873 (96%)]\tLoss: 0.266675\n",
      "Epoch: 4 | Train Logloss: 0.270106 | Val Logloss: 0.278303\n",
      "Train Epoch: 5 [12800/79873 (16%)]\tLoss: 0.267761\n",
      "Train Epoch: 5 [25600/79873 (32%)]\tLoss: 0.267348\n",
      "Train Epoch: 5 [38400/79873 (48%)]\tLoss: 0.264585\n",
      "Train Epoch: 5 [51200/79873 (64%)]\tLoss: 0.267089\n",
      "Train Epoch: 5 [64000/79873 (80%)]\tLoss: 0.267802\n",
      "Train Epoch: 5 [76800/79873 (96%)]\tLoss: 0.273896\n",
      "Epoch: 5 | Train Logloss: 0.268966 | Val Logloss: 0.277457\n",
      "Train Epoch: 6 [12800/79873 (16%)]\tLoss: 0.274268\n",
      "Train Epoch: 6 [25600/79873 (32%)]\tLoss: 0.264305\n",
      "Train Epoch: 6 [38400/79873 (48%)]\tLoss: 0.269761\n",
      "Train Epoch: 6 [51200/79873 (64%)]\tLoss: 0.270133\n",
      "Train Epoch: 6 [64000/79873 (80%)]\tLoss: 0.265012\n",
      "Train Epoch: 6 [76800/79873 (96%)]\tLoss: 0.267286\n",
      "Epoch: 6 | Train Logloss: 0.267773 | Val Logloss: 0.276559\n",
      "Train Epoch: 7 [12800/79873 (16%)]\tLoss: 0.264153\n",
      "Train Epoch: 7 [25600/79873 (32%)]\tLoss: 0.274323\n",
      "Train Epoch: 7 [38400/79873 (48%)]\tLoss: 0.273737\n",
      "Train Epoch: 7 [51200/79873 (64%)]\tLoss: 0.270007\n",
      "Train Epoch: 7 [64000/79873 (80%)]\tLoss: 0.261275\n",
      "Train Epoch: 7 [76800/79873 (96%)]\tLoss: 0.265465\n",
      "Epoch: 7 | Train Logloss: 0.266254 | Val Logloss: 0.275758\n",
      "Train Epoch: 8 [12800/79873 (16%)]\tLoss: 0.262906\n",
      "Train Epoch: 8 [25600/79873 (32%)]\tLoss: 0.263348\n",
      "Train Epoch: 8 [38400/79873 (48%)]\tLoss: 0.265689\n",
      "Train Epoch: 8 [51200/79873 (64%)]\tLoss: 0.268788\n",
      "Train Epoch: 8 [64000/79873 (80%)]\tLoss: 0.272981\n",
      "Train Epoch: 8 [76800/79873 (96%)]\tLoss: 0.269502\n",
      "Epoch: 8 | Train Logloss: 0.268416 | Val Logloss: 0.277261\n",
      "Train Epoch: 9 [12800/79873 (16%)]\tLoss: 0.269900\n",
      "Train Epoch: 9 [25600/79873 (32%)]\tLoss: 0.261255\n",
      "Train Epoch: 9 [38400/79873 (48%)]\tLoss: 0.265251\n",
      "Train Epoch: 9 [51200/79873 (64%)]\tLoss: 0.264610\n",
      "Train Epoch: 9 [64000/79873 (80%)]\tLoss: 0.274206\n",
      "Train Epoch: 9 [76800/79873 (96%)]\tLoss: 0.265904\n",
      "Epoch: 9 | Train Logloss: 0.264782 | Val Logloss: 0.274850\n",
      "Train Epoch: 10 [12800/79873 (16%)]\tLoss: 0.279667\n",
      "Train Epoch: 10 [25600/79873 (32%)]\tLoss: 0.266870\n",
      "Train Epoch: 10 [38400/79873 (48%)]\tLoss: 0.259255\n",
      "Train Epoch: 10 [51200/79873 (64%)]\tLoss: 0.270945\n",
      "Train Epoch: 10 [64000/79873 (80%)]\tLoss: 0.263759\n",
      "Train Epoch: 10 [76800/79873 (96%)]\tLoss: 0.257656\n",
      "Epoch: 10 | Train Logloss: 0.263759 | Val Logloss: 0.274000\n",
      "CPU times: user 2min 37s, sys: 17.5 s, total: 2min 54s\n",
      "Wall time: 2min 54s\n"
     ]
    }
   ],
   "source": [
    "%%time\n",
    "best_epoch = train_model(model, dl_trn, dl_val, optimizer, criterion, \n",
    "                         n_epochs=10, print_every=100, USE_CUDA=USE_CUDA)"
   ]
  },
  {
   "cell_type": "markdown",
   "metadata": {},
   "source": [
    "## Test"
   ]
  },
  {
   "cell_type": "code",
   "execution_count": 331,
   "metadata": {},
   "outputs": [
    {
     "name": "stderr",
     "output_type": "stream",
     "text": [
      "/anaconda/envs/kaggle/lib/python3.6/site-packages/pandas/io/feather_format.py:112: FutureWarning: `nthreads` argument is deprecated, pass `use_threads` instead\n",
      "  return feather.read_dataframe(path, nthreads=nthreads)\n"
     ]
    }
   ],
   "source": [
    "proc_train = pd.read_feather(PROCESSED/'proc_train.feather')\n",
    "proc_val = pd.read_feather(PROCESSED/'proc_val.feather')\n",
    "proc_all = pd.read_feather(PROCESSED/'proc_all.feather')\n",
    "proc_test = pd.read_feather(PROCESSED/'proc_test.feather')"
   ]
  },
  {
   "cell_type": "code",
   "execution_count": 332,
   "metadata": {},
   "outputs": [],
   "source": [
    "MAX_LEN = 30"
   ]
  },
  {
   "cell_type": "code",
   "execution_count": 333,
   "metadata": {},
   "outputs": [],
   "source": [
    "train_ids = set(proc_all.sid)\n",
    "test_ids = set(proc_test.sid)"
   ]
  },
  {
   "cell_type": "code",
   "execution_count": 334,
   "metadata": {},
   "outputs": [],
   "source": [
    "train_cat_seqs = events_fixed_seq[list(proc_all.sid)]\n",
    "test_cat_seqs = events_fixed_seq[list(proc_test.sid)]"
   ]
  },
  {
   "cell_type": "code",
   "execution_count": 335,
   "metadata": {},
   "outputs": [],
   "source": [
    "train_cat_seqs = np.stack(train_cat_seqs).reshape((-1, MAX_LEN, 1))\n",
    "test_cat_seqs = np.stack(test_cat_seqs).reshape((-1, MAX_LEN, 1))"
   ]
  },
  {
   "cell_type": "code",
   "execution_count": 336,
   "metadata": {},
   "outputs": [],
   "source": [
    "train_cont_seqs = duration_seqs_train[[duration_seqs_train_dict[sid] for sid in proc_all.sid]]\n",
    "test_cont_seqs = duration_seqs_test[[duration_seqs_test_dict[sid] for sid in proc_test.sid]]"
   ]
  },
  {
   "cell_type": "code",
   "execution_count": 337,
   "metadata": {},
   "outputs": [],
   "source": [
    "cat_cols = ['device', 'siteid']\n",
    "target_col = 'target'\n",
    "id_col = 'sid'\n",
    "cont_cols = [x for x in proc_all.columns if x not in cat_cols + [target_col, id_col]]"
   ]
  },
  {
   "cell_type": "code",
   "execution_count": 338,
   "metadata": {},
   "outputs": [],
   "source": [
    "from src.utils_r import to_cat_codes, apply_cats\n",
    "to_cat_codes(proc_all, cat_cols)\n",
    "apply_cats(proc_test, proc_all)\n",
    "for df in [proc_all, proc_test]:\n",
    "    for col in cat_cols:\n",
    "        df[col] = df[col].cat.codes"
   ]
  },
  {
   "cell_type": "code",
   "execution_count": 339,
   "metadata": {},
   "outputs": [],
   "source": [
    "proc_all['device'] = proc_all.device + 1\n",
    "proc_test['device'] = proc_test.device + 1"
   ]
  },
  {
   "cell_type": "markdown",
   "metadata": {},
   "source": [
    "## Standard Scaling"
   ]
  },
  {
   "cell_type": "code",
   "execution_count": 342,
   "metadata": {},
   "outputs": [
    {
     "data": {
      "text/plain": [
       "StandardScaler(copy=True, with_mean=True, with_std=True)"
      ]
     },
     "execution_count": 342,
     "metadata": {},
     "output_type": "execute_result"
    }
   ],
   "source": [
    "from sklearn.preprocessing import StandardScaler\n",
    "scaler = StandardScaler()\n",
    "scaler.fit(pd.concat([proc_all[cont_cols], proc_test[cont_cols]]))"
   ]
  },
  {
   "cell_type": "code",
   "execution_count": 343,
   "metadata": {},
   "outputs": [],
   "source": [
    "proc_train_cont_norm = scaler.transform(proc_all[cont_cols])\n",
    "proc_test_cont_norm = scaler.transform(proc_test[cont_cols])"
   ]
  },
  {
   "cell_type": "code",
   "execution_count": 344,
   "metadata": {},
   "outputs": [],
   "source": [
    "for i, col in enumerate(cont_cols):\n",
    "    proc_all[col] = proc_train_cont_norm[:, i]\n",
    "    proc_test[col] = proc_test_cont_norm[:, i]"
   ]
  },
  {
   "cell_type": "code",
   "execution_count": 349,
   "metadata": {},
   "outputs": [],
   "source": [
    "from src.utils_r import MultimodalDataset\n",
    "from torch.utils.data import DataLoader\n",
    "ds_trn = MultimodalDataset(proc_all[cat_cols], proc_all[cont_cols],\n",
    "                           train_cat_seqs, train_cont_seqs, proc_all[target_col])\n",
    "ds_tst = MultimodalDataset(proc_test[cat_cols], proc_test[cont_cols],\n",
    "                           test_cat_seqs, test_cont_seqs, proc_test[target_col])"
   ]
  },
  {
   "cell_type": "code",
   "execution_count": 350,
   "metadata": {},
   "outputs": [],
   "source": [
    "dl_trn = DataLoader(ds_trn, batch_size=128, shuffle=True)\n",
    "dl_tst = DataLoader(ds_tst, batch_size=128)"
   ]
  },
  {
   "cell_type": "code",
   "execution_count": 351,
   "metadata": {},
   "outputs": [],
   "source": [
    "from src.utils_r import MultimodalNet"
   ]
  },
  {
   "cell_type": "code",
   "execution_count": 379,
   "metadata": {},
   "outputs": [],
   "source": [
    "cat_szs = [int(proc_all[col].max() + 1) for col in cat_cols]\n",
    "emb_szs = [(c, min(20, (c+1)//2)) for c in cat_szs]\n",
    "\n",
    "n_cont = len(cont_cols)\n",
    "emb_drop = 0.3\n",
    "szs = [600, 300]\n",
    "drops = [0.3, 0.3]\n",
    "\n",
    "rnn_hidden_sz = 128\n",
    "rnn_cont_sz = int(train_cont_seqs.shape[2])\n",
    "\n",
    "rnn_cat_szs = [int(train_cat_seqs[:,:,0].max()+1)]\n",
    "rnn_emb_szs = [(c, min(20, (c+1)//2)) for c in rnn_cat_szs]\n",
    "\n",
    "rnn_n_layers = 2\n",
    "rnn_drop = 0.2\n",
    "rnn_out_sz = 1"
   ]
  },
  {
   "cell_type": "code",
   "execution_count": 380,
   "metadata": {},
   "outputs": [],
   "source": [
    "from src.utils_r import train_model\n",
    "from torch import optim\n",
    "import torch.nn as nn"
   ]
  },
  {
   "cell_type": "code",
   "execution_count": 381,
   "metadata": {},
   "outputs": [],
   "source": [
    "USE_CUDA = True"
   ]
  },
  {
   "cell_type": "code",
   "execution_count": 382,
   "metadata": {},
   "outputs": [],
   "source": [
    "model = MultimodalNet(emb_szs, n_cont, emb_drop, szs, drops, \n",
    "                      rnn_hidden_sz, rnn_cont_sz, rnn_emb_szs, \n",
    "                      rnn_n_layers, rnn_drop, rnn_out_sz)\n",
    "if USE_CUDA: model = model.cuda()\n",
    "optimizer = optim.Adam(model.parameters(), lr=3e-4)\n",
    "criterion = nn.BCEWithLogitsLoss()"
   ]
  },
  {
   "cell_type": "code",
   "execution_count": 383,
   "metadata": {},
   "outputs": [
    {
     "name": "stdout",
     "output_type": "stream",
     "text": [
      "Train Epoch: 1 [12800/133123 (10%)]\tLoss: 0.372044\n",
      "Train Epoch: 1 [25600/133123 (19%)]\tLoss: 0.277064\n",
      "Train Epoch: 1 [38400/133123 (29%)]\tLoss: 0.280491\n",
      "Train Epoch: 1 [51200/133123 (38%)]\tLoss: 0.276768\n",
      "Train Epoch: 1 [64000/133123 (48%)]\tLoss: 0.279410\n",
      "Train Epoch: 1 [76800/133123 (58%)]\tLoss: 0.275738\n",
      "Train Epoch: 1 [89600/133123 (67%)]\tLoss: 0.270645\n",
      "Train Epoch: 1 [102400/133123 (77%)]\tLoss: 0.278478\n",
      "Train Epoch: 1 [115200/133123 (86%)]\tLoss: 0.277175\n",
      "Train Epoch: 1 [128000/133123 (96%)]\tLoss: 0.275394\n",
      "Epoch: 1 | Train Logloss: 0.275588\n",
      "Train Epoch: 2 [12800/133123 (10%)]\tLoss: 0.269491\n",
      "Train Epoch: 2 [25600/133123 (19%)]\tLoss: 0.281111\n",
      "Train Epoch: 2 [38400/133123 (29%)]\tLoss: 0.277274\n",
      "Train Epoch: 2 [51200/133123 (38%)]\tLoss: 0.276395\n",
      "Train Epoch: 2 [64000/133123 (48%)]\tLoss: 0.271067\n",
      "Train Epoch: 2 [76800/133123 (58%)]\tLoss: 0.273445\n",
      "Train Epoch: 2 [89600/133123 (67%)]\tLoss: 0.269216\n",
      "Train Epoch: 2 [102400/133123 (77%)]\tLoss: 0.273017\n",
      "Train Epoch: 2 [115200/133123 (86%)]\tLoss: 0.276393\n",
      "Train Epoch: 2 [128000/133123 (96%)]\tLoss: 0.272028\n",
      "Epoch: 2 | Train Logloss: 0.274070\n",
      "Train Epoch: 3 [12800/133123 (10%)]\tLoss: 0.267522\n",
      "Train Epoch: 3 [25600/133123 (19%)]\tLoss: 0.279645\n",
      "Train Epoch: 3 [38400/133123 (29%)]\tLoss: 0.268334\n",
      "Train Epoch: 3 [51200/133123 (38%)]\tLoss: 0.275787\n",
      "Train Epoch: 3 [64000/133123 (48%)]\tLoss: 0.262276\n",
      "Train Epoch: 3 [76800/133123 (58%)]\tLoss: 0.264105\n",
      "Train Epoch: 3 [89600/133123 (67%)]\tLoss: 0.269163\n",
      "Train Epoch: 3 [102400/133123 (77%)]\tLoss: 0.274995\n",
      "Train Epoch: 3 [115200/133123 (86%)]\tLoss: 0.279388\n",
      "Train Epoch: 3 [128000/133123 (96%)]\tLoss: 0.285145\n",
      "Epoch: 3 | Train Logloss: 0.275403\n",
      "Train Epoch: 4 [12800/133123 (10%)]\tLoss: 0.268356\n",
      "Train Epoch: 4 [25600/133123 (19%)]\tLoss: 0.266745\n",
      "Train Epoch: 4 [38400/133123 (29%)]\tLoss: 0.272174\n",
      "Train Epoch: 4 [51200/133123 (38%)]\tLoss: 0.275452\n",
      "Train Epoch: 4 [64000/133123 (48%)]\tLoss: 0.274453\n",
      "Train Epoch: 4 [76800/133123 (58%)]\tLoss: 0.263294\n",
      "Train Epoch: 4 [89600/133123 (67%)]\tLoss: 0.270799\n",
      "Train Epoch: 4 [102400/133123 (77%)]\tLoss: 0.280962\n",
      "Train Epoch: 4 [115200/133123 (86%)]\tLoss: 0.266874\n",
      "Train Epoch: 4 [128000/133123 (96%)]\tLoss: 0.276099\n",
      "Epoch: 4 | Train Logloss: 0.268176\n",
      "Train Epoch: 5 [12800/133123 (10%)]\tLoss: 0.272775\n",
      "Train Epoch: 5 [25600/133123 (19%)]\tLoss: 0.276369\n",
      "Train Epoch: 5 [38400/133123 (29%)]\tLoss: 0.270593\n",
      "Train Epoch: 5 [51200/133123 (38%)]\tLoss: 0.270401\n",
      "Train Epoch: 5 [64000/133123 (48%)]\tLoss: 0.269531\n",
      "Train Epoch: 5 [76800/133123 (58%)]\tLoss: 0.265688\n",
      "Train Epoch: 5 [89600/133123 (67%)]\tLoss: 0.275735\n",
      "Train Epoch: 5 [102400/133123 (77%)]\tLoss: 0.263546\n",
      "Train Epoch: 5 [115200/133123 (86%)]\tLoss: 0.269700\n",
      "Train Epoch: 5 [128000/133123 (96%)]\tLoss: 0.272133\n",
      "Epoch: 5 | Train Logloss: 0.270836\n",
      "Train Epoch: 6 [12800/133123 (10%)]\tLoss: 0.273465\n",
      "Train Epoch: 6 [25600/133123 (19%)]\tLoss: 0.271616\n",
      "Train Epoch: 6 [38400/133123 (29%)]\tLoss: 0.277678\n",
      "Train Epoch: 6 [51200/133123 (38%)]\tLoss: 0.268437\n",
      "Train Epoch: 6 [64000/133123 (48%)]\tLoss: 0.269094\n",
      "Train Epoch: 6 [76800/133123 (58%)]\tLoss: 0.273274\n",
      "Train Epoch: 6 [89600/133123 (67%)]\tLoss: 0.267409\n",
      "Train Epoch: 6 [102400/133123 (77%)]\tLoss: 0.261807\n",
      "Train Epoch: 6 [115200/133123 (86%)]\tLoss: 0.262776\n",
      "Train Epoch: 6 [128000/133123 (96%)]\tLoss: 0.270252\n",
      "Epoch: 6 | Train Logloss: 0.268393\n",
      "Train Epoch: 7 [12800/133123 (10%)]\tLoss: 0.278850\n",
      "Train Epoch: 7 [25600/133123 (19%)]\tLoss: 0.268050\n",
      "Train Epoch: 7 [38400/133123 (29%)]\tLoss: 0.264912\n",
      "Train Epoch: 7 [51200/133123 (38%)]\tLoss: 0.264015\n",
      "Train Epoch: 7 [64000/133123 (48%)]\tLoss: 0.273637\n",
      "Train Epoch: 7 [76800/133123 (58%)]\tLoss: 0.267896\n",
      "Train Epoch: 7 [89600/133123 (67%)]\tLoss: 0.266140\n",
      "Train Epoch: 7 [102400/133123 (77%)]\tLoss: 0.263458\n",
      "Train Epoch: 7 [115200/133123 (86%)]\tLoss: 0.273029\n",
      "Train Epoch: 7 [128000/133123 (96%)]\tLoss: 0.266486\n",
      "Epoch: 7 | Train Logloss: 0.267785\n",
      "Train Epoch: 8 [12800/133123 (10%)]\tLoss: 0.269863\n",
      "Train Epoch: 8 [25600/133123 (19%)]\tLoss: 0.263830\n",
      "Train Epoch: 8 [38400/133123 (29%)]\tLoss: 0.273826\n",
      "Train Epoch: 8 [51200/133123 (38%)]\tLoss: 0.268109\n",
      "Train Epoch: 8 [64000/133123 (48%)]\tLoss: 0.277941\n",
      "Train Epoch: 8 [76800/133123 (58%)]\tLoss: 0.261250\n",
      "Train Epoch: 8 [89600/133123 (67%)]\tLoss: 0.268820\n",
      "Train Epoch: 8 [102400/133123 (77%)]\tLoss: 0.270307\n",
      "Train Epoch: 8 [115200/133123 (86%)]\tLoss: 0.272912\n",
      "Train Epoch: 8 [128000/133123 (96%)]\tLoss: 0.265129\n",
      "Epoch: 8 | Train Logloss: 0.269777\n",
      "Train Epoch: 9 [12800/133123 (10%)]\tLoss: 0.260295\n",
      "Train Epoch: 9 [25600/133123 (19%)]\tLoss: 0.264769\n",
      "Train Epoch: 9 [38400/133123 (29%)]\tLoss: 0.267766\n",
      "Train Epoch: 9 [51200/133123 (38%)]\tLoss: 0.260989\n",
      "Train Epoch: 9 [64000/133123 (48%)]\tLoss: 0.277569\n",
      "Train Epoch: 9 [76800/133123 (58%)]\tLoss: 0.271645\n",
      "Train Epoch: 9 [89600/133123 (67%)]\tLoss: 0.268108\n",
      "Train Epoch: 9 [102400/133123 (77%)]\tLoss: 0.270979\n",
      "Train Epoch: 9 [115200/133123 (86%)]\tLoss: 0.268174\n",
      "Train Epoch: 9 [128000/133123 (96%)]\tLoss: 0.272735\n",
      "Epoch: 9 | Train Logloss: 0.269576\n",
      "Train Epoch: 10 [12800/133123 (10%)]\tLoss: 0.264075\n",
      "Train Epoch: 10 [25600/133123 (19%)]\tLoss: 0.265911\n",
      "Train Epoch: 10 [38400/133123 (29%)]\tLoss: 0.269969\n",
      "Train Epoch: 10 [51200/133123 (38%)]\tLoss: 0.272509\n",
      "Train Epoch: 10 [64000/133123 (48%)]\tLoss: 0.263500\n",
      "Train Epoch: 10 [76800/133123 (58%)]\tLoss: 0.269767\n",
      "Train Epoch: 10 [89600/133123 (67%)]\tLoss: 0.269544\n",
      "Train Epoch: 10 [102400/133123 (77%)]\tLoss: 0.267697\n",
      "Train Epoch: 10 [115200/133123 (86%)]\tLoss: 0.273211\n",
      "Train Epoch: 10 [128000/133123 (96%)]\tLoss: 0.273254\n",
      "Epoch: 10 | Train Logloss: 0.268010\n",
      "CPU times: user 4min 14s, sys: 37.4 s, total: 4min 52s\n",
      "Wall time: 4min 52s\n"
     ]
    }
   ],
   "source": [
    "%%time\n",
    "best_epoch = train_model(model, dl_trn, None, optimizer, criterion, \n",
    "                         n_epochs=10, print_every=100, USE_CUDA=USE_CUDA)"
   ]
  },
  {
   "cell_type": "code",
   "execution_count": 384,
   "metadata": {},
   "outputs": [
    {
     "name": "stdout",
     "output_type": "stream",
     "text": [
      "CPU times: user 5.14 s, sys: 673 ms, total: 5.82 s\n",
      "Wall time: 5.82 s\n"
     ]
    }
   ],
   "source": [
    "%%time\n",
    "from src.utils_r import eval_model\n",
    "test_targets, test_preds = eval_model(model, dl_tst, USE_CUDA=True)"
   ]
  },
  {
   "cell_type": "code",
   "execution_count": 385,
   "metadata": {},
   "outputs": [],
   "source": [
    "proc_test[target_col] = test_preds"
   ]
  },
  {
   "cell_type": "code",
   "execution_count": 386,
   "metadata": {},
   "outputs": [
    {
     "data": {
      "text/plain": [
       "count    88750.000000\n",
       "mean         0.082013\n",
       "std          0.092036\n",
       "min          0.002770\n",
       "25%          0.031347\n",
       "50%          0.049635\n",
       "75%          0.085779\n",
       "max          0.992202\n",
       "Name: target, dtype: float64"
      ]
     },
     "execution_count": 386,
     "metadata": {},
     "output_type": "execute_result"
    }
   ],
   "source": [
    "proc_test[target_col].describe()"
   ]
  },
  {
   "cell_type": "code",
   "execution_count": 366,
   "metadata": {},
   "outputs": [
    {
     "data": {
      "text/plain": [
       "count    88750.000000\n",
       "mean         0.087562\n",
       "std          0.089772\n",
       "min          0.000000\n",
       "25%          0.034235\n",
       "50%          0.052727\n",
       "75%          0.096598\n",
       "max          0.999556\n",
       "Name: target, dtype: float64"
      ]
     },
     "execution_count": 366,
     "metadata": {},
     "output_type": "execute_result"
    }
   ],
   "source": [
    "proc_test[target_col].describe()"
   ]
  },
  {
   "cell_type": "code",
   "execution_count": 387,
   "metadata": {},
   "outputs": [
    {
     "data": {
      "text/plain": [
       "<matplotlib.axes._subplots.AxesSubplot at 0x7f361dcd3780>"
      ]
     },
     "execution_count": 387,
     "metadata": {},
     "output_type": "execute_result"
    },
    {
     "data": {
      "image/png": "[encoded data removed]",
      "text/plain": [
       "<matplotlib.figure.Figure at 0x7f37d3e86a20>"
      ]
     },
     "metadata": {
      "image/png": {
       "height": 263,
       "width": 369
      }
     },
     "output_type": "display_data"
    }
   ],
   "source": [
    "sns.distplot(proc_test[target_col])"
   ]
  },
  {
   "cell_type": "code",
   "execution_count": 367,
   "metadata": {},
   "outputs": [
    {
     "data": {
      "text/plain": [
       "<matplotlib.axes._subplots.AxesSubplot at 0x7f361fe957f0>"
      ]
     },
     "execution_count": 367,
     "metadata": {},
     "output_type": "execute_result"
    },
    {
     "data": {
      "image/png": "[encoded data removed]",
      "text/plain": [
       "<matplotlib.figure.Figure at 0x7f361ff0e208>"
      ]
     },
     "metadata": {
      "image/png": {
       "height": 262,
       "width": 369
      }
     },
     "output_type": "display_data"
    }
   ],
   "source": [
    "sns.distplot(proc_test[target_col])"
   ]
  },
  {
   "cell_type": "code",
   "execution_count": 368,
   "metadata": {},
   "outputs": [],
   "source": [
    "proc_test[[id_col, target_col]].to_csv(SUBMISSIONS/'robert_2_submit.csv', index=False)"
   ]
  },
  {
   "cell_type": "code",
   "execution_count": 369,
   "metadata": {},
   "outputs": [],
   "source": [
    "sub1 = pd.read_csv(SUBMISSIONS/'robert_1_submit.csv')"
   ]
  },
  {
   "cell_type": "code",
   "execution_count": 388,
   "metadata": {},
   "outputs": [
    {
     "data": {
      "text/plain": [
       "<matplotlib.collections.PathCollection at 0x7f37d482eb00>"
      ]
     },
     "execution_count": 388,
     "metadata": {},
     "output_type": "execute_result"
    },
    {
     "data": {
      "image/png": "[encoded data removed]",
      "text/plain": [
       "<matplotlib.figure.Figure at 0x7f361dcedef0>"
      ]
     },
     "metadata": {
      "image/png": {
       "height": 248,
       "width": 372
      }
     },
     "output_type": "display_data"
    }
   ],
   "source": [
    "plt.scatter(sub1[target_col], proc_test[target_col])"
   ]
  },
  {
   "cell_type": "code",
   "execution_count": 371,
   "metadata": {},
   "outputs": [
    {
     "data": {
      "text/plain": [
       "<matplotlib.collections.PathCollection at 0x7f37cc377f98>"
      ]
     },
     "execution_count": 371,
     "metadata": {},
     "output_type": "execute_result"
    },
    {
     "data": {
      "image/png": "[encoded data removed]",
      "text/plain": [
       "<matplotlib.figure.Figure at 0x7f37d13f67b8>"
      ]
     },
     "metadata": {
      "image/png": {
       "height": 248,
       "width": 372
      }
     },
     "output_type": "display_data"
    }
   ],
   "source": [
    "plt.scatter(sub1[target_col], proc_test[target_col])"
   ]
  },
  {
   "cell_type": "code",
   "execution_count": 372,
   "metadata": {},
   "outputs": [
    {
     "data": {
      "text/plain": [
       "0.8803821323305331"
      ]
     },
     "execution_count": 372,
     "metadata": {},
     "output_type": "execute_result"
    }
   ],
   "source": [
    "sub1[target_col].corr(proc_test[target_col])"
   ]
  },
  {
   "cell_type": "markdown",
   "metadata": {},
   "source": [
    "## Blending"
   ]
  },
  {
   "cell_type": "code",
   "execution_count": 373,
   "metadata": {},
   "outputs": [],
   "source": [
    "sub2 = pd.read_csv(SUBMISSIONS/'robert_2_submit.csv')"
   ]
  },
  {
   "cell_type": "code",
   "execution_count": 374,
   "metadata": {},
   "outputs": [],
   "source": [
    "proc_test[target_col] = sub1[target_col] * 0.6 + sub2[target_col] * 0.4"
   ]
  },
  {
   "cell_type": "code",
   "execution_count": 376,
   "metadata": {},
   "outputs": [
    {
     "data": {
      "text/plain": [
       "count    88750.000000\n",
       "mean         0.093601\n",
       "std          0.076235\n",
       "min          0.019424\n",
       "25%          0.047814\n",
       "50%          0.064307\n",
       "75%          0.093536\n",
       "max          0.774890\n",
       "Name: target, dtype: float64"
      ]
     },
     "execution_count": 376,
     "metadata": {},
     "output_type": "execute_result"
    }
   ],
   "source": [
    "proc_test[target_col].describe()"
   ]
  },
  {
   "cell_type": "code",
   "execution_count": 377,
   "metadata": {},
   "outputs": [
    {
     "data": {
      "text/plain": [
       "<matplotlib.axes._subplots.AxesSubplot at 0x7f361dce83c8>"
      ]
     },
     "execution_count": 377,
     "metadata": {},
     "output_type": "execute_result"
    },
    {
     "data": {
      "image/png": "[encoded data removed]",
      "text/plain": [
       "<matplotlib.figure.Figure at 0x7f357c046278>"
      ]
     },
     "metadata": {
      "image/png": {
       "height": 262,
       "width": 378
      }
     },
     "output_type": "display_data"
    }
   ],
   "source": [
    "sns.distplot(proc_test[target_col])"
   ]
  },
  {
   "cell_type": "code",
   "execution_count": 378,
   "metadata": {},
   "outputs": [],
   "source": [
    "proc_test[[id_col, target_col]].to_csv(SUBMISSIONS/'robert_3_submit.csv', index=False)"
   ]
  },
  {
   "cell_type": "code",
   "execution_count": null,
   "metadata": {},
   "outputs": [],
   "source": []
  },
  {
   "cell_type": "code",
   "execution_count": null,
   "metadata": {},
   "outputs": [],
   "source": []
  },
  {
   "cell_type": "code",
   "execution_count": null,
   "metadata": {},
   "outputs": [],
   "source": []
  },
  {
   "cell_type": "code",
   "execution_count": null,
   "metadata": {},
   "outputs": [],
   "source": []
  },
  {
   "cell_type": "code",
   "execution_count": null,
   "metadata": {},
   "outputs": [],
   "source": []
  },
  {
   "cell_type": "code",
   "execution_count": 27,
   "metadata": {},
   "outputs": [],
   "source": [
    "import pickle\n",
    "with open(DATA/'neuralnet/tracking_events_dict.pickle', 'rb') as f:\n",
    "    tracking_events_dict = pickle.load(f)"
   ]
  },
  {
   "cell_type": "code",
   "execution_count": 32,
   "metadata": {},
   "outputs": [],
   "source": [
    "tracking_events = np.load(DATA/'neuralnet/tracking_events.npy')\n",
    "tracking_events_norm = np.load(DATA/'neuralnet/tracking_events_norm.npy')\n",
    "tracking_movements   = np.load(DATA/'neuralnet/tracking_movements.npy')"
   ]
  },
  {
   "cell_type": "code",
   "execution_count": 29,
   "metadata": {},
   "outputs": [
    {
     "data": {
      "text/plain": [
       "(133123, 100, 12)"
      ]
     },
     "execution_count": 29,
     "metadata": {},
     "output_type": "execute_result"
    }
   ],
   "source": [
    "tracking_events_norm.shape"
   ]
  },
  {
   "cell_type": "code",
   "execution_count": 64,
   "metadata": {},
   "outputs": [
    {
     "data": {
      "text/plain": [
       "(120, 1)"
      ]
     },
     "execution_count": 64,
     "metadata": {},
     "output_type": "execute_result"
    }
   ],
   "source": [
    "a = np.random.randint(0, 100, (4, 5, 6)).astype(float)\n",
    "a_flat = np.reshape(a, (-1, 1))\n",
    "a_flat.shape"
   ]
  },
  {
   "cell_type": "code",
   "execution_count": 65,
   "metadata": {},
   "outputs": [
    {
     "data": {
      "text/plain": [
       "StandardScaler(copy=True, with_mean=True, with_std=True)"
      ]
     },
     "execution_count": 65,
     "metadata": {},
     "output_type": "execute_result"
    }
   ],
   "source": [
    "from sklearn.preprocessing import StandardScaler\n",
    "scaler = StandardScaler()\n",
    "scaler.fit(a_flat)"
   ]
  },
  {
   "cell_type": "code",
   "execution_count": 66,
   "metadata": {},
   "outputs": [],
   "source": [
    "b = np.random.randint(0, 100, (6, 2, 10)).astype(float)\n",
    "b_flat = np.reshape(b, (-1, 1))\n",
    "b_flat_norm = scaler.transform(b_flat)\n",
    "b_norm = np.reshape(b_norm, b.shape)"
   ]
  },
  {
   "cell_type": "code",
   "execution_count": 67,
   "metadata": {},
   "outputs": [
    {
     "data": {
      "text/plain": [
       "array([[[-0.43584675,  1.10449517, -1.17100993,  0.61438638,\n",
       "          1.17451071, -1.4510721 , -0.68090114,  0.54437084,\n",
       "         -0.75091668,  1.69962727],\n",
       "        [-1.17100993,  1.6646195 ,  0.64939415,  1.34954956,\n",
       "          0.43934752, -0.75091668, -0.82093222, -1.13600216,\n",
       "          1.83965835, -1.13600216]],\n",
       "\n",
       "       [[-1.17100993,  1.62961173,  1.76964281,  0.26430867,\n",
       "          1.10449517, -1.2060177 , -1.4510721 , -0.47085452,\n",
       "         -0.78592445, -0.15578458],\n",
       "        [-1.06598662,  0.71940969, -0.08576904, -0.71590891,\n",
       "          1.17451071,  1.83965835, -0.47085452, -1.55609541,\n",
       "         -0.43584675, -1.13600216]],\n",
       "\n",
       "       [[-1.34604879, -0.40083898,  1.76964281, -1.03097885,\n",
       "          0.05426204, -0.12077681, -0.47085452, -1.06598662,\n",
       "          0.71940969,  1.34954956],\n",
       "        [-0.54087006, -0.15578458,  0.92945631,  0.68440192,\n",
       "         -0.0157535 , -0.68090114,  1.17451071, -0.22580012,\n",
       "         -1.48607987, -0.19079235]],\n",
       "\n",
       "       [[ 0.85944077, -1.34604879, -0.40083898, -0.43584675,\n",
       "         -0.64589337,  0.08926982, -1.34604879, -1.38105656,\n",
       "          0.01925427,  1.10449517],\n",
       "        [-1.24102547,  0.89444854,  0.26430867,  1.59460396,\n",
       "          0.57937861, -1.34604879,  1.73463504,  1.03447963,\n",
       "          0.824433  ,  1.13950294]],\n",
       "\n",
       "       [[ 0.15928536, -1.4510721 ,  1.6646195 , -0.75091668,\n",
       "          0.75441746, -0.78592445,  1.27953402, -0.6108856 ,\n",
       "         -1.4510721 ,  1.03447963],\n",
       "        [-1.17100993, -1.13600216,  0.57937861, -0.29581566,\n",
       "          1.13950294,  0.57937861,  0.15928536, -0.99597108,\n",
       "         -1.10099439,  1.4195651 ]],\n",
       "\n",
       "       [[ 1.59460396, -0.3658312 ,  0.33432421,  0.2293009 ,\n",
       "         -0.75091668, -0.57587783, -0.43584675,  0.92945631,\n",
       "          0.61438638,  1.80465058],\n",
       "        [-1.24102547,  1.69962727,  1.83965835,  1.03447963,\n",
       "          1.55959619,  1.83965835,  0.33432421, -0.43584675,\n",
       "         -0.05076127,  0.05426204]]])"
      ]
     },
     "execution_count": 67,
     "metadata": {},
     "output_type": "execute_result"
    }
   ],
   "source": [
    "b_norm"
   ]
  },
  {
   "cell_type": "code",
   "execution_count": 40,
   "metadata": {},
   "outputs": [
    {
     "data": {
      "text/plain": [
       "array([0., 0., 0., 0., 0., 0., 0., 0., 0., 0., 0., 0., 0., 0., 0., 0., 0.,\n",
       "       0., 0., 0., 0., 0., 0., 0., 0., 0., 0., 0., 0., 0., 0., 0., 0., 0.,\n",
       "       0., 0., 0., 0., 0., 0., 0., 0., 0., 0., 0., 0., 0., 0., 0., 0., 0.,\n",
       "       0., 0., 0., 0., 0., 0., 0., 0., 0., 0., 0., 0., 0., 0., 0., 0., 0.,\n",
       "       0., 0., 0., 0., 0., 0., 0., 0., 0., 0., 0., 0., 0., 0., 0., 0., 0.,\n",
       "       0., 0., 0., 0., 0., 0., 0., 0., 0., 0., 0., 0., 0., 0., 0.])"
      ]
     },
     "execution_count": 40,
     "metadata": {},
     "output_type": "execute_result"
    }
   ],
   "source": [
    "tracking_events[180,:,0]"
   ]
  },
  {
   "cell_type": "code",
   "execution_count": 30,
   "metadata": {},
   "outputs": [
    {
     "data": {
      "text/plain": [
       "(133123, 100, 2)"
      ]
     },
     "execution_count": 30,
     "metadata": {},
     "output_type": "execute_result"
    }
   ],
   "source": [
    "tracking_movements.shape"
   ]
  },
  {
   "cell_type": "code",
   "execution_count": null,
   "metadata": {},
   "outputs": [],
   "source": []
  }
 ],
 "metadata": {
  "kernelspec": {
   "display_name": "Python [conda env:kaggle]",
   "language": "python",
   "name": "conda-env-kaggle-py"
  },
  "language_info": {
   "codemirror_mode": {
    "name": "ipython",
    "version": 3
   },
   "file_extension": ".py",
   "mimetype": "text/x-python",
   "name": "python",
   "nbconvert_exporter": "python",
   "pygments_lexer": "ipython3",
   "version": "3.6.4"
  }
 },
 "nbformat": 4,
 "nbformat_minor": 2
}
