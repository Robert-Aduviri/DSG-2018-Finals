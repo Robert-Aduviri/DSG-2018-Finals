{
 "cells": [
  {
   "cell_type": "code",
   "execution_count": 1,
   "metadata": {},
   "outputs": [],
   "source": [
    "import pandas as pd\n",
    "import numpy as np\n",
    "from tqdm import tqdm\n",
    "import os\n",
    "import matplotlib.pyplot as plt\n",
    "\n",
    "os.chdir('../..')\n",
    "\n",
    "from src.utils_k import add_type_features\n",
    "from src.utils_r import generate_validation_set\n",
    "\n",
    "pd.options.display.max_columns = 9999\n",
    "pd.options.display.max_rows = 9999"
   ]
  },
  {
   "cell_type": "code",
   "execution_count": 2,
   "metadata": {},
   "outputs": [],
   "source": [
    "from src.utils_f import duration_feature\n",
    "from src.utils_r import add_num_skus\n",
    "import lightgbm as lgbm\n",
    "import re"
   ]
  },
  {
   "cell_type": "code",
   "execution_count": 3,
   "metadata": {},
   "outputs": [],
   "source": [
    "%load_ext autoreload\n",
    "%autoreload 2"
   ]
  },
  {
   "cell_type": "code",
   "execution_count": 4,
   "metadata": {},
   "outputs": [],
   "source": [
    "test_session = pd.read_csv('data/raw/random_submission.csv')\n",
    "test_tracking = pd.read_csv('data/raw/test_tracking.csv')\n",
    "all_session = pd.read_csv('data/raw/train_session.csv') \n",
    "all_tracking = pd.read_csv('data/raw/train_tracking.csv')"
   ]
  },
  {
   "cell_type": "code",
   "execution_count": 5,
   "metadata": {},
   "outputs": [],
   "source": [
    "trn_session, trn_tracking, val_session, val_tracking = generate_validation_set(all_session, all_tracking, test_size=0.4)"
   ]
  },
  {
   "cell_type": "code",
   "execution_count": 6,
   "metadata": {},
   "outputs": [],
   "source": [
    "proc_train = add_type_features(trn_session[['sid']], trn_tracking)\n",
    "proc_val = add_type_features(val_session[['sid']], val_tracking)\n",
    "proc_all = add_type_features(all_session[['sid']], all_tracking)\n",
    "proc_test = add_type_features(test_session, test_tracking)"
   ]
  },
  {
   "cell_type": "code",
   "execution_count": 7,
   "metadata": {},
   "outputs": [
    {
     "name": "stderr",
     "output_type": "stream",
     "text": [
      "/anaconda/envs/kaggle/lib/python3.6/site-packages/pandas/core/generic.py:3643: SettingWithCopyWarning: \n",
      "A value is trying to be set on a copy of a slice from a DataFrame.\n",
      "Try using .loc[row_indexer,col_indexer] = value instead\n",
      "\n",
      "See the caveats in the documentation: http://pandas.pydata.org/pandas-docs/stable/indexing.html#indexing-view-versus-copy\n",
      "  self[name] = value\n"
     ]
    }
   ],
   "source": [
    "proc_train = duration_feature(proc_train, trn_tracking)\n",
    "proc_val = duration_feature(proc_val, val_tracking)\n",
    "proc_all = duration_feature(proc_all, all_tracking)\n",
    "proc_test = duration_feature(proc_test, test_tracking)"
   ]
  },
  {
   "cell_type": "code",
   "execution_count": 59,
   "metadata": {},
   "outputs": [
    {
     "data": {
      "text/plain": [
       "Index(['sid', 'type', 'query', 'nb_query_terms', 'rcount', 'pn', 'facets',\n",
       "       'products', 'dproducts', 'rh', 'rw', 'device', 'idcar', 'carproducts',\n",
       "       'sku', 'offerid', 'quantity', 'stype', 'sname', 'ff', 'oidcar',\n",
       "       'ocarproducts', 'oquery', 'orcount', 'ofacets', 'opn', 'odproducts',\n",
       "       'oproducts', 'siteid', 'duration', 'type_simplified'],\n",
       "      dtype='object')"
      ]
     },
     "execution_count": 59,
     "metadata": {},
     "output_type": "execute_result"
    }
   ],
   "source": [
    "all_tracking.columns"
   ]
  },
  {
   "cell_type": "code",
   "execution_count": 86,
   "metadata": {},
   "outputs": [],
   "source": [
    "prod_sku = all_tracking.loc[(all_tracking.ocarproducts.notnull()) |\n",
    "                         (all_tracking.products.notnull()) |\n",
    "                         (all_tracking.oproducts.notnull()) |\n",
    "                         (all_tracking.carproducts.notnull())][['ocarproducts', 'products', 'oproducts', 'carproducts']].reset_index(drop=True)\n",
    "\n",
    "prod_sku['TEMP'] = ''\n",
    "\n",
    "    "
   ]
  },
  {
   "cell_type": "code",
   "execution_count": 103,
   "metadata": {},
   "outputs": [],
   "source": [
    "import math\n",
    "for ix, row in prod_sku.iterrows():\n",
    "    if row.ocarproducts is str:\n",
    "        prod_sku.at[ix, 'TEMP'] = row.ocarproducts\n",
    "    elif row.products is str:\n",
    "        prod_sku.at[ix, 'TEMP'] = row.products\n",
    "    elif row.oproducts  is str:\n",
    "        prod_sku.at[ix, 'TEMP'] = row.oproducts\n",
    "    elif row.carproducts  is str:\n",
    "        prod_sku.at[ix, 'TEMP'] = row.carproducts"
   ]
  },
  {
   "cell_type": "code",
   "execution_count": 108,
   "metadata": {},
   "outputs": [],
   "source": [
    "from collections import defaultdict"
   ]
  },
  {
   "cell_type": "code",
   "execution_count": 113,
   "metadata": {},
   "outputs": [
    {
     "data": {
      "text/plain": [
       "Index(['ocarproducts', 'products', 'oproducts', 'carproducts', 'TEMP'], dtype='object')"
      ]
     },
     "execution_count": 113,
     "metadata": {},
     "output_type": "execute_result"
    }
   ],
   "source": [
    "prod_sku.columns"
   ]
  },
  {
   "cell_type": "code",
   "execution_count": 114,
   "metadata": {},
   "outputs": [],
   "source": [
    "from ast import literal_eval"
   ]
  },
  {
   "cell_type": "code",
   "execution_count": null,
   "metadata": {},
   "outputs": [],
   "source": [
    "dict_ocar = prod_sku.loc[prod_sku.ocarproducts.notnull()].apply(lambda row: literal_eval(row.ocarproducts), axis=1)"
   ]
  },
  {
   "cell_type": "code",
   "execution_count": null,
   "metadata": {},
   "outputs": [],
   "source": [
    "prod_prod = prod_sku.loc[prod_sku.products.notnull()].apply(lambda row: literal_eval(row.products), axis=1)"
   ]
  },
  {
   "cell_type": "code",
   "execution_count": null,
   "metadata": {},
   "outputs": [],
   "source": [
    "dict_oprod = prod_sku.loc[prod_sku.oproducts.notnull()].apply(lambda row: literal_eval(row.oproducts), axis=1)"
   ]
  },
  {
   "cell_type": "code",
   "execution_count": null,
   "metadata": {},
   "outputs": [],
   "source": [
    "dict_carp = prod_sku.loc[prod_sku.carproducts.notnull()].apply(lambda row: literal_eval(row.carproducts), axis=1)"
   ]
  },
  {
   "cell_type": "code",
   "execution_count": 110,
   "metadata": {},
   "outputs": [
    {
     "ename": "KeyboardInterrupt",
     "evalue": "",
     "output_type": "error",
     "traceback": [
      "\u001b[0;31m---------------------------------------------------------------------------\u001b[0m",
      "\u001b[0;31mKeyboardInterrupt\u001b[0m                         Traceback (most recent call last)",
      "\u001b[0;32m<ipython-input-110-b73f208cc99d>\u001b[0m in \u001b[0;36m<module>\u001b[0;34m()\u001b[0m\n\u001b[1;32m      7\u001b[0m \u001b[0mrow\u001b[0m\u001b[0;34m[\u001b[0m\u001b[0;34m'CARP_PER'\u001b[0m\u001b[0;34m]\u001b[0m \u001b[0;34m=\u001b[0m \u001b[0mnp\u001b[0m\u001b[0;34m.\u001b[0m\u001b[0mnan\u001b[0m\u001b[0;34m\u001b[0m\u001b[0m\n\u001b[1;32m      8\u001b[0m \u001b[0;34m\u001b[0m\u001b[0m\n\u001b[0;32m----> 9\u001b[0;31m \u001b[0;32mfor\u001b[0m \u001b[0mix\u001b[0m\u001b[0;34m,\u001b[0m \u001b[0mrow\u001b[0m \u001b[0;32min\u001b[0m \u001b[0mprod_sku\u001b[0m\u001b[0;34m.\u001b[0m\u001b[0miterrows\u001b[0m\u001b[0;34m(\u001b[0m\u001b[0;34m)\u001b[0m\u001b[0;34m:\u001b[0m\u001b[0;34m\u001b[0m\u001b[0m\n\u001b[0m\u001b[1;32m     10\u001b[0m     \u001b[0mrow\u001b[0m\u001b[0;34m\u001b[0m\u001b[0m\n",
      "\u001b[0;32m/anaconda/envs/kaggle/lib/python3.6/site-packages/pandas/core/frame.py\u001b[0m in \u001b[0;36miterrows\u001b[0;34m(self)\u001b[0m\n\u001b[1;32m    746\u001b[0m         \u001b[0mklass\u001b[0m \u001b[0;34m=\u001b[0m \u001b[0mself\u001b[0m\u001b[0;34m.\u001b[0m\u001b[0m_constructor_sliced\u001b[0m\u001b[0;34m\u001b[0m\u001b[0m\n\u001b[1;32m    747\u001b[0m         \u001b[0;32mfor\u001b[0m \u001b[0mk\u001b[0m\u001b[0;34m,\u001b[0m \u001b[0mv\u001b[0m \u001b[0;32min\u001b[0m \u001b[0mzip\u001b[0m\u001b[0;34m(\u001b[0m\u001b[0mself\u001b[0m\u001b[0;34m.\u001b[0m\u001b[0mindex\u001b[0m\u001b[0;34m,\u001b[0m \u001b[0mself\u001b[0m\u001b[0;34m.\u001b[0m\u001b[0mvalues\u001b[0m\u001b[0;34m)\u001b[0m\u001b[0;34m:\u001b[0m\u001b[0;34m\u001b[0m\u001b[0m\n\u001b[0;32m--> 748\u001b[0;31m             \u001b[0ms\u001b[0m \u001b[0;34m=\u001b[0m \u001b[0mklass\u001b[0m\u001b[0;34m(\u001b[0m\u001b[0mv\u001b[0m\u001b[0;34m,\u001b[0m \u001b[0mindex\u001b[0m\u001b[0;34m=\u001b[0m\u001b[0mcolumns\u001b[0m\u001b[0;34m,\u001b[0m \u001b[0mname\u001b[0m\u001b[0;34m=\u001b[0m\u001b[0mk\u001b[0m\u001b[0;34m)\u001b[0m\u001b[0;34m\u001b[0m\u001b[0m\n\u001b[0m\u001b[1;32m    749\u001b[0m             \u001b[0;32myield\u001b[0m \u001b[0mk\u001b[0m\u001b[0;34m,\u001b[0m \u001b[0ms\u001b[0m\u001b[0;34m\u001b[0m\u001b[0m\n\u001b[1;32m    750\u001b[0m \u001b[0;34m\u001b[0m\u001b[0m\n",
      "\u001b[0;32m/anaconda/envs/kaggle/lib/python3.6/site-packages/pandas/core/series.py\u001b[0m in \u001b[0;36m__init__\u001b[0;34m(self, data, index, dtype, name, copy, fastpath)\u001b[0m\n\u001b[1;32m    264\u001b[0m                                        raise_cast_failure=True)\n\u001b[1;32m    265\u001b[0m \u001b[0;34m\u001b[0m\u001b[0m\n\u001b[0;32m--> 266\u001b[0;31m                 \u001b[0mdata\u001b[0m \u001b[0;34m=\u001b[0m \u001b[0mSingleBlockManager\u001b[0m\u001b[0;34m(\u001b[0m\u001b[0mdata\u001b[0m\u001b[0;34m,\u001b[0m \u001b[0mindex\u001b[0m\u001b[0;34m,\u001b[0m \u001b[0mfastpath\u001b[0m\u001b[0;34m=\u001b[0m\u001b[0;32mTrue\u001b[0m\u001b[0;34m)\u001b[0m\u001b[0;34m\u001b[0m\u001b[0m\n\u001b[0m\u001b[1;32m    267\u001b[0m \u001b[0;34m\u001b[0m\u001b[0m\n\u001b[1;32m    268\u001b[0m         \u001b[0mgeneric\u001b[0m\u001b[0;34m.\u001b[0m\u001b[0mNDFrame\u001b[0m\u001b[0;34m.\u001b[0m\u001b[0m__init__\u001b[0m\u001b[0;34m(\u001b[0m\u001b[0mself\u001b[0m\u001b[0;34m,\u001b[0m \u001b[0mdata\u001b[0m\u001b[0;34m,\u001b[0m \u001b[0mfastpath\u001b[0m\u001b[0;34m=\u001b[0m\u001b[0;32mTrue\u001b[0m\u001b[0;34m)\u001b[0m\u001b[0;34m\u001b[0m\u001b[0m\n",
      "\u001b[0;32m/anaconda/envs/kaggle/lib/python3.6/site-packages/pandas/core/internals.py\u001b[0m in \u001b[0;36m__init__\u001b[0;34m(self, block, axis, do_integrity_check, fastpath)\u001b[0m\n\u001b[1;32m   4400\u001b[0m         \u001b[0;32mif\u001b[0m \u001b[0;32mnot\u001b[0m \u001b[0misinstance\u001b[0m\u001b[0;34m(\u001b[0m\u001b[0mblock\u001b[0m\u001b[0;34m,\u001b[0m \u001b[0mBlock\u001b[0m\u001b[0;34m)\u001b[0m\u001b[0;34m:\u001b[0m\u001b[0;34m\u001b[0m\u001b[0m\n\u001b[1;32m   4401\u001b[0m             block = make_block(block, placement=slice(0, len(axis)), ndim=1,\n\u001b[0;32m-> 4402\u001b[0;31m                                fastpath=True)\n\u001b[0m\u001b[1;32m   4403\u001b[0m \u001b[0;34m\u001b[0m\u001b[0m\n\u001b[1;32m   4404\u001b[0m         \u001b[0mself\u001b[0m\u001b[0;34m.\u001b[0m\u001b[0mblocks\u001b[0m \u001b[0;34m=\u001b[0m \u001b[0;34m[\u001b[0m\u001b[0mblock\u001b[0m\u001b[0;34m]\u001b[0m\u001b[0;34m\u001b[0m\u001b[0m\n",
      "\u001b[0;32m/anaconda/envs/kaggle/lib/python3.6/site-packages/pandas/core/internals.py\u001b[0m in \u001b[0;36mmake_block\u001b[0;34m(values, placement, klass, ndim, dtype, fastpath)\u001b[0m\n\u001b[1;32m   2955\u001b[0m                      placement=placement, dtype=dtype)\n\u001b[1;32m   2956\u001b[0m \u001b[0;34m\u001b[0m\u001b[0m\n\u001b[0;32m-> 2957\u001b[0;31m     \u001b[0;32mreturn\u001b[0m \u001b[0mklass\u001b[0m\u001b[0;34m(\u001b[0m\u001b[0mvalues\u001b[0m\u001b[0;34m,\u001b[0m \u001b[0mndim\u001b[0m\u001b[0;34m=\u001b[0m\u001b[0mndim\u001b[0m\u001b[0;34m,\u001b[0m \u001b[0mfastpath\u001b[0m\u001b[0;34m=\u001b[0m\u001b[0mfastpath\u001b[0m\u001b[0;34m,\u001b[0m \u001b[0mplacement\u001b[0m\u001b[0;34m=\u001b[0m\u001b[0mplacement\u001b[0m\u001b[0;34m)\u001b[0m\u001b[0;34m\u001b[0m\u001b[0m\n\u001b[0m\u001b[1;32m   2958\u001b[0m \u001b[0;34m\u001b[0m\u001b[0m\n\u001b[1;32m   2959\u001b[0m \u001b[0;31m# TODO: flexible with index=None and/or items=None\u001b[0m\u001b[0;34m\u001b[0m\u001b[0;34m\u001b[0m\u001b[0m\n",
      "\u001b[0;32m/anaconda/envs/kaggle/lib/python3.6/site-packages/pandas/core/internals.py\u001b[0m in \u001b[0;36m__init__\u001b[0;34m(self, values, ndim, fastpath, placement, **kwargs)\u001b[0m\n\u001b[1;32m   2080\u001b[0m \u001b[0;34m\u001b[0m\u001b[0m\n\u001b[1;32m   2081\u001b[0m         super(ObjectBlock, self).__init__(values, ndim=ndim, fastpath=fastpath,\n\u001b[0;32m-> 2082\u001b[0;31m                                           placement=placement, **kwargs)\n\u001b[0m\u001b[1;32m   2083\u001b[0m \u001b[0;34m\u001b[0m\u001b[0m\n\u001b[1;32m   2084\u001b[0m     \u001b[0;34m@\u001b[0m\u001b[0mproperty\u001b[0m\u001b[0;34m\u001b[0m\u001b[0m\n",
      "\u001b[0;31mKeyboardInterrupt\u001b[0m: "
     ]
    }
   ],
   "source": [
    "sku_up = {}\n",
    "sku_down = {}\n",
    "\n",
    "row['OCAR_PER'] = np.nan\n",
    "row['PROD_PER'] = np.nan\n",
    "row['OPRO_PER'] = np.nan\n",
    "row['CARP_PER'] = np.nan\n",
    "\n",
    "for ix, row in prod_sku.iterrows():\n",
    "    if sku_"
   ]
  },
  {
   "cell_type": "code",
   "execution_count": 105,
   "metadata": {},
   "outputs": [
    {
     "data": {
      "text/html": [
       "<div>\n",
       "<style scoped>\n",
       "    .dataframe tbody tr th:only-of-type {\n",
       "        vertical-align: middle;\n",
       "    }\n",
       "\n",
       "    .dataframe tbody tr th {\n",
       "        vertical-align: top;\n",
       "    }\n",
       "\n",
       "    .dataframe thead th {\n",
       "        text-align: right;\n",
       "    }\n",
       "</style>\n",
       "<table border=\"1\" class=\"dataframe\">\n",
       "  <thead>\n",
       "    <tr style=\"text-align: right;\">\n",
       "      <th></th>\n",
       "      <th>ocarproducts</th>\n",
       "      <th>products</th>\n",
       "      <th>oproducts</th>\n",
       "      <th>carproducts</th>\n",
       "      <th>TEMP</th>\n",
       "    </tr>\n",
       "  </thead>\n",
       "  <tbody>\n",
       "    <tr>\n",
       "      <th>0</th>\n",
       "      <td>NaN</td>\n",
       "      <td>NaN</td>\n",
       "      <td>NaN</td>\n",
       "      <td>[{'sku': 'JHRfp5ydSvpIOBk7rqeHaep6NPTGBfCKCRdX...</td>\n",
       "      <td>NaN</td>\n",
       "    </tr>\n",
       "    <tr>\n",
       "      <th>1</th>\n",
       "      <td>NaN</td>\n",
       "      <td>NaN</td>\n",
       "      <td>NaN</td>\n",
       "      <td>[{'sku': 'V8buGT/FybKwREEFPwo8vup6NPTGBfCKCRdX...</td>\n",
       "      <td>NaN</td>\n",
       "    </tr>\n",
       "    <tr>\n",
       "      <th>2</th>\n",
       "      <td>NaN</td>\n",
       "      <td>NaN</td>\n",
       "      <td>NaN</td>\n",
       "      <td>[{'sku': 'Acr3ieqo6rTn9cDfXO5/4up6NPTGBfCKCRdX...</td>\n",
       "      <td>NaN</td>\n",
       "    </tr>\n",
       "    <tr>\n",
       "      <th>3</th>\n",
       "      <td>NaN</td>\n",
       "      <td>NaN</td>\n",
       "      <td>NaN</td>\n",
       "      <td>[{'sku': 'MlIOsc6DgaqG/BO9BBfEf+p6NPTGBfCKCRdX...</td>\n",
       "      <td>NaN</td>\n",
       "    </tr>\n",
       "    <tr>\n",
       "      <th>4</th>\n",
       "      <td>NaN</td>\n",
       "      <td>NaN</td>\n",
       "      <td>NaN</td>\n",
       "      <td>[{'sku': 'saNdFRsUuhoQGmLKSmkgIOp6NPTGBfCKCRdX...</td>\n",
       "      <td>NaN</td>\n",
       "    </tr>\n",
       "  </tbody>\n",
       "</table>\n",
       "</div>"
      ],
      "text/plain": [
       "  ocarproducts products oproducts  \\\n",
       "0          NaN      NaN       NaN   \n",
       "1          NaN      NaN       NaN   \n",
       "2          NaN      NaN       NaN   \n",
       "3          NaN      NaN       NaN   \n",
       "4          NaN      NaN       NaN   \n",
       "\n",
       "                                         carproducts TEMP  \n",
       "0  [{'sku': 'JHRfp5ydSvpIOBk7rqeHaep6NPTGBfCKCRdX...  NaN  \n",
       "1  [{'sku': 'V8buGT/FybKwREEFPwo8vup6NPTGBfCKCRdX...  NaN  \n",
       "2  [{'sku': 'Acr3ieqo6rTn9cDfXO5/4up6NPTGBfCKCRdX...  NaN  \n",
       "3  [{'sku': 'MlIOsc6DgaqG/BO9BBfEf+p6NPTGBfCKCRdX...  NaN  \n",
       "4  [{'sku': 'saNdFRsUuhoQGmLKSmkgIOp6NPTGBfCKCRdX...  NaN  "
      ]
     },
     "execution_count": 105,
     "metadata": {},
     "output_type": "execute_result"
    }
   ],
   "source": [
    "prod_sku.head()"
   ]
  },
  {
   "cell_type": "code",
   "execution_count": 84,
   "metadata": {},
   "outputs": [
    {
     "ename": "AttributeError",
     "evalue": "'float' object has no attribute 'TEMP'",
     "output_type": "error",
     "traceback": [
      "\u001b[0;31m---------------------------------------------------------------------------\u001b[0m",
      "\u001b[0;31mAttributeError\u001b[0m                            Traceback (most recent call last)",
      "\u001b[0;32m<ipython-input-84-73486695c055>\u001b[0m in \u001b[0;36m<module>\u001b[0;34m()\u001b[0m\n\u001b[0;32m----> 1\u001b[0;31m \u001b[0mprod_sku\u001b[0m\u001b[0;34m[\u001b[0m\u001b[0;34m'COUNT'\u001b[0m\u001b[0;34m]\u001b[0m \u001b[0;34m=\u001b[0m \u001b[0mprod_sku\u001b[0m\u001b[0;34m[\u001b[0m\u001b[0;34m'TEMP'\u001b[0m\u001b[0;34m]\u001b[0m\u001b[0;34m.\u001b[0m\u001b[0mapply\u001b[0m\u001b[0;34m(\u001b[0m\u001b[0;32mlambda\u001b[0m \u001b[0mrow\u001b[0m\u001b[0;34m:\u001b[0m \u001b[0mlen\u001b[0m\u001b[0;34m(\u001b[0m\u001b[0mre\u001b[0m\u001b[0;34m.\u001b[0m\u001b[0mfindall\u001b[0m\u001b[0;34m(\u001b[0m\u001b[0;34mr':'\u001b[0m\u001b[0;34m,\u001b[0m \u001b[0mrow\u001b[0m\u001b[0;34m.\u001b[0m\u001b[0mTEMP\u001b[0m\u001b[0;34m)\u001b[0m\u001b[0;34m)\u001b[0m\u001b[0;34m)\u001b[0m\u001b[0;34m\u001b[0m\u001b[0m\n\u001b[0m",
      "\u001b[0;32m/anaconda/envs/kaggle/lib/python3.6/site-packages/pandas/core/series.py\u001b[0m in \u001b[0;36mapply\u001b[0;34m(self, func, convert_dtype, args, **kwds)\u001b[0m\n\u001b[1;32m   2549\u001b[0m             \u001b[0;32melse\u001b[0m\u001b[0;34m:\u001b[0m\u001b[0;34m\u001b[0m\u001b[0m\n\u001b[1;32m   2550\u001b[0m                 \u001b[0mvalues\u001b[0m \u001b[0;34m=\u001b[0m \u001b[0mself\u001b[0m\u001b[0;34m.\u001b[0m\u001b[0masobject\u001b[0m\u001b[0;34m\u001b[0m\u001b[0m\n\u001b[0;32m-> 2551\u001b[0;31m                 \u001b[0mmapped\u001b[0m \u001b[0;34m=\u001b[0m \u001b[0mlib\u001b[0m\u001b[0;34m.\u001b[0m\u001b[0mmap_infer\u001b[0m\u001b[0;34m(\u001b[0m\u001b[0mvalues\u001b[0m\u001b[0;34m,\u001b[0m \u001b[0mf\u001b[0m\u001b[0;34m,\u001b[0m \u001b[0mconvert\u001b[0m\u001b[0;34m=\u001b[0m\u001b[0mconvert_dtype\u001b[0m\u001b[0;34m)\u001b[0m\u001b[0;34m\u001b[0m\u001b[0m\n\u001b[0m\u001b[1;32m   2552\u001b[0m \u001b[0;34m\u001b[0m\u001b[0m\n\u001b[1;32m   2553\u001b[0m         \u001b[0;32mif\u001b[0m \u001b[0mlen\u001b[0m\u001b[0;34m(\u001b[0m\u001b[0mmapped\u001b[0m\u001b[0;34m)\u001b[0m \u001b[0;32mand\u001b[0m \u001b[0misinstance\u001b[0m\u001b[0;34m(\u001b[0m\u001b[0mmapped\u001b[0m\u001b[0;34m[\u001b[0m\u001b[0;36m0\u001b[0m\u001b[0;34m]\u001b[0m\u001b[0;34m,\u001b[0m \u001b[0mSeries\u001b[0m\u001b[0;34m)\u001b[0m\u001b[0;34m:\u001b[0m\u001b[0;34m\u001b[0m\u001b[0m\n",
      "\u001b[0;32mpandas/_libs/src/inference.pyx\u001b[0m in \u001b[0;36mpandas._libs.lib.map_infer\u001b[0;34m()\u001b[0m\n",
      "\u001b[0;32m<ipython-input-84-73486695c055>\u001b[0m in \u001b[0;36m<lambda>\u001b[0;34m(row)\u001b[0m\n\u001b[0;32m----> 1\u001b[0;31m \u001b[0mprod_sku\u001b[0m\u001b[0;34m[\u001b[0m\u001b[0;34m'COUNT'\u001b[0m\u001b[0;34m]\u001b[0m \u001b[0;34m=\u001b[0m \u001b[0mprod_sku\u001b[0m\u001b[0;34m[\u001b[0m\u001b[0;34m'TEMP'\u001b[0m\u001b[0;34m]\u001b[0m\u001b[0;34m.\u001b[0m\u001b[0mapply\u001b[0m\u001b[0;34m(\u001b[0m\u001b[0;32mlambda\u001b[0m \u001b[0mrow\u001b[0m\u001b[0;34m:\u001b[0m \u001b[0mlen\u001b[0m\u001b[0;34m(\u001b[0m\u001b[0mre\u001b[0m\u001b[0;34m.\u001b[0m\u001b[0mfindall\u001b[0m\u001b[0;34m(\u001b[0m\u001b[0;34mr':'\u001b[0m\u001b[0;34m,\u001b[0m \u001b[0mrow\u001b[0m\u001b[0;34m.\u001b[0m\u001b[0mTEMP\u001b[0m\u001b[0;34m)\u001b[0m\u001b[0;34m)\u001b[0m\u001b[0;34m)\u001b[0m\u001b[0;34m\u001b[0m\u001b[0m\n\u001b[0m",
      "\u001b[0;31mAttributeError\u001b[0m: 'float' object has no attribute 'TEMP'"
     ]
    }
   ],
   "source": [
    "prod_sku['COUNT'] = prod_sku['TEMP'].apply(lambda row: len(re.findall(r':', row.TEMP)))"
   ]
  },
  {
   "cell_type": "code",
   "execution_count": 75,
   "metadata": {},
   "outputs": [
    {
     "data": {
      "text/plain": [
       "0     True\n",
       "1     True\n",
       "2     True\n",
       "3     True\n",
       "4    False\n",
       "dtype: bool"
      ]
     },
     "execution_count": 75,
     "metadata": {},
     "output_type": "execute_result"
    }
   ],
   "source": [
    "temp.head()"
   ]
  },
  {
   "cell_type": "code",
   "execution_count": 68,
   "metadata": {},
   "outputs": [
    {
     "data": {
      "text/plain": [
       "Int64Index([], dtype='int64')"
      ]
     },
     "execution_count": 68,
     "metadata": {},
     "output_type": "execute_result"
    }
   ],
   "source": [
    "prod_sku.loc[prod_sku.notnull().sum(1)>1].index"
   ]
  },
  {
   "cell_type": "code",
   "execution_count": null,
   "metadata": {},
   "outputs": [],
   "source": [
    "train_buy = pd.merge(all_tracking, all_session, how='left', on='sid')\n",
    "prod_sku = train_buy.loc[(all_tracking.ocarproducts.notnull()) |\n",
    "                         (all_tracking.products.notnull()) |\n",
    "                         (all_tracking.oproducts.notnull()) |\n",
    "                         (all_tracking.carproducts.notnull())][['sku', 'target']].reset_index()\n",
    "prod_cat = pd.merge(prod_sku, product, left_on='sku', right_on='product_id')\n",
    "\n",
    "dict_prod = prod_cat.set_index('product_id').to_dict('index')\n",
    "\n",
    "level_1 = prod_cat.groupby('category_product_id_level1').count().shape[0]\n",
    "level_2 = prod_cat.groupby('category_product_id_level2').count().shape[0]\n",
    "level_3 = prod_cat.groupby('category_product_id_level3').count().shape[0]\n",
    "\n",
    "level_map_1 = prod_cat.groupby(['category_product_id_level1', 'target']).count().to_dict('index')\n",
    "level_map_2 = prod_cat.groupby(['category_product_id_level2', 'target']).count().to_dict('index')\n",
    "level_map_3 = prod_cat.groupby(['category_product_id_level3', 'target']).count().to_dict('index')\n",
    "\n",
    "product['SCORE_LEVEL_1'] = np.nan\n",
    "product['SCORE_LEVEL_2'] = np.nan\n",
    "product['SCORE_LEVEL_3'] = np.nan\n",
    "\n",
    "for ix, row_prod in tqdm(product.iterrows(), total=len(product)):\n",
    "    if row_prod.product_id in dict_prod:\n",
    "        if (dict_prod[row_prod.product_id]['category_product_id_level1'], True) in level_map_1:\n",
    "            product.at[ix, 'SCORE_LEVEL_1'] = level_map_1[(dict_prod[row_prod.product_id]['category_product_id_level1'], True)]['sku'] * 1.0 / level_1\n",
    "        if (dict_prod[row_prod.product_id]['category_product_id_level2'], True) in level_map_1:\n",
    "            product.at[ix, 'SCORE_LEVEL_2'] = level_map_1[(dict_prod[row_prod.product_id]['category_product_id_level2'], True)]['sku'] * 1.0 / level_2\n",
    "        if (dict_prod[row_prod.product_id]['category_product_id_level3'], True) in level_map_1:\n",
    "            product.at[ix, 'SCORE_LEVEL_3'] = level_map_1[(dict_prod[row_prod.product_id]['category_product_id_level3'], True)]['sku'] * 1.0 / level_3"
   ]
  },
  {
   "cell_type": "code",
   "execution_count": null,
   "metadata": {},
   "outputs": [],
   "source": [
    "def add_score_category()"
   ]
  },
  {
   "cell_type": "code",
   "execution_count": null,
   "metadata": {},
   "outputs": [],
   "source": [
    "el skud que afecta "
   ]
  },
  {
   "cell_type": "code",
   "execution_count": null,
   "metadata": {},
   "outputs": [],
   "source": [
    "def add_purchase_count(col_prod='sku'):\n",
    "    \n",
    "    prod_type = train_tracking.groupby([col_prod, 'type']).count()[['sid']].to_dict('index')\n",
    "    prod_sim_type = train_tracking.groupby([col_prod, 'type_simplified']).count()[['sid']].to_dict('index')\n",
    "    \n",
    "    product[f'PURCHASE_PRODUCT_{col_prod}'] = 0.0\n",
    "    product[f'PURCHASE_PRODUCT_CAROUSEL_{col_prod}'] = 0.0\n",
    "    product[f'PURCHASE_PRODUCT_LP_{col_prod}'] = 0.0\n",
    "    product[f'PURCHASE_PRODUCT_LR_{col_prod}'] = 0.0\n",
    "    product[f'PURCHASE_PRODUCT_PA_{col_prod}'] = 0.0\n",
    "    product[f'PURCHASE_PRODUCT_SHOW_CASE_{col_prod}'] = 0.0\n",
    "    product[f'PURCHASE_PRODUCT_UNKNOW_ORIGIN_{col_prod}'] = 0.0\n",
    "\n",
    "    for ix, row in tqdm(product.iterrows(), total=len(product)):\n",
    "        if (row.product_id, 'PURCHASE_PRODUCT') in prod_sim_type:\n",
    "            product.at[ix, 'PURCHASE_PRODUCT_{col_prod}'] = prod_sim_type[(row.product_id, 'PURCHASE_PRODUCT')]['sid']\n",
    "\n",
    "        if (row.product_id, 'PURCHASE_PRODUCT_CAROUSEL') in prod_sim_type:\n",
    "            product.at[ix, 'PURCHASE_PRODUCT_CAROUSEL_{col_prod}'] = prod_sim_type[(row.product_id, 'PURCHASE_PRODUCT_CAROUSEL')]['sid']\n",
    "\n",
    "        if (row.product_id, 'PURCHASE_PRODUCT_LP') in prod_sim_type:\n",
    "            product.at[ix, 'PURCHASE_PRODUCT_LP_{col_prod}'] = prod_sim_type[(row.product_id, 'PURCHASE_PRODUCT_LP')]['sid']\n",
    "\n",
    "        if (row.product_id, 'PURCHASE_PRODUCT_LR') in prod_sim_type:\n",
    "            product.at[ix, 'PURCHASE_PRODUCT_LR_{col_prod}'] = prod_sim_type[(row.product_id, 'PURCHASE_PRODUCT_LR')]['sid']\n",
    "\n",
    "        if (row.product_id, 'PURCHASE_PRODUCT_PA') in prod_sim_type:\n",
    "            product.at[ix, 'PURCHASE_PRODUCT_PA_{col_prod}'] = prod_sim_type[(row.product_id, 'PURCHASE_PRODUCT_PA')]['sid']\n",
    "\n",
    "        if (row.product_id, 'PURCHASE_PRODUCT_SHOW_CASE') in prod_sim_type:\n",
    "            product.at[ix, 'PURCHASE_PRODUCT_SHOW_CASE_{col_prod}'] = prod_sim_type[(row.product_id, 'PURCHASE_PRODUCT_SHOW_CASE')]['sid']\n",
    "\n",
    "        if (row.product_id, 'PURCHASE_PRODUCT_UNKNOW_ORIGIN') in prod_sim_type:\n",
    "            product.at[ix, 'PURCHASE_PRODUCT_UNKNOW_ORIGIN_{col_prod}'] = prod_sim_type[(row.product_id, 'PURCHASE_PRODUCT_UNKNOW_ORIGIN')]['sid']"
   ]
  },
  {
   "cell_type": "code",
   "execution_count": 8,
   "metadata": {},
   "outputs": [],
   "source": [
    "def add_filter_features(df, all_data):\n",
    "    temp = trn_tracking.loc[trn_tracking.facets.notnull()][['sid', 'facets']]\n",
    "    temp['n_filter'] = temp.apply(lambda row: np.array(re.findall(r': (.*?)[,|}]', row.facets), dtype=int).sum(), axis=1)  \n",
    "    temp = temp.groupby('sid').sum().reset_index()\n",
    "    \n",
    "    return pd.merge(df, temp, on='sid', how='left')"
   ]
  },
  {
   "cell_type": "code",
   "execution_count": 9,
   "metadata": {},
   "outputs": [],
   "source": [
    "add_num_skus(proc_train, trn_tracking)\n",
    "add_num_skus(proc_val, val_tracking)\n",
    "add_num_skus(proc_all, all_tracking)\n",
    "add_num_skus(proc_test, test_tracking)"
   ]
  },
  {
   "cell_type": "code",
   "execution_count": 45,
   "metadata": {},
   "outputs": [],
   "source": [
    "from src.utils_f import purchased_products"
   ]
  },
  {
   "cell_type": "code",
   "execution_count": 10,
   "metadata": {},
   "outputs": [],
   "source": [
    "proc_train = add_filter_features(proc_train, trn_tracking)\n",
    "proc_val = add_filter_features(proc_val, val_tracking)\n",
    "proc_all = add_filter_features(proc_all, all_tracking)\n",
    "proc_test = add_filter_features(proc_test, test_tracking)"
   ]
  },
  {
   "cell_type": "code",
   "execution_count": 46,
   "metadata": {},
   "outputs": [],
   "source": [
    "proc_train = purchased_products(proc_train, trn_tracking)\n",
    "proc_val = purchased_products(proc_val, val_tracking)\n",
    "proc_all = purchased_products(proc_all, all_tracking)\n",
    "proc_test = purchased_products(proc_test, test_tracking)"
   ]
  },
  {
   "cell_type": "code",
   "execution_count": 47,
   "metadata": {},
   "outputs": [
    {
     "data": {
      "text/html": [
       "<div>\n",
       "<style scoped>\n",
       "    .dataframe tbody tr th:only-of-type {\n",
       "        vertical-align: middle;\n",
       "    }\n",
       "\n",
       "    .dataframe tbody tr th {\n",
       "        vertical-align: top;\n",
       "    }\n",
       "\n",
       "    .dataframe thead th {\n",
       "        text-align: right;\n",
       "    }\n",
       "</style>\n",
       "<table border=\"1\" class=\"dataframe\">\n",
       "  <thead>\n",
       "    <tr style=\"text-align: right;\">\n",
       "      <th></th>\n",
       "      <th>sid</th>\n",
       "      <th>ADD_TO_BASKET_CAROUSEL_type</th>\n",
       "      <th>ADD_TO_BASKET_LP_type</th>\n",
       "      <th>ADD_TO_BASKET_LR_type</th>\n",
       "      <th>ADD_TO_BASKET_PA_type</th>\n",
       "      <th>ADD_TO_BASKET_SHOW_CASE_type</th>\n",
       "      <th>CAROUSEL_type</th>\n",
       "      <th>LIST_PRODUCT_type</th>\n",
       "      <th>PA_type</th>\n",
       "      <th>PRODUCT_CAROUSEL_type</th>\n",
       "      <th>PRODUCT_LP_type</th>\n",
       "      <th>PRODUCT_LR_type</th>\n",
       "      <th>PRODUCT_PA_type</th>\n",
       "      <th>PRODUCT_SHOW_CASE_type</th>\n",
       "      <th>PURCHASE_PRODUCT_CAROUSEL_type</th>\n",
       "      <th>PURCHASE_PRODUCT_LP_type</th>\n",
       "      <th>PURCHASE_PRODUCT_LR_type</th>\n",
       "      <th>PURCHASE_PRODUCT_PA_type</th>\n",
       "      <th>PURCHASE_PRODUCT_SHOW_CASE_type</th>\n",
       "      <th>PURCHASE_PRODUCT_UNKNOW_ORIGIN_type</th>\n",
       "      <th>SEARCH_type</th>\n",
       "      <th>SHOW_CASE_type</th>\n",
       "      <th>SUM_TYPE_type</th>\n",
       "      <th>ADD_TO_BASKET_sim_type</th>\n",
       "      <th>CAROUSEL_sim_type</th>\n",
       "      <th>LIST_PRODUCT_sim_type</th>\n",
       "      <th>PA_sim_type</th>\n",
       "      <th>PRODUCT_sim_type</th>\n",
       "      <th>PURCHASE_PRODUCT_sim_type</th>\n",
       "      <th>SEARCH_sim_type</th>\n",
       "      <th>SHOW_CASE_sim_type</th>\n",
       "      <th>SUM_TYPE_SIMPLIFIED_sim_type</th>\n",
       "      <th>TOTAL_DURATION</th>\n",
       "      <th>NUM_SKUS</th>\n",
       "      <th>n_filter</th>\n",
       "      <th>PURCHASED_PRODUCTS</th>\n",
       "    </tr>\n",
       "  </thead>\n",
       "  <tbody>\n",
       "    <tr>\n",
       "      <th>0</th>\n",
       "      <td>inxo2lfHOeGgN2ySgzK1hAKyCIt17p+honetBOQH4ICtTR...</td>\n",
       "      <td>0.0</td>\n",
       "      <td>0.0</td>\n",
       "      <td>0.000000</td>\n",
       "      <td>0.0</td>\n",
       "      <td>0.0</td>\n",
       "      <td>0.166667</td>\n",
       "      <td>0.0</td>\n",
       "      <td>0.041667</td>\n",
       "      <td>0.083333</td>\n",
       "      <td>0.0</td>\n",
       "      <td>0.041667</td>\n",
       "      <td>0.0</td>\n",
       "      <td>0.0</td>\n",
       "      <td>0.0</td>\n",
       "      <td>0.0</td>\n",
       "      <td>0.0</td>\n",
       "      <td>0.0</td>\n",
       "      <td>0.0</td>\n",
       "      <td>0.0</td>\n",
       "      <td>0.666667</td>\n",
       "      <td>0.000000</td>\n",
       "      <td>24.0</td>\n",
       "      <td>0.000000</td>\n",
       "      <td>0.166667</td>\n",
       "      <td>0.0</td>\n",
       "      <td>0.041667</td>\n",
       "      <td>0.125</td>\n",
       "      <td>0.0</td>\n",
       "      <td>0.666667</td>\n",
       "      <td>0.000000</td>\n",
       "      <td>24.0</td>\n",
       "      <td>7840.041643</td>\n",
       "      <td>3</td>\n",
       "      <td>20.0</td>\n",
       "      <td>NaN</td>\n",
       "    </tr>\n",
       "    <tr>\n",
       "      <th>1</th>\n",
       "      <td>4CGnnv6GOcYQp/kxVjcx8nN0u5HgaDaLQkC4xIteZJZ/wK...</td>\n",
       "      <td>0.0</td>\n",
       "      <td>0.0</td>\n",
       "      <td>0.000000</td>\n",
       "      <td>0.0</td>\n",
       "      <td>0.0</td>\n",
       "      <td>0.000000</td>\n",
       "      <td>0.0</td>\n",
       "      <td>0.000000</td>\n",
       "      <td>0.000000</td>\n",
       "      <td>0.0</td>\n",
       "      <td>0.125000</td>\n",
       "      <td>0.0</td>\n",
       "      <td>0.0</td>\n",
       "      <td>0.0</td>\n",
       "      <td>0.0</td>\n",
       "      <td>0.0</td>\n",
       "      <td>0.0</td>\n",
       "      <td>0.0</td>\n",
       "      <td>0.0</td>\n",
       "      <td>0.875000</td>\n",
       "      <td>0.000000</td>\n",
       "      <td>8.0</td>\n",
       "      <td>0.000000</td>\n",
       "      <td>0.000000</td>\n",
       "      <td>0.0</td>\n",
       "      <td>0.000000</td>\n",
       "      <td>0.125</td>\n",
       "      <td>0.0</td>\n",
       "      <td>0.875000</td>\n",
       "      <td>0.000000</td>\n",
       "      <td>8.0</td>\n",
       "      <td>288.199209</td>\n",
       "      <td>1</td>\n",
       "      <td>NaN</td>\n",
       "      <td>NaN</td>\n",
       "    </tr>\n",
       "    <tr>\n",
       "      <th>2</th>\n",
       "      <td>mh22mbOuRnDwAf2OWcrwwymfbZQ/CO3GQuNMO5NREgRV0t...</td>\n",
       "      <td>0.0</td>\n",
       "      <td>0.0</td>\n",
       "      <td>0.000000</td>\n",
       "      <td>0.0</td>\n",
       "      <td>0.0</td>\n",
       "      <td>0.833333</td>\n",
       "      <td>0.0</td>\n",
       "      <td>0.000000</td>\n",
       "      <td>0.000000</td>\n",
       "      <td>0.0</td>\n",
       "      <td>0.000000</td>\n",
       "      <td>0.0</td>\n",
       "      <td>0.0</td>\n",
       "      <td>0.0</td>\n",
       "      <td>0.0</td>\n",
       "      <td>0.0</td>\n",
       "      <td>0.0</td>\n",
       "      <td>0.0</td>\n",
       "      <td>0.0</td>\n",
       "      <td>0.166667</td>\n",
       "      <td>0.000000</td>\n",
       "      <td>6.0</td>\n",
       "      <td>0.000000</td>\n",
       "      <td>0.833333</td>\n",
       "      <td>0.0</td>\n",
       "      <td>0.000000</td>\n",
       "      <td>0.000</td>\n",
       "      <td>0.0</td>\n",
       "      <td>0.166667</td>\n",
       "      <td>0.000000</td>\n",
       "      <td>6.0</td>\n",
       "      <td>613.506545</td>\n",
       "      <td>0</td>\n",
       "      <td>NaN</td>\n",
       "      <td>NaN</td>\n",
       "    </tr>\n",
       "    <tr>\n",
       "      <th>3</th>\n",
       "      <td>K/+O1PWZ2vASLTrjvBFT7e62Vee1YyOxCrpMJNoL6edmuC...</td>\n",
       "      <td>0.0</td>\n",
       "      <td>0.0</td>\n",
       "      <td>0.181818</td>\n",
       "      <td>0.0</td>\n",
       "      <td>0.0</td>\n",
       "      <td>0.363636</td>\n",
       "      <td>0.0</td>\n",
       "      <td>0.090909</td>\n",
       "      <td>0.000000</td>\n",
       "      <td>0.0</td>\n",
       "      <td>0.000000</td>\n",
       "      <td>0.0</td>\n",
       "      <td>0.0</td>\n",
       "      <td>0.0</td>\n",
       "      <td>0.0</td>\n",
       "      <td>0.0</td>\n",
       "      <td>0.0</td>\n",
       "      <td>0.0</td>\n",
       "      <td>0.0</td>\n",
       "      <td>0.272727</td>\n",
       "      <td>0.090909</td>\n",
       "      <td>11.0</td>\n",
       "      <td>0.181818</td>\n",
       "      <td>0.363636</td>\n",
       "      <td>0.0</td>\n",
       "      <td>0.090909</td>\n",
       "      <td>0.000</td>\n",
       "      <td>0.0</td>\n",
       "      <td>0.272727</td>\n",
       "      <td>0.090909</td>\n",
       "      <td>11.0</td>\n",
       "      <td>217.223808</td>\n",
       "      <td>2</td>\n",
       "      <td>NaN</td>\n",
       "      <td>NaN</td>\n",
       "    </tr>\n",
       "    <tr>\n",
       "      <th>4</th>\n",
       "      <td>+8SAgYuptilut4CKRE59ncZFDaF4Y+PX6yJ8g4HaALCxI7...</td>\n",
       "      <td>0.0</td>\n",
       "      <td>0.0</td>\n",
       "      <td>0.000000</td>\n",
       "      <td>0.0</td>\n",
       "      <td>0.0</td>\n",
       "      <td>0.200000</td>\n",
       "      <td>0.6</td>\n",
       "      <td>0.000000</td>\n",
       "      <td>0.000000</td>\n",
       "      <td>0.2</td>\n",
       "      <td>0.000000</td>\n",
       "      <td>0.0</td>\n",
       "      <td>0.0</td>\n",
       "      <td>0.0</td>\n",
       "      <td>0.0</td>\n",
       "      <td>0.0</td>\n",
       "      <td>0.0</td>\n",
       "      <td>0.0</td>\n",
       "      <td>0.0</td>\n",
       "      <td>0.000000</td>\n",
       "      <td>0.000000</td>\n",
       "      <td>5.0</td>\n",
       "      <td>0.000000</td>\n",
       "      <td>0.200000</td>\n",
       "      <td>0.6</td>\n",
       "      <td>0.000000</td>\n",
       "      <td>0.200</td>\n",
       "      <td>0.0</td>\n",
       "      <td>0.000000</td>\n",
       "      <td>0.000000</td>\n",
       "      <td>5.0</td>\n",
       "      <td>168.220206</td>\n",
       "      <td>1</td>\n",
       "      <td>NaN</td>\n",
       "      <td>NaN</td>\n",
       "    </tr>\n",
       "  </tbody>\n",
       "</table>\n",
       "</div>"
      ],
      "text/plain": [
       "                                                 sid  \\\n",
       "0  inxo2lfHOeGgN2ySgzK1hAKyCIt17p+honetBOQH4ICtTR...   \n",
       "1  4CGnnv6GOcYQp/kxVjcx8nN0u5HgaDaLQkC4xIteZJZ/wK...   \n",
       "2  mh22mbOuRnDwAf2OWcrwwymfbZQ/CO3GQuNMO5NREgRV0t...   \n",
       "3  K/+O1PWZ2vASLTrjvBFT7e62Vee1YyOxCrpMJNoL6edmuC...   \n",
       "4  +8SAgYuptilut4CKRE59ncZFDaF4Y+PX6yJ8g4HaALCxI7...   \n",
       "\n",
       "   ADD_TO_BASKET_CAROUSEL_type  ADD_TO_BASKET_LP_type  ADD_TO_BASKET_LR_type  \\\n",
       "0                          0.0                    0.0               0.000000   \n",
       "1                          0.0                    0.0               0.000000   \n",
       "2                          0.0                    0.0               0.000000   \n",
       "3                          0.0                    0.0               0.181818   \n",
       "4                          0.0                    0.0               0.000000   \n",
       "\n",
       "   ADD_TO_BASKET_PA_type  ADD_TO_BASKET_SHOW_CASE_type  CAROUSEL_type  \\\n",
       "0                    0.0                           0.0       0.166667   \n",
       "1                    0.0                           0.0       0.000000   \n",
       "2                    0.0                           0.0       0.833333   \n",
       "3                    0.0                           0.0       0.363636   \n",
       "4                    0.0                           0.0       0.200000   \n",
       "\n",
       "   LIST_PRODUCT_type   PA_type  PRODUCT_CAROUSEL_type  PRODUCT_LP_type  \\\n",
       "0                0.0  0.041667               0.083333              0.0   \n",
       "1                0.0  0.000000               0.000000              0.0   \n",
       "2                0.0  0.000000               0.000000              0.0   \n",
       "3                0.0  0.090909               0.000000              0.0   \n",
       "4                0.6  0.000000               0.000000              0.2   \n",
       "\n",
       "   PRODUCT_LR_type  PRODUCT_PA_type  PRODUCT_SHOW_CASE_type  \\\n",
       "0         0.041667              0.0                     0.0   \n",
       "1         0.125000              0.0                     0.0   \n",
       "2         0.000000              0.0                     0.0   \n",
       "3         0.000000              0.0                     0.0   \n",
       "4         0.000000              0.0                     0.0   \n",
       "\n",
       "   PURCHASE_PRODUCT_CAROUSEL_type  PURCHASE_PRODUCT_LP_type  \\\n",
       "0                             0.0                       0.0   \n",
       "1                             0.0                       0.0   \n",
       "2                             0.0                       0.0   \n",
       "3                             0.0                       0.0   \n",
       "4                             0.0                       0.0   \n",
       "\n",
       "   PURCHASE_PRODUCT_LR_type  PURCHASE_PRODUCT_PA_type  \\\n",
       "0                       0.0                       0.0   \n",
       "1                       0.0                       0.0   \n",
       "2                       0.0                       0.0   \n",
       "3                       0.0                       0.0   \n",
       "4                       0.0                       0.0   \n",
       "\n",
       "   PURCHASE_PRODUCT_SHOW_CASE_type  PURCHASE_PRODUCT_UNKNOW_ORIGIN_type  \\\n",
       "0                              0.0                                  0.0   \n",
       "1                              0.0                                  0.0   \n",
       "2                              0.0                                  0.0   \n",
       "3                              0.0                                  0.0   \n",
       "4                              0.0                                  0.0   \n",
       "\n",
       "   SEARCH_type  SHOW_CASE_type  SUM_TYPE_type  ADD_TO_BASKET_sim_type  \\\n",
       "0     0.666667        0.000000           24.0                0.000000   \n",
       "1     0.875000        0.000000            8.0                0.000000   \n",
       "2     0.166667        0.000000            6.0                0.000000   \n",
       "3     0.272727        0.090909           11.0                0.181818   \n",
       "4     0.000000        0.000000            5.0                0.000000   \n",
       "\n",
       "   CAROUSEL_sim_type  LIST_PRODUCT_sim_type  PA_sim_type  PRODUCT_sim_type  \\\n",
       "0           0.166667                    0.0     0.041667             0.125   \n",
       "1           0.000000                    0.0     0.000000             0.125   \n",
       "2           0.833333                    0.0     0.000000             0.000   \n",
       "3           0.363636                    0.0     0.090909             0.000   \n",
       "4           0.200000                    0.6     0.000000             0.200   \n",
       "\n",
       "   PURCHASE_PRODUCT_sim_type  SEARCH_sim_type  SHOW_CASE_sim_type  \\\n",
       "0                        0.0         0.666667            0.000000   \n",
       "1                        0.0         0.875000            0.000000   \n",
       "2                        0.0         0.166667            0.000000   \n",
       "3                        0.0         0.272727            0.090909   \n",
       "4                        0.0         0.000000            0.000000   \n",
       "\n",
       "   SUM_TYPE_SIMPLIFIED_sim_type  TOTAL_DURATION  NUM_SKUS  n_filter  \\\n",
       "0                          24.0     7840.041643         3      20.0   \n",
       "1                           8.0      288.199209         1       NaN   \n",
       "2                           6.0      613.506545         0       NaN   \n",
       "3                          11.0      217.223808         2       NaN   \n",
       "4                           5.0      168.220206         1       NaN   \n",
       "\n",
       "   PURCHASED_PRODUCTS  \n",
       "0                 NaN  \n",
       "1                 NaN  \n",
       "2                 NaN  \n",
       "3                 NaN  \n",
       "4                 NaN  "
      ]
     },
     "execution_count": 47,
     "metadata": {},
     "output_type": "execute_result"
    }
   ],
   "source": [
    "proc_train.head()"
   ]
  },
  {
   "cell_type": "code",
   "execution_count": 48,
   "metadata": {},
   "outputs": [
    {
     "data": {
      "text/plain": [
       "(79873, 36)"
      ]
     },
     "execution_count": 48,
     "metadata": {},
     "output_type": "execute_result"
    }
   ],
   "source": [
    "proc_train.shape"
   ]
  },
  {
   "cell_type": "markdown",
   "metadata": {},
   "source": [
    "# Validation"
   ]
  },
  {
   "cell_type": "code",
   "execution_count": 49,
   "metadata": {},
   "outputs": [],
   "source": [
    "X_train = proc_train.drop('sid', axis=1).reset_index(drop=True)\n",
    "y_train = trn_session.target.reset_index(drop=True)\n",
    "\n",
    "X_val = proc_val.drop('sid', axis=1).reset_index(drop=True)\n",
    "y_val = val_session.target.reset_index(drop=True)\n",
    "\n",
    "X_test = proc_test.drop('sid', axis=1).reset_index(drop=True)\n",
    "\n",
    "temp_columns = X_train.columns\n",
    "X_val = X_val[temp_columns]\n",
    "X_test = X_test[temp_columns]"
   ]
  },
  {
   "cell_type": "code",
   "execution_count": 50,
   "metadata": {},
   "outputs": [],
   "source": [
    "X_train.drop('n_filter', inplace=True, axis=1)\n",
    "X_val.drop('n_filter', inplace=True, axis=1)"
   ]
  },
  {
   "cell_type": "code",
   "execution_count": 51,
   "metadata": {},
   "outputs": [],
   "source": [
    "from sklearn.preprocessing import StandardScaler\n",
    "\n",
    "scaler = StandardScaler()\n",
    "scaler.fit(X_train[X_train.columns[:32]])\n",
    "X_train_sc = scaler.transform(X_train[X_train.columns[:32]])\n",
    "X_val_sc = scaler.transform(X_val[X_val.columns[:32]])"
   ]
  },
  {
   "cell_type": "code",
   "execution_count": 52,
   "metadata": {},
   "outputs": [],
   "source": [
    "from sklearn.decomposition import PCA\n",
    "\n",
    "pca = PCA(n_components = 11).fit(X_train_sc)\n",
    "\n",
    "X_train_pca = (pca.transform(X_train_sc))\n",
    "X_val_pca = (pca.transform(X_val_sc))\n",
    "\n",
    "X_train = pd.concat([pd.DataFrame(X_train), pd.DataFrame(X_train_pca)], axis=1)\n",
    "X_val = pd.concat([pd.DataFrame(X_val), pd.DataFrame(X_val_pca)], axis=1)"
   ]
  },
  {
   "cell_type": "code",
   "execution_count": 57,
   "metadata": {},
   "outputs": [
    {
     "name": "stdout",
     "output_type": "stream",
     "text": [
      "[100]\tvalid_0's binary_logloss: 0.284376\n",
      "[200]\tvalid_0's binary_logloss: 0.278154\n",
      "[300]\tvalid_0's binary_logloss: 0.275762\n",
      "[400]\tvalid_0's binary_logloss: 0.274586\n",
      "[500]\tvalid_0's binary_logloss: 0.274057\n",
      "[600]\tvalid_0's binary_logloss: 0.273861\n",
      "[700]\tvalid_0's binary_logloss: 0.273799\n"
     ]
    }
   ],
   "source": [
    "# parameters for LightGBMClassifier\n",
    "params = {\n",
    "    'objective' :'binary',\n",
    "    'max_depth' : 6,\n",
    "    'boosting_type' : 'dart',\n",
    "    'xgboost_dart_mode': True,\n",
    "    'learning_rate': 0.01,\n",
    "    'metric': 'binary_logloss',\n",
    "    'verbose': 1\n",
    "    #'bagging_fraction': 0.5,\n",
    "}\n",
    "\n",
    "d_train = lgbm.Dataset(X_train, label=trn_session.target)\n",
    "d_valid = lgbm.Dataset(X_val, label=val_session.target)\n",
    "\n",
    "clf = lgbm.train(params, d_train, valid_sets=[d_valid],\n",
    "                num_boost_round=700, verbose_eval=100)"
   ]
  },
  {
   "cell_type": "code",
   "execution_count": 18,
   "metadata": {},
   "outputs": [
    {
     "name": "stdout",
     "output_type": "stream",
     "text": [
      "[1]\tvalid_0's binary_logloss: 0.304912\n",
      "[2]\tvalid_0's binary_logloss: 0.298446\n",
      "[3]\tvalid_0's binary_logloss: 0.293581\n",
      "[4]\tvalid_0's binary_logloss: 0.28988\n",
      "[5]\tvalid_0's binary_logloss: 0.287032\n",
      "[6]\tvalid_0's binary_logloss: 0.284648\n",
      "[7]\tvalid_0's binary_logloss: 0.282814\n",
      "[8]\tvalid_0's binary_logloss: 0.282046\n",
      "[9]\tvalid_0's binary_logloss: 0.280683\n",
      "[10]\tvalid_0's binary_logloss: 0.279476\n",
      "[11]\tvalid_0's binary_logloss: 0.278594\n",
      "[12]\tvalid_0's binary_logloss: 0.278364\n",
      "[13]\tvalid_0's binary_logloss: 0.277627\n",
      "[14]\tvalid_0's binary_logloss: 0.277114\n",
      "[15]\tvalid_0's binary_logloss: 0.276616\n",
      "[16]\tvalid_0's binary_logloss: 0.276194\n",
      "[17]\tvalid_0's binary_logloss: 0.275836\n",
      "[18]\tvalid_0's binary_logloss: 0.275516\n",
      "[19]\tvalid_0's binary_logloss: 0.27526\n",
      "[20]\tvalid_0's binary_logloss: 0.275095\n",
      "[21]\tvalid_0's binary_logloss: 0.275047\n",
      "[22]\tvalid_0's binary_logloss: 0.274875\n",
      "[23]\tvalid_0's binary_logloss: 0.274775\n",
      "[24]\tvalid_0's binary_logloss: 0.27463\n",
      "[25]\tvalid_0's binary_logloss: 0.274525\n",
      "[26]\tvalid_0's binary_logloss: 0.274407\n",
      "[27]\tvalid_0's binary_logloss: 0.274323\n",
      "[28]\tvalid_0's binary_logloss: 0.274316\n",
      "[29]\tvalid_0's binary_logloss: 0.274214\n",
      "[30]\tvalid_0's binary_logloss: 0.274213\n",
      "[31]\tvalid_0's binary_logloss: 0.274194\n",
      "[32]\tvalid_0's binary_logloss: 0.274139\n",
      "[33]\tvalid_0's binary_logloss: 0.274112\n",
      "[34]\tvalid_0's binary_logloss: 0.2741\n",
      "[35]\tvalid_0's binary_logloss: 0.274092\n",
      "[36]\tvalid_0's binary_logloss: 0.274092\n",
      "[37]\tvalid_0's binary_logloss: 0.274083\n",
      "[38]\tvalid_0's binary_logloss: 0.274067\n",
      "[39]\tvalid_0's binary_logloss: 0.274\n",
      "[40]\tvalid_0's binary_logloss: 0.274003\n",
      "[41]\tvalid_0's binary_logloss: 0.274002\n",
      "[42]\tvalid_0's binary_logloss: 0.27401\n",
      "[43]\tvalid_0's binary_logloss: 0.274011\n",
      "[44]\tvalid_0's binary_logloss: 0.27402\n",
      "[45]\tvalid_0's binary_logloss: 0.274031\n",
      "[46]\tvalid_0's binary_logloss: 0.273999\n",
      "[47]\tvalid_0's binary_logloss: 0.273989\n",
      "[48]\tvalid_0's binary_logloss: 0.273984\n",
      "[49]\tvalid_0's binary_logloss: 0.273979\n",
      "[50]\tvalid_0's binary_logloss: 0.273986\n",
      "[51]\tvalid_0's binary_logloss: 0.27401\n",
      "[52]\tvalid_0's binary_logloss: 0.274033\n",
      "[53]\tvalid_0's binary_logloss: 0.274031\n",
      "[54]\tvalid_0's binary_logloss: 0.274061\n",
      "[55]\tvalid_0's binary_logloss: 0.274092\n",
      "[56]\tvalid_0's binary_logloss: 0.274089\n",
      "[57]\tvalid_0's binary_logloss: 0.274072\n",
      "[58]\tvalid_0's binary_logloss: 0.274033\n",
      "[59]\tvalid_0's binary_logloss: 0.274031\n",
      "[60]\tvalid_0's binary_logloss: 0.274013\n",
      "[61]\tvalid_0's binary_logloss: 0.273988\n",
      "[62]\tvalid_0's binary_logloss: 0.274007\n",
      "[63]\tvalid_0's binary_logloss: 0.274011\n",
      "[64]\tvalid_0's binary_logloss: 0.27401\n",
      "[65]\tvalid_0's binary_logloss: 0.274008\n",
      "[66]\tvalid_0's binary_logloss: 0.274017\n",
      "[67]\tvalid_0's binary_logloss: 0.274016\n",
      "[68]\tvalid_0's binary_logloss: 0.274006\n",
      "[69]\tvalid_0's binary_logloss: 0.274007\n",
      "[70]\tvalid_0's binary_logloss: 0.274006\n"
     ]
    }
   ],
   "source": [
    "# parameters for LightGBMClassifier\n",
    "params = {\n",
    "    'objective' :'binary',\n",
    "    'max_depth' : 7,\n",
    "    'boosting_type' : 'dart',\n",
    "    'xgboost_dart_mode': True,\n",
    "    'learning_rate': 0.1,\n",
    "    'metric': 'binary_logloss',\n",
    "    'verbose': 1,\n",
    "    'bagging_fraction': 0.5,\n",
    "}\n",
    "\n",
    "d_train = lgbm.Dataset(X_train, label=trn_session.target)\n",
    "d_valid = lgbm.Dataset(X_val, label=val_session.target)\n",
    "\n",
    "clf = lgbm.train(params, d_train, valid_sets=[d_valid],\n",
    "                num_boost_round=70)"
   ]
  },
  {
   "cell_type": "markdown",
   "metadata": {},
   "source": [
    "# Model"
   ]
  },
  {
   "cell_type": "code",
   "execution_count": 57,
   "metadata": {},
   "outputs": [],
   "source": [
    "X_all = proc_all.drop('sid', axis=1).reset_index(drop=True)\n",
    "y_all = all_session.target.reset_index(drop=True)\n",
    "\n",
    "X_test = proc_test.drop('sid', axis=1).reset_index(drop=True)\n",
    "temp_columns = X_all.columns\n",
    "X_test = X_test[temp_columns]"
   ]
  },
  {
   "cell_type": "code",
   "execution_count": 51,
   "metadata": {},
   "outputs": [],
   "source": [
    "scaler = StandardScaler()\n",
    "scaler.fit(X_all)\n",
    "X_all = scaler.transform(X_all)\n",
    "X_test = scaler.transform(X_test)"
   ]
  },
  {
   "cell_type": "code",
   "execution_count": 52,
   "metadata": {},
   "outputs": [],
   "source": [
    "pca = PCA(n_components = 10).fit(X_all)\n",
    "\n",
    "X_all_pca = pd.DataFrame(pca.transform(X_all))\n",
    "X_test_pca = pd.DataFrame(pca.transform(X_test))\n",
    "\n",
    "X_all = pd.concat([pd.DataFrame(X_all), pd.DataFrame(X_all_pca)], axis=1)\n",
    "X_test = pd.concat([pd.DataFrame(X_test), pd.DataFrame(X_test_pca)], axis=1)"
   ]
  },
  {
   "cell_type": "code",
   "execution_count": 53,
   "metadata": {},
   "outputs": [],
   "source": [
    "from sklearn.ensemble import RandomForestClassifier\n",
    "clf = RandomForestClassifier(n_estimators=100, max_depth=20,\n",
    "                              random_state=0)\n",
    "\n",
    "clf.fit(X_all, y_all)\n",
    "\n",
    "pca = PCA(n_components = 31).fit(clf.apply(X_all))\n",
    "\n",
    "scaler = StandardScaler()\n",
    "scaler.fit(X_all)\n",
    "X_train = scaler.transform(X_all)\n",
    "X_val = scaler.transform(X_test)\n",
    "\n",
    "X_all_rf = (pca.transform(clf.apply(X_all)))\n",
    "X_test_rf = (pca.transform(clf.apply(X_test)))\n",
    "\n",
    "X_all = pd.concat([pd.DataFrame(X_all), pd.DataFrame(X_all_rf)], axis=1)\n",
    "X_test = pd.concat([pd.DataFrame(X_test), pd.DataFrame(X_test_rf)], axis=1)"
   ]
  },
  {
   "cell_type": "code",
   "execution_count": 54,
   "metadata": {},
   "outputs": [],
   "source": [
    "import lightgbm as lgbm\n",
    "\n",
    "# parameters for LightGBMClassifier\n",
    "params = {\n",
    "    'objective' :'binary',\n",
    "    'max_depth' : 7,\n",
    "    'boosting_type' : 'dart',\n",
    "    'xgboost_dart_mode': True,\n",
    "    'learning_rate': 0.1,\n",
    "    #'metric': 'binary_logloss',\n",
    "    #'bagging_fraction': 0.5,\n",
    "}\n",
    "\n",
    "d_train = lgbm.Dataset(X_all, label=y_all)\n",
    "#d_valid = lgbm.Dataset(X_val, label=y_val)\n",
    "\n",
    "clf = lgbm.train(params, d_train,# valid_sets=[d_valid],\n",
    "                num_boost_round=100)"
   ]
  },
  {
   "cell_type": "code",
   "execution_count": 55,
   "metadata": {},
   "outputs": [
    {
     "data": {
      "text/plain": [
       "<matplotlib.axes._subplots.AxesSubplot at 0x7f9ecb50f6a0>"
      ]
     },
     "execution_count": 55,
     "metadata": {},
     "output_type": "execute_result"
    },
    {
     "data": {
      "image/png": "[encoded data removed]",
      "text/plain": [
       "<matplotlib.figure.Figure at 0x7f9ed0ec19b0>"
      ]
     },
     "metadata": {},
     "output_type": "display_data"
    }
   ],
   "source": [
    "from matplotlib import rcParams\n",
    "%matplotlib inline \n",
    "\n",
    "rcParams['figure.figsize'] = 10, 10\n",
    "lgbm.plot_importance(clf)"
   ]
  },
  {
   "cell_type": "code",
   "execution_count": 56,
   "metadata": {},
   "outputs": [],
   "source": [
    "count += 1\n",
    "preds=clf.predict(X_test)\n",
    "test_session['target'] = preds\n",
    "test_session.to_csv(f'data/submissions/kervy_{count}_submit.csv', index=False)"
   ]
  },
  {
   "cell_type": "code",
   "execution_count": 21,
   "metadata": {},
   "outputs": [],
   "source": [
    "count = 7"
   ]
  },
  {
   "cell_type": "code",
   "execution_count": null,
   "metadata": {},
   "outputs": [],
   "source": []
  }
 ],
 "metadata": {
  "kernelspec": {
   "display_name": "Python [conda env:kaggle]",
   "language": "python",
   "name": "conda-env-kaggle-py"
  },
  "language_info": {
   "codemirror_mode": {
    "name": "ipython",
    "version": 3
   },
   "file_extension": ".py",
   "mimetype": "text/x-python",
   "name": "python",
   "nbconvert_exporter": "python",
   "pygments_lexer": "ipython3",
   "version": "3.6.4"
  }
 },
 "nbformat": 4,
 "nbformat_minor": 2
}
